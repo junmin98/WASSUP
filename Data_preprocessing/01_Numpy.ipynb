{
 "cells": [
  {
   "cell_type": "code",
   "execution_count": 1,
   "id": "47542c21",
   "metadata": {
    "ExecuteTime": {
     "end_time": "2023-12-14T06:10:28.233269Z",
     "start_time": "2023-12-14T06:10:28.219575Z"
    }
   },
   "outputs": [],
   "source": [
    "import warnings\n",
    "# 경고메시지 숨기기\n",
    "# warnings.filterwarnings(action='ignore')"
   ]
  },
  {
   "cell_type": "markdown",
   "id": "10f47d6d",
   "metadata": {},
   "source": [
    "# Numpy 개요\n",
    "http://www.numpy.org"
   ]
  },
  {
   "cell_type": "code",
   "execution_count": 2,
   "id": "1f1c00ad",
   "metadata": {
    "ExecuteTime": {
     "end_time": "2023-12-14T06:12:00.331153Z",
     "start_time": "2023-12-14T06:12:00.323227Z"
    }
   },
   "outputs": [
    {
     "data": {
      "text/plain": [
       "'1.24.3'"
      ]
     },
     "execution_count": 2,
     "metadata": {},
     "output_type": "execute_result"
    }
   ],
   "source": [
    "import numpy as np\n",
    "np.__version__"
   ]
  },
  {
   "cell_type": "markdown",
   "id": "e34519d6",
   "metadata": {
    "ExecuteTime": {
     "end_time": "2023-12-14T06:12:16.542489Z",
     "start_time": "2023-12-14T06:12:16.537741Z"
    }
   },
   "source": [
    "# 넘파이 배열 이해하기"
   ]
  },
  {
   "cell_type": "markdown",
   "id": "91e6af53",
   "metadata": {},
   "source": [
    "## ndim(dimension, rank)\n",
    "- 몇 차원인지 반환"
   ]
  },
  {
   "cell_type": "code",
   "execution_count": 4,
   "id": "8be41d81",
   "metadata": {
    "ExecuteTime": {
     "end_time": "2023-12-14T06:16:18.504435Z",
     "start_time": "2023-12-14T06:16:18.497513Z"
    }
   },
   "outputs": [
    {
     "data": {
      "text/plain": [
       "(array(0), 0, numpy.ndarray)"
      ]
     },
     "execution_count": 4,
     "metadata": {},
     "output_type": "execute_result"
    }
   ],
   "source": [
    "a = np.array(0) # scalar\n",
    "a, a.ndim, type(a)"
   ]
  },
  {
   "cell_type": "code",
   "execution_count": 5,
   "id": "8da7255b",
   "metadata": {
    "ExecuteTime": {
     "end_time": "2023-12-14T06:19:56.795759Z",
     "start_time": "2023-12-14T06:19:56.778441Z"
    }
   },
   "outputs": [
    {
     "data": {
      "text/plain": [
       "(array([2, 4, 6]), 1, numpy.ndarray)"
      ]
     },
     "execution_count": 5,
     "metadata": {},
     "output_type": "execute_result"
    }
   ],
   "source": [
    "a = np.array([2, 4, 6])\n",
    "a, a.ndim, type(a)"
   ]
  },
  {
   "cell_type": "code",
   "execution_count": 6,
   "id": "74c1a363",
   "metadata": {
    "ExecuteTime": {
     "end_time": "2023-12-14T06:20:17.851695Z",
     "start_time": "2023-12-14T06:20:17.847043Z"
    }
   },
   "outputs": [
    {
     "data": {
      "text/plain": [
       "(array([[1, 2, 3],\n",
       "        [4, 5, 6]]),\n",
       " 2,\n",
       " numpy.ndarray)"
      ]
     },
     "execution_count": 6,
     "metadata": {},
     "output_type": "execute_result"
    }
   ],
   "source": [
    "a = np.array( [[1,2,3], [4,5,6]] )\n",
    "a, a.ndim, type(a)"
   ]
  },
  {
   "cell_type": "code",
   "execution_count": 7,
   "id": "9210bb3d",
   "metadata": {
    "ExecuteTime": {
     "end_time": "2023-12-14T06:20:34.603295Z",
     "start_time": "2023-12-14T06:20:34.598284Z"
    }
   },
   "outputs": [
    {
     "data": {
      "text/plain": [
       "[[1, 2, 3], [4, 5, 6]]"
      ]
     },
     "execution_count": 7,
     "metadata": {},
     "output_type": "execute_result"
    }
   ],
   "source": [
    "a = [[1,2,3], [4,5,6]]\n",
    "a"
   ]
  },
  {
   "cell_type": "code",
   "execution_count": 8,
   "id": "c9dc89d1",
   "metadata": {
    "ExecuteTime": {
     "end_time": "2023-12-14T06:20:51.556123Z",
     "start_time": "2023-12-14T06:20:51.549759Z"
    }
   },
   "outputs": [
    {
     "data": {
      "text/plain": [
       "(array([[[1, 2, 3],\n",
       "         [4, 5, 6]],\n",
       " \n",
       "        [[1, 2, 3],\n",
       "         [4, 5, 6]]]),\n",
       " 3,\n",
       " numpy.ndarray)"
      ]
     },
     "execution_count": 8,
     "metadata": {},
     "output_type": "execute_result"
    }
   ],
   "source": [
    "a = np.array( [ [[1,2,3], [4,5,6]], [[1,2,3], [4,5,6]] ] )\n",
    "a, a.ndim, type(a)"
   ]
  },
  {
   "cell_type": "code",
   "execution_count": 9,
   "id": "8d4443a0",
   "metadata": {
    "ExecuteTime": {
     "end_time": "2023-12-14T06:21:46.279102Z",
     "start_time": "2023-12-14T06:21:46.270701Z"
    }
   },
   "outputs": [
    {
     "data": {
      "text/plain": [
       "(2, 2, 3)"
      ]
     },
     "execution_count": 9,
     "metadata": {},
     "output_type": "execute_result"
    }
   ],
   "source": [
    "a.shape # depth, row, col"
   ]
  },
  {
   "cell_type": "markdown",
   "id": "8a168d62",
   "metadata": {
    "ExecuteTime": {
     "end_time": "2023-12-14T06:24:11.085541Z",
     "start_time": "2023-12-14T06:24:11.078640Z"
    }
   },
   "source": [
    "## shape"
   ]
  },
  {
   "cell_type": "code",
   "execution_count": 13,
   "id": "1486ad8a",
   "metadata": {
    "ExecuteTime": {
     "end_time": "2023-12-14T06:24:59.303214Z",
     "start_time": "2023-12-14T06:24:59.297894Z"
    }
   },
   "outputs": [
    {
     "data": {
      "text/plain": [
       "(array(3), ())"
      ]
     },
     "execution_count": 13,
     "metadata": {},
     "output_type": "execute_result"
    }
   ],
   "source": [
    "a = np.array(3)\n",
    "a, a.shape"
   ]
  },
  {
   "cell_type": "code",
   "execution_count": 14,
   "id": "b9f4c104",
   "metadata": {
    "ExecuteTime": {
     "end_time": "2023-12-14T06:25:08.421178Z",
     "start_time": "2023-12-14T06:25:08.416673Z"
    }
   },
   "outputs": [
    {
     "data": {
      "text/plain": [
       "(array([3]), (1,))"
      ]
     },
     "execution_count": 14,
     "metadata": {},
     "output_type": "execute_result"
    }
   ],
   "source": [
    "a = np.array([3])\n",
    "a, a.shape"
   ]
  },
  {
   "cell_type": "code",
   "execution_count": 15,
   "id": "bb692d4d",
   "metadata": {
    "ExecuteTime": {
     "end_time": "2023-12-14T06:25:20.075132Z",
     "start_time": "2023-12-14T06:25:20.070898Z"
    }
   },
   "outputs": [
    {
     "data": {
      "text/plain": [
       "(array([1, 3, 5, 7, 9]), (5,))"
      ]
     },
     "execution_count": 15,
     "metadata": {},
     "output_type": "execute_result"
    }
   ],
   "source": [
    "a = np.array([ 1, 3, 5, 7, 9 ])\n",
    "a, a.shape"
   ]
  },
  {
   "cell_type": "code",
   "execution_count": 16,
   "id": "42f6677e",
   "metadata": {
    "ExecuteTime": {
     "end_time": "2023-12-14T06:25:27.305291Z",
     "start_time": "2023-12-14T06:25:27.300799Z"
    }
   },
   "outputs": [
    {
     "data": {
      "text/plain": [
       "(array([[1, 2, 3],\n",
       "        [4, 5, 6]]),\n",
       " (2, 3))"
      ]
     },
     "execution_count": 16,
     "metadata": {},
     "output_type": "execute_result"
    }
   ],
   "source": [
    "a = np.array([[1,2,3], [4,5,6]])\n",
    "a, a.shape"
   ]
  },
  {
   "cell_type": "code",
   "execution_count": 17,
   "id": "1f697f36",
   "metadata": {
    "ExecuteTime": {
     "end_time": "2023-12-14T06:25:39.306436Z",
     "start_time": "2023-12-14T06:25:39.300214Z"
    }
   },
   "outputs": [
    {
     "data": {
      "text/plain": [
       "(array([[[0, 0, 0, 0],\n",
       "         [0, 0, 0, 0],\n",
       "         [0, 0, 0, 0]],\n",
       " \n",
       "        [[0, 0, 0, 0],\n",
       "         [0, 0, 0, 0],\n",
       "         [0, 0, 0, 0]]]),\n",
       " (2, 3, 4))"
      ]
     },
     "execution_count": 17,
     "metadata": {},
     "output_type": "execute_result"
    }
   ],
   "source": [
    "a = np.array([[[0, 0, 0, 0], [0, 0, 0, 0], [0, 0, 0, 0]], \n",
    "              [[0, 0, 0, 0], [0, 0, 0, 0], [0, 0, 0, 0]]])\n",
    "a, a.shape # 2개의 3행 4열"
   ]
  },
  {
   "cell_type": "markdown",
   "id": "d0d0f1a7",
   "metadata": {},
   "source": [
    "## size"
   ]
  },
  {
   "cell_type": "code",
   "execution_count": 18,
   "id": "4d4fdc99",
   "metadata": {
    "ExecuteTime": {
     "end_time": "2023-12-14T06:31:10.996849Z",
     "start_time": "2023-12-14T06:31:10.987775Z"
    }
   },
   "outputs": [
    {
     "data": {
      "text/plain": [
       "5"
      ]
     },
     "execution_count": 18,
     "metadata": {},
     "output_type": "execute_result"
    }
   ],
   "source": [
    "a = np.array([1, 3, 5, 7, 9])\n",
    "a.size"
   ]
  },
  {
   "cell_type": "code",
   "execution_count": 19,
   "id": "6f4d5821",
   "metadata": {
    "ExecuteTime": {
     "end_time": "2023-12-14T06:31:46.669332Z",
     "start_time": "2023-12-14T06:31:46.661181Z"
    }
   },
   "outputs": [
    {
     "data": {
      "text/plain": [
       "6"
      ]
     },
     "execution_count": 19,
     "metadata": {},
     "output_type": "execute_result"
    }
   ],
   "source": [
    "a = np.array([[1,2,3], [4, 5, 6]])\n",
    "a.size"
   ]
  },
  {
   "cell_type": "markdown",
   "id": "b0dc3434",
   "metadata": {},
   "source": [
    "## 넘파이 배열"
   ]
  },
  {
   "cell_type": "code",
   "execution_count": 20,
   "id": "ef23dd2a",
   "metadata": {
    "ExecuteTime": {
     "end_time": "2023-12-14T06:32:59.224706Z",
     "start_time": "2023-12-14T06:32:59.217365Z"
    }
   },
   "outputs": [
    {
     "name": "stdout",
     "output_type": "stream",
     "text": [
      "[10, 56, 77, 23, 44] <class 'list'> 5\n"
     ]
    }
   ],
   "source": [
    "myList = [10, 56, 77, 23, 44]\n",
    "print(myList, type(myList), len(myList))"
   ]
  },
  {
   "cell_type": "code",
   "execution_count": 21,
   "id": "6fe640cd",
   "metadata": {
    "ExecuteTime": {
     "end_time": "2023-12-14T06:33:11.580611Z",
     "start_time": "2023-12-14T06:33:11.570438Z"
    }
   },
   "outputs": [
    {
     "name": "stdout",
     "output_type": "stream",
     "text": [
      "[10 56 77 23 44] <class 'numpy.ndarray'> 5\n",
      "차원=1, 구조=(5,) 구조타입=<class 'tuple'>, size=5\n"
     ]
    }
   ],
   "source": [
    "myArr = np.array(myList)\n",
    "print(myArr, type(myArr), len(myArr))\n",
    "print(f'차원={myArr.ndim}, 구조={myArr.shape} 구조타입={type(myArr.shape)}, size={myArr.size}')"
   ]
  },
  {
   "cell_type": "code",
   "execution_count": 22,
   "id": "aeca6dc0",
   "metadata": {
    "ExecuteTime": {
     "end_time": "2023-12-14T06:34:13.262400Z",
     "start_time": "2023-12-14T06:34:13.253219Z"
    }
   },
   "outputs": [
    {
     "data": {
      "text/plain": [
       "array([10, 56, 77, 23, 44])"
      ]
     },
     "execution_count": 22,
     "metadata": {},
     "output_type": "execute_result"
    }
   ],
   "source": [
    "myArr"
   ]
  },
  {
   "cell_type": "code",
   "execution_count": 23,
   "id": "725ab1b4",
   "metadata": {
    "ExecuteTime": {
     "end_time": "2023-12-14T06:35:22.697412Z",
     "start_time": "2023-12-14T06:35:22.688372Z"
    }
   },
   "outputs": [
    {
     "data": {
      "text/plain": [
       "([[1, 2, 3], [10, 20, 30], [100, 200, 300]], 3)"
      ]
     },
     "execution_count": 23,
     "metadata": {},
     "output_type": "execute_result"
    }
   ],
   "source": [
    "# 2차원 리스트 객체(이터러블)\n",
    "myList2 = [[1,2,3],[10,20,30],[100,200,300]]\n",
    "myList2, len(myList2)"
   ]
  },
  {
   "cell_type": "code",
   "execution_count": 24,
   "id": "15a6d80f",
   "metadata": {
    "ExecuteTime": {
     "end_time": "2023-12-14T06:35:37.159725Z",
     "start_time": "2023-12-14T06:35:37.154067Z"
    }
   },
   "outputs": [
    {
     "name": "stdout",
     "output_type": "stream",
     "text": [
      "[[  1   2   3]\n",
      " [ 10  20  30]\n",
      " [100 200 300]] <class 'numpy.ndarray'> 3\n",
      "차원= 2, 구조 = (3, 3) 구조타입 = <class 'tuple'>, size = 9\n"
     ]
    }
   ],
   "source": [
    "myArr2 = np.array(myList2)\n",
    "print(myArr2, type(myArr2), len(myArr2))\n",
    "print(f'차원= {myArr2.ndim}, 구조 = {myArr2.shape} 구조타입 = {type(myArr2.shape)}, size = {myArr2.size}')"
   ]
  },
  {
   "cell_type": "code",
   "execution_count": 25,
   "id": "385540b9",
   "metadata": {
    "ExecuteTime": {
     "end_time": "2023-12-14T06:36:33.062278Z",
     "start_time": "2023-12-14T06:36:33.051769Z"
    }
   },
   "outputs": [
    {
     "name": "stdout",
     "output_type": "stream",
     "text": [
      "[[1, 2, 3, 4], [10, 20, 30, 40, 50], [100, 200]] <class 'list'> 3\n"
     ]
    }
   ],
   "source": [
    "# 2차원 리스트에서 각 행의 수가 다를 경우? 리스트는 상관이 없음\n",
    "myList21 = [ [1,2,3,4],[10, 20 ,30, 40, 50],[100, 200, ]]\n",
    "print(myList21, type(myList21), len(myList21))"
   ]
  },
  {
   "cell_type": "code",
   "execution_count": 26,
   "id": "23cd9566",
   "metadata": {
    "ExecuteTime": {
     "end_time": "2023-12-14T06:37:03.257112Z",
     "start_time": "2023-12-14T06:37:03.216786Z"
    }
   },
   "outputs": [
    {
     "ename": "ValueError",
     "evalue": "setting an array element with a sequence. The requested array has an inhomogeneous shape after 1 dimensions. The detected shape was (3,) + inhomogeneous part.",
     "output_type": "error",
     "traceback": [
      "\u001b[0;31m---------------------------------------------------------------------------\u001b[0m",
      "\u001b[0;31mValueError\u001b[0m                                Traceback (most recent call last)",
      "Cell \u001b[0;32mIn[26], line 2\u001b[0m\n\u001b[1;32m      1\u001b[0m \u001b[38;5;66;03m# 길이가 달라 에러 리턴\u001b[39;00m\n\u001b[0;32m----> 2\u001b[0m myArr21 \u001b[38;5;241m=\u001b[39m np\u001b[38;5;241m.\u001b[39marray(myList21)\n\u001b[1;32m      3\u001b[0m \u001b[38;5;28mprint\u001b[39m(myArr21, \u001b[38;5;28mtype\u001b[39m(myArr21), \u001b[38;5;28mlen\u001b[39m(myArr21))\n\u001b[1;32m      4\u001b[0m \u001b[38;5;28mprint\u001b[39m(\u001b[38;5;124mf\u001b[39m\u001b[38;5;124m'\u001b[39m\u001b[38;5;124m차원= \u001b[39m\u001b[38;5;132;01m{\u001b[39;00mmyArr21\u001b[38;5;241m.\u001b[39mndim\u001b[38;5;132;01m}\u001b[39;00m\u001b[38;5;124m, 구조 = \u001b[39m\u001b[38;5;132;01m{\u001b[39;00mmyArr21\u001b[38;5;241m.\u001b[39mshape\u001b[38;5;132;01m}\u001b[39;00m\u001b[38;5;124m 구조타입 = \u001b[39m\u001b[38;5;132;01m{\u001b[39;00m\u001b[38;5;28mtype\u001b[39m(myArr21\u001b[38;5;241m.\u001b[39mshape)\u001b[38;5;132;01m}\u001b[39;00m\u001b[38;5;124m, size = \u001b[39m\u001b[38;5;132;01m{\u001b[39;00mmyArr21\u001b[38;5;241m.\u001b[39msize\u001b[38;5;132;01m}\u001b[39;00m\u001b[38;5;124m'\u001b[39m)\n",
      "\u001b[0;31mValueError\u001b[0m: setting an array element with a sequence. The requested array has an inhomogeneous shape after 1 dimensions. The detected shape was (3,) + inhomogeneous part."
     ]
    }
   ],
   "source": [
    "# 길이가 달라 에러 리턴 -> 행렬이 아니니까 에러\n",
    "myArr21 = np.array(myList21)\n",
    "print(myArr21, type(myArr21), len(myArr21))\n",
    "print(f'차원= {myArr21.ndim}, 구조 = {myArr21.shape} 구조타입 = {type(myArr21.shape)}, size = {myArr21.size}')"
   ]
  },
  {
   "cell_type": "markdown",
   "id": "634de4ab",
   "metadata": {
    "ExecuteTime": {
     "end_time": "2023-12-14T06:38:20.115796Z",
     "start_time": "2023-12-14T06:38:20.089049Z"
    }
   },
   "source": [
    "## 넘파이 배열과 리스트와의 차이점\n",
    "- 배열 간의 연산 가능. \"브로드캐스팅\", 요소별 연산 (element-wise)\n",
    "- 넘파이 메서드 사용 가능: 평균, 상관계수, 분산, 표준편차 등\n",
    "- 리스트는 자료형 혼합 가능, 넘파이배열은 하나의 자료형만 가능"
   ]
  },
  {
   "cell_type": "code",
   "execution_count": null,
   "id": "2454216c",
   "metadata": {
    "ExecuteTime": {
     "end_time": "2023-12-14T06:39:29.766773Z",
     "start_time": "2023-12-14T06:39:29.737302Z"
    }
   },
   "outputs": [],
   "source": [
    "# 리스트의 산술연산자 +, * \n",
    "listA = [10, 30, 50]\n",
    "listB = [1, 2, 3]\n",
    "print(listA + listB) # 리스트의 + 연산자는 조인역할\n",
    "print(listA + 2) # 불가"
   ]
  },
  {
   "cell_type": "code",
   "execution_count": null,
   "id": "2202a598",
   "metadata": {
    "ExecuteTime": {
     "end_time": "2023-12-14T06:39:56.130896Z",
     "start_time": "2023-12-14T06:39:56.091260Z"
    }
   },
   "outputs": [],
   "source": [
    "print(listA * 2) # 해당 리스트의 반복\n",
    "print(listA * listB) # 불가"
   ]
  },
  {
   "cell_type": "code",
   "execution_count": 30,
   "id": "caad4a6a",
   "metadata": {
    "ExecuteTime": {
     "end_time": "2023-12-14T06:40:26.537627Z",
     "start_time": "2023-12-14T06:40:26.525154Z"
    }
   },
   "outputs": [
    {
     "name": "stdout",
     "output_type": "stream",
     "text": [
      "[3 4 5]\n",
      "[2 4 6]\n"
     ]
    }
   ],
   "source": [
    "# 넘파이의 산술연산\n",
    "arrA = np.array([1, 2, 3])\n",
    "print(arrA + 2)\n",
    "print(arrA * 2)"
   ]
  },
  {
   "cell_type": "code",
   "execution_count": 31,
   "id": "5e1a57f2",
   "metadata": {
    "ExecuteTime": {
     "end_time": "2023-12-14T06:42:16.115013Z",
     "start_time": "2023-12-14T06:42:16.101950Z"
    }
   },
   "outputs": [
    {
     "name": "stdout",
     "output_type": "stream",
     "text": [
      "[5 7 9]\n",
      "[ 4 10 18]\n",
      "[0.25 0.4  0.5 ]\n",
      "[0 0 0]\n",
      "[1 2 3]\n"
     ]
    }
   ],
   "source": [
    "arrB = np.array([4, 5, 6])\n",
    "print(arrA + arrB)\n",
    "print(arrA * arrB)\n",
    "print(arrA / arrB)\n",
    "print(arrA // arrB) # 몫\n",
    "print(arrA % arrB) # 나머지"
   ]
  },
  {
   "cell_type": "code",
   "execution_count": null,
   "id": "6c587fef",
   "metadata": {},
   "outputs": [],
   "source": []
  }
 ],
 "metadata": {
  "kernelspec": {
   "display_name": "Python 3 (ipykernel)",
   "language": "python",
   "name": "python3"
  },
  "language_info": {
   "codemirror_mode": {
    "name": "ipython",
    "version": 3
   },
   "file_extension": ".py",
   "mimetype": "text/x-python",
   "name": "python",
   "nbconvert_exporter": "python",
   "pygments_lexer": "ipython3",
   "version": "3.11.5"
  },
  "toc": {
   "base_numbering": 1,
   "nav_menu": {},
   "number_sections": true,
   "sideBar": true,
   "skip_h1_title": false,
   "title_cell": "Table of Contents",
   "title_sidebar": "Contents",
   "toc_cell": false,
   "toc_position": {},
   "toc_section_display": true,
   "toc_window_display": false
  }
 },
 "nbformat": 4,
 "nbformat_minor": 5
}
