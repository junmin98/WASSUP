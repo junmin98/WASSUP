{
 "cells": [
  {
   "cell_type": "markdown",
   "id": "b11f4e73",
   "metadata": {},
   "source": [
    "# 201 ~ 210: 파이썬 함수"
   ]
  },
  {
   "cell_type": "code",
   "execution_count": 2,
   "id": "aa067a7e",
   "metadata": {
    "ExecuteTime": {
     "end_time": "2023-11-29T00:23:52.290318Z",
     "start_time": "2023-11-29T00:23:52.287557Z"
    }
   },
   "outputs": [],
   "source": [
    "def print_coin():\n",
    "    print(\"비트코인\")"
   ]
  },
  {
   "cell_type": "code",
   "execution_count": 3,
   "id": "28c12e7a",
   "metadata": {
    "ExecuteTime": {
     "end_time": "2023-11-29T00:23:56.308199Z",
     "start_time": "2023-11-29T00:23:56.305072Z"
    }
   },
   "outputs": [
    {
     "name": "stdout",
     "output_type": "stream",
     "text": [
      "비트코인\n"
     ]
    }
   ],
   "source": [
    "print_coin()"
   ]
  },
  {
   "cell_type": "code",
   "execution_count": 4,
   "id": "a4acf5a3",
   "metadata": {
    "ExecuteTime": {
     "end_time": "2023-11-29T00:24:13.805192Z",
     "start_time": "2023-11-29T00:24:13.798887Z"
    }
   },
   "outputs": [
    {
     "name": "stdout",
     "output_type": "stream",
     "text": [
      "비트코인\n",
      "비트코인\n",
      "비트코인\n",
      "비트코인\n",
      "비트코인\n",
      "비트코인\n",
      "비트코인\n",
      "비트코인\n",
      "비트코인\n",
      "비트코인\n",
      "비트코인\n",
      "비트코인\n",
      "비트코인\n",
      "비트코인\n",
      "비트코인\n",
      "비트코인\n",
      "비트코인\n",
      "비트코인\n",
      "비트코인\n",
      "비트코인\n",
      "비트코인\n",
      "비트코인\n",
      "비트코인\n",
      "비트코인\n",
      "비트코인\n",
      "비트코인\n",
      "비트코인\n",
      "비트코인\n",
      "비트코인\n",
      "비트코인\n",
      "비트코인\n",
      "비트코인\n",
      "비트코인\n",
      "비트코인\n",
      "비트코인\n",
      "비트코인\n",
      "비트코인\n",
      "비트코인\n",
      "비트코인\n",
      "비트코인\n",
      "비트코인\n",
      "비트코인\n",
      "비트코인\n",
      "비트코인\n",
      "비트코인\n",
      "비트코인\n",
      "비트코인\n",
      "비트코인\n",
      "비트코인\n",
      "비트코인\n",
      "비트코인\n",
      "비트코인\n",
      "비트코인\n",
      "비트코인\n",
      "비트코인\n",
      "비트코인\n",
      "비트코인\n",
      "비트코인\n",
      "비트코인\n",
      "비트코인\n",
      "비트코인\n",
      "비트코인\n",
      "비트코인\n",
      "비트코인\n",
      "비트코인\n",
      "비트코인\n",
      "비트코인\n",
      "비트코인\n",
      "비트코인\n",
      "비트코인\n",
      "비트코인\n",
      "비트코인\n",
      "비트코인\n",
      "비트코인\n",
      "비트코인\n",
      "비트코인\n",
      "비트코인\n",
      "비트코인\n",
      "비트코인\n",
      "비트코인\n",
      "비트코인\n",
      "비트코인\n",
      "비트코인\n",
      "비트코인\n",
      "비트코인\n",
      "비트코인\n",
      "비트코인\n",
      "비트코인\n",
      "비트코인\n",
      "비트코인\n",
      "비트코인\n",
      "비트코인\n",
      "비트코인\n",
      "비트코인\n",
      "비트코인\n",
      "비트코인\n",
      "비트코인\n",
      "비트코인\n",
      "비트코인\n",
      "비트코인\n"
     ]
    }
   ],
   "source": [
    "for _ in range(100):\n",
    "    print_coin()"
   ]
  },
  {
   "cell_type": "code",
   "execution_count": 5,
   "id": "a79f4bc9",
   "metadata": {
    "ExecuteTime": {
     "end_time": "2023-11-29T00:24:49.904211Z",
     "start_time": "2023-11-29T00:24:49.901410Z"
    }
   },
   "outputs": [],
   "source": [
    "def print_coins():\n",
    "    for _ in range(100):\n",
    "        print(\"비트코인\")"
   ]
  },
  {
   "cell_type": "code",
   "execution_count": 6,
   "id": "4eac3d46",
   "metadata": {
    "ExecuteTime": {
     "end_time": "2023-11-29T00:25:33.070374Z",
     "start_time": "2023-11-29T00:25:32.824432Z"
    }
   },
   "outputs": [
    {
     "ename": "NameError",
     "evalue": "name 'hello' is not defined",
     "output_type": "error",
     "traceback": [
      "\u001b[0;31m---------------------------------------------------------------------------\u001b[0m",
      "\u001b[0;31mNameError\u001b[0m                                 Traceback (most recent call last)",
      "Cell \u001b[0;32mIn[6], line 1\u001b[0m\n\u001b[0;32m----> 1\u001b[0m hello()\n\u001b[1;32m      2\u001b[0m \u001b[38;5;28;01mdef\u001b[39;00m \u001b[38;5;21mhello\u001b[39m():\n\u001b[1;32m      3\u001b[0m     \u001b[38;5;28mprint\u001b[39m(\u001b[38;5;124m\"\u001b[39m\u001b[38;5;124mHi\u001b[39m\u001b[38;5;124m\"\u001b[39m)\n",
      "\u001b[0;31mNameError\u001b[0m: name 'hello' is not defined"
     ]
    }
   ],
   "source": [
    "# 205번\n",
    "hello()\n",
    "def hello():\n",
    "    print(\"Hi\")\n",
    "## 에러나는 원인: hello() 함수가 정의되기 전에 호출되었다"
   ]
  },
  {
   "cell_type": "code",
   "execution_count": 7,
   "id": "05076dce",
   "metadata": {
    "ExecuteTime": {
     "end_time": "2023-11-29T00:27:32.657527Z",
     "start_time": "2023-11-29T00:27:32.651769Z"
    }
   },
   "outputs": [],
   "source": [
    "# 206번 답\n",
    "# A\n",
    "# B\n",
    "# C\n",
    "# A\n",
    "# B"
   ]
  },
  {
   "cell_type": "code",
   "execution_count": 8,
   "id": "316f844c",
   "metadata": {
    "ExecuteTime": {
     "end_time": "2023-11-29T00:28:03.707258Z",
     "start_time": "2023-11-29T00:28:03.702632Z"
    }
   },
   "outputs": [],
   "source": [
    "# 207번 답\n",
    "# A\n",
    "# C\n",
    "# B"
   ]
  },
  {
   "cell_type": "code",
   "execution_count": 9,
   "id": "a942416c",
   "metadata": {
    "ExecuteTime": {
     "end_time": "2023-11-29T00:29:24.429049Z",
     "start_time": "2023-11-29T00:29:24.424967Z"
    }
   },
   "outputs": [],
   "source": [
    "# 208번 \n",
    "# A\n",
    "# C\n",
    "# B\n",
    "# E\n",
    "# D"
   ]
  },
  {
   "cell_type": "code",
   "execution_count": 10,
   "id": "9b0f1eff",
   "metadata": {
    "ExecuteTime": {
     "end_time": "2023-11-29T00:29:50.356386Z",
     "start_time": "2023-11-29T00:29:50.354019Z"
    }
   },
   "outputs": [],
   "source": [
    "# 209번\n",
    "# B\n",
    "# A"
   ]
  },
  {
   "cell_type": "code",
   "execution_count": 11,
   "id": "5bc21c46",
   "metadata": {
    "ExecuteTime": {
     "end_time": "2023-11-29T00:30:29.556124Z",
     "start_time": "2023-11-29T00:30:29.551074Z"
    }
   },
   "outputs": [],
   "source": [
    "# 210번\n",
    "# B\n",
    "# C\n",
    "# B\n",
    "# C\n",
    "# B\n",
    "# C\n",
    "# A"
   ]
  },
  {
   "cell_type": "markdown",
   "id": "3cde8a9b",
   "metadata": {},
   "source": [
    "# 211~220"
   ]
  },
  {
   "cell_type": "code",
   "execution_count": 12,
   "id": "006a545f",
   "metadata": {
    "ExecuteTime": {
     "end_time": "2023-11-29T00:31:39.378274Z",
     "start_time": "2023-11-29T00:31:39.374481Z"
    }
   },
   "outputs": [],
   "source": [
    "# 안녕\n",
    "# Hi"
   ]
  },
  {
   "cell_type": "code",
   "execution_count": 13,
   "id": "672a2a29",
   "metadata": {
    "ExecuteTime": {
     "end_time": "2023-11-29T00:31:49.127366Z",
     "start_time": "2023-11-29T00:31:49.124476Z"
    }
   },
   "outputs": [],
   "source": [
    "# 7\n",
    "# 15"
   ]
  },
  {
   "cell_type": "code",
   "execution_count": 14,
   "id": "0f9a1c3e",
   "metadata": {
    "ExecuteTime": {
     "end_time": "2023-11-29T00:33:29.331474Z",
     "start_time": "2023-11-29T00:33:29.326595Z"
    }
   },
   "outputs": [],
   "source": [
    "# 함수의 정의와 다르게 함수 호출. (함수에 인자를 넣어줘야한다)"
   ]
  },
  {
   "cell_type": "code",
   "execution_count": 15,
   "id": "730d4d60",
   "metadata": {
    "ExecuteTime": {
     "end_time": "2023-11-29T00:35:39.024567Z",
     "start_time": "2023-11-29T00:35:39.019291Z"
    }
   },
   "outputs": [],
   "source": [
    "# 함수의 파라미터를 더해야하는데, str 타입과 int 타입은 더해질 수 없기 때문에 에러가 난다"
   ]
  },
  {
   "cell_type": "code",
   "execution_count": 16,
   "id": "c3b63767",
   "metadata": {
    "ExecuteTime": {
     "end_time": "2023-11-29T00:36:21.879463Z",
     "start_time": "2023-11-29T00:36:21.871762Z"
    }
   },
   "outputs": [],
   "source": [
    "def print_with_smile(a):\n",
    "    print(a + \" :D\")"
   ]
  },
  {
   "cell_type": "code",
   "execution_count": 17,
   "id": "7ea151f7",
   "metadata": {
    "ExecuteTime": {
     "end_time": "2023-11-29T00:36:34.301338Z",
     "start_time": "2023-11-29T00:36:34.298137Z"
    }
   },
   "outputs": [
    {
     "name": "stdout",
     "output_type": "stream",
     "text": [
      "안녕하세요 :D\n"
     ]
    }
   ],
   "source": [
    "print_with_smile(\"안녕하세요\")"
   ]
  },
  {
   "cell_type": "code",
   "execution_count": 18,
   "id": "fd4609ba",
   "metadata": {
    "ExecuteTime": {
     "end_time": "2023-11-29T00:38:27.198441Z",
     "start_time": "2023-11-29T00:38:27.192130Z"
    }
   },
   "outputs": [],
   "source": [
    "def print_upper_price(price):\n",
    "    print(price * 1.3)"
   ]
  },
  {
   "cell_type": "code",
   "execution_count": 19,
   "id": "7308b4d5",
   "metadata": {
    "ExecuteTime": {
     "end_time": "2023-11-29T00:38:36.022590Z",
     "start_time": "2023-11-29T00:38:36.019936Z"
    }
   },
   "outputs": [],
   "source": [
    "def print_sum(a, b):\n",
    "    print(a+b)"
   ]
  },
  {
   "cell_type": "code",
   "execution_count": 21,
   "id": "bc6ce862",
   "metadata": {
    "ExecuteTime": {
     "end_time": "2023-11-29T00:40:42.788767Z",
     "start_time": "2023-11-29T00:40:42.783480Z"
    }
   },
   "outputs": [
    {
     "name": "stdout",
     "output_type": "stream",
     "text": [
      "3 + 4 = 7\n",
      "3 - 4 = -1\n",
      "3 * 4 = 12\n",
      "3 / 4 = 0.75\n"
     ]
    }
   ],
   "source": [
    "def print_arithmetic_operation(a, b):\n",
    "    print(f\"{a} + {b} = {a+b}\")\n",
    "    print(f\"{a} - {b} = {a-b}\")\n",
    "    print(f\"{a} * {b} = {a*b}\")\n",
    "    print(f\"{a} / {b} = {a/b}\")\n",
    "    \n",
    "print_arithmetic_operation(3, 4)"
   ]
  },
  {
   "cell_type": "code",
   "execution_count": 22,
   "id": "5d6965e6",
   "metadata": {
    "ExecuteTime": {
     "end_time": "2023-11-29T00:43:57.302955Z",
     "start_time": "2023-11-29T00:43:57.296602Z"
    }
   },
   "outputs": [],
   "source": [
    "def print_max(a, b, c):\n",
    "    m = 0\n",
    "    if a > m:\n",
    "        m = a\n",
    "    if b > m:\n",
    "        m = b\n",
    "    if c > m:\n",
    "        m = c"
   ]
  },
  {
   "cell_type": "markdown",
   "id": "4823d2e9",
   "metadata": {},
   "source": [
    "# 221~230"
   ]
  },
  {
   "cell_type": "code",
   "execution_count": 23,
   "id": "b1cd00aa",
   "metadata": {
    "ExecuteTime": {
     "end_time": "2023-11-29T00:45:38.711488Z",
     "start_time": "2023-11-29T00:45:38.706118Z"
    }
   },
   "outputs": [
    {
     "name": "stdout",
     "output_type": "stream",
     "text": [
      "nohtyp\n"
     ]
    }
   ],
   "source": [
    "def print_reverse(a):\n",
    "    print(a[::-1])\n",
    "print_reverse(\"python\")"
   ]
  },
  {
   "cell_type": "code",
   "execution_count": 24,
   "id": "8a770848",
   "metadata": {
    "ExecuteTime": {
     "end_time": "2023-11-29T00:46:21.818840Z",
     "start_time": "2023-11-29T00:46:21.815199Z"
    }
   },
   "outputs": [
    {
     "name": "stdout",
     "output_type": "stream",
     "text": [
      "2.0\n"
     ]
    }
   ],
   "source": [
    "def print_score(score_list):\n",
    "    print(sum(score_list)/len(score_list))\n",
    "print_score([1, 2, 3])"
   ]
  },
  {
   "cell_type": "code",
   "execution_count": 25,
   "id": "657a00b6",
   "metadata": {
    "ExecuteTime": {
     "end_time": "2023-11-29T00:58:41.143232Z",
     "start_time": "2023-11-29T00:58:41.130763Z"
    }
   },
   "outputs": [
    {
     "name": "stdout",
     "output_type": "stream",
     "text": [
      "2\n",
      "10\n",
      "12\n"
     ]
    }
   ],
   "source": [
    "def print_even(num_list):\n",
    "    for i in num_list:\n",
    "        if i % 2 == 0:\n",
    "            print(i)\n",
    "print_even([1, 3, 2, 10, 12, 11, 15])"
   ]
  },
  {
   "cell_type": "code",
   "execution_count": 27,
   "id": "0e7aab90",
   "metadata": {
    "ExecuteTime": {
     "end_time": "2023-11-29T00:59:36.878158Z",
     "start_time": "2023-11-29T00:59:36.867869Z"
    }
   },
   "outputs": [
    {
     "name": "stdout",
     "output_type": "stream",
     "text": [
      "이름\n",
      "나이\n",
      "성별\n"
     ]
    }
   ],
   "source": [
    "def print_keys(dic):\n",
    "    keys = dic.keys()\n",
    "    for key in keys:\n",
    "        print(key)\n",
    "print_keys({\"이름\":\"김말똥\", \"나이\":30, \"성별\":0})"
   ]
  },
  {
   "cell_type": "code",
   "execution_count": 2,
   "id": "208d2e23",
   "metadata": {
    "ExecuteTime": {
     "end_time": "2023-11-30T01:33:18.140456Z",
     "start_time": "2023-11-30T01:33:18.124378Z"
    }
   },
   "outputs": [
    {
     "name": "stdout",
     "output_type": "stream",
     "text": [
      "[100, 130, 100, 100]\n"
     ]
    }
   ],
   "source": [
    "my_dict = {\"10/26\" : [100, 130, 100, 100],\n",
    "           \"10/27\" : [10, 12, 10, 11]}\n",
    "\n",
    "def print_value_by_key(my_dict, key):\n",
    "    print(my_dict[key])\n",
    "    \n",
    "print_value_by_key(my_dict, \"10/26\")"
   ]
  },
  {
   "cell_type": "code",
   "execution_count": 10,
   "id": "79ab19e6",
   "metadata": {
    "ExecuteTime": {
     "end_time": "2023-11-30T01:51:18.308436Z",
     "start_time": "2023-11-30T01:51:18.296549Z"
    }
   },
   "outputs": [
    {
     "name": "stdout",
     "output_type": "stream",
     "text": [
      "아이엠어보\n",
      "이유알어걸\n",
      "\n"
     ]
    }
   ],
   "source": [
    "def print_5xn(s):\n",
    "    num = int(len(s) / 5)\n",
    "    for i in range(num+1):\n",
    "        print(s[5*i:5*i+5])\n",
    "print_5xn(\"아이엠어보이유알어걸\")"
   ]
  },
  {
   "cell_type": "code",
   "execution_count": 11,
   "id": "043022be",
   "metadata": {
    "ExecuteTime": {
     "end_time": "2023-11-30T01:52:43.072924Z",
     "start_time": "2023-11-30T01:52:43.063170Z"
    }
   },
   "outputs": [
    {
     "name": "stdout",
     "output_type": "stream",
     "text": [
      "아이엠\n",
      "어보이\n",
      "유알어\n",
      "걸\n"
     ]
    }
   ],
   "source": [
    "def printmxn(s, n):\n",
    "    num = int(len(s)/n)\n",
    "    for i in range(num+1):\n",
    "        print(s[n*i:n*i+n])\n",
    "printmxn(\"아이엠어보이유알어걸\",3)"
   ]
  },
  {
   "cell_type": "code",
   "execution_count": 13,
   "id": "f1587eb0",
   "metadata": {
    "ExecuteTime": {
     "end_time": "2023-11-30T01:58:25.147221Z",
     "start_time": "2023-11-30T01:58:25.139538Z"
    }
   },
   "outputs": [
    {
     "data": {
      "text/plain": [
       "1000000"
      ]
     },
     "execution_count": 13,
     "metadata": {},
     "output_type": "execute_result"
    }
   ],
   "source": [
    "def calc_monthly_salary(annual_salary):\n",
    "    return int(annual_salary / 12) # 1원 미만은 버림\n",
    "calc_monthly_salary(12000000)"
   ]
  },
  {
   "cell_type": "code",
   "execution_count": 14,
   "id": "3a62c51e",
   "metadata": {
    "ExecuteTime": {
     "end_time": "2023-11-30T01:58:47.049400Z",
     "start_time": "2023-11-30T01:58:47.043759Z"
    }
   },
   "outputs": [],
   "source": [
    "# 왼쪽: 100\n",
    "# 오른쪽: 200"
   ]
  },
  {
   "cell_type": "code",
   "execution_count": 15,
   "id": "0557d2ba",
   "metadata": {
    "ExecuteTime": {
     "end_time": "2023-11-30T01:59:07.994926Z",
     "start_time": "2023-11-30T01:59:07.991449Z"
    }
   },
   "outputs": [],
   "source": [
    "# 왼쪽: 200\n",
    "# 오른쪽: 100"
   ]
  },
  {
   "cell_type": "markdown",
   "id": "6fb9a35b",
   "metadata": {},
   "source": [
    "# 231~240"
   ]
  },
  {
   "cell_type": "code",
   "execution_count": 17,
   "id": "df387804",
   "metadata": {
    "ExecuteTime": {
     "end_time": "2023-11-30T02:02:06.267103Z",
     "start_time": "2023-11-30T02:02:06.237830Z"
    }
   },
   "outputs": [
    {
     "ename": "NameError",
     "evalue": "name 'result' is not defined",
     "output_type": "error",
     "traceback": [
      "\u001b[0;31m---------------------------------------------------------------------------\u001b[0m",
      "\u001b[0;31mNameError\u001b[0m                                 Traceback (most recent call last)",
      "Cell \u001b[0;32mIn[17], line 7\u001b[0m\n\u001b[1;32m      4\u001b[0m     result \u001b[38;5;241m=\u001b[39m n \u001b[38;5;241m+\u001b[39m \u001b[38;5;241m1\u001b[39m\n\u001b[1;32m      6\u001b[0m n_plus_1(\u001b[38;5;241m3\u001b[39m)\n\u001b[0;32m----> 7\u001b[0m \u001b[38;5;28mprint\u001b[39m(result)\n",
      "\u001b[0;31mNameError\u001b[0m: name 'result' is not defined"
     ]
    }
   ],
   "source": [
    "# 에러. \n",
    "# 이유: result값을 return해주지 않았기 때문에\n",
    "def n_plus_1 (n) :\n",
    "    result = n + 1\n",
    "\n",
    "n_plus_1(3)\n",
    "print(result)"
   ]
  },
  {
   "cell_type": "code",
   "execution_count": 18,
   "id": "08666837",
   "metadata": {
    "ExecuteTime": {
     "end_time": "2023-11-30T02:45:46.410003Z",
     "start_time": "2023-11-30T02:45:46.402508Z"
    }
   },
   "outputs": [
    {
     "name": "stdout",
     "output_type": "stream",
     "text": [
      "www.naver.com\n"
     ]
    }
   ],
   "source": [
    "def make_url(domain):\n",
    "    print(\"www.\"+domain+\".com\")\n",
    "make_url(\"naver\")"
   ]
  },
  {
   "cell_type": "code",
   "execution_count": 19,
   "id": "75fb60d2",
   "metadata": {
    "ExecuteTime": {
     "end_time": "2023-11-30T02:46:18.659357Z",
     "start_time": "2023-11-30T02:46:18.652046Z"
    }
   },
   "outputs": [
    {
     "data": {
      "text/plain": [
       "['a', 'b', 'c', 'd']"
      ]
     },
     "execution_count": 19,
     "metadata": {},
     "output_type": "execute_result"
    }
   ],
   "source": [
    "def make_list(s):\n",
    "    return(list(s))\n",
    "\n",
    "make_list(\"abcd\")"
   ]
  },
  {
   "cell_type": "code",
   "execution_count": 21,
   "id": "8a63b7ef",
   "metadata": {
    "ExecuteTime": {
     "end_time": "2023-11-30T02:48:50.889342Z",
     "start_time": "2023-11-30T02:48:50.882013Z"
    }
   },
   "outputs": [
    {
     "data": {
      "text/plain": [
       "[4, 6, 8]"
      ]
     },
     "execution_count": 21,
     "metadata": {},
     "output_type": "execute_result"
    }
   ],
   "source": [
    "def pickup_even(l):\n",
    "    res = [i for i in l if i % 2 == 0]\n",
    "    return res\n",
    "pickup_even([3, 4, 5, 6, 7, 8])"
   ]
  },
  {
   "cell_type": "code",
   "execution_count": 22,
   "id": "e8eef93a",
   "metadata": {
    "ExecuteTime": {
     "end_time": "2023-11-30T02:49:52.855783Z",
     "start_time": "2023-11-30T02:49:52.847912Z"
    }
   },
   "outputs": [
    {
     "data": {
      "text/plain": [
       "1234567"
      ]
     },
     "execution_count": 22,
     "metadata": {},
     "output_type": "execute_result"
    }
   ],
   "source": [
    "def convert_int(s):\n",
    "    return int(s.replace(',', ''))\n",
    "convert_int(\"1,234,567\")\n"
   ]
  },
  {
   "cell_type": "code",
   "execution_count": 31,
   "id": "4bff4274",
   "metadata": {
    "ExecuteTime": {
     "end_time": "2023-11-30T02:53:35.648268Z",
     "start_time": "2023-11-30T02:53:35.644935Z"
    }
   },
   "outputs": [
    {
     "name": "stdout",
     "output_type": "stream",
     "text": [
      "22\n"
     ]
    }
   ],
   "source": [
    "# 답: 22\n",
    "def 함수(num) :\n",
    "    return num + 4\n",
    "\n",
    "a = 함수(10)\n",
    "b = 함수(a)\n",
    "c = 함수(b)\n",
    "print(c)"
   ]
  },
  {
   "cell_type": "code",
   "execution_count": 30,
   "id": "32a9d0d4",
   "metadata": {
    "ExecuteTime": {
     "end_time": "2023-11-30T02:53:26.635409Z",
     "start_time": "2023-11-30T02:53:26.631019Z"
    }
   },
   "outputs": [
    {
     "name": "stdout",
     "output_type": "stream",
     "text": [
      "22\n"
     ]
    }
   ],
   "source": [
    "# 답: 22\n",
    "def 함수(num) :\n",
    "    return num + 4\n",
    "\n",
    "c = 함수(함수(함수(10)))\n",
    "print(c)"
   ]
  },
  {
   "cell_type": "code",
   "execution_count": 29,
   "id": "b039af07",
   "metadata": {
    "ExecuteTime": {
     "end_time": "2023-11-30T02:53:20.125744Z",
     "start_time": "2023-11-30T02:53:20.121689Z"
    }
   },
   "outputs": [
    {
     "name": "stdout",
     "output_type": "stream",
     "text": [
      "140\n"
     ]
    }
   ],
   "source": [
    "# 답: 140\n",
    "def 함수1(num) :\n",
    "    return num + 4\n",
    "\n",
    "def 함수2(num) :\n",
    "    return num * 10\n",
    "\n",
    "a = 함수1(10)\n",
    "c = 함수2(a)\n",
    "print(c)"
   ]
  },
  {
   "cell_type": "code",
   "execution_count": 26,
   "id": "6d92e454",
   "metadata": {
    "ExecuteTime": {
     "end_time": "2023-11-30T02:52:26.677119Z",
     "start_time": "2023-11-30T02:52:26.666176Z"
    }
   },
   "outputs": [
    {
     "name": "stdout",
     "output_type": "stream",
     "text": [
      "16\n"
     ]
    }
   ],
   "source": [
    "# 답: 16\n",
    "def 함수1(num) :\n",
    "    return num + 4\n",
    "\n",
    "def 함수2(num) :\n",
    "    num = num + 2\n",
    "    return 함수1(num)\n",
    "\n",
    "c = 함수2(10)\n",
    "print(c)"
   ]
  },
  {
   "cell_type": "code",
   "execution_count": 28,
   "id": "6229a273",
   "metadata": {
    "ExecuteTime": {
     "end_time": "2023-11-30T02:53:09.774024Z",
     "start_time": "2023-11-30T02:53:09.769093Z"
    }
   },
   "outputs": [
    {
     "name": "stdout",
     "output_type": "stream",
     "text": [
      "28\n"
     ]
    }
   ],
   "source": [
    "# 답: 28\n",
    "def 함수0(num) :\n",
    "    return num * 2\n",
    "\n",
    "def 함수1(num) :\n",
    "    return 함수0(num + 2)\n",
    "\n",
    "def 함수2(num) :\n",
    "    num = num + 10\n",
    "    return 함수1(num)\n",
    "\n",
    "c = 함수2(2)\n",
    "print(c)"
   ]
  },
  {
   "cell_type": "code",
   "execution_count": null,
   "id": "f14664a8",
   "metadata": {},
   "outputs": [],
   "source": []
  }
 ],
 "metadata": {
  "kernelspec": {
   "display_name": "Python 3 (ipykernel)",
   "language": "python",
   "name": "python3"
  },
  "language_info": {
   "codemirror_mode": {
    "name": "ipython",
    "version": 3
   },
   "file_extension": ".py",
   "mimetype": "text/x-python",
   "name": "python",
   "nbconvert_exporter": "python",
   "pygments_lexer": "ipython3",
   "version": "3.11.5"
  },
  "toc": {
   "base_numbering": 1,
   "nav_menu": {},
   "number_sections": true,
   "sideBar": true,
   "skip_h1_title": false,
   "title_cell": "Table of Contents",
   "title_sidebar": "Contents",
   "toc_cell": false,
   "toc_position": {},
   "toc_section_display": true,
   "toc_window_display": false
  }
 },
 "nbformat": 4,
 "nbformat_minor": 5
}
