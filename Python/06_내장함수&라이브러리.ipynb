{
 "cells": [
  {
   "cell_type": "markdown",
   "id": "486bf854",
   "metadata": {},
   "source": [
    "# 내장함수"
   ]
  },
  {
   "cell_type": "code",
   "execution_count": 2,
   "id": "b2ebe071",
   "metadata": {
    "ExecuteTime": {
     "end_time": "2023-12-05T05:19:06.404886Z",
     "start_time": "2023-12-05T05:19:06.400203Z"
    }
   },
   "outputs": [
    {
     "name": "stdout",
     "output_type": "stream",
     "text": [
      "3\n",
      "3\n"
     ]
    }
   ],
   "source": [
    "print(abs(3))\n",
    "print(abs(-3))"
   ]
  },
  {
   "cell_type": "code",
   "execution_count": 3,
   "id": "cc9657f4",
   "metadata": {
    "ExecuteTime": {
     "end_time": "2023-12-05T05:19:58.114479Z",
     "start_time": "2023-12-05T05:19:58.108997Z"
    }
   },
   "outputs": [
    {
     "name": "stdout",
     "output_type": "stream",
     "text": [
      "True\n",
      "False\n",
      "True\n"
     ]
    }
   ],
   "source": [
    "# all(x)는 반복 가능한 데이터 x를 입력값으로 받으며 이 x의 요소가 모두 참이면 True, 거짓이 하나라도 있으면 False를 리턴한다.\n",
    "\n",
    "print(all([1, 2, 3]))\n",
    "print(all([1, 2, 3, 0]))\n",
    "print(all([]))"
   ]
  },
  {
   "cell_type": "code",
   "execution_count": 5,
   "id": "ef6f2370",
   "metadata": {
    "ExecuteTime": {
     "end_time": "2023-12-05T05:21:12.434294Z",
     "start_time": "2023-12-05T05:21:12.426189Z"
    }
   },
   "outputs": [
    {
     "name": "stdout",
     "output_type": "stream",
     "text": [
      "True\n",
      "False\n",
      "False\n"
     ]
    }
   ],
   "source": [
    "# any(x)는 반복 가능한 데이터 x를 입력으로 받아 x의 요소 중 하나라도 참이 있으면 True를 리턴하고 x가 모두 거짓일 때만 False를 리턴한다.\n",
    "print(any([1, 2, 3, 0]))\n",
    "print(any([0, \"\"]))\n",
    "print(any([]))"
   ]
  },
  {
   "cell_type": "code",
   "execution_count": 6,
   "id": "c8f8681c",
   "metadata": {
    "ExecuteTime": {
     "end_time": "2023-12-05T05:21:58.131844Z",
     "start_time": "2023-12-05T05:21:58.126130Z"
    }
   },
   "outputs": [
    {
     "name": "stdout",
     "output_type": "stream",
     "text": [
      "a\n",
      "가\n"
     ]
    }
   ],
   "source": [
    "# chr(i)는 유니코드 숫자 값을 입력받아 그 코드에 해당하는 문자를 리턴하는 함수이다.\n",
    "# 유니코드는 전 세계의 모든 문자를 컴퓨터에서 일관되게 표현하고 다룰 수 있도록 설계된 산업 표준 코드이다\n",
    "\n",
    "print(chr(97))\n",
    "print(chr(44032))"
   ]
  },
  {
   "cell_type": "code",
   "execution_count": 7,
   "id": "5b4aa6e7",
   "metadata": {
    "ExecuteTime": {
     "end_time": "2023-12-05T05:22:42.080272Z",
     "start_time": "2023-12-05T05:22:42.072006Z"
    }
   },
   "outputs": [
    {
     "data": {
      "text/plain": [
       "['__add__',\n",
       " '__class__',\n",
       " '__class_getitem__',\n",
       " '__contains__',\n",
       " '__delattr__',\n",
       " '__delitem__',\n",
       " '__dir__',\n",
       " '__doc__',\n",
       " '__eq__',\n",
       " '__format__',\n",
       " '__ge__',\n",
       " '__getattribute__',\n",
       " '__getitem__',\n",
       " '__getstate__',\n",
       " '__gt__',\n",
       " '__hash__',\n",
       " '__iadd__',\n",
       " '__imul__',\n",
       " '__init__',\n",
       " '__init_subclass__',\n",
       " '__iter__',\n",
       " '__le__',\n",
       " '__len__',\n",
       " '__lt__',\n",
       " '__mul__',\n",
       " '__ne__',\n",
       " '__new__',\n",
       " '__reduce__',\n",
       " '__reduce_ex__',\n",
       " '__repr__',\n",
       " '__reversed__',\n",
       " '__rmul__',\n",
       " '__setattr__',\n",
       " '__setitem__',\n",
       " '__sizeof__',\n",
       " '__str__',\n",
       " '__subclasshook__',\n",
       " 'append',\n",
       " 'clear',\n",
       " 'copy',\n",
       " 'count',\n",
       " 'extend',\n",
       " 'index',\n",
       " 'insert',\n",
       " 'pop',\n",
       " 'remove',\n",
       " 'reverse',\n",
       " 'sort']"
      ]
     },
     "execution_count": 7,
     "metadata": {},
     "output_type": "execute_result"
    }
   ],
   "source": [
    "# dir은 객체가 지닌 변수나 함수를 보여 주는 함수이다.\n",
    "dir([1, 2, 3])\n",
    "# __add__ -> magic method"
   ]
  },
  {
   "cell_type": "code",
   "execution_count": 8,
   "id": "aec0d045",
   "metadata": {
    "ExecuteTime": {
     "end_time": "2023-12-05T05:24:35.049110Z",
     "start_time": "2023-12-05T05:24:35.042043Z"
    }
   },
   "outputs": [
    {
     "data": {
      "text/plain": [
       "(2, 1)"
      ]
     },
     "execution_count": 8,
     "metadata": {},
     "output_type": "execute_result"
    }
   ],
   "source": [
    "# divmod(a, b)는 2개의 숫자 a, b를 입력으로 받는다. 그리고 a를 b로 나눈 몫과 나머지를 튜플로 리턴한다.\n",
    "\n",
    "divmod(7, 3)"
   ]
  },
  {
   "cell_type": "code",
   "execution_count": 10,
   "id": "efab9fd3",
   "metadata": {
    "ExecuteTime": {
     "end_time": "2023-12-05T05:25:09.768477Z",
     "start_time": "2023-12-05T05:25:09.764487Z"
    }
   },
   "outputs": [
    {
     "name": "stdout",
     "output_type": "stream",
     "text": [
      "0 body\n",
      "1 foo\n",
      "2 bar\n"
     ]
    }
   ],
   "source": [
    "# ⭐️ enumerate: 이 함수는 순서가 있는 데이터(리스트, 튜플, 문자열)를 입력으로 받아 인덱스 값을 포함하는 enumerate 객체를 리턴한다.\n",
    "for i, name in enumerate(['body', 'foo', 'bar']):\n",
    "    print(i, name)"
   ]
  },
  {
   "cell_type": "code",
   "execution_count": 12,
   "id": "fb376107",
   "metadata": {
    "ExecuteTime": {
     "end_time": "2023-12-05T05:26:10.647224Z",
     "start_time": "2023-12-05T05:26:10.642530Z"
    }
   },
   "outputs": [
    {
     "name": "stdout",
     "output_type": "stream",
     "text": [
      "3\n",
      "hia\n",
      "(1, 1)\n"
     ]
    }
   ],
   "source": [
    "# eval(expression)은 문자열로 구성된 표현식을 입력으로 받아 해당 문자열을 실행한 결괏값을 리턴하는 함수이다.\n",
    "print(eval('1+2'))\n",
    "print(eval(\" 'hi'+'a' \"))\n",
    "print(eval(\" divmod(4, 3) \"))"
   ]
  },
  {
   "cell_type": "code",
   "execution_count": 19,
   "id": "33b524da",
   "metadata": {
    "ExecuteTime": {
     "end_time": "2023-12-05T05:33:05.998840Z",
     "start_time": "2023-12-05T05:33:05.988809Z"
    }
   },
   "outputs": [
    {
     "name": "stdout",
     "output_type": "stream",
     "text": [
      "[1, 2, 6]\n",
      "filter 함수 사용\n",
      "[1, 2, 6]\n",
      "람다 식: \n",
      "[1, 2, 6]\n",
      "리스트 컴프리헨션: \n",
      "[1, 2, 6]\n"
     ]
    }
   ],
   "source": [
    "# ⭐️ filter(함수, 반복_가능한_데이터): filter 함수는 첫 번째 인수로 함수, 두 번째 인수로 그 함수에 차례로 들어갈 반복 가능한 데이터를 받는다. \n",
    "# 그리고 반복 가능한 데이터의 요소 순서대로 함수를 호출했을 때 리턴값이 참인 것만 묶어서(걸러 내서) 리턴한다.\n",
    "def positive(l):\n",
    "    res = []\n",
    "    for i in l:\n",
    "        if i>0:\n",
    "            res.append(i)\n",
    "    return res\n",
    "\n",
    "print(positive([1, -3, 2, 0, -5, 6]))\n",
    "\n",
    "# filter 함수 사용하기\n",
    "print(\"filter 함수 사용\")\n",
    "def positive_f(x):\n",
    "    return x > 0\n",
    "print(list(filter(positive_f, [1, -3, 2, 0, -5, 6])))\n",
    "\n",
    "# lambda 식 활용해보기\n",
    "print(\"람다 식: \")\n",
    "print(list(filter(lambda x: x>0, [1, -3, 2, 0, -5, 6])))\n",
    "\n",
    "# 리스트 컴프리헨션 사용하기\n",
    "print(\"리스트 컴프리헨션: \")\n",
    "res = [i for i in [1, -3, 2, 0, -5, 6] if i > 0]\n",
    "print(res)"
   ]
  },
  {
   "cell_type": "code",
   "execution_count": 20,
   "id": "380328c6",
   "metadata": {
    "ExecuteTime": {
     "end_time": "2023-12-05T05:34:18.223278Z",
     "start_time": "2023-12-05T05:34:18.217200Z"
    }
   },
   "outputs": [
    {
     "data": {
      "text/plain": [
       "'0xea'"
      ]
     },
     "execution_count": 20,
     "metadata": {},
     "output_type": "execute_result"
    }
   ],
   "source": [
    "# hex: 정수를 입력받아 16진수(hexadecimal) 문자열로 변환하여 리턴하는 함수이다.\n",
    "hex(234)"
   ]
  },
  {
   "cell_type": "code",
   "execution_count": 21,
   "id": "952e6c16",
   "metadata": {
    "ExecuteTime": {
     "end_time": "2023-12-05T05:34:37.891724Z",
     "start_time": "2023-12-05T05:34:37.888092Z"
    }
   },
   "outputs": [
    {
     "name": "stdout",
     "output_type": "stream",
     "text": [
      "4311999768\n",
      "4311999768\n"
     ]
    }
   ],
   "source": [
    "# id(object)는 객체를 입력받아 객체의 고유 주솟값(레퍼런스)을 리턴하는 함수이다.\n",
    "a=3\n",
    "print(id(3))\n",
    "print(id(a))\n"
   ]
  },
  {
   "cell_type": "code",
   "execution_count": 22,
   "id": "a52888dc",
   "metadata": {
    "ExecuteTime": {
     "end_time": "2023-12-05T05:34:53.851691Z",
     "start_time": "2023-12-05T05:34:52.070808Z"
    }
   },
   "outputs": [
    {
     "name": "stdout",
     "output_type": "stream",
     "text": [
      "hi\n",
      "hi\n"
     ]
    }
   ],
   "source": [
    "# input([prompt])는 사용자 입력을 받는 함수이다. 입력 인수로 문자열을 전달하면 그 문자열은 프롬프트가 된다.\n",
    "a = input()\n",
    "print(a)"
   ]
  },
  {
   "cell_type": "code",
   "execution_count": 23,
   "id": "e2e7d0a2",
   "metadata": {
    "ExecuteTime": {
     "end_time": "2023-12-05T05:36:04.921399Z",
     "start_time": "2023-12-05T05:36:04.914057Z"
    }
   },
   "outputs": [
    {
     "name": "stdout",
     "output_type": "stream",
     "text": [
      "3\n",
      "3\n",
      "3\n",
      "26\n"
     ]
    }
   ],
   "source": [
    "# int(x)는 문자열 형태의 숫자나 소수점이 있는 숫자를 정수로 리턴하는 함수이다. 만약 정수가 입력되면 그대로 리턴한다.\n",
    "print(int('3'))\n",
    "print(int(3.4))\n",
    "print(int('11', 2)) # 2진수를 10진수로 표현\n",
    "print(int('1A', 16)) # 16진수를 10진수로 표현"
   ]
  },
  {
   "cell_type": "code",
   "execution_count": 24,
   "id": "ba7e0055",
   "metadata": {
    "ExecuteTime": {
     "end_time": "2023-12-05T05:36:39.026501Z",
     "start_time": "2023-12-05T05:36:39.018803Z"
    }
   },
   "outputs": [
    {
     "data": {
      "text/plain": [
       "True"
      ]
     },
     "execution_count": 24,
     "metadata": {},
     "output_type": "execute_result"
    }
   ],
   "source": [
    "# isinstance(object, class) 함수는 첫 번째 인수로 객체, 두 번째 인수로 클래스를 받는다. \n",
    "# 입력으로 받은 객체가 그 클래스의 인스턴스인지를 판단하여 참이면 True, 거짓이면 False를 리턴한다.\n",
    "class Person:\n",
    "    pass\n",
    "\n",
    "a = Person()\n",
    "isinstance(a, Person)"
   ]
  },
  {
   "cell_type": "code",
   "execution_count": 25,
   "id": "eb7a57e9",
   "metadata": {
    "ExecuteTime": {
     "end_time": "2023-12-05T05:37:15.718248Z",
     "start_time": "2023-12-05T05:37:15.712114Z"
    }
   },
   "outputs": [
    {
     "data": {
      "text/plain": [
       "6"
      ]
     },
     "execution_count": 25,
     "metadata": {},
     "output_type": "execute_result"
    }
   ],
   "source": [
    "# len(s)는 입력값 s의 길이(요소의 전체 개수)를 리턴하는 함수이다.\n",
    "len(\"python\")"
   ]
  },
  {
   "cell_type": "code",
   "execution_count": 26,
   "id": "f99202be",
   "metadata": {
    "ExecuteTime": {
     "end_time": "2023-12-05T05:37:45.555146Z",
     "start_time": "2023-12-05T05:37:45.547658Z"
    }
   },
   "outputs": [
    {
     "name": "stdout",
     "output_type": "stream",
     "text": [
      "['p', 'y', 't', 'h', 'o', 'n']\n",
      "[1, 2, 3]\n"
     ]
    }
   ],
   "source": [
    "# list(iterable)은 반복 가능한 데이터를 입력받아 리스트로 만들어 리턴하는 함수이다.\n",
    "print(list(\"python\"))\n",
    "print(list((1,2,3)))"
   ]
  },
  {
   "cell_type": "code",
   "execution_count": 27,
   "id": "3078985f",
   "metadata": {
    "ExecuteTime": {
     "end_time": "2023-12-05T05:40:03.734881Z",
     "start_time": "2023-12-05T05:40:03.726122Z"
    }
   },
   "outputs": [
    {
     "name": "stdout",
     "output_type": "stream",
     "text": [
      "[2, 4, 6, 8]\n",
      "[2, 4, 6, 8]\n"
     ]
    }
   ],
   "source": [
    "# ⭐️ map(f, iterable)은 함수(f)와 반복 가능한 데이터를 입력으로 받는다. \n",
    "# map은 입력받은 데이터의 각 요소에 함수 f를 적용한 결과를 리턴하는 함수이다.\n",
    "\n",
    "def two_times(numberList):\n",
    "    result = []\n",
    "    for number in numberList:\n",
    "        result.append(number*2)\n",
    "    return result\n",
    "\n",
    "result = two_times([1, 2, 3, 4])\n",
    "print(result)\n",
    "\n",
    "print(list(map(lambda a: a*2, [1, 2, 3, 4])))"
   ]
  },
  {
   "cell_type": "code",
   "execution_count": 28,
   "id": "d02fc1cc",
   "metadata": {
    "ExecuteTime": {
     "end_time": "2023-12-05T05:45:44.238000Z",
     "start_time": "2023-12-05T05:45:44.228001Z"
    }
   },
   "outputs": [
    {
     "data": {
      "text/plain": [
       "['짝수 아님ㅋㅋ', 4, '짝수 아님ㅋㅋ', 8]"
      ]
     },
     "execution_count": 28,
     "metadata": {},
     "output_type": "execute_result"
    }
   ],
   "source": [
    "# Filter는 특정 기준으로 입력을 걸러줌 -> 조건, Map -> 함수를 적용\n",
    "def two_times(x):\n",
    "    if x % 2 == 0:\n",
    "        return x * 2\n",
    "    else:\n",
    "        return '짝수 아님ㅋㅋ'\n",
    "list(map(two_times, [1, 2, 3, 4]))"
   ]
  },
  {
   "cell_type": "code",
   "execution_count": 29,
   "id": "ea6e64c9",
   "metadata": {
    "ExecuteTime": {
     "end_time": "2023-12-05T05:47:27.225849Z",
     "start_time": "2023-12-05T05:47:27.219557Z"
    }
   },
   "outputs": [
    {
     "data": {
      "text/plain": [
       "97"
      ]
     },
     "execution_count": 29,
     "metadata": {},
     "output_type": "execute_result"
    }
   ],
   "source": [
    "# ord(c)는 문자의 유니코드 숫자 값을 리턴하는 함수이다.\n",
    "ord('a')"
   ]
  },
  {
   "cell_type": "code",
   "execution_count": 30,
   "id": "ff82dc76",
   "metadata": {
    "ExecuteTime": {
     "end_time": "2023-12-05T05:47:38.111969Z",
     "start_time": "2023-12-05T05:47:38.108466Z"
    }
   },
   "outputs": [
    {
     "data": {
      "text/plain": [
       "16"
      ]
     },
     "execution_count": 30,
     "metadata": {},
     "output_type": "execute_result"
    }
   ],
   "source": [
    "# pow(x, y)는 x를 y제곱한 결괏값을 리턴하는 함수이다.\n",
    "pow(2, 4)"
   ]
  },
  {
   "cell_type": "code",
   "execution_count": 31,
   "id": "bd5c7a7d",
   "metadata": {
    "ExecuteTime": {
     "end_time": "2023-12-05T05:49:02.224196Z",
     "start_time": "2023-12-05T05:49:02.217236Z"
    }
   },
   "outputs": [
    {
     "name": "stdout",
     "output_type": "stream",
     "text": [
      "[0, 1, 2, 3, 4]\n",
      "[5, 6, 7, 8, 9]\n",
      "[1, 3, 5, 7, 9]\n"
     ]
    }
   ],
   "source": [
    "# range([start,] stop [,step])은 for 문과 함께 자주 사용하는 함수이다. \n",
    "# 이 함수는 입력받은 숫자에 해당하는 범위 값을 반복 가능한 객체로 만들어 리턴한다.\n",
    "\n",
    "# 인수가 하나인 경우\n",
    "print(list(range(5)))\n",
    "\n",
    "# 인수가 2개일 경우\n",
    "print(list(range(5, 10)))\n",
    "\n",
    "# 인수가 3개일 경우\n",
    "print(list(range(1, 10, 2)))\n"
   ]
  },
  {
   "cell_type": "code",
   "execution_count": 38,
   "id": "461fbd39",
   "metadata": {
    "ExecuteTime": {
     "end_time": "2023-12-05T06:06:20.257850Z",
     "start_time": "2023-12-05T06:06:20.247427Z"
    }
   },
   "outputs": [
    {
     "name": "stdout",
     "output_type": "stream",
     "text": [
      "5\n",
      "4\n",
      "5.68\n"
     ]
    }
   ],
   "source": [
    "# round: 반올림\n",
    "print(round(4.6))\n",
    "print(round(4.2))\n",
    "print(round(5.678, 2))"
   ]
  },
  {
   "cell_type": "code",
   "execution_count": 37,
   "id": "765461f9",
   "metadata": {
    "ExecuteTime": {
     "end_time": "2023-12-05T05:58:27.408689Z",
     "start_time": "2023-12-05T05:58:27.404423Z"
    }
   },
   "outputs": [
    {
     "name": "stdout",
     "output_type": "stream",
     "text": [
      "[1, 2, 3]\n",
      "None\n",
      "[1, 2, 3]\n"
     ]
    }
   ],
   "source": [
    "# sorted(iterable)는 입력 데이터를 정렬한 후 그 결과를 리스트로 리턴하는 함수이다.\n",
    "print(sorted([3, 1, 2]))\n",
    "# 리스트 자료형에도 sort 함수가 있다. 하지만 리스트 자료형의 sort 함수는 리스트 객체 그 자체를 정렬만 할 뿐, 정렬된 결과를 리턴하지는 않는다.\n",
    "print([3,1,2].sort()) \n",
    "a = [3,1,2]\n",
    "a.sort()\n",
    "print(a)\n",
    "# sort()는 원본을 바꾸고, sorted는 원본을 바꾸진 않는다. 원본을 바꾸는 것은 가능한 주의해서!!!"
   ]
  },
  {
   "cell_type": "code",
   "execution_count": 39,
   "id": "49008eef",
   "metadata": {
    "ExecuteTime": {
     "end_time": "2023-12-05T06:08:28.983547Z",
     "start_time": "2023-12-05T06:08:28.976886Z"
    }
   },
   "outputs": [
    {
     "data": {
      "text/plain": [
       "6"
      ]
     },
     "execution_count": 39,
     "metadata": {},
     "output_type": "execute_result"
    }
   ],
   "source": [
    "# sum(iterable)\n",
    "sum([1, 2, 3])"
   ]
  },
  {
   "cell_type": "code",
   "execution_count": 40,
   "id": "f3794daf",
   "metadata": {
    "ExecuteTime": {
     "end_time": "2023-12-05T06:08:40.645120Z",
     "start_time": "2023-12-05T06:08:40.640174Z"
    }
   },
   "outputs": [
    {
     "data": {
      "text/plain": [
       "('a', 'b', 'c')"
      ]
     },
     "execution_count": 40,
     "metadata": {},
     "output_type": "execute_result"
    }
   ],
   "source": [
    "# tuple(iterable)\n",
    "tuple(\"abc\")"
   ]
  },
  {
   "cell_type": "code",
   "execution_count": 41,
   "id": "96114e14",
   "metadata": {
    "ExecuteTime": {
     "end_time": "2023-12-05T06:08:57.445572Z",
     "start_time": "2023-12-05T06:08:57.441630Z"
    }
   },
   "outputs": [
    {
     "data": {
      "text/plain": [
       "str"
      ]
     },
     "execution_count": 41,
     "metadata": {},
     "output_type": "execute_result"
    }
   ],
   "source": [
    "# type(object)\n",
    "type(\"abc\")"
   ]
  },
  {
   "cell_type": "code",
   "execution_count": 43,
   "id": "75abf7a1",
   "metadata": {
    "ExecuteTime": {
     "end_time": "2023-12-05T06:10:37.748162Z",
     "start_time": "2023-12-05T06:10:37.743445Z"
    }
   },
   "outputs": [
    {
     "name": "stdout",
     "output_type": "stream",
     "text": [
      "[(1, 4), (2, 5), (3, 6)]\n",
      "[(1, 4, 7), (2, 5, 8), (3, 6, 9)]\n",
      "[('a', 'd'), ('b', 'e'), ('c', 'f')]\n"
     ]
    }
   ],
   "source": [
    "# ⭐️ zip(*iterable): 동일한 개수로 이루어진 데이터들을 묶어서 리턴하는 함수이다.\n",
    "# 여기서 사용한 *iterable은 반복 가능한 데이터를 여러 개 입력할 수 있다는 의미이다.\n",
    "\n",
    "print(list(zip([1, 2, 3], [4, 5, 6])))\n",
    "print(list(zip([1, 2, 3], [4, 5, 6], [7, 8, 9])))\n",
    "print(list(zip(\"abc\", \"def\")))"
   ]
  },
  {
   "cell_type": "markdown",
   "id": "861efaf6",
   "metadata": {},
   "source": [
    "# 표준 라이브러리"
   ]
  },
  {
   "cell_type": "markdown",
   "id": "4a69c227",
   "metadata": {},
   "source": [
    "## datetime.date"
   ]
  },
  {
   "cell_type": "code",
   "execution_count": 44,
   "id": "3afc9aed",
   "metadata": {
    "ExecuteTime": {
     "end_time": "2023-12-05T06:14:59.441008Z",
     "start_time": "2023-12-05T06:14:59.430100Z"
    }
   },
   "outputs": [
    {
     "name": "stdout",
     "output_type": "stream",
     "text": [
      "day1: 2021-12-14, day2: 2023-04-05\n",
      "477\n"
     ]
    }
   ],
   "source": [
    "import datetime\n",
    "day1 = datetime.date(2021, 12, 14) # 객체\n",
    "day2 = datetime.date(2023, 4, 5) # 객체\n",
    "print(f\"day1: {day1}, day2: {day2}\")\n",
    "\n",
    "diff = day2 - day1\n",
    "print(diff.days)"
   ]
  },
  {
   "cell_type": "code",
   "execution_count": 46,
   "id": "6b1f5252",
   "metadata": {
    "ExecuteTime": {
     "end_time": "2023-12-05T06:16:28.905381Z",
     "start_time": "2023-12-05T06:16:28.901810Z"
    }
   },
   "outputs": [],
   "source": [
    "day = datetime.date(2023, 12, 5)\n",
    "day.weekday() # Return the day of the week represented by the date."
   ]
  },
  {
   "cell_type": "markdown",
   "id": "227849b1",
   "metadata": {},
   "source": [
    "## time\n",
    "time.time()은 UTC(universal time coordinated, 협정 세계 표준시)를 사용하여 현재 시간을 실수 형태로 리턴하는 함수   \n",
    "1970년 1월 1일 0시 0분 0초를 기준으로 지난 시간을 초 단위로 리턴해 준다."
   ]
  },
  {
   "cell_type": "code",
   "execution_count": 47,
   "id": "a15d4d93",
   "metadata": {
    "ExecuteTime": {
     "end_time": "2023-12-05T06:17:51.819481Z",
     "start_time": "2023-12-05T06:17:51.812257Z"
    }
   },
   "outputs": [
    {
     "data": {
      "text/plain": [
       "1701757071.8152351"
      ]
     },
     "execution_count": 47,
     "metadata": {},
     "output_type": "execute_result"
    }
   ],
   "source": [
    "import time\n",
    "time.time()"
   ]
  },
  {
   "cell_type": "code",
   "execution_count": 48,
   "id": "652bd556",
   "metadata": {
    "ExecuteTime": {
     "end_time": "2023-12-05T06:18:11.822922Z",
     "start_time": "2023-12-05T06:18:11.818849Z"
    }
   },
   "outputs": [
    {
     "data": {
      "text/plain": [
       "time.struct_time(tm_year=2023, tm_mon=12, tm_mday=5, tm_hour=15, tm_min=18, tm_sec=11, tm_wday=1, tm_yday=339, tm_isdst=0)"
      ]
     },
     "execution_count": 48,
     "metadata": {},
     "output_type": "execute_result"
    }
   ],
   "source": [
    "time.localtime(time.time())"
   ]
  },
  {
   "cell_type": "code",
   "execution_count": 49,
   "id": "f444f16e",
   "metadata": {
    "ExecuteTime": {
     "end_time": "2023-12-05T06:18:32.569808Z",
     "start_time": "2023-12-05T06:18:32.564252Z"
    }
   },
   "outputs": [
    {
     "data": {
      "text/plain": [
       "2023"
      ]
     },
     "execution_count": 49,
     "metadata": {},
     "output_type": "execute_result"
    }
   ],
   "source": [
    "time.localtime(time.time()).tm_year # 객체 변수"
   ]
  },
  {
   "cell_type": "code",
   "execution_count": 50,
   "id": "0df64f04",
   "metadata": {
    "ExecuteTime": {
     "end_time": "2023-12-05T06:19:31.442992Z",
     "start_time": "2023-12-05T06:19:31.434078Z"
    }
   },
   "outputs": [
    {
     "data": {
      "text/plain": [
       "'Tue Dec  5 15:19:31 2023'"
      ]
     },
     "execution_count": 50,
     "metadata": {},
     "output_type": "execute_result"
    }
   ],
   "source": [
    "time.asctime(time.localtime(time.time()))"
   ]
  },
  {
   "cell_type": "code",
   "execution_count": 51,
   "id": "bc9dc29f",
   "metadata": {
    "ExecuteTime": {
     "end_time": "2023-12-05T06:19:49.578510Z",
     "start_time": "2023-12-05T06:19:49.574332Z"
    }
   },
   "outputs": [
    {
     "data": {
      "text/plain": [
       "'Tue Dec  5 15:19:49 2023'"
      ]
     },
     "execution_count": 51,
     "metadata": {},
     "output_type": "execute_result"
    }
   ],
   "source": [
    "time.ctime()"
   ]
  },
  {
   "cell_type": "code",
   "execution_count": 52,
   "id": "287cfd72",
   "metadata": {
    "ExecuteTime": {
     "end_time": "2023-12-05T06:21:26.519325Z",
     "start_time": "2023-12-05T06:21:26.511372Z"
    }
   },
   "outputs": [
    {
     "name": "stdout",
     "output_type": "stream",
     "text": [
      "12/05/23\n",
      "Tue Dec  5 15:21:26 2023\n"
     ]
    }
   ],
   "source": [
    "print(time.strftime('%x', time.localtime(time.time()))) # %x: 현재 설정된 지역에 기반한 날짜 출력\n",
    "print(time.strftime('%c', time.localtime(time.time()))) # %c: 날짜와 시간을 출력함."
   ]
  },
  {
   "cell_type": "code",
   "execution_count": 53,
   "id": "d551a5c3",
   "metadata": {
    "ExecuteTime": {
     "end_time": "2023-12-05T06:25:01.101469Z",
     "start_time": "2023-12-05T06:24:51.057482Z"
    }
   },
   "outputs": [
    {
     "name": "stdout",
     "output_type": "stream",
     "text": [
      "0\n",
      "1\n",
      "2\n",
      "3\n",
      "4\n",
      "5\n",
      "6\n",
      "7\n",
      "8\n",
      "9\n"
     ]
    }
   ],
   "source": [
    "for i in range(10):\n",
    "    print(i)\n",
    "    time.sleep(1) # 일정한 시간 간격을 두고 루프를 실행"
   ]
  },
  {
   "cell_type": "markdown",
   "id": "d9f44b13",
   "metadata": {},
   "source": [
    "인수 없이 time 함수 사용하기\n",
    "time.localtime, time.asctime, time.strftime 함수는 다음처럼 입력 인수 없이 사용할 수 있다. 입력 인수 없이 사용할 경우 현재 시각을 기준으로 함수가 수행된다."
   ]
  },
  {
   "cell_type": "code",
   "execution_count": 54,
   "id": "a1407e2e",
   "metadata": {
    "ExecuteTime": {
     "end_time": "2023-12-05T06:26:17.753647Z",
     "start_time": "2023-12-05T06:26:17.747446Z"
    }
   },
   "outputs": [
    {
     "data": {
      "text/plain": [
       "time.struct_time(tm_year=2023, tm_mon=12, tm_mday=5, tm_hour=15, tm_min=26, tm_sec=17, tm_wday=1, tm_yday=339, tm_isdst=0)"
      ]
     },
     "execution_count": 54,
     "metadata": {},
     "output_type": "execute_result"
    }
   ],
   "source": [
    "time.localtime()"
   ]
  },
  {
   "cell_type": "code",
   "execution_count": 55,
   "id": "905657e9",
   "metadata": {
    "ExecuteTime": {
     "end_time": "2023-12-05T06:26:23.835979Z",
     "start_time": "2023-12-05T06:26:23.831178Z"
    }
   },
   "outputs": [
    {
     "data": {
      "text/plain": [
       "'Tue Dec  5 15:26:23 2023'"
      ]
     },
     "execution_count": 55,
     "metadata": {},
     "output_type": "execute_result"
    }
   ],
   "source": [
    "time.asctime()"
   ]
  },
  {
   "cell_type": "code",
   "execution_count": 56,
   "id": "5ac2c642",
   "metadata": {
    "ExecuteTime": {
     "end_time": "2023-12-05T06:26:33.253793Z",
     "start_time": "2023-12-05T06:26:33.250412Z"
    }
   },
   "outputs": [
    {
     "data": {
      "text/plain": [
       "'Tue Dec  5 15:26:33 2023'"
      ]
     },
     "execution_count": 56,
     "metadata": {},
     "output_type": "execute_result"
    }
   ],
   "source": [
    "time.strftime('%c')"
   ]
  },
  {
   "cell_type": "markdown",
   "id": "d1f0e66c",
   "metadata": {},
   "source": [
    "## random\n",
    "random은 난수(규칙이 없는 임의의 수)를 발생시키는 모듈이다."
   ]
  },
  {
   "cell_type": "markdown",
   "id": "7dce23e4",
   "metadata": {},
   "source": [
    "random.random(): 0.0에서 1.0 사이의 실수 중에서 난수 값을 리턴"
   ]
  },
  {
   "cell_type": "code",
   "execution_count": 57,
   "id": "2aaf8e77",
   "metadata": {
    "ExecuteTime": {
     "end_time": "2023-12-05T06:28:07.131780Z",
     "start_time": "2023-12-05T06:28:07.122749Z"
    }
   },
   "outputs": [
    {
     "data": {
      "text/plain": [
       "0.10158385802903502"
      ]
     },
     "execution_count": 57,
     "metadata": {},
     "output_type": "execute_result"
    }
   ],
   "source": [
    "import random\n",
    "random.random()"
   ]
  },
  {
   "cell_type": "markdown",
   "id": "e9037ecf",
   "metadata": {},
   "source": [
    "random.randint(1, 10): 1에서 10 사이의 정수 중에서 난수 값을 리턴"
   ]
  },
  {
   "cell_type": "code",
   "execution_count": 58,
   "id": "49838e32",
   "metadata": {
    "ExecuteTime": {
     "end_time": "2023-12-05T06:29:04.793596Z",
     "start_time": "2023-12-05T06:29:04.787331Z"
    }
   },
   "outputs": [
    {
     "data": {
      "text/plain": [
       "5"
      ]
     },
     "execution_count": 58,
     "metadata": {},
     "output_type": "execute_result"
    }
   ],
   "source": [
    "random.randint(1, 10)"
   ]
  },
  {
   "cell_type": "code",
   "execution_count": 59,
   "id": "04c04748",
   "metadata": {
    "ExecuteTime": {
     "end_time": "2023-12-05T06:29:59.259807Z",
     "start_time": "2023-12-05T06:29:59.249913Z"
    }
   },
   "outputs": [
    {
     "name": "stdout",
     "output_type": "stream",
     "text": [
      "1\n",
      "4\n",
      "5\n",
      "3\n",
      "2\n"
     ]
    }
   ],
   "source": [
    "import random\n",
    "def random_pop(data):\n",
    "    num = random.randint(0, len(data)-1)\n",
    "    return data.pop(num)\n",
    "\n",
    "if __name__ == '__main__':\n",
    "    data = [1, 2, 3, 4, 5]\n",
    "    while data:\n",
    "        print(random_pop(data))"
   ]
  },
  {
   "cell_type": "code",
   "execution_count": 60,
   "id": "e90ac168",
   "metadata": {
    "ExecuteTime": {
     "end_time": "2023-12-05T06:34:05.463358Z",
     "start_time": "2023-12-05T06:34:05.453820Z"
    }
   },
   "outputs": [
    {
     "name": "stdout",
     "output_type": "stream",
     "text": [
      "4\n",
      "1\n",
      "2\n",
      "5\n",
      "3\n"
     ]
    }
   ],
   "source": [
    "def random_pop(data):\n",
    "    num = random.choice(data) # 입력으로 받은 리스트에서 무작위로 하나를 선택하여 리턴한다.\n",
    "    data.remove(num)\n",
    "    return num\n",
    "\n",
    "data = [1, 2, 3, 4, 5]\n",
    "while data:\n",
    "    print(random_pop(data))"
   ]
  },
  {
   "cell_type": "code",
   "execution_count": 62,
   "id": "dbc4434c",
   "metadata": {
    "ExecuteTime": {
     "end_time": "2023-12-05T06:35:01.693891Z",
     "start_time": "2023-12-05T06:35:01.687058Z"
    }
   },
   "outputs": [
    {
     "data": {
      "text/plain": [
       "[2, 1, 4, 3, 5]"
      ]
     },
     "execution_count": 62,
     "metadata": {},
     "output_type": "execute_result"
    }
   ],
   "source": [
    "import random\n",
    "data = [1, 2, 3, 4, 5]\n",
    "random.sample(data, len(data)) # 리스트의 항목을 무작위로 섞고 싶을 때"
   ]
  },
  {
   "cell_type": "code",
   "execution_count": 63,
   "id": "16b12939",
   "metadata": {
    "ExecuteTime": {
     "end_time": "2023-12-05T06:35:43.011848Z",
     "start_time": "2023-12-05T06:35:43.004761Z"
    }
   },
   "outputs": [
    {
     "data": {
      "text/plain": [
       "[1, 2]"
      ]
     },
     "execution_count": 63,
     "metadata": {},
     "output_type": "execute_result"
    }
   ],
   "source": [
    "random.sample(data, 2)"
   ]
  },
  {
   "cell_type": "markdown",
   "id": "5def9c87",
   "metadata": {},
   "source": [
    "## glob\n",
    "가끔 파일을 읽고 쓰는 기능이 있는 프로그램을 만들다 보면 특정 디렉터리에 있는 파일 이름 모두를 알아야 할 때가 있다. 이럴 때 사용하는 모듈이 바로 glob이다.\n",
    "\n"
   ]
  },
  {
   "cell_type": "markdown",
   "id": "d8cf4492",
   "metadata": {},
   "source": [
    "### 디렉토리에 있는 파일들을 리스트로 만들기 - glob(pathname)"
   ]
  },
  {
   "cell_type": "code",
   "execution_count": 67,
   "id": "166c0cc3",
   "metadata": {
    "ExecuteTime": {
     "end_time": "2023-12-05T06:38:27.642999Z",
     "start_time": "2023-12-05T06:38:27.638447Z"
    }
   },
   "outputs": [
    {
     "data": {
      "text/plain": [
       "['./00_마크다운_실습용.ipynb',\n",
       " './05_클래스&예외처리.ipynb',\n",
       " './JupyterNotebook_extension.ipynb',\n",
       " './새파일.txt',\n",
       " './03_코딩연습_전화번호프로그램_실습용.ipynb',\n",
       " './01_자료형과 변수.ipynb',\n",
       " './04_함수_입출력_연습문제.ipynb',\n",
       " './02_제어문.ipynb',\n",
       " './fruit.txt',\n",
       " './foo.txt',\n",
       " './04_함수+입출력.ipynb',\n",
       " './06_내장함수&라이브러리.ipynb',\n",
       " './test.txt',\n",
       " './coffee.py',\n",
       " './01_자료형_변수_연습문제_실습용.ipynb',\n",
       " './02_제어문_연습문제_실습용.ipynb']"
      ]
     },
     "execution_count": 67,
     "metadata": {},
     "output_type": "execute_result"
    }
   ],
   "source": [
    "import glob\n",
    "glob.glob(\"./*\")"
   ]
  },
  {
   "cell_type": "code",
   "execution_count": 68,
   "id": "a7ec7c44",
   "metadata": {
    "ExecuteTime": {
     "end_time": "2023-12-05T06:39:05.601444Z",
     "start_time": "2023-12-05T06:39:05.592268Z"
    }
   },
   "outputs": [
    {
     "data": {
      "text/plain": [
       "['./00_마크다운_실습용.ipynb',\n",
       " './05_클래스&예외처리.ipynb',\n",
       " './JupyterNotebook_extension.ipynb',\n",
       " './03_코딩연습_전화번호프로그램_실습용.ipynb',\n",
       " './01_자료형과 변수.ipynb',\n",
       " './04_함수_입출력_연습문제.ipynb',\n",
       " './02_제어문.ipynb',\n",
       " './04_함수+입출력.ipynb',\n",
       " './06_내장함수&라이브러리.ipynb',\n",
       " './01_자료형_변수_연습문제_실습용.ipynb',\n",
       " './02_제어문_연습문제_실습용.ipynb']"
      ]
     },
     "execution_count": 68,
     "metadata": {},
     "output_type": "execute_result"
    }
   ],
   "source": [
    "glob.glob(\"./*.ipynb\")"
   ]
  },
  {
   "cell_type": "code",
   "execution_count": 81,
   "id": "edba994e",
   "metadata": {
    "ExecuteTime": {
     "end_time": "2023-12-05T06:45:46.476803Z",
     "start_time": "2023-12-05T06:45:46.473129Z"
    }
   },
   "outputs": [
    {
     "name": "stdout",
     "output_type": "stream",
     "text": [
      "['00_마크다운_실습용', '05_클래스&예외처리', 'JupyterNotebook_extension', '새파일', '03_코딩연습_전화번호프로그램_실습용', '01_자료형과 변수', '04_함수_입출력_연습문제', '02_제어문', 'fruit', 'foo', '04_함수+입출력', '06_내장함수&라이브러리', 'test', 'coffee', '01_자료형_변수_연습문제_실습용', '02_제어문_연습문제_실습용']\n"
     ]
    }
   ],
   "source": [
    "# 파일명 추출하기\n",
    "file_list = glob.glob(\"*\")\n",
    "file_name = list(map(lambda x: x.split('.')[-2], file_list))\n",
    "print(file_name)"
   ]
  },
  {
   "cell_type": "markdown",
   "id": "b4272276",
   "metadata": {},
   "source": [
    "## pickle\n",
    "pickle은 객체의 형태를 그대로 유지하면서 파일에 저장하고 불러올 수 있게 하는 모듈"
   ]
  },
  {
   "cell_type": "markdown",
   "id": "5bfb3dc5",
   "metadata": {},
   "source": [
    "## os\n",
    "os 모듈은 환경 변수나 디렉터리, 파일 등의 OS 자원을 제어할 수 있게 해 주는 모듈이다.\n"
   ]
  },
  {
   "cell_type": "code",
   "execution_count": 82,
   "id": "40c87997",
   "metadata": {
    "ExecuteTime": {
     "end_time": "2023-12-05T06:48:33.879173Z",
     "start_time": "2023-12-05T06:48:33.871872Z"
    }
   },
   "outputs": [
    {
     "data": {
      "text/plain": [
       "environ{'__CFBundleIdentifier': 'com.apple.Terminal',\n",
       "        'TMPDIR': '/var/folders/gb/jqxp5nqd3dz14l_g216xwzdm0000gn/T/',\n",
       "        'XPC_FLAGS': '0x0',\n",
       "        'TERM': 'xterm-color',\n",
       "        'SSH_AUTH_SOCK': '/private/tmp/com.apple.launchd.DajX3bxgPZ/Listeners',\n",
       "        'XPC_SERVICE_NAME': '0',\n",
       "        'TERM_PROGRAM': 'Apple_Terminal',\n",
       "        'TERM_PROGRAM_VERSION': '452',\n",
       "        'TERM_SESSION_ID': '585D35A1-ACC6-4973-B124-892220E21F17',\n",
       "        'SHELL': '/bin/zsh',\n",
       "        'HOME': '/Users/junmin',\n",
       "        'LOGNAME': 'junmin',\n",
       "        'USER': 'junmin',\n",
       "        'PATH': '/opt/homebrew/bin:/Users/junmin/anaconda3/bin:/Users/junmin/anaconda3/condabin:/usr/local/bin:/System/Cryptexes/App/usr/bin:/usr/bin:/bin:/usr/sbin:/sbin:/var/run/com.apple.security.cryptexd/codex.system/bootstrap/usr/local/bin:/var/run/com.apple.security.cryptexd/codex.system/bootstrap/usr/bin:/var/run/com.apple.security.cryptexd/codex.system/bootstrap/usr/appleinternal/bin',\n",
       "        'SHLVL': '1',\n",
       "        'PWD': '/Users/junmin/Desktop/PM/EST_WASSUP/git_workspace',\n",
       "        'OLDPWD': '/Users/junmin/Desktop/PM/EST_WASSUP',\n",
       "        'CONDA_EXE': '/Users/junmin/anaconda3/bin/conda',\n",
       "        '_CE_M': '',\n",
       "        '_CE_CONDA': '',\n",
       "        'CONDA_PYTHON_EXE': '/Users/junmin/anaconda3/bin/python',\n",
       "        'CONDA_SHLVL': '1',\n",
       "        'CONDA_PREFIX': '/Users/junmin/anaconda3',\n",
       "        'CONDA_DEFAULT_ENV': 'base',\n",
       "        'CONDA_PROMPT_MODIFIER': '(base) ',\n",
       "        'LANG': 'ko_KR.UTF-8',\n",
       "        '_': '/Users/junmin/anaconda3/bin/jupyter',\n",
       "        'PYDEVD_USE_FRAME_EVAL': 'NO',\n",
       "        'JPY_PARENT_PID': '31751',\n",
       "        'CLICOLOR': '1',\n",
       "        'FORCE_COLOR': '1',\n",
       "        'CLICOLOR_FORCE': '1',\n",
       "        'PAGER': 'cat',\n",
       "        'GIT_PAGER': 'cat',\n",
       "        'MPLBACKEND': 'module://matplotlib_inline.backend_inline'}"
      ]
     },
     "execution_count": 82,
     "metadata": {},
     "output_type": "execute_result"
    }
   ],
   "source": [
    "import os\n",
    "os.environ"
   ]
  },
  {
   "cell_type": "markdown",
   "id": "2b3a8049",
   "metadata": {},
   "source": [
    "### os.getcwd()\n",
    "현재 자신의 디렉터리 위치를 리턴한다."
   ]
  },
  {
   "cell_type": "code",
   "execution_count": 84,
   "id": "e45c1dd5",
   "metadata": {
    "ExecuteTime": {
     "end_time": "2023-12-05T06:48:52.410943Z",
     "start_time": "2023-12-05T06:48:52.406601Z"
    }
   },
   "outputs": [
    {
     "data": {
      "text/plain": [
       "'/Users/junmin/Desktop/PM/EST_WASSUP/git_workspace/WASSUP/Python'"
      ]
     },
     "execution_count": 84,
     "metadata": {},
     "output_type": "execute_result"
    }
   ],
   "source": [
    "os.getcwd()"
   ]
  },
  {
   "cell_type": "code",
   "execution_count": 85,
   "id": "d6897a56",
   "metadata": {
    "ExecuteTime": {
     "end_time": "2023-12-05T06:49:39.341639Z",
     "start_time": "2023-12-05T06:49:39.331392Z"
    }
   },
   "outputs": [
    {
     "data": {
      "text/plain": [
       "['/Users/junmin/Desktop/PM/EST_WASSUP/git_workspace/WASSUP/Python/00_마크다운_실습용.ipynb',\n",
       " '/Users/junmin/Desktop/PM/EST_WASSUP/git_workspace/WASSUP/Python/05_클래스&예외처리.ipynb',\n",
       " '/Users/junmin/Desktop/PM/EST_WASSUP/git_workspace/WASSUP/Python/JupyterNotebook_extension.ipynb',\n",
       " '/Users/junmin/Desktop/PM/EST_WASSUP/git_workspace/WASSUP/Python/새파일.txt',\n",
       " '/Users/junmin/Desktop/PM/EST_WASSUP/git_workspace/WASSUP/Python/03_코딩연습_전화번호프로그램_실습용.ipynb',\n",
       " '/Users/junmin/Desktop/PM/EST_WASSUP/git_workspace/WASSUP/Python/01_자료형과 변수.ipynb',\n",
       " '/Users/junmin/Desktop/PM/EST_WASSUP/git_workspace/WASSUP/Python/04_함수_입출력_연습문제.ipynb',\n",
       " '/Users/junmin/Desktop/PM/EST_WASSUP/git_workspace/WASSUP/Python/02_제어문.ipynb',\n",
       " '/Users/junmin/Desktop/PM/EST_WASSUP/git_workspace/WASSUP/Python/fruit.txt',\n",
       " '/Users/junmin/Desktop/PM/EST_WASSUP/git_workspace/WASSUP/Python/foo.txt',\n",
       " '/Users/junmin/Desktop/PM/EST_WASSUP/git_workspace/WASSUP/Python/04_함수+입출력.ipynb',\n",
       " '/Users/junmin/Desktop/PM/EST_WASSUP/git_workspace/WASSUP/Python/06_내장함수&라이브러리.ipynb',\n",
       " '/Users/junmin/Desktop/PM/EST_WASSUP/git_workspace/WASSUP/Python/test.txt',\n",
       " '/Users/junmin/Desktop/PM/EST_WASSUP/git_workspace/WASSUP/Python/coffee.py',\n",
       " '/Users/junmin/Desktop/PM/EST_WASSUP/git_workspace/WASSUP/Python/01_자료형_변수_연습문제_실습용.ipynb',\n",
       " '/Users/junmin/Desktop/PM/EST_WASSUP/git_workspace/WASSUP/Python/02_제어문_연습문제_실습용.ipynb']"
      ]
     },
     "execution_count": 85,
     "metadata": {},
     "output_type": "execute_result"
    }
   ],
   "source": [
    "glob.glob(f'{os.getcwd()}/*')"
   ]
  },
  {
   "cell_type": "code",
   "execution_count": null,
   "id": "28156e40",
   "metadata": {},
   "outputs": [],
   "source": []
  }
 ],
 "metadata": {
  "kernelspec": {
   "display_name": "Python 3 (ipykernel)",
   "language": "python",
   "name": "python3"
  },
  "language_info": {
   "codemirror_mode": {
    "name": "ipython",
    "version": 3
   },
   "file_extension": ".py",
   "mimetype": "text/x-python",
   "name": "python",
   "nbconvert_exporter": "python",
   "pygments_lexer": "ipython3",
   "version": "3.11.5"
  },
  "toc": {
   "base_numbering": 1,
   "nav_menu": {},
   "number_sections": true,
   "sideBar": true,
   "skip_h1_title": false,
   "title_cell": "Table of Contents",
   "title_sidebar": "Contents",
   "toc_cell": false,
   "toc_position": {},
   "toc_section_display": true,
   "toc_window_display": false
  }
 },
 "nbformat": 4,
 "nbformat_minor": 5
}
