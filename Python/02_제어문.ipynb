{
 "cells": [
  {
   "cell_type": "markdown",
   "id": "869ff64f",
   "metadata": {},
   "source": [
    "# if 문"
   ]
  },
  {
   "cell_type": "markdown",
   "id": "e483553a",
   "metadata": {},
   "source": [
    "## 비교 연산자"
   ]
  },
  {
   "cell_type": "code",
   "execution_count": 1,
   "id": "bb645f69",
   "metadata": {
    "ExecuteTime": {
     "end_time": "2023-11-28T07:59:15.345654Z",
     "start_time": "2023-11-28T07:59:15.332444Z"
    }
   },
   "outputs": [
    {
     "data": {
      "text/plain": [
       "True"
      ]
     },
     "execution_count": 1,
     "metadata": {},
     "output_type": "execute_result"
    }
   ],
   "source": [
    "x = 3\n",
    "y = 2\n",
    "x > y"
   ]
  },
  {
   "cell_type": "code",
   "execution_count": 2,
   "id": "9868f7bb",
   "metadata": {
    "ExecuteTime": {
     "end_time": "2023-11-28T07:59:15.349753Z",
     "start_time": "2023-11-28T07:59:15.347266Z"
    }
   },
   "outputs": [
    {
     "data": {
      "text/plain": [
       "False"
      ]
     },
     "execution_count": 2,
     "metadata": {},
     "output_type": "execute_result"
    }
   ],
   "source": [
    "x == y"
   ]
  },
  {
   "cell_type": "code",
   "execution_count": 3,
   "id": "5dbd4a54",
   "metadata": {
    "ExecuteTime": {
     "end_time": "2023-11-28T07:59:15.352664Z",
     "start_time": "2023-11-28T07:59:15.350633Z"
    }
   },
   "outputs": [
    {
     "data": {
      "text/plain": [
       "True"
      ]
     },
     "execution_count": 3,
     "metadata": {},
     "output_type": "execute_result"
    }
   ],
   "source": [
    "x != y"
   ]
  },
  {
   "cell_type": "code",
   "execution_count": 4,
   "id": "fa46714b",
   "metadata": {
    "ExecuteTime": {
     "end_time": "2023-11-28T07:59:15.357284Z",
     "start_time": "2023-11-28T07:59:15.354181Z"
    }
   },
   "outputs": [
    {
     "name": "stdout",
     "output_type": "stream",
     "text": [
      "걸어가라\n"
     ]
    }
   ],
   "source": [
    "# 만약 3000원 이상의 돈을 가지고 있으면 택시를 타고 가고, 그렇지 않으면 걸어가라.\n",
    "\n",
    "money = 2000\n",
    "if money >= 3000:\n",
    "    print(\"택시를 타고 가라\")\n",
    "else:\n",
    "    print(\"걸어가라\")"
   ]
  },
  {
   "cell_type": "markdown",
   "id": "1bf5f106",
   "metadata": {},
   "source": [
    "## and, or, not"
   ]
  },
  {
   "cell_type": "code",
   "execution_count": 5,
   "id": "f2dc41ad",
   "metadata": {
    "ExecuteTime": {
     "end_time": "2023-11-28T07:59:15.360710Z",
     "start_time": "2023-11-28T07:59:15.358842Z"
    }
   },
   "outputs": [
    {
     "name": "stdout",
     "output_type": "stream",
     "text": [
      "택시를 타고 가라\n"
     ]
    }
   ],
   "source": [
    "# 돈이 3000원 이상 있거나 카드가 있다면 택시를 타고 가고, 그렇지 않으면 걸어가라.\n",
    "\n",
    "money = 2000\n",
    "card = True\n",
    "if money >= 3000 or card:\n",
    "    print(\"택시를 타고 가라\")\n",
    "else:\n",
    "    print(\"걸어가라\")"
   ]
  },
  {
   "cell_type": "markdown",
   "id": "9c04ef76",
   "metadata": {},
   "source": [
    "## in, not in\n",
    "- x in 리스트, 튜플, 문자열"
   ]
  },
  {
   "cell_type": "code",
   "execution_count": 6,
   "id": "eaa7019a",
   "metadata": {
    "ExecuteTime": {
     "end_time": "2023-11-28T07:59:15.363885Z",
     "start_time": "2023-11-28T07:59:15.361962Z"
    }
   },
   "outputs": [
    {
     "data": {
      "text/plain": [
       "True"
      ]
     },
     "execution_count": 6,
     "metadata": {},
     "output_type": "execute_result"
    }
   ],
   "source": [
    "1 in [1, 2, 3] # '리스트 안에 1이 있는가?' 라는 조건문"
   ]
  },
  {
   "cell_type": "code",
   "execution_count": 7,
   "id": "48c726a1",
   "metadata": {
    "ExecuteTime": {
     "end_time": "2023-11-28T07:59:15.366963Z",
     "start_time": "2023-11-28T07:59:15.364754Z"
    }
   },
   "outputs": [
    {
     "data": {
      "text/plain": [
       "False"
      ]
     },
     "execution_count": 7,
     "metadata": {},
     "output_type": "execute_result"
    }
   ],
   "source": [
    "1 not in [1, 2, 3]"
   ]
  },
  {
   "cell_type": "code",
   "execution_count": 8,
   "id": "1b2a2c6f",
   "metadata": {
    "ExecuteTime": {
     "end_time": "2023-11-28T07:59:15.369728Z",
     "start_time": "2023-11-28T07:59:15.367732Z"
    }
   },
   "outputs": [
    {
     "name": "stdout",
     "output_type": "stream",
     "text": [
      "택시를 타고 가라\n"
     ]
    }
   ],
   "source": [
    "# 만약 주머니에 돈이 있으면 택시를 타고 가고, 없으면 걸어가라.\n",
    "\n",
    "pocket = ['paper', 'cellphone', 'money']\n",
    "\n",
    "if 'money' in pocket:\n",
    "    print(\"택시를 타고 가라\")\n",
    "else:\n",
    "    print(\"걸어가라\")"
   ]
  },
  {
   "cell_type": "code",
   "execution_count": 9,
   "id": "8022e92a",
   "metadata": {
    "ExecuteTime": {
     "end_time": "2023-11-28T07:59:15.372900Z",
     "start_time": "2023-11-28T07:59:15.371215Z"
    }
   },
   "outputs": [],
   "source": [
    "# 조건문에서 아무 일도 하지 않게 설정하고 싶다면? --> pass\n",
    "pocket = ['paper', 'money', 'cellphone']\n",
    "if 'money' in pocket:\n",
    "    pass\n",
    "else:\n",
    "    print(\"카드를 꺼내라\")"
   ]
  },
  {
   "cell_type": "markdown",
   "id": "813ee309",
   "metadata": {
    "ExecuteTime": {
     "end_time": "2023-11-28T00:41:49.481054Z",
     "start_time": "2023-11-28T00:41:49.476565Z"
    }
   },
   "source": [
    "## elif: 다양한 조건을 판단\n",
    "- elif는 이전 조건문이 거짓일 때 수행된다. "
   ]
  },
  {
   "cell_type": "code",
   "execution_count": 10,
   "id": "0c4f49db",
   "metadata": {
    "ExecuteTime": {
     "end_time": "2023-11-28T07:59:15.377060Z",
     "start_time": "2023-11-28T07:59:15.375017Z"
    }
   },
   "outputs": [
    {
     "name": "stdout",
     "output_type": "stream",
     "text": [
      "택시를 타고 가라\n"
     ]
    }
   ],
   "source": [
    "# 주머니에 돈이 있으면 택시를 타고 가고, 주머니에 돈은 없지만 카드가 있으면 택시를 타고 가고, 돈도 없고 카드도 없으면 걸어가라.\n",
    "pocket = ['paper', 'cellphone']\n",
    "card = True\n",
    "\n",
    "if 'money' in pocket:\n",
    "    print(\"택시를 타고 가라\")\n",
    "elif card:\n",
    "    print(\"택시를 타고 가라\")\n",
    "else:\n",
    "    print(\"걸어가라\")"
   ]
  },
  {
   "cell_type": "code",
   "execution_count": 11,
   "id": "04192b0d",
   "metadata": {
    "ExecuteTime": {
     "end_time": "2023-11-28T07:59:15.379331Z",
     "start_time": "2023-11-28T07:59:15.377729Z"
    }
   },
   "outputs": [],
   "source": [
    "# if문을 한 줄로 작성하기\n",
    "pocket = ['papaer', 'money', 'cellphone']\n",
    "if 'money' in pocket: pass\n",
    "else: print(\"카드를 꺼내라\")"
   ]
  },
  {
   "cell_type": "markdown",
   "id": "4c412c28",
   "metadata": {},
   "source": [
    "## 조건부 표현식"
   ]
  },
  {
   "cell_type": "code",
   "execution_count": 12,
   "id": "9014c471",
   "metadata": {
    "ExecuteTime": {
     "end_time": "2023-11-28T07:59:15.382081Z",
     "start_time": "2023-11-28T07:59:15.380033Z"
    }
   },
   "outputs": [
    {
     "name": "stdout",
     "output_type": "stream",
     "text": [
      "success\n"
     ]
    }
   ],
   "source": [
    "score = 80\n",
    "\n",
    "if score >= 60:\n",
    "    message = \"success\"\n",
    "else:\n",
    "    message = \"failure\"\n",
    "# ======================\n",
    "message = \"success\" if score >= 60 else \"failure\"\n",
    "\n",
    "print(message)"
   ]
  },
  {
   "cell_type": "markdown",
   "id": "22681ab3",
   "metadata": {},
   "source": [
    "# While문"
   ]
  },
  {
   "cell_type": "markdown",
   "id": "57641730",
   "metadata": {},
   "source": [
    "## while문의 기본구조"
   ]
  },
  {
   "cell_type": "code",
   "execution_count": 13,
   "id": "c1874b5a",
   "metadata": {
    "ExecuteTime": {
     "end_time": "2023-11-28T07:59:15.384793Z",
     "start_time": "2023-11-28T07:59:15.382837Z"
    }
   },
   "outputs": [
    {
     "name": "stdout",
     "output_type": "stream",
     "text": [
      "나무를 1번 찍었습니다.\n",
      "나무를 2번 찍었습니다.\n",
      "나무를 3번 찍었습니다.\n",
      "나무를 4번 찍었습니다.\n",
      "나무를 5번 찍었습니다.\n",
      "나무를 6번 찍었습니다.\n",
      "나무를 7번 찍었습니다.\n",
      "나무를 8번 찍었습니다.\n",
      "나무를 9번 찍었습니다.\n",
      "나무를 10번 찍었습니다.\n",
      "나무 넘어갑니다.\n"
     ]
    }
   ],
   "source": [
    "treeHit = 0\n",
    "while treeHit < 10:\n",
    "    treeHit += 1\n",
    "    print(\"나무를 %d번 찍었습니다.\"%treeHit)\n",
    "    if treeHit == 10:\n",
    "        print(\"나무 넘어갑니다.\")\n",
    "        "
   ]
  },
  {
   "cell_type": "code",
   "execution_count": 14,
   "id": "94edec3c",
   "metadata": {
    "ExecuteTime": {
     "end_time": "2023-11-28T07:59:15.391079Z",
     "start_time": "2023-11-28T07:59:15.386976Z"
    }
   },
   "outputs": [
    {
     "name": "stdout",
     "output_type": "stream",
     "text": [
      "나무를 1번 찍었습니다.\n",
      "나무를 2번 찍었습니다.\n",
      "나무를 3번 찍었습니다.\n",
      "나무를 4번 찍었습니다.\n",
      "나무를 5번 찍었습니다.\n",
      "나무를 6번 찍었습니다.\n",
      "나무를 7번 찍었습니다.\n",
      "나무를 8번 찍었습니다.\n",
      "나무를 9번 찍었습니다.\n",
      "나무를 10번 찍었습니다.\n",
      "나무 넘어갑니다.\n",
      "===============\n",
      "나무를 1번 찍었습니다.\n",
      "나무를 2번 찍었습니다.\n",
      "나무를 3번 찍었습니다.\n",
      "나무를 4번 찍었습니다.\n",
      "나무를 5번 찍었습니다.\n",
      "나무를 6번 찍었습니다.\n",
      "나무를 7번 찍었습니다.\n",
      "나무를 8번 찍었습니다.\n",
      "나무를 9번 찍었습니다.\n",
      "나무를 10번 찍었습니다.\n",
      "나무 넘어갑니다.\n"
     ]
    }
   ],
   "source": [
    "treeHit = 1\n",
    "while treeHit <= 10:\n",
    "    print(\"나무를 %d번 찍었습니다.\"%treeHit)\n",
    "    if treeHit == 10:\n",
    "        print(\"나무 넘어갑니다.\")\n",
    "    treeHit += 1\n",
    "    \n",
    "print(\"=\"*15)\n",
    "treeHit = 1\n",
    "while treeHit <= 10:\n",
    "    print(\"나무를 %d번 찍었습니다.\"%treeHit)\n",
    "    treeHit += 1\n",
    "\n",
    "print(\"나무 넘어갑니다.\")"
   ]
  },
  {
   "cell_type": "markdown",
   "id": "c00659f8",
   "metadata": {},
   "source": [
    "## while문 만들기"
   ]
  },
  {
   "cell_type": "code",
   "execution_count": 15,
   "id": "314800d5",
   "metadata": {
    "ExecuteTime": {
     "end_time": "2023-11-28T07:59:15.393467Z",
     "start_time": "2023-11-28T07:59:15.391953Z"
    }
   },
   "outputs": [],
   "source": [
    "prompt = \"\"\"\n",
    "1. Add\n",
    "2. Del\n",
    "3. List\n",
    "4. Quit\n",
    "\n",
    "Enter number: \"\"\""
   ]
  },
  {
   "cell_type": "code",
   "execution_count": 16,
   "id": "68d7c695",
   "metadata": {
    "ExecuteTime": {
     "end_time": "2023-11-28T07:59:21.229154Z",
     "start_time": "2023-11-28T07:59:15.394233Z"
    }
   },
   "outputs": [
    {
     "name": "stdout",
     "output_type": "stream",
     "text": [
      "\n",
      "1. Add\n",
      "2. Del\n",
      "3. List\n",
      "4. Quit\n",
      "\n",
      "Enter number: \n",
      "1\n",
      "\n",
      "1. Add\n",
      "2. Del\n",
      "3. List\n",
      "4. Quit\n",
      "\n",
      "Enter number: \n",
      "2\n",
      "\n",
      "1. Add\n",
      "2. Del\n",
      "3. List\n",
      "4. Quit\n",
      "\n",
      "Enter number: \n",
      "3\n",
      "\n",
      "1. Add\n",
      "2. Del\n",
      "3. List\n",
      "4. Quit\n",
      "\n",
      "Enter number: \n",
      "4\n"
     ]
    }
   ],
   "source": [
    "number = 0\n",
    "while number != 4:\n",
    "    print(prompt)\n",
    "    number = int(input())"
   ]
  },
  {
   "cell_type": "markdown",
   "id": "173fce65",
   "metadata": {},
   "source": [
    "## break: while문 강제로 빠져나가기"
   ]
  },
  {
   "cell_type": "code",
   "execution_count": 17,
   "id": "2eb2cc03",
   "metadata": {
    "ExecuteTime": {
     "end_time": "2023-11-28T07:59:21.235822Z",
     "start_time": "2023-11-28T07:59:21.230834Z"
    }
   },
   "outputs": [
    {
     "name": "stdout",
     "output_type": "stream",
     "text": [
      "돈을 받았으니 커피를 줍니다.\n",
      "남은 커피의 양은 9개 입니다.\n",
      "돈을 받았으니 커피를 줍니다.\n",
      "남은 커피의 양은 8개 입니다.\n",
      "돈을 받았으니 커피를 줍니다.\n",
      "남은 커피의 양은 7개 입니다.\n",
      "돈을 받았으니 커피를 줍니다.\n",
      "남은 커피의 양은 6개 입니다.\n",
      "돈을 받았으니 커피를 줍니다.\n",
      "남은 커피의 양은 5개 입니다.\n",
      "돈을 받았으니 커피를 줍니다.\n",
      "남은 커피의 양은 4개 입니다.\n",
      "돈을 받았으니 커피를 줍니다.\n",
      "남은 커피의 양은 3개 입니다.\n",
      "돈을 받았으니 커피를 줍니다.\n",
      "남은 커피의 양은 2개 입니다.\n",
      "돈을 받았으니 커피를 줍니다.\n",
      "남은 커피의 양은 1개 입니다.\n",
      "돈을 받았으니 커피를 줍니다.\n",
      "남은 커피의 양은 0개 입니다.\n",
      "커피가 다 떨어졌습니다. 판매를 중지합니다.\n"
     ]
    }
   ],
   "source": [
    "coffee = 10\n",
    "money = 300\n",
    "while money:\n",
    "    print(\"돈을 받았으니 커피를 줍니다.\")\n",
    "    coffee -= 1\n",
    "    print(f\"남은 커피의 양은 {coffee}개 입니다.\")\n",
    "    if coffee == 0:\n",
    "        print(\"커피가 다 떨어졌습니다. 판매를 중지합니다.\")\n",
    "        break"
   ]
  },
  {
   "cell_type": "code",
   "execution_count": 18,
   "id": "72f94f96",
   "metadata": {
    "ExecuteTime": {
     "end_time": "2023-11-28T07:59:39.035339Z",
     "start_time": "2023-11-28T07:59:21.238575Z"
    }
   },
   "outputs": [
    {
     "name": "stdout",
     "output_type": "stream",
     "text": [
      "돈을 넣어 주세요: 500\n",
      "거스름돈 200를 주고 커피를 줍니다.\n",
      "돈을 넣어 주세요: 500\n",
      "거스름돈 200를 주고 커피를 줍니다.\n",
      "돈을 넣어 주세요: 500\n",
      "거스름돈 200를 주고 커피를 줍니다.\n",
      "돈을 넣어 주세요: 500\n",
      "거스름돈 200를 주고 커피를 줍니다.\n",
      "돈을 넣어 주세요: 500\n",
      "거스름돈 200를 주고 커피를 줍니다.\n",
      "돈을 넣어 주세요: 500\n",
      "거스름돈 200를 주고 커피를 줍니다.\n",
      "돈을 넣어 주세요: 500\n",
      "거스름돈 200를 주고 커피를 줍니다.\n",
      "돈을 넣어 주세요: 500\n",
      "거스름돈 200를 주고 커피를 줍니다.\n",
      "돈을 넣어 주세요: 500\n",
      "거스름돈 200를 주고 커피를 줍니다.\n",
      "돈을 넣어 주세요: 100\n",
      "돈을 다시 돌려주고 커피를 주지 않습니다. \n",
      "남은 커피의 양은 1개 입니다.\n",
      "돈을 넣어 주세요: 800\n",
      "거스름돈 500를 주고 커피를 줍니다.\n",
      "커피가 다 떨어졌습니다. 판매를 중지합니다. \n"
     ]
    }
   ],
   "source": [
    "coffee = 10\n",
    "while True:\n",
    "    money = int(input(\"돈을 넣어 주세요: \"))\n",
    "    if money == 300:\n",
    "        print(\"커피를 줍니다.\")\n",
    "        coffee -= 1\n",
    "    elif money > 300:\n",
    "        print(f\"거스름돈 {money-300}를 주고 커피를 줍니다.\")\n",
    "        coffee -= 1\n",
    "    else:\n",
    "        print(\"돈을 다시 돌려주고 커피를 주지 않습니다. \")\n",
    "        print(f\"남은 커피의 양은 {coffee}개 입니다.\")\n",
    "    if coffee == 0:\n",
    "        print(\"커피가 다 떨어졌습니다. 판매를 중지합니다. \")\n",
    "        break"
   ]
  },
  {
   "cell_type": "markdown",
   "id": "4a1944a8",
   "metadata": {},
   "source": [
    "## continue: while문의 맨 처음으로 돌아가기"
   ]
  },
  {
   "cell_type": "code",
   "execution_count": 19,
   "id": "b623691e",
   "metadata": {
    "ExecuteTime": {
     "end_time": "2023-11-28T07:59:39.045444Z",
     "start_time": "2023-11-28T07:59:39.037790Z"
    }
   },
   "outputs": [
    {
     "name": "stdout",
     "output_type": "stream",
     "text": [
      "1\n",
      "3\n",
      "5\n",
      "7\n",
      "9\n"
     ]
    }
   ],
   "source": [
    "a = 0\n",
    "while a < 10:\n",
    "    a += 1\n",
    "    if a % 2 == 0: continue\n",
    "    print(a)"
   ]
  },
  {
   "cell_type": "code",
   "execution_count": 20,
   "id": "4a2edabd",
   "metadata": {
    "ExecuteTime": {
     "end_time": "2023-11-28T07:59:39.054086Z",
     "start_time": "2023-11-28T07:59:39.048176Z"
    }
   },
   "outputs": [
    {
     "name": "stdout",
     "output_type": "stream",
     "text": [
      "1\n",
      "3\n",
      "5\n",
      "7\n",
      "9\n"
     ]
    }
   ],
   "source": [
    "a = 1\n",
    "while a < 10:\n",
    "    if a % 2 == 0: \n",
    "        a += 1\n",
    "        continue\n",
    "    print(a)\n",
    "    a += 1"
   ]
  },
  {
   "cell_type": "markdown",
   "id": "885c9570",
   "metadata": {},
   "source": [
    "## while문 무한 루프"
   ]
  },
  {
   "cell_type": "code",
   "execution_count": 21,
   "id": "3b947e95",
   "metadata": {
    "ExecuteTime": {
     "end_time": "2023-11-28T07:59:39.058204Z",
     "start_time": "2023-11-28T07:59:39.056208Z"
    }
   },
   "outputs": [],
   "source": [
    "# while True:\n",
    "#     print(\"cmd+c를 눌러야 while문을 빠져나갈 수 있습니다.\")"
   ]
  },
  {
   "cell_type": "code",
   "execution_count": 22,
   "id": "0aa93e27",
   "metadata": {
    "ExecuteTime": {
     "end_time": "2023-11-28T07:59:39.061815Z",
     "start_time": "2023-11-28T07:59:39.059514Z"
    }
   },
   "outputs": [
    {
     "name": "stdout",
     "output_type": "stream",
     "text": [
      "1\n",
      "3\n",
      "5\n",
      "7\n",
      "9\n"
     ]
    }
   ],
   "source": [
    "a = 1\n",
    "while a < 10:\n",
    "    if a % 2 == 0: a += 1; continue\n",
    "    print(a)\n",
    "    a += 1"
   ]
  },
  {
   "cell_type": "markdown",
   "id": "35925b33",
   "metadata": {},
   "source": [
    "# for문"
   ]
  },
  {
   "cell_type": "code",
   "execution_count": 23,
   "id": "b13ce14e",
   "metadata": {
    "ExecuteTime": {
     "end_time": "2023-11-28T07:59:39.064964Z",
     "start_time": "2023-11-28T07:59:39.062821Z"
    }
   },
   "outputs": [
    {
     "name": "stdout",
     "output_type": "stream",
     "text": [
      "one\n",
      "two\n",
      "three\n"
     ]
    }
   ],
   "source": [
    "test_list = ['one', 'two', 'three']\n",
    "for i in test_list:\n",
    "    print(i)"
   ]
  },
  {
   "cell_type": "code",
   "execution_count": 24,
   "id": "e1d205f6",
   "metadata": {
    "ExecuteTime": {
     "end_time": "2023-11-28T07:59:39.068709Z",
     "start_time": "2023-11-28T07:59:39.065975Z"
    }
   },
   "outputs": [
    {
     "name": "stdout",
     "output_type": "stream",
     "text": [
      "3\n",
      "7\n",
      "11\n"
     ]
    }
   ],
   "source": [
    "a = [(1, 2), (3, 4), (5, 6)]\n",
    "for (first, last) in a:\n",
    "    print(first + last)"
   ]
  },
  {
   "cell_type": "code",
   "execution_count": 25,
   "id": "0c55419d",
   "metadata": {
    "ExecuteTime": {
     "end_time": "2023-11-28T07:59:39.074287Z",
     "start_time": "2023-11-28T07:59:39.070219Z"
    }
   },
   "outputs": [
    {
     "name": "stdout",
     "output_type": "stream",
     "text": [
      "1번 학생 합격\n",
      "2번 학생 불합격\n",
      "3번 학생 합격\n",
      "4번 학생 불합격\n",
      "5번 학생 합격\n"
     ]
    }
   ],
   "source": [
    "# 총 5명의 학생이 시험을 보았는데 시험 점수가 60점 이상이면 합격이고 그렇지 않으면 불합격이다. 합격인지, 불합격인지 결과를 보여 주시오.\n",
    "marks = [90, 25, 67, 45, 80]\n",
    "num = 0\n",
    "for mark in marks:\n",
    "    num += 1\n",
    "    if mark >= 60: print(f\"{num}번 학생 합격\")\n",
    "    else: print(f\"{num}번 학생 불합격\")"
   ]
  },
  {
   "cell_type": "markdown",
   "id": "b381faae",
   "metadata": {},
   "source": [
    "## continue 문"
   ]
  },
  {
   "cell_type": "code",
   "execution_count": 26,
   "id": "6c87011c",
   "metadata": {
    "ExecuteTime": {
     "end_time": "2023-11-28T07:59:39.079410Z",
     "start_time": "2023-11-28T07:59:39.076141Z"
    }
   },
   "outputs": [
    {
     "name": "stdout",
     "output_type": "stream",
     "text": [
      "1번 학생 축하. 합격.\n",
      "3번 학생 축하. 합격.\n",
      "5번 학생 축하. 합격.\n"
     ]
    }
   ],
   "source": [
    "marks = [90, 25, 67, 45, 80]\n",
    "\n",
    "num = 0\n",
    "for mark in marks:\n",
    "    num += 1\n",
    "    if mark < 60:\n",
    "        continue\n",
    "    else:\n",
    "        print(f\"{num}번 학생 축하. 합격.\")"
   ]
  },
  {
   "cell_type": "markdown",
   "id": "21bf1d43",
   "metadata": {},
   "source": [
    "## range 함수"
   ]
  },
  {
   "cell_type": "code",
   "execution_count": 27,
   "id": "c1cfc23b",
   "metadata": {
    "ExecuteTime": {
     "end_time": "2023-11-28T07:59:39.084318Z",
     "start_time": "2023-11-28T07:59:39.081267Z"
    }
   },
   "outputs": [
    {
     "data": {
      "text/plain": [
       "range(0, 10)"
      ]
     },
     "execution_count": 27,
     "metadata": {},
     "output_type": "execute_result"
    }
   ],
   "source": [
    "a = range(10) # 객체를 생성해주는 것\n",
    "a # range 객체"
   ]
  },
  {
   "cell_type": "code",
   "execution_count": 28,
   "id": "6316dfe2",
   "metadata": {
    "ExecuteTime": {
     "end_time": "2023-11-28T07:59:39.092692Z",
     "start_time": "2023-11-28T07:59:39.089612Z"
    }
   },
   "outputs": [
    {
     "data": {
      "text/plain": [
       "range(1, 11)"
      ]
     },
     "execution_count": 28,
     "metadata": {},
     "output_type": "execute_result"
    }
   ],
   "source": [
    "a = range(1, 11)\n",
    "a"
   ]
  },
  {
   "cell_type": "code",
   "execution_count": 29,
   "id": "1e619281",
   "metadata": {
    "ExecuteTime": {
     "end_time": "2023-11-28T07:59:39.095659Z",
     "start_time": "2023-11-28T07:59:39.093784Z"
    }
   },
   "outputs": [
    {
     "name": "stdout",
     "output_type": "stream",
     "text": [
      "55\n"
     ]
    }
   ],
   "source": [
    "add = 0\n",
    "for i in range(1, 11):\n",
    "    add += i\n",
    "print(add)"
   ]
  },
  {
   "cell_type": "code",
   "execution_count": 30,
   "id": "640d9dd2",
   "metadata": {
    "ExecuteTime": {
     "end_time": "2023-11-28T07:59:39.098591Z",
     "start_time": "2023-11-28T07:59:39.096527Z"
    }
   },
   "outputs": [
    {
     "name": "stdout",
     "output_type": "stream",
     "text": [
      "1번 학생 축하. 합격\n",
      "3번 학생 축하. 합격\n",
      "5번 학생 축하. 합격\n"
     ]
    }
   ],
   "source": [
    "marks = [90, 25, 67, 45, 80]\n",
    "for num in range(len(marks)):\n",
    "    if marks[num] < 60:\n",
    "        continue\n",
    "    else:\n",
    "        print(f\"{num+1}번 학생 축하. 합격\")"
   ]
  },
  {
   "cell_type": "code",
   "execution_count": 31,
   "id": "57f99da0",
   "metadata": {
    "ExecuteTime": {
     "end_time": "2023-11-28T07:59:39.102502Z",
     "start_time": "2023-11-28T07:59:39.099656Z"
    }
   },
   "outputs": [
    {
     "name": "stdout",
     "output_type": "stream",
     "text": [
      "1 2 3 4 5 6 7 8 9 \n",
      "2 4 6 8 10 12 14 16 18 \n",
      "3 6 9 12 15 18 21 24 27 \n",
      "4 8 12 16 20 24 28 32 36 \n",
      "5 10 15 20 25 30 35 40 45 \n",
      "6 12 18 24 30 36 42 48 54 \n",
      "7 14 21 28 35 42 49 56 63 \n",
      "8 16 24 32 40 48 56 64 72 \n",
      "9 18 27 36 45 54 63 72 81 \n"
     ]
    }
   ],
   "source": [
    "for i in range(1, 10):\n",
    "    for j in range(1, 10):\n",
    "        print(i * j, end=\" \")\n",
    "    print('')"
   ]
  },
  {
   "cell_type": "markdown",
   "id": "54bfa5c0",
   "metadata": {},
   "source": [
    "## 리스트 컴프리헨션"
   ]
  },
  {
   "cell_type": "code",
   "execution_count": 3,
   "id": "4b4ae576",
   "metadata": {
    "ExecuteTime": {
     "end_time": "2023-11-29T00:14:09.372200Z",
     "start_time": "2023-11-29T00:14:09.368063Z"
    }
   },
   "outputs": [
    {
     "data": {
      "text/plain": [
       "[3, 6, 9, 12]"
      ]
     },
     "execution_count": 3,
     "metadata": {},
     "output_type": "execute_result"
    }
   ],
   "source": [
    "a = [1, 2, 3, 4]\n",
    "result = [num * 3 for num in a]\n",
    "result"
   ]
  },
  {
   "cell_type": "code",
   "execution_count": 4,
   "id": "5a3afdb4",
   "metadata": {
    "ExecuteTime": {
     "end_time": "2023-11-29T00:14:36.923916Z",
     "start_time": "2023-11-29T00:14:36.919380Z"
    }
   },
   "outputs": [
    {
     "data": {
      "text/plain": [
       "[6, 12]"
      ]
     },
     "execution_count": 4,
     "metadata": {},
     "output_type": "execute_result"
    }
   ],
   "source": [
    "result = [num * 3 for num in a if num % 2 == 0]\n",
    "result"
   ]
  },
  {
   "cell_type": "code",
   "execution_count": 5,
   "id": "e63dd3f8",
   "metadata": {
    "ExecuteTime": {
     "end_time": "2023-11-29T00:15:13.380586Z",
     "start_time": "2023-11-29T00:15:13.371456Z"
    }
   },
   "outputs": [
    {
     "data": {
      "text/plain": [
       "[2,\n",
       " 4,\n",
       " 6,\n",
       " 8,\n",
       " 10,\n",
       " 12,\n",
       " 14,\n",
       " 16,\n",
       " 18,\n",
       " 3,\n",
       " 6,\n",
       " 9,\n",
       " 12,\n",
       " 15,\n",
       " 18,\n",
       " 21,\n",
       " 24,\n",
       " 27,\n",
       " 4,\n",
       " 8,\n",
       " 12,\n",
       " 16,\n",
       " 20,\n",
       " 24,\n",
       " 28,\n",
       " 32,\n",
       " 36,\n",
       " 5,\n",
       " 10,\n",
       " 15,\n",
       " 20,\n",
       " 25,\n",
       " 30,\n",
       " 35,\n",
       " 40,\n",
       " 45,\n",
       " 6,\n",
       " 12,\n",
       " 18,\n",
       " 24,\n",
       " 30,\n",
       " 36,\n",
       " 42,\n",
       " 48,\n",
       " 54,\n",
       " 7,\n",
       " 14,\n",
       " 21,\n",
       " 28,\n",
       " 35,\n",
       " 42,\n",
       " 49,\n",
       " 56,\n",
       " 63,\n",
       " 8,\n",
       " 16,\n",
       " 24,\n",
       " 32,\n",
       " 40,\n",
       " 48,\n",
       " 56,\n",
       " 64,\n",
       " 72,\n",
       " 9,\n",
       " 18,\n",
       " 27,\n",
       " 36,\n",
       " 45,\n",
       " 54,\n",
       " 63,\n",
       " 72,\n",
       " 81]"
      ]
     },
     "execution_count": 5,
     "metadata": {},
     "output_type": "execute_result"
    }
   ],
   "source": [
    "result = [x*y for x in range(2, 10) for y in range(1, 10)]\n",
    "result"
   ]
  },
  {
   "cell_type": "markdown",
   "id": "629d781d",
   "metadata": {
    "ExecuteTime": {
     "end_time": "2023-11-29T00:48:27.286662Z",
     "start_time": "2023-11-29T00:48:27.280018Z"
    }
   },
   "source": [
    "### 리스트헨션 컴프리헨션 퍼포먼스"
   ]
  },
  {
   "cell_type": "code",
   "execution_count": 7,
   "id": "edf9dc80",
   "metadata": {
    "ExecuteTime": {
     "end_time": "2023-11-29T00:51:12.436565Z",
     "start_time": "2023-11-29T00:51:12.338706Z"
    }
   },
   "outputs": [
    {
     "name": "stdout",
     "output_type": "stream",
     "text": [
      "List comprehension time:  0.038349151611328125\n",
      "For loop time:  0.05245614051818848\n"
     ]
    }
   ],
   "source": [
    "import time\n",
    "\n",
    "start = time.time()\n",
    "numbers = [i for i in range(1000000)]\n",
    "end = time.time()\n",
    "print(\"List comprehension time: \", end - start)\n",
    "\n",
    "start = time.time()\n",
    "numbers = []\n",
    "for i in range(1000000):\n",
    "    numbers.append(i)\n",
    "end = time.time()\n",
    "print(\"For loop time: \", end-start)"
   ]
  },
  {
   "cell_type": "code",
   "execution_count": 2,
   "id": "f464b525",
   "metadata": {
    "ExecuteTime": {
     "end_time": "2023-11-29T01:05:17.834302Z",
     "start_time": "2023-11-29T01:05:10.881496Z"
    }
   },
   "outputs": [
    {
     "name": "stdout",
     "output_type": "stream",
     "text": [
      "List Comprehension Time: 2.485833168029785\n",
      "For loop Time: 4.460748195648193\n"
     ]
    }
   ],
   "source": [
    "import time\n",
    "\n",
    "start = time.time() \n",
    "numbers = [i for i in range(100000000)] \n",
    "end = time.time() \n",
    "print('List Comprehension Time:', end-start)\n",
    "\n",
    "start = time.time() \n",
    "numbers = []\n",
    "for i in range(100000000):\n",
    "    numbers.append(i)\n",
    "end = time.time() \n",
    "print('For loop Time:', end-start)"
   ]
  },
  {
   "cell_type": "code",
   "execution_count": null,
   "id": "53397c41",
   "metadata": {},
   "outputs": [],
   "source": []
  }
 ],
 "metadata": {
  "kernelspec": {
   "display_name": "Python 3 (ipykernel)",
   "language": "python",
   "name": "python3"
  },
  "language_info": {
   "codemirror_mode": {
    "name": "ipython",
    "version": 3
   },
   "file_extension": ".py",
   "mimetype": "text/x-python",
   "name": "python",
   "nbconvert_exporter": "python",
   "pygments_lexer": "ipython3",
   "version": "3.11.5"
  },
  "toc": {
   "base_numbering": 1,
   "nav_menu": {},
   "number_sections": true,
   "sideBar": true,
   "skip_h1_title": false,
   "title_cell": "Table of Contents",
   "title_sidebar": "Contents",
   "toc_cell": false,
   "toc_position": {
    "height": "calc(100% - 180px)",
    "left": "10px",
    "top": "150px",
    "width": "165px"
   },
   "toc_section_display": true,
   "toc_window_display": true
  }
 },
 "nbformat": 4,
 "nbformat_minor": 5
}
