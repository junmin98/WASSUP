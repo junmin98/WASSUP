{
 "cells": [
  {
   "cell_type": "code",
   "execution_count": 1,
   "id": "47542c21",
   "metadata": {
    "ExecuteTime": {
     "end_time": "2023-12-14T06:10:28.233269Z",
     "start_time": "2023-12-14T06:10:28.219575Z"
    }
   },
   "outputs": [],
   "source": [
    "import warnings\n",
    "# 경고메시지 숨기기\n",
    "# warnings.filterwarnings(action='ignore')"
   ]
  },
  {
   "cell_type": "markdown",
   "id": "10f47d6d",
   "metadata": {},
   "source": [
    "# Numpy 개요\n",
    "http://www.numpy.org"
   ]
  },
  {
   "cell_type": "code",
   "execution_count": 2,
   "id": "1f1c00ad",
   "metadata": {
    "ExecuteTime": {
     "end_time": "2023-12-14T06:12:00.331153Z",
     "start_time": "2023-12-14T06:12:00.323227Z"
    }
   },
   "outputs": [
    {
     "data": {
      "text/plain": [
       "'1.24.3'"
      ]
     },
     "execution_count": 2,
     "metadata": {},
     "output_type": "execute_result"
    }
   ],
   "source": [
    "import numpy as np\n",
    "np.__version__"
   ]
  },
  {
   "cell_type": "markdown",
   "id": "e34519d6",
   "metadata": {
    "ExecuteTime": {
     "end_time": "2023-12-14T06:12:16.542489Z",
     "start_time": "2023-12-14T06:12:16.537741Z"
    }
   },
   "source": [
    "# 넘파이 배열 이해하기"
   ]
  },
  {
   "cell_type": "markdown",
   "id": "91e6af53",
   "metadata": {},
   "source": [
    "## ndim(dimension, rank)\n",
    "- 몇 차원인지 반환"
   ]
  },
  {
   "cell_type": "code",
   "execution_count": 4,
   "id": "8be41d81",
   "metadata": {
    "ExecuteTime": {
     "end_time": "2023-12-14T06:16:18.504435Z",
     "start_time": "2023-12-14T06:16:18.497513Z"
    }
   },
   "outputs": [
    {
     "data": {
      "text/plain": [
       "(array(0), 0, numpy.ndarray)"
      ]
     },
     "execution_count": 4,
     "metadata": {},
     "output_type": "execute_result"
    }
   ],
   "source": [
    "a = np.array(0) # scalar\n",
    "a, a.ndim, type(a)"
   ]
  },
  {
   "cell_type": "code",
   "execution_count": 5,
   "id": "8da7255b",
   "metadata": {
    "ExecuteTime": {
     "end_time": "2023-12-14T06:19:56.795759Z",
     "start_time": "2023-12-14T06:19:56.778441Z"
    }
   },
   "outputs": [
    {
     "data": {
      "text/plain": [
       "(array([2, 4, 6]), 1, numpy.ndarray)"
      ]
     },
     "execution_count": 5,
     "metadata": {},
     "output_type": "execute_result"
    }
   ],
   "source": [
    "a = np.array([2, 4, 6])\n",
    "a, a.ndim, type(a)"
   ]
  },
  {
   "cell_type": "code",
   "execution_count": 6,
   "id": "74c1a363",
   "metadata": {
    "ExecuteTime": {
     "end_time": "2023-12-14T06:20:17.851695Z",
     "start_time": "2023-12-14T06:20:17.847043Z"
    }
   },
   "outputs": [
    {
     "data": {
      "text/plain": [
       "(array([[1, 2, 3],\n",
       "        [4, 5, 6]]),\n",
       " 2,\n",
       " numpy.ndarray)"
      ]
     },
     "execution_count": 6,
     "metadata": {},
     "output_type": "execute_result"
    }
   ],
   "source": [
    "a = np.array( [[1,2,3], [4,5,6]] )\n",
    "a, a.ndim, type(a)"
   ]
  },
  {
   "cell_type": "code",
   "execution_count": 7,
   "id": "9210bb3d",
   "metadata": {
    "ExecuteTime": {
     "end_time": "2023-12-14T06:20:34.603295Z",
     "start_time": "2023-12-14T06:20:34.598284Z"
    }
   },
   "outputs": [
    {
     "data": {
      "text/plain": [
       "[[1, 2, 3], [4, 5, 6]]"
      ]
     },
     "execution_count": 7,
     "metadata": {},
     "output_type": "execute_result"
    }
   ],
   "source": [
    "a = [[1,2,3], [4,5,6]]\n",
    "a"
   ]
  },
  {
   "cell_type": "code",
   "execution_count": 8,
   "id": "c9dc89d1",
   "metadata": {
    "ExecuteTime": {
     "end_time": "2023-12-14T06:20:51.556123Z",
     "start_time": "2023-12-14T06:20:51.549759Z"
    }
   },
   "outputs": [
    {
     "data": {
      "text/plain": [
       "(array([[[1, 2, 3],\n",
       "         [4, 5, 6]],\n",
       " \n",
       "        [[1, 2, 3],\n",
       "         [4, 5, 6]]]),\n",
       " 3,\n",
       " numpy.ndarray)"
      ]
     },
     "execution_count": 8,
     "metadata": {},
     "output_type": "execute_result"
    }
   ],
   "source": [
    "a = np.array( [ [[1,2,3], [4,5,6]], [[1,2,3], [4,5,6]] ] )\n",
    "a, a.ndim, type(a)"
   ]
  },
  {
   "cell_type": "code",
   "execution_count": 9,
   "id": "8d4443a0",
   "metadata": {
    "ExecuteTime": {
     "end_time": "2023-12-14T06:21:46.279102Z",
     "start_time": "2023-12-14T06:21:46.270701Z"
    }
   },
   "outputs": [
    {
     "data": {
      "text/plain": [
       "(2, 2, 3)"
      ]
     },
     "execution_count": 9,
     "metadata": {},
     "output_type": "execute_result"
    }
   ],
   "source": [
    "a.shape # depth, row, col"
   ]
  },
  {
   "cell_type": "markdown",
   "id": "8a168d62",
   "metadata": {
    "ExecuteTime": {
     "end_time": "2023-12-14T06:24:11.085541Z",
     "start_time": "2023-12-14T06:24:11.078640Z"
    }
   },
   "source": [
    "## shape"
   ]
  },
  {
   "cell_type": "code",
   "execution_count": 13,
   "id": "1486ad8a",
   "metadata": {
    "ExecuteTime": {
     "end_time": "2023-12-14T06:24:59.303214Z",
     "start_time": "2023-12-14T06:24:59.297894Z"
    }
   },
   "outputs": [
    {
     "data": {
      "text/plain": [
       "(array(3), ())"
      ]
     },
     "execution_count": 13,
     "metadata": {},
     "output_type": "execute_result"
    }
   ],
   "source": [
    "a = np.array(3)\n",
    "a, a.shape"
   ]
  },
  {
   "cell_type": "code",
   "execution_count": 14,
   "id": "b9f4c104",
   "metadata": {
    "ExecuteTime": {
     "end_time": "2023-12-14T06:25:08.421178Z",
     "start_time": "2023-12-14T06:25:08.416673Z"
    }
   },
   "outputs": [
    {
     "data": {
      "text/plain": [
       "(array([3]), (1,))"
      ]
     },
     "execution_count": 14,
     "metadata": {},
     "output_type": "execute_result"
    }
   ],
   "source": [
    "a = np.array([3])\n",
    "a, a.shape"
   ]
  },
  {
   "cell_type": "code",
   "execution_count": 15,
   "id": "bb692d4d",
   "metadata": {
    "ExecuteTime": {
     "end_time": "2023-12-14T06:25:20.075132Z",
     "start_time": "2023-12-14T06:25:20.070898Z"
    }
   },
   "outputs": [
    {
     "data": {
      "text/plain": [
       "(array([1, 3, 5, 7, 9]), (5,))"
      ]
     },
     "execution_count": 15,
     "metadata": {},
     "output_type": "execute_result"
    }
   ],
   "source": [
    "a = np.array([ 1, 3, 5, 7, 9 ])\n",
    "a, a.shape"
   ]
  },
  {
   "cell_type": "code",
   "execution_count": 16,
   "id": "42f6677e",
   "metadata": {
    "ExecuteTime": {
     "end_time": "2023-12-14T06:25:27.305291Z",
     "start_time": "2023-12-14T06:25:27.300799Z"
    }
   },
   "outputs": [
    {
     "data": {
      "text/plain": [
       "(array([[1, 2, 3],\n",
       "        [4, 5, 6]]),\n",
       " (2, 3))"
      ]
     },
     "execution_count": 16,
     "metadata": {},
     "output_type": "execute_result"
    }
   ],
   "source": [
    "a = np.array([[1,2,3], [4,5,6]])\n",
    "a, a.shape"
   ]
  },
  {
   "cell_type": "code",
   "execution_count": 17,
   "id": "1f697f36",
   "metadata": {
    "ExecuteTime": {
     "end_time": "2023-12-14T06:25:39.306436Z",
     "start_time": "2023-12-14T06:25:39.300214Z"
    }
   },
   "outputs": [
    {
     "data": {
      "text/plain": [
       "(array([[[0, 0, 0, 0],\n",
       "         [0, 0, 0, 0],\n",
       "         [0, 0, 0, 0]],\n",
       " \n",
       "        [[0, 0, 0, 0],\n",
       "         [0, 0, 0, 0],\n",
       "         [0, 0, 0, 0]]]),\n",
       " (2, 3, 4))"
      ]
     },
     "execution_count": 17,
     "metadata": {},
     "output_type": "execute_result"
    }
   ],
   "source": [
    "a = np.array([[[0, 0, 0, 0], [0, 0, 0, 0], [0, 0, 0, 0]], \n",
    "              [[0, 0, 0, 0], [0, 0, 0, 0], [0, 0, 0, 0]]])\n",
    "a, a.shape # 2개의 3행 4열"
   ]
  },
  {
   "cell_type": "markdown",
   "id": "d0d0f1a7",
   "metadata": {},
   "source": [
    "## size"
   ]
  },
  {
   "cell_type": "code",
   "execution_count": 18,
   "id": "4d4fdc99",
   "metadata": {
    "ExecuteTime": {
     "end_time": "2023-12-14T06:31:10.996849Z",
     "start_time": "2023-12-14T06:31:10.987775Z"
    }
   },
   "outputs": [
    {
     "data": {
      "text/plain": [
       "5"
      ]
     },
     "execution_count": 18,
     "metadata": {},
     "output_type": "execute_result"
    }
   ],
   "source": [
    "a = np.array([1, 3, 5, 7, 9])\n",
    "a.size"
   ]
  },
  {
   "cell_type": "code",
   "execution_count": 19,
   "id": "6f4d5821",
   "metadata": {
    "ExecuteTime": {
     "end_time": "2023-12-14T06:31:46.669332Z",
     "start_time": "2023-12-14T06:31:46.661181Z"
    }
   },
   "outputs": [
    {
     "data": {
      "text/plain": [
       "6"
      ]
     },
     "execution_count": 19,
     "metadata": {},
     "output_type": "execute_result"
    }
   ],
   "source": [
    "a = np.array([[1,2,3], [4, 5, 6]])\n",
    "a.size"
   ]
  },
  {
   "cell_type": "markdown",
   "id": "b0dc3434",
   "metadata": {},
   "source": [
    "## 넘파이 배열"
   ]
  },
  {
   "cell_type": "code",
   "execution_count": 20,
   "id": "ef23dd2a",
   "metadata": {
    "ExecuteTime": {
     "end_time": "2023-12-14T06:32:59.224706Z",
     "start_time": "2023-12-14T06:32:59.217365Z"
    }
   },
   "outputs": [
    {
     "name": "stdout",
     "output_type": "stream",
     "text": [
      "[10, 56, 77, 23, 44] <class 'list'> 5\n"
     ]
    }
   ],
   "source": [
    "myList = [10, 56, 77, 23, 44]\n",
    "print(myList, type(myList), len(myList))"
   ]
  },
  {
   "cell_type": "code",
   "execution_count": 21,
   "id": "6fe640cd",
   "metadata": {
    "ExecuteTime": {
     "end_time": "2023-12-14T06:33:11.580611Z",
     "start_time": "2023-12-14T06:33:11.570438Z"
    }
   },
   "outputs": [
    {
     "name": "stdout",
     "output_type": "stream",
     "text": [
      "[10 56 77 23 44] <class 'numpy.ndarray'> 5\n",
      "차원=1, 구조=(5,) 구조타입=<class 'tuple'>, size=5\n"
     ]
    }
   ],
   "source": [
    "myArr = np.array(myList)\n",
    "print(myArr, type(myArr), len(myArr))\n",
    "print(f'차원={myArr.ndim}, 구조={myArr.shape} 구조타입={type(myArr.shape)}, size={myArr.size}')"
   ]
  },
  {
   "cell_type": "code",
   "execution_count": 22,
   "id": "aeca6dc0",
   "metadata": {
    "ExecuteTime": {
     "end_time": "2023-12-14T06:34:13.262400Z",
     "start_time": "2023-12-14T06:34:13.253219Z"
    }
   },
   "outputs": [
    {
     "data": {
      "text/plain": [
       "array([10, 56, 77, 23, 44])"
      ]
     },
     "execution_count": 22,
     "metadata": {},
     "output_type": "execute_result"
    }
   ],
   "source": [
    "myArr"
   ]
  },
  {
   "cell_type": "code",
   "execution_count": 23,
   "id": "725ab1b4",
   "metadata": {
    "ExecuteTime": {
     "end_time": "2023-12-14T06:35:22.697412Z",
     "start_time": "2023-12-14T06:35:22.688372Z"
    }
   },
   "outputs": [
    {
     "data": {
      "text/plain": [
       "([[1, 2, 3], [10, 20, 30], [100, 200, 300]], 3)"
      ]
     },
     "execution_count": 23,
     "metadata": {},
     "output_type": "execute_result"
    }
   ],
   "source": [
    "# 2차원 리스트 객체(이터러블)\n",
    "myList2 = [[1,2,3],[10,20,30],[100,200,300]]\n",
    "myList2, len(myList2)"
   ]
  },
  {
   "cell_type": "code",
   "execution_count": 24,
   "id": "15a6d80f",
   "metadata": {
    "ExecuteTime": {
     "end_time": "2023-12-14T06:35:37.159725Z",
     "start_time": "2023-12-14T06:35:37.154067Z"
    }
   },
   "outputs": [
    {
     "name": "stdout",
     "output_type": "stream",
     "text": [
      "[[  1   2   3]\n",
      " [ 10  20  30]\n",
      " [100 200 300]] <class 'numpy.ndarray'> 3\n",
      "차원= 2, 구조 = (3, 3) 구조타입 = <class 'tuple'>, size = 9\n"
     ]
    }
   ],
   "source": [
    "myArr2 = np.array(myList2)\n",
    "print(myArr2, type(myArr2), len(myArr2))\n",
    "print(f'차원= {myArr2.ndim}, 구조 = {myArr2.shape} 구조타입 = {type(myArr2.shape)}, size = {myArr2.size}')"
   ]
  },
  {
   "cell_type": "code",
   "execution_count": 25,
   "id": "385540b9",
   "metadata": {
    "ExecuteTime": {
     "end_time": "2023-12-14T06:36:33.062278Z",
     "start_time": "2023-12-14T06:36:33.051769Z"
    }
   },
   "outputs": [
    {
     "name": "stdout",
     "output_type": "stream",
     "text": [
      "[[1, 2, 3, 4], [10, 20, 30, 40, 50], [100, 200]] <class 'list'> 3\n"
     ]
    }
   ],
   "source": [
    "# 2차원 리스트에서 각 행의 수가 다를 경우? 리스트는 상관이 없음\n",
    "myList21 = [ [1,2,3,4],[10, 20 ,30, 40, 50],[100, 200, ]]\n",
    "print(myList21, type(myList21), len(myList21))"
   ]
  },
  {
   "cell_type": "code",
   "execution_count": 26,
   "id": "23cd9566",
   "metadata": {
    "ExecuteTime": {
     "end_time": "2023-12-14T06:37:03.257112Z",
     "start_time": "2023-12-14T06:37:03.216786Z"
    }
   },
   "outputs": [
    {
     "ename": "ValueError",
     "evalue": "setting an array element with a sequence. The requested array has an inhomogeneous shape after 1 dimensions. The detected shape was (3,) + inhomogeneous part.",
     "output_type": "error",
     "traceback": [
      "\u001b[0;31m---------------------------------------------------------------------------\u001b[0m",
      "\u001b[0;31mValueError\u001b[0m                                Traceback (most recent call last)",
      "Cell \u001b[0;32mIn[26], line 2\u001b[0m\n\u001b[1;32m      1\u001b[0m \u001b[38;5;66;03m# 길이가 달라 에러 리턴\u001b[39;00m\n\u001b[0;32m----> 2\u001b[0m myArr21 \u001b[38;5;241m=\u001b[39m np\u001b[38;5;241m.\u001b[39marray(myList21)\n\u001b[1;32m      3\u001b[0m \u001b[38;5;28mprint\u001b[39m(myArr21, \u001b[38;5;28mtype\u001b[39m(myArr21), \u001b[38;5;28mlen\u001b[39m(myArr21))\n\u001b[1;32m      4\u001b[0m \u001b[38;5;28mprint\u001b[39m(\u001b[38;5;124mf\u001b[39m\u001b[38;5;124m'\u001b[39m\u001b[38;5;124m차원= \u001b[39m\u001b[38;5;132;01m{\u001b[39;00mmyArr21\u001b[38;5;241m.\u001b[39mndim\u001b[38;5;132;01m}\u001b[39;00m\u001b[38;5;124m, 구조 = \u001b[39m\u001b[38;5;132;01m{\u001b[39;00mmyArr21\u001b[38;5;241m.\u001b[39mshape\u001b[38;5;132;01m}\u001b[39;00m\u001b[38;5;124m 구조타입 = \u001b[39m\u001b[38;5;132;01m{\u001b[39;00m\u001b[38;5;28mtype\u001b[39m(myArr21\u001b[38;5;241m.\u001b[39mshape)\u001b[38;5;132;01m}\u001b[39;00m\u001b[38;5;124m, size = \u001b[39m\u001b[38;5;132;01m{\u001b[39;00mmyArr21\u001b[38;5;241m.\u001b[39msize\u001b[38;5;132;01m}\u001b[39;00m\u001b[38;5;124m'\u001b[39m)\n",
      "\u001b[0;31mValueError\u001b[0m: setting an array element with a sequence. The requested array has an inhomogeneous shape after 1 dimensions. The detected shape was (3,) + inhomogeneous part."
     ]
    }
   ],
   "source": [
    "# 길이가 달라 에러 리턴 -> 행렬이 아니니까 에러\n",
    "myArr21 = np.array(myList21)\n",
    "print(myArr21, type(myArr21), len(myArr21))\n",
    "print(f'차원= {myArr21.ndim}, 구조 = {myArr21.shape} 구조타입 = {type(myArr21.shape)}, size = {myArr21.size}')"
   ]
  },
  {
   "cell_type": "markdown",
   "id": "634de4ab",
   "metadata": {
    "ExecuteTime": {
     "end_time": "2023-12-14T06:38:20.115796Z",
     "start_time": "2023-12-14T06:38:20.089049Z"
    }
   },
   "source": [
    "## 넘파이 배열과 리스트와의 차이점\n",
    "- 배열 간의 연산 가능. \"브로드캐스팅\", 요소별 연산 (element-wise)\n",
    "- 넘파이 메서드 사용 가능: 평균, 상관계수, 분산, 표준편차 등\n",
    "- 리스트는 자료형 혼합 가능, 넘파이배열은 하나의 자료형만 가능"
   ]
  },
  {
   "cell_type": "code",
   "execution_count": null,
   "id": "2454216c",
   "metadata": {
    "ExecuteTime": {
     "end_time": "2023-12-14T06:39:29.766773Z",
     "start_time": "2023-12-14T06:39:29.737302Z"
    }
   },
   "outputs": [],
   "source": [
    "# 리스트의 산술연산자 +, * \n",
    "listA = [10, 30, 50]\n",
    "listB = [1, 2, 3]\n",
    "print(listA + listB) # 리스트의 + 연산자는 조인역할\n",
    "print(listA + 2) # 불가"
   ]
  },
  {
   "cell_type": "code",
   "execution_count": null,
   "id": "2202a598",
   "metadata": {
    "ExecuteTime": {
     "end_time": "2023-12-14T06:39:56.130896Z",
     "start_time": "2023-12-14T06:39:56.091260Z"
    }
   },
   "outputs": [],
   "source": [
    "print(listA * 2) # 해당 리스트의 반복\n",
    "print(listA * listB) # 불가"
   ]
  },
  {
   "cell_type": "code",
   "execution_count": 30,
   "id": "caad4a6a",
   "metadata": {
    "ExecuteTime": {
     "end_time": "2023-12-14T06:40:26.537627Z",
     "start_time": "2023-12-14T06:40:26.525154Z"
    }
   },
   "outputs": [
    {
     "name": "stdout",
     "output_type": "stream",
     "text": [
      "[3 4 5]\n",
      "[2 4 6]\n"
     ]
    }
   ],
   "source": [
    "# 넘파이의 산술연산\n",
    "arrA = np.array([1, 2, 3])\n",
    "print(arrA + 2)\n",
    "print(arrA * 2)"
   ]
  },
  {
   "cell_type": "code",
   "execution_count": 31,
   "id": "5e1a57f2",
   "metadata": {
    "ExecuteTime": {
     "end_time": "2023-12-14T06:42:16.115013Z",
     "start_time": "2023-12-14T06:42:16.101950Z"
    }
   },
   "outputs": [
    {
     "name": "stdout",
     "output_type": "stream",
     "text": [
      "[5 7 9]\n",
      "[ 4 10 18]\n",
      "[0.25 0.4  0.5 ]\n",
      "[0 0 0]\n",
      "[1 2 3]\n"
     ]
    }
   ],
   "source": [
    "arrB = np.array([4, 5, 6])\n",
    "print(arrA + arrB)\n",
    "print(arrA * arrB)\n",
    "print(arrA / arrB)\n",
    "print(arrA // arrB) # 몫\n",
    "print(arrA % arrB) # 나머지"
   ]
  },
  {
   "cell_type": "markdown",
   "id": "0a20c94b",
   "metadata": {},
   "source": [
    "## dtype"
   ]
  },
  {
   "cell_type": "code",
   "execution_count": 3,
   "id": "2deaae48",
   "metadata": {
    "ExecuteTime": {
     "end_time": "2023-12-15T04:18:18.468052Z",
     "start_time": "2023-12-15T04:18:18.240804Z"
    }
   },
   "outputs": [
    {
     "name": "stdout",
     "output_type": "stream",
     "text": [
      "['안녕', 100, 3.14, True, False]\n"
     ]
    }
   ],
   "source": [
    "import numpy as np\n",
    "# 자료형 테스트\n",
    "myList_c = ['안녕', 100, 3.14, True, False] # 리스트는 혼합된 형 그대로 유지\n",
    "print(myList_c)"
   ]
  },
  {
   "cell_type": "code",
   "execution_count": 4,
   "id": "411884b2",
   "metadata": {
    "ExecuteTime": {
     "end_time": "2023-12-15T04:18:19.298555Z",
     "start_time": "2023-12-15T04:18:19.291189Z"
    }
   },
   "outputs": [
    {
     "name": "stdout",
     "output_type": "stream",
     "text": [
      "['안녕' '100' '3.14' 'True' 'False'] <class 'numpy.ndarray'> <U32\n"
     ]
    }
   ],
   "source": [
    "myArr_c = np.array(myList_c) \n",
    "# 넘파이배열은 '문자열'로 통일 자동형변환\n",
    "print(myArr_c, type(myArr_c), myArr_c.dtype)"
   ]
  },
  {
   "cell_type": "code",
   "execution_count": 5,
   "id": "452dc380",
   "metadata": {
    "ExecuteTime": {
     "end_time": "2023-12-15T04:19:35.011578Z",
     "start_time": "2023-12-15T04:19:35.001229Z"
    }
   },
   "outputs": [
    {
     "name": "stdout",
     "output_type": "stream",
     "text": [
      "[100.     3.14  23.5    0.  ] <class 'numpy.ndarray'> float64\n"
     ]
    }
   ],
   "source": [
    "# 정수와 실수가 혼합된 넘파이 배열\n",
    "myArr_d = np.array([100, 3.14, 23.5, 0])\n",
    "print(myArr_d, type(myArr_d), myArr_d.dtype) \n",
    "# 정수와 실수 혼합시, 더 큰 실수형으로 통일 자동형변환"
   ]
  },
  {
   "cell_type": "markdown",
   "id": "2b3777fd",
   "metadata": {},
   "source": [
    "## Inf와 NaN\n",
    "- inf: 무한대\n",
    "- NaN: 정의할 수 없는 숫자 (Not A Number)"
   ]
  },
  {
   "cell_type": "code",
   "execution_count": 6,
   "id": "0cb32b35",
   "metadata": {
    "ExecuteTime": {
     "end_time": "2023-12-15T04:28:16.104449Z",
     "start_time": "2023-12-15T04:28:16.088157Z"
    }
   },
   "outputs": [
    {
     "name": "stderr",
     "output_type": "stream",
     "text": [
      "/var/folders/gb/jqxp5nqd3dz14l_g216xwzdm0000gn/T/ipykernel_36494/1536815541.py:1: RuntimeWarning: divide by zero encountered in divide\n",
      "  np.array([0, 1, -1, 0]) / np.array([1, 0, 0, 0])\n",
      "/var/folders/gb/jqxp5nqd3dz14l_g216xwzdm0000gn/T/ipykernel_36494/1536815541.py:1: RuntimeWarning: invalid value encountered in divide\n",
      "  np.array([0, 1, -1, 0]) / np.array([1, 0, 0, 0])\n"
     ]
    },
    {
     "data": {
      "text/plain": [
       "array([  0.,  inf, -inf,  nan])"
      ]
     },
     "execution_count": 6,
     "metadata": {},
     "output_type": "execute_result"
    }
   ],
   "source": [
    "np.array([0, 1, -1, 0]) / np.array([1, 0, 0, 0])"
   ]
  },
  {
   "cell_type": "code",
   "execution_count": 7,
   "id": "4ea753d5",
   "metadata": {
    "ExecuteTime": {
     "end_time": "2023-12-15T04:28:48.612077Z",
     "start_time": "2023-12-15T04:28:48.602001Z"
    }
   },
   "outputs": [
    {
     "name": "stderr",
     "output_type": "stream",
     "text": [
      "/var/folders/gb/jqxp5nqd3dz14l_g216xwzdm0000gn/T/ipykernel_36494/2933082444.py:1: RuntimeWarning: divide by zero encountered in log\n",
      "  np.log(0)\n"
     ]
    },
    {
     "data": {
      "text/plain": [
       "-inf"
      ]
     },
     "execution_count": 7,
     "metadata": {},
     "output_type": "execute_result"
    }
   ],
   "source": [
    "np.log(0)"
   ]
  },
  {
   "cell_type": "code",
   "execution_count": 8,
   "id": "55a8c438",
   "metadata": {
    "ExecuteTime": {
     "end_time": "2023-12-15T04:28:54.490030Z",
     "start_time": "2023-12-15T04:28:54.482098Z"
    }
   },
   "outputs": [
    {
     "data": {
      "text/plain": [
       "0.0"
      ]
     },
     "execution_count": 8,
     "metadata": {},
     "output_type": "execute_result"
    }
   ],
   "source": [
    "np.exp(-np.inf)"
   ]
  },
  {
   "cell_type": "markdown",
   "id": "407444bc",
   "metadata": {
    "ExecuteTime": {
     "end_time": "2023-12-15T04:31:21.659120Z",
     "start_time": "2023-12-15T04:31:21.649421Z"
    }
   },
   "source": [
    "## 기술통계"
   ]
  },
  {
   "cell_type": "code",
   "execution_count": 10,
   "id": "35e41b39",
   "metadata": {
    "ExecuteTime": {
     "end_time": "2023-12-15T04:34:48.283966Z",
     "start_time": "2023-12-15T04:34:48.254286Z"
    }
   },
   "outputs": [],
   "source": [
    "x = np.array([18,   5,  10,  23,  19,  -8,  10,   0,   0,   5,   2,  15,   8,\n",
    "              2,   5,   4,  15,  -1,   4,  -7, -24,   7,   9,  -6,  23, -13])"
   ]
  },
  {
   "cell_type": "code",
   "execution_count": 11,
   "id": "a9347d1c",
   "metadata": {
    "ExecuteTime": {
     "end_time": "2023-12-15T04:35:02.323478Z",
     "start_time": "2023-12-15T04:35:02.308877Z"
    }
   },
   "outputs": [
    {
     "data": {
      "text/plain": [
       "4.8076923076923075"
      ]
     },
     "execution_count": 11,
     "metadata": {},
     "output_type": "execute_result"
    }
   ],
   "source": [
    "# 평균\n",
    "np.mean(x)"
   ]
  },
  {
   "cell_type": "code",
   "execution_count": 12,
   "id": "65c1c791",
   "metadata": {
    "ExecuteTime": {
     "end_time": "2023-12-15T04:35:15.107320Z",
     "start_time": "2023-12-15T04:35:15.100724Z"
    }
   },
   "outputs": [
    {
     "data": {
      "text/plain": [
       "115.23224852071006"
      ]
     },
     "execution_count": 12,
     "metadata": {},
     "output_type": "execute_result"
    }
   ],
   "source": [
    "# 분산\n",
    "np.var(x)"
   ]
  },
  {
   "cell_type": "code",
   "execution_count": 13,
   "id": "5882517e",
   "metadata": {
    "ExecuteTime": {
     "end_time": "2023-12-15T04:35:26.893841Z",
     "start_time": "2023-12-15T04:35:26.888659Z"
    }
   },
   "outputs": [
    {
     "data": {
      "text/plain": [
       "10.734628476137871"
      ]
     },
     "execution_count": 13,
     "metadata": {},
     "output_type": "execute_result"
    }
   ],
   "source": [
    "# 표준편차\n",
    "np.std(x)"
   ]
  },
  {
   "cell_type": "code",
   "execution_count": 14,
   "id": "f545a31b",
   "metadata": {
    "ExecuteTime": {
     "end_time": "2023-12-15T04:35:38.427299Z",
     "start_time": "2023-12-15T04:35:38.422099Z"
    }
   },
   "outputs": [
    {
     "data": {
      "text/plain": [
       "23"
      ]
     },
     "execution_count": 14,
     "metadata": {},
     "output_type": "execute_result"
    }
   ],
   "source": [
    "# 최대값\n",
    "np.max(x)"
   ]
  },
  {
   "cell_type": "code",
   "execution_count": 16,
   "id": "5c4195db",
   "metadata": {
    "ExecuteTime": {
     "end_time": "2023-12-15T04:35:51.795477Z",
     "start_time": "2023-12-15T04:35:51.791664Z"
    }
   },
   "outputs": [
    {
     "data": {
      "text/plain": [
       "-24"
      ]
     },
     "execution_count": 16,
     "metadata": {},
     "output_type": "execute_result"
    }
   ],
   "source": [
    "# 최소값\n",
    "np.min(x)"
   ]
  },
  {
   "cell_type": "code",
   "execution_count": 17,
   "id": "3a3fceb8",
   "metadata": {
    "ExecuteTime": {
     "end_time": "2023-12-15T04:36:00.831529Z",
     "start_time": "2023-12-15T04:36:00.824036Z"
    }
   },
   "outputs": [
    {
     "data": {
      "text/plain": [
       "5.0"
      ]
     },
     "execution_count": 17,
     "metadata": {},
     "output_type": "execute_result"
    }
   ],
   "source": [
    "# 중앙값\n",
    "np.median(x)"
   ]
  },
  {
   "attachments": {
    "image.png": {
     "image/png": "[encoded data removed]"
    }
   },
   "cell_type": "markdown",
   "id": "3ff35deb",
   "metadata": {},
   "source": [
    "## 사분위수\n",
    "![image.png](attachment:image.png)"
   ]
  },
  {
   "cell_type": "code",
   "execution_count": 18,
   "id": "994e13ad",
   "metadata": {
    "ExecuteTime": {
     "end_time": "2023-12-15T04:39:58.203058Z",
     "start_time": "2023-12-15T04:39:58.182434Z"
    }
   },
   "outputs": [
    {
     "data": {
      "text/plain": [
       "-24.0"
      ]
     },
     "execution_count": 18,
     "metadata": {},
     "output_type": "execute_result"
    }
   ],
   "source": [
    "np.percentile(x, 0) # 최소값"
   ]
  },
  {
   "cell_type": "code",
   "execution_count": 20,
   "id": "9b8cb355",
   "metadata": {
    "ExecuteTime": {
     "end_time": "2023-12-15T04:40:19.198062Z",
     "start_time": "2023-12-15T04:40:19.193408Z"
    }
   },
   "outputs": [
    {
     "data": {
      "text/plain": [
       "23.0"
      ]
     },
     "execution_count": 20,
     "metadata": {},
     "output_type": "execute_result"
    }
   ],
   "source": [
    "np.percentile(x, 100) # 최대값"
   ]
  },
  {
   "cell_type": "code",
   "execution_count": 21,
   "id": "6ee892cb",
   "metadata": {
    "ExecuteTime": {
     "end_time": "2023-12-15T04:40:34.167965Z",
     "start_time": "2023-12-15T04:40:34.163666Z"
    }
   },
   "outputs": [
    {
     "data": {
      "text/plain": [
       "0.0"
      ]
     },
     "execution_count": 21,
     "metadata": {},
     "output_type": "execute_result"
    }
   ],
   "source": [
    "np.percentile(x, 25) # 1사분위 수"
   ]
  },
  {
   "cell_type": "code",
   "execution_count": 22,
   "id": "e2591769",
   "metadata": {
    "ExecuteTime": {
     "end_time": "2023-12-15T04:41:09.178138Z",
     "start_time": "2023-12-15T04:41:09.161089Z"
    }
   },
   "outputs": [
    {
     "data": {
      "text/plain": [
       "5.0"
      ]
     },
     "execution_count": 22,
     "metadata": {},
     "output_type": "execute_result"
    }
   ],
   "source": [
    "np.percentile(x, 50) # 2사분위 수"
   ]
  },
  {
   "cell_type": "code",
   "execution_count": 23,
   "id": "4d42de15",
   "metadata": {
    "ExecuteTime": {
     "end_time": "2023-12-15T04:41:20.807108Z",
     "start_time": "2023-12-15T04:41:20.802266Z"
    }
   },
   "outputs": [
    {
     "data": {
      "text/plain": [
       "10.0"
      ]
     },
     "execution_count": 23,
     "metadata": {},
     "output_type": "execute_result"
    }
   ],
   "source": [
    "np.percentile(x, 75) # 3사분위 수"
   ]
  },
  {
   "cell_type": "code",
   "execution_count": 25,
   "id": "20c9c798",
   "metadata": {
    "ExecuteTime": {
     "end_time": "2023-12-15T04:41:33.524604Z",
     "start_time": "2023-12-15T04:41:33.519984Z"
    }
   },
   "outputs": [
    {
     "data": {
      "text/plain": [
       "23.0"
      ]
     },
     "execution_count": 25,
     "metadata": {},
     "output_type": "execute_result"
    }
   ],
   "source": [
    "np.percentile(x, 100)  # 최댓값"
   ]
  },
  {
   "cell_type": "markdown",
   "id": "2d0a5903",
   "metadata": {},
   "source": [
    "## 넘파이 함수로 배열 만들기\n",
    "np.ones(n) , np.ones((x, y))   \n",
    "np.zeros(n) , np.zeros((x, y))   \n",
    "np.empty(n) , np.empty((x, y))   \n",
    "np.arange(start, end step)   \n",
    "\n",
    "reshape(x, y) # 차원 확대   \n",
    "flatten(x, y) # 차원 축소   "
   ]
  },
  {
   "cell_type": "code",
   "execution_count": 26,
   "id": "5d708531",
   "metadata": {
    "ExecuteTime": {
     "end_time": "2023-12-15T04:42:01.203503Z",
     "start_time": "2023-12-15T04:42:01.192645Z"
    }
   },
   "outputs": [
    {
     "name": "stdout",
     "output_type": "stream",
     "text": [
      "[1. 1. 1. 1. 1. 1. 1. 1. 1. 1.] float64\n"
     ]
    }
   ],
   "source": [
    "# 넘파이 함수로 배열을 만들때에는 디폴트가 실수형\n",
    "print(np.ones(10), np.ones(10).dtype) "
   ]
  },
  {
   "cell_type": "code",
   "execution_count": 27,
   "id": "4d72e7c3",
   "metadata": {
    "ExecuteTime": {
     "end_time": "2023-12-15T04:43:28.930296Z",
     "start_time": "2023-12-15T04:43:28.921947Z"
    }
   },
   "outputs": [
    {
     "name": "stdout",
     "output_type": "stream",
     "text": [
      "[[1. 1. 1. 1.]\n",
      " [1. 1. 1. 1.]] float64\n"
     ]
    }
   ],
   "source": [
    "print(np.ones((2,4)), np.ones((2,4)).dtype)"
   ]
  },
  {
   "cell_type": "code",
   "execution_count": 28,
   "id": "86347ec1",
   "metadata": {
    "ExecuteTime": {
     "end_time": "2023-12-15T04:43:53.738718Z",
     "start_time": "2023-12-15T04:43:53.731772Z"
    }
   },
   "outputs": [
    {
     "name": "stdout",
     "output_type": "stream",
     "text": [
      "[1 1 1 1 1 1 1 1 1 1] int64\n"
     ]
    }
   ],
   "source": [
    "print(np.ones(10, dtype = int), np.ones(10, dtype = int).dtype)"
   ]
  },
  {
   "cell_type": "code",
   "execution_count": 29,
   "id": "57e148e8",
   "metadata": {
    "ExecuteTime": {
     "end_time": "2023-12-15T04:44:35.151336Z",
     "start_time": "2023-12-15T04:44:35.145237Z"
    }
   },
   "outputs": [
    {
     "name": "stdout",
     "output_type": "stream",
     "text": [
      "[0. 0. 0. 0. 0. 0. 0. 0. 0. 0.] float64\n"
     ]
    }
   ],
   "source": [
    "print(np.zeros(10), np.zeros(10).dtype)"
   ]
  },
  {
   "cell_type": "code",
   "execution_count": 30,
   "id": "9cb26ea4",
   "metadata": {
    "ExecuteTime": {
     "end_time": "2023-12-15T04:44:58.730141Z",
     "start_time": "2023-12-15T04:44:58.722460Z"
    }
   },
   "outputs": [
    {
     "name": "stdout",
     "output_type": "stream",
     "text": [
      "[[0. 0. 0.]\n",
      " [0. 0. 0.]\n",
      " [0. 0. 0.]] float64\n"
     ]
    }
   ],
   "source": [
    "print(np.zeros((3,3)), np.zeros((3,3)).dtype)"
   ]
  },
  {
   "cell_type": "code",
   "execution_count": 35,
   "id": "d79fe4f7",
   "metadata": {
    "ExecuteTime": {
     "end_time": "2023-12-15T04:49:23.164261Z",
     "start_time": "2023-12-15T04:49:23.152337Z"
    }
   },
   "outputs": [
    {
     "name": "stdout",
     "output_type": "stream",
     "text": [
      "[0. 0. 0. 0. 0. 0. 0. 0. 0. 0.] float64\n",
      "[[0. 0. 0.]\n",
      " [0. 0. 0.]\n",
      " [0. 0. 0.]] float64\n",
      "[[0. 0. 0.]\n",
      " [0. 0. 0.]\n",
      " [0. 0. 0.]]\n",
      "[[0 0 0]\n",
      " [0 0 0]\n",
      " [0 0 0]]\n"
     ]
    }
   ],
   "source": [
    "# 메모리가 비어있음\n",
    "print(np.empty(10), np.empty(10).dtype)\n",
    "print(np.empty((3,3)), np.empty((3,3)).dtype)\n",
    "print(np.empty((3,3)))\n",
    "print(np.empty((3,3), dtype=int)) # empty인 경우, 원래 할당되어있는 메모리에 있는 값 출력"
   ]
  },
  {
   "cell_type": "code",
   "execution_count": 36,
   "id": "a16b8317",
   "metadata": {
    "ExecuteTime": {
     "end_time": "2023-12-15T05:01:51.105317Z",
     "start_time": "2023-12-15T05:01:51.090966Z"
    }
   },
   "outputs": [
    {
     "name": "stdout",
     "output_type": "stream",
     "text": [
      "[1, 2, 3, 4, 5, 6, 7, 8, 9, 10, 11, 12, 13, 14, 15, 16, 17, 18, 19, 20] <class 'list'>\n"
     ]
    }
   ],
   "source": [
    "print( list(range(1,21)), type(list(range(1,21))) )"
   ]
  },
  {
   "cell_type": "code",
   "execution_count": 37,
   "id": "ce256272",
   "metadata": {
    "ExecuteTime": {
     "end_time": "2023-12-15T05:02:08.187852Z",
     "start_time": "2023-12-15T05:02:08.170357Z"
    }
   },
   "outputs": [
    {
     "name": "stdout",
     "output_type": "stream",
     "text": [
      "[ 0  1  2  3  4  5  6  7  8  9 10 11 12 13 14 15 16 17 18 19] <class 'numpy.ndarray'>\n",
      "[ 1  2  3  4  5  6  7  8  9 10 11 12 13 14 15 16 17 18 19] <class 'numpy.ndarray'>\n",
      "[ 1  3  5  7  9 11 13 15 17 19] <class 'numpy.ndarray'>\n"
     ]
    }
   ],
   "source": [
    "print(np.arange(20), type(np.arange(20)))\n",
    "print(np.arange(1, 20), type(np.arange(1, 20)))\n",
    "print(np.arange(1, 20, 2), type(np.arange(1, 20,2)))"
   ]
  },
  {
   "cell_type": "code",
   "execution_count": 38,
   "id": "772f97ea",
   "metadata": {
    "ExecuteTime": {
     "end_time": "2023-12-15T05:02:35.288777Z",
     "start_time": "2023-12-15T05:02:35.280811Z"
    }
   },
   "outputs": [],
   "source": [
    "np.arange?"
   ]
  },
  {
   "cell_type": "code",
   "execution_count": 39,
   "id": "e8ab6283",
   "metadata": {
    "ExecuteTime": {
     "end_time": "2023-12-15T05:03:28.106663Z",
     "start_time": "2023-12-15T05:03:28.098393Z"
    }
   },
   "outputs": [
    {
     "name": "stdout",
     "output_type": "stream",
     "text": [
      "[ 0  1  2  3  4  5  6  7  8  9 10 11 12 13 14 15 16 17 18 19 20 21 22 23\n",
      " 24 25 26 27 28 29 30 31 32 33 34 35 36 37 38 39 40 41 42 43 44 45 46 47\n",
      " 48 49] 50 50\n"
     ]
    }
   ],
   "source": [
    "# 0~49까지 구성된 넘파이 배열\n",
    "arr = np.arange(50)\n",
    "print(arr, len(arr), arr.size)"
   ]
  },
  {
   "cell_type": "code",
   "execution_count": 40,
   "id": "8c57f232",
   "metadata": {
    "ExecuteTime": {
     "end_time": "2023-12-15T05:03:42.188808Z",
     "start_time": "2023-12-15T05:03:42.177861Z"
    }
   },
   "outputs": [
    {
     "data": {
      "text/plain": [
       "array([  0.,  25.,  50.,  75., 100.])"
      ]
     },
     "execution_count": 40,
     "metadata": {},
     "output_type": "execute_result"
    }
   ],
   "source": [
    "# linspace 명령이나 logspace 명령은 선형 구간 혹은 로그 구간을 지정한 구간의 수만큼 분할한다.\n",
    "np.linspace(0, 100, 5)  # 시작, 끝(포함), 갯수"
   ]
  },
  {
   "cell_type": "code",
   "execution_count": 41,
   "id": "43498bf6",
   "metadata": {
    "ExecuteTime": {
     "end_time": "2023-12-15T05:04:50.755942Z",
     "start_time": "2023-12-15T05:04:50.747305Z"
    }
   },
   "outputs": [
    {
     "data": {
      "text/plain": [
       "array([0.1 , 0.15, 0.2 , 0.25, 0.3 , 0.35, 0.4 , 0.45, 0.5 , 0.55, 0.6 ,\n",
       "       0.65, 0.7 , 0.75, 0.8 , 0.85, 0.9 , 0.95, 1.  ])"
      ]
     },
     "execution_count": 41,
     "metadata": {},
     "output_type": "execute_result"
    }
   ],
   "source": [
    "np.linspace(0.1, 1, 19)"
   ]
  },
  {
   "cell_type": "code",
   "execution_count": 42,
   "id": "80df3ae6",
   "metadata": {
    "ExecuteTime": {
     "end_time": "2023-12-15T05:05:03.334493Z",
     "start_time": "2023-12-15T05:05:03.327674Z"
    }
   },
   "outputs": [
    {
     "data": {
      "text/plain": [
       "array([ 1.25892541,  1.58489319,  1.99526231,  2.51188643,  3.16227766,\n",
       "        3.98107171,  5.01187234,  6.30957344,  7.94328235, 10.        ])"
      ]
     },
     "execution_count": 42,
     "metadata": {},
     "output_type": "execute_result"
    }
   ],
   "source": [
    "np.logspace(0.1, 1, 10)"
   ]
  },
  {
   "cell_type": "markdown",
   "id": "b9115f26",
   "metadata": {},
   "source": [
    "## reshape 구조의 재배열\n",
    "np.reshape(변경할 배열, 차원) 또는 배열.reshape(차원) 으로 사용 가능"
   ]
  },
  {
   "cell_type": "code",
   "execution_count": 43,
   "id": "20122521",
   "metadata": {
    "ExecuteTime": {
     "end_time": "2023-12-15T05:06:44.558319Z",
     "start_time": "2023-12-15T05:06:44.547874Z"
    }
   },
   "outputs": [
    {
     "data": {
      "text/plain": [
       "(array([ 0,  1,  2,  3,  4,  5,  6,  7,  8,  9, 10, 11, 12, 13, 14, 15, 16,\n",
       "        17, 18, 19, 20, 21, 22, 23, 24, 25, 26, 27, 28, 29, 30, 31, 32, 33,\n",
       "        34, 35, 36, 37, 38, 39, 40, 41, 42, 43, 44, 45, 46, 47, 48, 49]),\n",
       " 1,\n",
       " (50,))"
      ]
     },
     "execution_count": 43,
     "metadata": {},
     "output_type": "execute_result"
    }
   ],
   "source": [
    "arr, arr.ndim, arr.shape"
   ]
  },
  {
   "cell_type": "code",
   "execution_count": 44,
   "id": "8c3a083e",
   "metadata": {
    "ExecuteTime": {
     "end_time": "2023-12-15T05:07:18.501434Z",
     "start_time": "2023-12-15T05:07:18.493209Z"
    }
   },
   "outputs": [
    {
     "data": {
      "text/plain": [
       "(array([[ 0,  1,  2,  3,  4],\n",
       "        [ 5,  6,  7,  8,  9],\n",
       "        [10, 11, 12, 13, 14],\n",
       "        [15, 16, 17, 18, 19],\n",
       "        [20, 21, 22, 23, 24],\n",
       "        [25, 26, 27, 28, 29],\n",
       "        [30, 31, 32, 33, 34],\n",
       "        [35, 36, 37, 38, 39],\n",
       "        [40, 41, 42, 43, 44],\n",
       "        [45, 46, 47, 48, 49]]),\n",
       " 2,\n",
       " (10, 5))"
      ]
     },
     "execution_count": 44,
     "metadata": {},
     "output_type": "execute_result"
    }
   ],
   "source": [
    "arr = arr.reshape(10, 5)\n",
    "arr, arr.ndim, arr.shape"
   ]
  },
  {
   "cell_type": "code",
   "execution_count": 45,
   "id": "429de9e7",
   "metadata": {
    "ExecuteTime": {
     "end_time": "2023-12-15T05:08:01.887883Z",
     "start_time": "2023-12-15T05:08:01.882548Z"
    }
   },
   "outputs": [
    {
     "data": {
      "text/plain": [
       "(array([[ 0,  1,  2,  3,  4,  5,  6,  7,  8,  9],\n",
       "        [10, 11, 12, 13, 14, 15, 16, 17, 18, 19],\n",
       "        [20, 21, 22, 23, 24, 25, 26, 27, 28, 29],\n",
       "        [30, 31, 32, 33, 34, 35, 36, 37, 38, 39],\n",
       "        [40, 41, 42, 43, 44, 45, 46, 47, 48, 49]]),\n",
       " 2,\n",
       " (5, 10))"
      ]
     },
     "execution_count": 45,
     "metadata": {},
     "output_type": "execute_result"
    }
   ],
   "source": [
    "arr2 = arr.reshape(5, 10)\n",
    "arr2, arr2.ndim, arr2.shape"
   ]
  },
  {
   "cell_type": "code",
   "execution_count": 46,
   "id": "9109cbec",
   "metadata": {
    "ExecuteTime": {
     "end_time": "2023-12-15T05:10:01.842568Z",
     "start_time": "2023-12-15T05:10:01.827420Z"
    }
   },
   "outputs": [
    {
     "data": {
      "text/plain": [
       "(array([ 0,  1,  2,  3,  4,  5,  6,  7,  8,  9, 10, 11, 12, 13, 14, 15, 16,\n",
       "        17, 18, 19, 20, 21, 22, 23, 24, 25, 26, 27, 28, 29, 30, 31, 32, 33,\n",
       "        34, 35, 36, 37, 38, 39, 40, 41, 42, 43, 44, 45, 46, 47, 48, 49]),\n",
       " (50,),\n",
       " 1)"
      ]
     },
     "execution_count": 46,
     "metadata": {},
     "output_type": "execute_result"
    }
   ],
   "source": [
    "# 2차원 -> 1차원\n",
    "# 넘파이배열.flatten()\n",
    "arr3 = arr2.flatten()\n",
    "arr3, arr3.shape, arr3.ndim"
   ]
  },
  {
   "cell_type": "code",
   "execution_count": 47,
   "id": "664c8dc2",
   "metadata": {
    "ExecuteTime": {
     "end_time": "2023-12-15T05:11:03.274161Z",
     "start_time": "2023-12-15T05:11:03.266015Z"
    }
   },
   "outputs": [
    {
     "data": {
      "text/plain": [
       "array([  2,   4,   6,   8,  10,  12,  14,  16,  18,  20,  22,  24,  26,\n",
       "        28,  30,  32,  34,  36,  38,  40,  42,  44,  46,  48,  50,  52,\n",
       "        54,  56,  58,  60,  62,  64,  66,  68,  70,  72,  74,  76,  78,\n",
       "        80,  82,  84,  86,  88,  90,  92,  94,  96,  98, 100])"
      ]
     },
     "execution_count": 47,
     "metadata": {},
     "output_type": "execute_result"
    }
   ],
   "source": [
    "# 1~100 사이의 짝수로 된 넘파이 배열 생성\n",
    "np.arange(2,101,2)"
   ]
  },
  {
   "cell_type": "code",
   "execution_count": 48,
   "id": "ae581b49",
   "metadata": {
    "ExecuteTime": {
     "end_time": "2023-12-15T05:11:17.338203Z",
     "start_time": "2023-12-15T05:11:17.332586Z"
    }
   },
   "outputs": [
    {
     "name": "stdout",
     "output_type": "stream",
     "text": [
      "[[  2   4   6   8  10  12  14  16  18  20]\n",
      " [ 22  24  26  28  30  32  34  36  38  40]\n",
      " [ 42  44  46  48  50  52  54  56  58  60]\n",
      " [ 62  64  66  68  70  72  74  76  78  80]\n",
      " [ 82  84  86  88  90  92  94  96  98 100]]\n"
     ]
    }
   ],
   "source": [
    "print(np.arange(2,101,2).reshape(5,10))"
   ]
  },
  {
   "cell_type": "code",
   "execution_count": 49,
   "id": "f93dd1df",
   "metadata": {
    "ExecuteTime": {
     "end_time": "2023-12-15T05:11:47.784748Z",
     "start_time": "2023-12-15T05:11:47.778669Z"
    }
   },
   "outputs": [
    {
     "data": {
      "text/plain": [
       "(array([[ 1],\n",
       "        [ 2],\n",
       "        [ 3],\n",
       "        [ 4],\n",
       "        [ 5],\n",
       "        [ 6],\n",
       "        [ 7],\n",
       "        [ 8],\n",
       "        [ 9],\n",
       "        [10],\n",
       "        [11],\n",
       "        [12],\n",
       "        [13],\n",
       "        [14],\n",
       "        [15],\n",
       "        [16],\n",
       "        [17],\n",
       "        [18],\n",
       "        [19],\n",
       "        [20],\n",
       "        [21],\n",
       "        [22],\n",
       "        [23],\n",
       "        [24],\n",
       "        [25],\n",
       "        [26],\n",
       "        [27],\n",
       "        [28],\n",
       "        [29],\n",
       "        [30]]),\n",
       " 2,\n",
       " (30, 1))"
      ]
     },
     "execution_count": 49,
     "metadata": {},
     "output_type": "execute_result"
    }
   ],
   "source": [
    "# 2차원인데 1개 칼럼의 모형을 만들어보자\n",
    "# reshape(-1, n) : 2차원 n개의 컬럼으로 구성, -1을 넣으면 자동으로 사이즈를 맞춰준다.\n",
    "arr4 = np.arange(1, 31).reshape(-1, 1)\n",
    "arr4, arr4.ndim, arr4.shape"
   ]
  },
  {
   "cell_type": "code",
   "execution_count": 52,
   "id": "a95d91de",
   "metadata": {
    "ExecuteTime": {
     "end_time": "2023-12-15T05:17:02.557633Z",
     "start_time": "2023-12-15T05:17:02.552675Z"
    }
   },
   "outputs": [
    {
     "data": {
      "text/plain": [
       "array([[ 1,  2,  3,  4],\n",
       "       [ 5,  6,  7,  8],\n",
       "       [ 9, 10, 11, 12],\n",
       "       [13, 14, 15, 16],\n",
       "       [17, 18, 19, 20]])"
      ]
     },
     "execution_count": 52,
     "metadata": {},
     "output_type": "execute_result"
    }
   ],
   "source": [
    "a = np.arange(1, 21)\n",
    "a = a.reshape(5, 4)\n",
    "a"
   ]
  },
  {
   "cell_type": "code",
   "execution_count": 53,
   "id": "ca42b418",
   "metadata": {
    "ExecuteTime": {
     "end_time": "2023-12-15T05:18:07.018544Z",
     "start_time": "2023-12-15T05:18:07.011667Z"
    }
   },
   "outputs": [
    {
     "data": {
      "text/plain": [
       "array([[ 1,  2,  3,  4,  5],\n",
       "       [ 6,  7,  8,  9, 10],\n",
       "       [11, 12, 13, 14, 15],\n",
       "       [16, 17, 18, 19, 20]])"
      ]
     },
     "execution_count": 53,
     "metadata": {},
     "output_type": "execute_result"
    }
   ],
   "source": [
    "a.reshape(-1, 5)"
   ]
  },
  {
   "cell_type": "code",
   "execution_count": 54,
   "id": "7223fa19",
   "metadata": {
    "ExecuteTime": {
     "end_time": "2023-12-15T05:20:30.771142Z",
     "start_time": "2023-12-15T05:20:30.762103Z"
    }
   },
   "outputs": [
    {
     "data": {
      "text/plain": [
       "(array([ 0,  1,  2,  3,  4,  5,  6,  7,  8,  9, 10, 11]), (12,))"
      ]
     },
     "execution_count": 54,
     "metadata": {},
     "output_type": "execute_result"
    }
   ],
   "source": [
    "a = np.arange(12)\n",
    "a, a.shape"
   ]
  },
  {
   "cell_type": "code",
   "execution_count": 55,
   "id": "cfa3c9cd",
   "metadata": {
    "ExecuteTime": {
     "end_time": "2023-12-15T05:20:39.920498Z",
     "start_time": "2023-12-15T05:20:39.916304Z"
    }
   },
   "outputs": [
    {
     "data": {
      "text/plain": [
       "(array([[ 0,  1,  2,  3,  4,  5],\n",
       "        [ 6,  7,  8,  9, 10, 11]]),\n",
       " (2, 6))"
      ]
     },
     "execution_count": 55,
     "metadata": {},
     "output_type": "execute_result"
    }
   ],
   "source": [
    "# 원본 값이 바뀜\n",
    "a.shape = 2, -1\n",
    "a, a.shape"
   ]
  },
  {
   "cell_type": "code",
   "execution_count": 56,
   "id": "cbe46bd8",
   "metadata": {
    "ExecuteTime": {
     "end_time": "2023-12-15T05:20:52.178745Z",
     "start_time": "2023-12-15T05:20:52.165830Z"
    }
   },
   "outputs": [
    {
     "data": {
      "text/plain": [
       "(array([[ 0,  1,  2,  3],\n",
       "        [ 4,  5,  6,  7],\n",
       "        [ 8,  9, 10, 11]]),\n",
       " (3, 4))"
      ]
     },
     "execution_count": 56,
     "metadata": {},
     "output_type": "execute_result"
    }
   ],
   "source": [
    "a.shape = 3, -1\n",
    "a, a.shape"
   ]
  },
  {
   "cell_type": "code",
   "execution_count": 57,
   "id": "43d7c142",
   "metadata": {
    "ExecuteTime": {
     "end_time": "2023-12-15T05:21:01.467572Z",
     "start_time": "2023-12-15T05:21:01.462017Z"
    }
   },
   "outputs": [
    {
     "data": {
      "text/plain": [
       "(array([[ 0],\n",
       "        [ 1],\n",
       "        [ 2],\n",
       "        [ 3],\n",
       "        [ 4],\n",
       "        [ 5],\n",
       "        [ 6],\n",
       "        [ 7],\n",
       "        [ 8],\n",
       "        [ 9],\n",
       "        [10],\n",
       "        [11]]),\n",
       " (12, 1))"
      ]
     },
     "execution_count": 57,
     "metadata": {},
     "output_type": "execute_result"
    }
   ],
   "source": [
    "a.shape = -1, 1\n",
    "a, a.shape"
   ]
  },
  {
   "cell_type": "code",
   "execution_count": 58,
   "id": "fa98441f",
   "metadata": {
    "ExecuteTime": {
     "end_time": "2023-12-15T05:21:19.298357Z",
     "start_time": "2023-12-15T05:21:19.294258Z"
    }
   },
   "outputs": [
    {
     "data": {
      "text/plain": [
       "(array([ 0,  1,  2,  3,  4,  5,  6,  7,  8,  9, 10, 11]), (12,))"
      ]
     },
     "execution_count": 58,
     "metadata": {},
     "output_type": "execute_result"
    }
   ],
   "source": [
    "# flatten\n",
    "a.shape = -1\n",
    "a, a.shape"
   ]
  },
  {
   "cell_type": "markdown",
   "id": "7d8be413",
   "metadata": {},
   "source": [
    "## 넘파이배열의 자료형 형변환\n",
    "배열명2 = 배열1.astype(자료형)   \n",
    "자료형 = np.float64, np.int32"
   ]
  },
  {
   "cell_type": "code",
   "execution_count": 59,
   "id": "949d6659",
   "metadata": {
    "ExecuteTime": {
     "end_time": "2023-12-15T05:23:07.444799Z",
     "start_time": "2023-12-15T05:23:07.432795Z"
    }
   },
   "outputs": [
    {
     "data": {
      "text/plain": [
       "(array([1, 2, 3, 4, 5, 6, 7, 8, 9]), dtype('int64'))"
      ]
     },
     "execution_count": 59,
     "metadata": {},
     "output_type": "execute_result"
    }
   ],
   "source": [
    "matrix1 = np.arange(1, 10)\n",
    "matrix1, matrix1.dtype"
   ]
  },
  {
   "cell_type": "code",
   "execution_count": 60,
   "id": "e20cf3c0",
   "metadata": {
    "ExecuteTime": {
     "end_time": "2023-12-15T05:23:31.521570Z",
     "start_time": "2023-12-15T05:23:31.517139Z"
    }
   },
   "outputs": [
    {
     "data": {
      "text/plain": [
       "(array([[1, 2, 3],\n",
       "        [4, 5, 6],\n",
       "        [7, 8, 9]]),\n",
       " dtype('int64'))"
      ]
     },
     "execution_count": 60,
     "metadata": {},
     "output_type": "execute_result"
    }
   ],
   "source": [
    "matrix = np.arange(1, 10).reshape(3, 3)\n",
    "matrix, matrix.dtype"
   ]
  },
  {
   "cell_type": "code",
   "execution_count": 61,
   "id": "2ea59faf",
   "metadata": {
    "ExecuteTime": {
     "end_time": "2023-12-15T05:24:18.081989Z",
     "start_time": "2023-12-15T05:24:18.068683Z"
    }
   },
   "outputs": [
    {
     "data": {
      "text/plain": [
       "(array([[1., 2., 3.],\n",
       "        [4., 5., 6.],\n",
       "        [7., 8., 9.]]),\n",
       " dtype('float64'))"
      ]
     },
     "execution_count": 61,
     "metadata": {},
     "output_type": "execute_result"
    }
   ],
   "source": [
    "# 실수형, 3행 3열\n",
    "matrix = np.arange(1, 10, dtype=float).reshape(3,3)\n",
    "matrix, matrix.dtype"
   ]
  },
  {
   "cell_type": "code",
   "execution_count": 62,
   "id": "741a0912",
   "metadata": {
    "ExecuteTime": {
     "end_time": "2023-12-15T05:24:45.815619Z",
     "start_time": "2023-12-15T05:24:45.806383Z"
    }
   },
   "outputs": [
    {
     "data": {
      "text/plain": [
       "(array([ True, False,  True,  True]), dtype('bool'))"
      ]
     },
     "execution_count": 62,
     "metadata": {},
     "output_type": "execute_result"
    }
   ],
   "source": [
    "# 논리형으로 구성된 넘파이 배열 생성\n",
    "matrix2 = np.array([True, False, True, True])\n",
    "matrix2, matrix2.dtype"
   ]
  },
  {
   "cell_type": "code",
   "execution_count": 67,
   "id": "4ff24f79",
   "metadata": {
    "ExecuteTime": {
     "end_time": "2023-12-15T05:26:00.467907Z",
     "start_time": "2023-12-15T05:26:00.459412Z"
    }
   },
   "outputs": [
    {
     "data": {
      "text/plain": [
       "array([1, 0, 1, 1])"
      ]
     },
     "execution_count": 67,
     "metadata": {},
     "output_type": "execute_result"
    }
   ],
   "source": [
    "# 불린 -> 정수\n",
    "matrix3 = matrix2.astype(int)\n",
    "matrix3"
   ]
  },
  {
   "cell_type": "code",
   "execution_count": 68,
   "id": "7f47b536",
   "metadata": {
    "ExecuteTime": {
     "end_time": "2023-12-15T05:26:03.375304Z",
     "start_time": "2023-12-15T05:26:03.370330Z"
    }
   },
   "outputs": [
    {
     "name": "stdout",
     "output_type": "stream",
     "text": [
      "[1 0 1 1]\n"
     ]
    }
   ],
   "source": [
    "print(matrix2.astype(int))"
   ]
  },
  {
   "cell_type": "code",
   "execution_count": 69,
   "id": "2a137631",
   "metadata": {
    "ExecuteTime": {
     "end_time": "2023-12-15T05:26:11.997637Z",
     "start_time": "2023-12-15T05:26:11.990953Z"
    }
   },
   "outputs": [
    {
     "data": {
      "text/plain": [
       "(array(['3.14', '5.5', '0.78'], dtype='<U4'), dtype('<U4'))"
      ]
     },
     "execution_count": 69,
     "metadata": {},
     "output_type": "execute_result"
    }
   ],
   "source": [
    "# 문자열 숫자 => 정수 , 실수\n",
    "matrix3 = np.array(['3.14', '5.5', '0.78'])\n",
    "matrix3, matrix3.dtype"
   ]
  },
  {
   "cell_type": "code",
   "execution_count": 71,
   "id": "5bf2f036",
   "metadata": {
    "ExecuteTime": {
     "end_time": "2023-12-15T05:26:30.549244Z",
     "start_time": "2023-12-15T05:26:30.546539Z"
    }
   },
   "outputs": [
    {
     "name": "stdout",
     "output_type": "stream",
     "text": [
      "[3.14 5.5  0.78]\n"
     ]
    }
   ],
   "source": [
    "print(matrix3.astype(float))\n",
    "# print(matrix3.astype(int)) # 불가\n",
    "# print(matrix3.astype(bool)) # 불가"
   ]
  },
  {
   "cell_type": "markdown",
   "id": "4f6c5af0",
   "metadata": {},
   "source": [
    "## 넘파이 배열 인덱싱\n",
    "넘파이배열[index] / 넘파이배열[i, j], 넘파이배열[i][j] : i행 j열"
   ]
  },
  {
   "cell_type": "markdown",
   "id": "9c9519e6",
   "metadata": {},
   "source": [
    "### 1D array"
   ]
  },
  {
   "cell_type": "code",
   "execution_count": 72,
   "id": "747af4fa",
   "metadata": {
    "ExecuteTime": {
     "end_time": "2023-12-15T05:29:56.536399Z",
     "start_time": "2023-12-15T05:29:56.527474Z"
    }
   },
   "outputs": [
    {
     "data": {
      "text/plain": [
       "(array([1, 3, 5, 7, 9]), 1, (5,), 5)"
      ]
     },
     "execution_count": 72,
     "metadata": {},
     "output_type": "execute_result"
    }
   ],
   "source": [
    "a = np.array([1, 3, 5, 7, 9])\n",
    "a, a.ndim, a.shape, a.size"
   ]
  },
  {
   "cell_type": "code",
   "execution_count": 73,
   "id": "2652ef7f",
   "metadata": {
    "ExecuteTime": {
     "end_time": "2023-12-15T05:30:08.032411Z",
     "start_time": "2023-12-15T05:30:08.026818Z"
    }
   },
   "outputs": [
    {
     "data": {
      "text/plain": [
       "1"
      ]
     },
     "execution_count": 73,
     "metadata": {},
     "output_type": "execute_result"
    }
   ],
   "source": [
    "a[0]"
   ]
  },
  {
   "cell_type": "code",
   "execution_count": 74,
   "id": "2d7b2f4f",
   "metadata": {
    "ExecuteTime": {
     "end_time": "2023-12-15T05:30:27.270922Z",
     "start_time": "2023-12-15T05:30:27.266283Z"
    }
   },
   "outputs": [
    {
     "data": {
      "text/plain": [
       "(9, 5)"
      ]
     },
     "execution_count": 74,
     "metadata": {},
     "output_type": "execute_result"
    }
   ],
   "source": [
    "a[-1], a[-3]"
   ]
  },
  {
   "cell_type": "code",
   "execution_count": 75,
   "id": "3783c1b3",
   "metadata": {
    "ExecuteTime": {
     "end_time": "2023-12-15T05:30:41.519634Z",
     "start_time": "2023-12-15T05:30:41.514237Z"
    }
   },
   "outputs": [
    {
     "data": {
      "text/plain": [
       "array([1, 5, 9])"
      ]
     },
     "execution_count": 75,
     "metadata": {},
     "output_type": "execute_result"
    }
   ],
   "source": [
    "a[[0, 2, 4]]"
   ]
  },
  {
   "cell_type": "code",
   "execution_count": 76,
   "id": "445ede6c",
   "metadata": {
    "ExecuteTime": {
     "end_time": "2023-12-15T05:30:52.833438Z",
     "start_time": "2023-12-15T05:30:52.820304Z"
    }
   },
   "outputs": [
    {
     "data": {
      "text/plain": [
       "array([[1, 3],\n",
       "       [4, 2]])"
      ]
     },
     "execution_count": 76,
     "metadata": {},
     "output_type": "execute_result"
    }
   ],
   "source": [
    "# 행렬 구조로 인덱싱도 가능하다\n",
    "i = np.array([[1,3], [4,2]])\n",
    "i"
   ]
  },
  {
   "cell_type": "code",
   "execution_count": 77,
   "id": "a627f374",
   "metadata": {
    "ExecuteTime": {
     "end_time": "2023-12-15T05:31:23.378418Z",
     "start_time": "2023-12-15T05:31:23.359930Z"
    }
   },
   "outputs": [
    {
     "data": {
      "text/plain": [
       "array([[3, 7],\n",
       "       [9, 5]])"
      ]
     },
     "execution_count": 77,
     "metadata": {},
     "output_type": "execute_result"
    }
   ],
   "source": [
    "# 넘파이배열1을 넘파이배열2로 인덱싱하는 경우. 넘파이배열2는 인덱스 번호로 인식\n",
    "a[i]"
   ]
  },
  {
   "cell_type": "code",
   "execution_count": 78,
   "id": "cef8f232",
   "metadata": {
    "ExecuteTime": {
     "end_time": "2023-12-15T05:34:00.205507Z",
     "start_time": "2023-12-15T05:34:00.198328Z"
    }
   },
   "outputs": [
    {
     "data": {
      "text/plain": [
       "array([1, 3, 0, 7, 9])"
      ]
     },
     "execution_count": 78,
     "metadata": {},
     "output_type": "execute_result"
    }
   ],
   "source": [
    "a[2] = 0\n",
    "a"
   ]
  },
  {
   "cell_type": "code",
   "execution_count": 79,
   "id": "79a221d0",
   "metadata": {
    "ExecuteTime": {
     "end_time": "2023-12-15T05:34:10.679604Z",
     "start_time": "2023-12-15T05:34:10.673159Z"
    }
   },
   "outputs": [
    {
     "data": {
      "text/plain": [
       "array([1, 5, 0, 7, 9])"
      ]
     },
     "execution_count": 79,
     "metadata": {},
     "output_type": "execute_result"
    }
   ],
   "source": [
    "a[1] += 2\n",
    "a"
   ]
  },
  {
   "cell_type": "code",
   "execution_count": 80,
   "id": "65ad0c72",
   "metadata": {
    "ExecuteTime": {
     "end_time": "2023-12-15T05:34:20.977964Z",
     "start_time": "2023-12-15T05:34:20.968325Z"
    }
   },
   "outputs": [
    {
     "data": {
      "text/plain": [
       "array([6, 5, 0, 7, 9])"
      ]
     },
     "execution_count": 80,
     "metadata": {},
     "output_type": "execute_result"
    }
   ],
   "source": [
    "a[0] *= 6\n",
    "a"
   ]
  },
  {
   "cell_type": "markdown",
   "id": "694b4d3b",
   "metadata": {},
   "source": [
    "### 2D array\n",
    "넘파이배열[행, 열] = [start:end:step, start2:end2:step2]"
   ]
  },
  {
   "cell_type": "code",
   "execution_count": 81,
   "id": "2c427a75",
   "metadata": {
    "ExecuteTime": {
     "end_time": "2023-12-15T05:36:45.784856Z",
     "start_time": "2023-12-15T05:36:45.772213Z"
    }
   },
   "outputs": [
    {
     "data": {
      "text/plain": [
       "(array([[ 0,  1,  2,  3,  4],\n",
       "        [ 5,  6,  7,  8,  9],\n",
       "        [10, 11, 12, 13, 14]]),\n",
       " 2,\n",
       " (3, 5),\n",
       " 15)"
      ]
     },
     "execution_count": 81,
     "metadata": {},
     "output_type": "execute_result"
    }
   ],
   "source": [
    "a = np.arange(15).reshape(3, 5)\n",
    "a, a.ndim, a.shape, a.size"
   ]
  },
  {
   "cell_type": "code",
   "execution_count": 82,
   "id": "e0d69c61",
   "metadata": {
    "ExecuteTime": {
     "end_time": "2023-12-15T05:38:00.289906Z",
     "start_time": "2023-12-15T05:38:00.282837Z"
    }
   },
   "outputs": [
    {
     "data": {
      "text/plain": [
       "array([0, 1, 2, 3, 4])"
      ]
     },
     "execution_count": 82,
     "metadata": {},
     "output_type": "execute_result"
    }
   ],
   "source": [
    "a[0] # 2차원 인덱싱할 때, 값을 하나만 넣으면 행 인덱싱"
   ]
  },
  {
   "cell_type": "code",
   "execution_count": 83,
   "id": "863d2945",
   "metadata": {
    "ExecuteTime": {
     "end_time": "2023-12-15T05:39:20.515436Z",
     "start_time": "2023-12-15T05:39:20.505998Z"
    }
   },
   "outputs": [
    {
     "data": {
      "text/plain": [
       "array([10, 11, 12, 13, 14])"
      ]
     },
     "execution_count": 83,
     "metadata": {},
     "output_type": "execute_result"
    }
   ],
   "source": [
    "a[-1]"
   ]
  },
  {
   "cell_type": "code",
   "execution_count": 85,
   "id": "930b3cde",
   "metadata": {
    "ExecuteTime": {
     "end_time": "2023-12-15T05:39:44.564467Z",
     "start_time": "2023-12-15T05:39:44.560175Z"
    }
   },
   "outputs": [
    {
     "data": {
      "text/plain": [
       "array([[ 0,  1,  2,  3,  4],\n",
       "       [ 5,  6,  7,  8,  9],\n",
       "       [10, 11, 12, 13, 14]])"
      ]
     },
     "execution_count": 85,
     "metadata": {},
     "output_type": "execute_result"
    }
   ],
   "source": [
    "a"
   ]
  },
  {
   "cell_type": "code",
   "execution_count": 86,
   "id": "a92fd827",
   "metadata": {
    "ExecuteTime": {
     "end_time": "2023-12-15T05:40:16.979359Z",
     "start_time": "2023-12-15T05:40:16.972414Z"
    }
   },
   "outputs": [
    {
     "data": {
      "text/plain": [
       "0"
      ]
     },
     "execution_count": 86,
     "metadata": {},
     "output_type": "execute_result"
    }
   ],
   "source": [
    "a[0, 0]"
   ]
  },
  {
   "cell_type": "code",
   "execution_count": 87,
   "id": "8816111f",
   "metadata": {
    "ExecuteTime": {
     "end_time": "2023-12-15T05:41:00.026736Z",
     "start_time": "2023-12-15T05:41:00.008780Z"
    }
   },
   "outputs": [
    {
     "data": {
      "text/plain": [
       "8"
      ]
     },
     "execution_count": 87,
     "metadata": {},
     "output_type": "execute_result"
    }
   ],
   "source": [
    "a[1,3]"
   ]
  },
  {
   "cell_type": "code",
   "execution_count": 88,
   "id": "14aba9fa",
   "metadata": {
    "ExecuteTime": {
     "end_time": "2023-12-15T05:43:35.791376Z",
     "start_time": "2023-12-15T05:43:35.779436Z"
    }
   },
   "outputs": [
    {
     "data": {
      "text/plain": [
       "array([[ 0,  1,  2,  3,  4],\n",
       "       [ 5,  6,  7,  8,  9],\n",
       "       [10, 11, 12, 13, 14]])"
      ]
     },
     "execution_count": 88,
     "metadata": {},
     "output_type": "execute_result"
    }
   ],
   "source": [
    "a = np.arange(15).reshape(3, -1)\n",
    "a"
   ]
  },
  {
   "cell_type": "code",
   "execution_count": 89,
   "id": "6d33a2f5",
   "metadata": {
    "ExecuteTime": {
     "end_time": "2023-12-15T05:44:52.981590Z",
     "start_time": "2023-12-15T05:44:52.974730Z"
    }
   },
   "outputs": [],
   "source": [
    "a[-1] = np.ones(5) * 10\n",
    "a"
   ]
  },
  {
   "cell_type": "code",
   "execution_count": 92,
   "id": "26dd82d8",
   "metadata": {
    "ExecuteTime": {
     "end_time": "2023-12-15T05:45:16.640445Z",
     "start_time": "2023-12-15T05:45:16.634315Z"
    }
   },
   "outputs": [
    {
     "data": {
      "text/plain": [
       "array([[ 0,  1,  2,  3,  4],\n",
       "       [ 5,  6,  7,  8,  9],\n",
       "       [10, 10, 10, 10, 10]])"
      ]
     },
     "execution_count": 92,
     "metadata": {},
     "output_type": "execute_result"
    }
   ],
   "source": [
    "a[-1] = 10\n",
    "a"
   ]
  },
  {
   "cell_type": "code",
   "execution_count": 93,
   "id": "62637949",
   "metadata": {
    "ExecuteTime": {
     "end_time": "2023-12-15T05:45:49.881706Z",
     "start_time": "2023-12-15T05:45:49.873765Z"
    }
   },
   "outputs": [
    {
     "data": {
      "text/plain": [
       "array([[ 1,  3,  5,  7,  9],\n",
       "       [ 5,  6,  7,  8,  9],\n",
       "       [10, 10, 10, 10, 10]])"
      ]
     },
     "execution_count": 93,
     "metadata": {},
     "output_type": "execute_result"
    }
   ],
   "source": [
    "a[0] += np.arange(1, 6)\n",
    "a"
   ]
  },
  {
   "cell_type": "code",
   "execution_count": 94,
   "id": "a2eeabd7",
   "metadata": {
    "ExecuteTime": {
     "end_time": "2023-12-15T05:46:16.455381Z",
     "start_time": "2023-12-15T05:46:16.446233Z"
    }
   },
   "outputs": [
    {
     "data": {
      "text/plain": [
       "(array([0, 1, 2, 3, 4, 5, 6, 7, 8, 9]),\n",
       " array([[ 0,  1,  2,  3],\n",
       "        [ 4,  5,  6,  7],\n",
       "        [ 8,  9, 10, 11]]))"
      ]
     },
     "execution_count": 94,
     "metadata": {},
     "output_type": "execute_result"
    }
   ],
   "source": [
    "matrix_a = np.arange(10)\n",
    "matrix_b = np.arange(12).reshape(3,4)\n",
    "\n",
    "matrix_a, matrix_b"
   ]
  },
  {
   "cell_type": "code",
   "execution_count": 95,
   "id": "782caaa9",
   "metadata": {
    "ExecuteTime": {
     "end_time": "2023-12-15T05:46:48.925524Z",
     "start_time": "2023-12-15T05:46:48.918410Z"
    }
   },
   "outputs": [
    {
     "data": {
      "text/plain": [
       "(0, 9)"
      ]
     },
     "execution_count": 95,
     "metadata": {},
     "output_type": "execute_result"
    }
   ],
   "source": [
    "# 1차원에서 첫 요소와 마지막 요소\n",
    "matrix_a[0], matrix_a[-1]"
   ]
  },
  {
   "cell_type": "code",
   "execution_count": 96,
   "id": "897df346",
   "metadata": {
    "ExecuteTime": {
     "end_time": "2023-12-15T05:47:04.659405Z",
     "start_time": "2023-12-15T05:47:04.654757Z"
    }
   },
   "outputs": [
    {
     "data": {
      "text/plain": [
       "0"
      ]
     },
     "execution_count": 96,
     "metadata": {},
     "output_type": "execute_result"
    }
   ],
   "source": [
    "# 2차원에서 1번째행 1번째열\n",
    "matrix_b[0, 0]"
   ]
  },
  {
   "cell_type": "code",
   "execution_count": 97,
   "id": "edf5b1cd",
   "metadata": {
    "ExecuteTime": {
     "end_time": "2023-12-15T05:47:21.438873Z",
     "start_time": "2023-12-15T05:47:21.434809Z"
    }
   },
   "outputs": [
    {
     "data": {
      "text/plain": [
       "0"
      ]
     },
     "execution_count": 97,
     "metadata": {},
     "output_type": "execute_result"
    }
   ],
   "source": [
    "matrix_b[0][0]"
   ]
  },
  {
   "cell_type": "code",
   "execution_count": 98,
   "id": "7b58ac8a",
   "metadata": {
    "ExecuteTime": {
     "end_time": "2023-12-15T05:47:38.267339Z",
     "start_time": "2023-12-15T05:47:38.257354Z"
    }
   },
   "outputs": [
    {
     "data": {
      "text/plain": [
       "11"
      ]
     },
     "execution_count": 98,
     "metadata": {},
     "output_type": "execute_result"
    }
   ],
   "source": [
    "# 2차원 마지막행 마지막열 -> 3행 4열\n",
    "matrix_b[-1,-1]"
   ]
  },
  {
   "cell_type": "code",
   "execution_count": 99,
   "id": "afad3836",
   "metadata": {
    "ExecuteTime": {
     "end_time": "2023-12-15T05:48:29.383024Z",
     "start_time": "2023-12-15T05:48:29.375655Z"
    }
   },
   "outputs": [
    {
     "data": {
      "text/plain": [
       "array([[  0,   1,   2,   3],\n",
       "       [  4,   5,   6,   7],\n",
       "       [100,   9,  10,  11]])"
      ]
     },
     "execution_count": 99,
     "metadata": {},
     "output_type": "execute_result"
    }
   ],
   "source": [
    "matrix_b[2][0] = 100\n",
    "matrix_b"
   ]
  },
  {
   "cell_type": "markdown",
   "id": "d5f13358",
   "metadata": {},
   "source": [
    "## 넘파이 배열 슬라이싱"
   ]
  },
  {
   "cell_type": "markdown",
   "id": "99647490",
   "metadata": {},
   "source": [
    "### 1D array\n",
    "넘파이배열[:end]   \n",
    "넘파이배열[start:]   \n",
    "넘파이배열[start:end]   \n",
    "넘파이배열[start:end:step]   \n"
   ]
  },
  {
   "cell_type": "code",
   "execution_count": 100,
   "id": "31ee7d48",
   "metadata": {
    "ExecuteTime": {
     "end_time": "2023-12-15T05:49:58.109482Z",
     "start_time": "2023-12-15T05:49:58.100218Z"
    }
   },
   "outputs": [
    {
     "data": {
      "text/plain": [
       "(array([1, 3, 5, 7, 9]), 1, (5,), 5)"
      ]
     },
     "execution_count": 100,
     "metadata": {},
     "output_type": "execute_result"
    }
   ],
   "source": [
    "a = np.array([1, 3, 5, 7, 9])\n",
    "a, a.ndim, a.shape, a.size"
   ]
  },
  {
   "cell_type": "code",
   "execution_count": 101,
   "id": "cc1aa611",
   "metadata": {
    "ExecuteTime": {
     "end_time": "2023-12-15T05:50:12.179379Z",
     "start_time": "2023-12-15T05:50:12.171683Z"
    }
   },
   "outputs": [
    {
     "data": {
      "text/plain": [
       "array([3, 5, 7, 9])"
      ]
     },
     "execution_count": 101,
     "metadata": {},
     "output_type": "execute_result"
    }
   ],
   "source": [
    "a[1:]"
   ]
  },
  {
   "cell_type": "code",
   "execution_count": 102,
   "id": "b0a9ba95",
   "metadata": {
    "ExecuteTime": {
     "end_time": "2023-12-15T05:50:22.322956Z",
     "start_time": "2023-12-15T05:50:22.314583Z"
    }
   },
   "outputs": [
    {
     "data": {
      "text/plain": [
       "array([9])"
      ]
     },
     "execution_count": 102,
     "metadata": {},
     "output_type": "execute_result"
    }
   ],
   "source": [
    "a[-1:]"
   ]
  },
  {
   "cell_type": "code",
   "execution_count": 103,
   "id": "3e9e7d28",
   "metadata": {
    "ExecuteTime": {
     "end_time": "2023-12-15T05:51:00.040390Z",
     "start_time": "2023-12-15T05:51:00.031535Z"
    }
   },
   "outputs": [
    {
     "data": {
      "text/plain": [
       "array([1, 3, 5, 7])"
      ]
     },
     "execution_count": 103,
     "metadata": {},
     "output_type": "execute_result"
    }
   ],
   "source": [
    "a[:-1]"
   ]
  },
  {
   "cell_type": "code",
   "execution_count": 104,
   "id": "42cd6f23",
   "metadata": {
    "ExecuteTime": {
     "end_time": "2023-12-15T05:51:22.579713Z",
     "start_time": "2023-12-15T05:51:22.574590Z"
    }
   },
   "outputs": [
    {
     "data": {
      "text/plain": [
       "array([0, 1, 2, 3, 4, 5, 6, 7, 8, 9])"
      ]
     },
     "execution_count": 104,
     "metadata": {},
     "output_type": "execute_result"
    }
   ],
   "source": [
    "a = np.arange(10)\n",
    "a"
   ]
  },
  {
   "cell_type": "code",
   "execution_count": 112,
   "id": "6462c1e4",
   "metadata": {
    "ExecuteTime": {
     "end_time": "2023-12-15T06:00:06.512341Z",
     "start_time": "2023-12-15T06:00:06.502777Z"
    }
   },
   "outputs": [
    {
     "data": {
      "text/plain": [
       "array([0, 2, 4, 6, 8])"
      ]
     },
     "execution_count": 112,
     "metadata": {},
     "output_type": "execute_result"
    }
   ],
   "source": [
    "a[::2]"
   ]
  },
  {
   "cell_type": "code",
   "execution_count": 113,
   "id": "8324d8f6",
   "metadata": {
    "ExecuteTime": {
     "end_time": "2023-12-15T06:01:55.195771Z",
     "start_time": "2023-12-15T06:01:55.171481Z"
    }
   },
   "outputs": [
    {
     "data": {
      "text/plain": [
       "(array([0, 5]), array([0, 3, 6, 9]))"
      ]
     },
     "execution_count": 113,
     "metadata": {},
     "output_type": "execute_result"
    }
   ],
   "source": [
    "a[::5], a[::3]"
   ]
  },
  {
   "cell_type": "code",
   "execution_count": 114,
   "id": "e0f2d66a",
   "metadata": {
    "ExecuteTime": {
     "end_time": "2023-12-15T06:02:15.267307Z",
     "start_time": "2023-12-15T06:02:15.260165Z"
    }
   },
   "outputs": [
    {
     "data": {
      "text/plain": [
       "array([9, 8, 7, 6, 5, 4, 3, 2, 1, 0])"
      ]
     },
     "execution_count": 114,
     "metadata": {},
     "output_type": "execute_result"
    }
   ],
   "source": [
    "a[::-1]"
   ]
  },
  {
   "cell_type": "code",
   "execution_count": 116,
   "id": "f66c1260",
   "metadata": {
    "ExecuteTime": {
     "end_time": "2023-12-15T06:05:05.565828Z",
     "start_time": "2023-12-15T06:05:05.560779Z"
    }
   },
   "outputs": [
    {
     "data": {
      "text/plain": [
       "array([1, 3, 5, 7, 9])"
      ]
     },
     "execution_count": 116,
     "metadata": {},
     "output_type": "execute_result"
    }
   ],
   "source": [
    "a[1::2]"
   ]
  },
  {
   "cell_type": "code",
   "execution_count": 120,
   "id": "071dbaaf",
   "metadata": {
    "ExecuteTime": {
     "end_time": "2023-12-15T06:06:17.997827Z",
     "start_time": "2023-12-15T06:06:17.994306Z"
    }
   },
   "outputs": [
    {
     "data": {
      "text/plain": [
       "array([0, 2, 4, 6])"
      ]
     },
     "execution_count": 120,
     "metadata": {},
     "output_type": "execute_result"
    }
   ],
   "source": [
    "a[:-2:2]"
   ]
  },
  {
   "cell_type": "markdown",
   "id": "87a6df3a",
   "metadata": {},
   "source": [
    "### 2D array"
   ]
  },
  {
   "cell_type": "code",
   "execution_count": 129,
   "id": "472e911b",
   "metadata": {
    "ExecuteTime": {
     "end_time": "2023-12-15T06:09:43.517817Z",
     "start_time": "2023-12-15T06:09:43.500630Z"
    }
   },
   "outputs": [
    {
     "data": {
      "text/plain": [
       "(array([[10, 11, 12, 13, 14],\n",
       "        [15, 16, 17, 18, 19],\n",
       "        [20, 21, 22, 23, 24]]),\n",
       " 2,\n",
       " (3, 5),\n",
       " 15)"
      ]
     },
     "execution_count": 129,
     "metadata": {},
     "output_type": "execute_result"
    }
   ],
   "source": [
    "a = np.arange(10, 25).reshape(3, 5)\n",
    "a, a.ndim, a.shape, a.size"
   ]
  },
  {
   "cell_type": "code",
   "execution_count": 122,
   "id": "a26e153c",
   "metadata": {
    "ExecuteTime": {
     "end_time": "2023-12-15T06:06:38.429564Z",
     "start_time": "2023-12-15T06:06:38.424603Z"
    }
   },
   "outputs": [
    {
     "data": {
      "text/plain": [
       "array([[10, 11, 12, 13, 14],\n",
       "       [15, 16, 17, 18, 19],\n",
       "       [20, 21, 22, 23, 24]])"
      ]
     },
     "execution_count": 122,
     "metadata": {},
     "output_type": "execute_result"
    }
   ],
   "source": [
    "a[:]"
   ]
  },
  {
   "cell_type": "code",
   "execution_count": 123,
   "id": "4666b31f",
   "metadata": {
    "ExecuteTime": {
     "end_time": "2023-12-15T06:06:49.234333Z",
     "start_time": "2023-12-15T06:06:49.229617Z"
    }
   },
   "outputs": [
    {
     "data": {
      "text/plain": [
       "array([[15, 16, 17, 18, 19],\n",
       "       [20, 21, 22, 23, 24]])"
      ]
     },
     "execution_count": 123,
     "metadata": {},
     "output_type": "execute_result"
    }
   ],
   "source": [
    "a[1:]"
   ]
  },
  {
   "cell_type": "code",
   "execution_count": 124,
   "id": "5d9d294d",
   "metadata": {
    "ExecuteTime": {
     "end_time": "2023-12-15T06:07:37.798139Z",
     "start_time": "2023-12-15T06:07:37.786470Z"
    }
   },
   "outputs": [
    {
     "data": {
      "text/plain": [
       "array([], shape=(0, 5), dtype=int64)"
      ]
     },
     "execution_count": 124,
     "metadata": {},
     "output_type": "execute_result"
    }
   ],
   "source": [
    "a[3:]"
   ]
  },
  {
   "cell_type": "code",
   "execution_count": 125,
   "id": "4deacdad",
   "metadata": {
    "ExecuteTime": {
     "end_time": "2023-12-15T06:07:43.451512Z",
     "start_time": "2023-12-15T06:07:43.447309Z"
    }
   },
   "outputs": [
    {
     "data": {
      "text/plain": [
       "array([[20, 21, 22, 23, 24]])"
      ]
     },
     "execution_count": 125,
     "metadata": {},
     "output_type": "execute_result"
    }
   ],
   "source": [
    "a[-1:]"
   ]
  },
  {
   "cell_type": "code",
   "execution_count": 126,
   "id": "b7b53963",
   "metadata": {
    "ExecuteTime": {
     "end_time": "2023-12-15T06:07:53.788304Z",
     "start_time": "2023-12-15T06:07:53.783935Z"
    }
   },
   "outputs": [
    {
     "data": {
      "text/plain": [
       "array([[10, 11, 12, 13, 14],\n",
       "       [15, 16, 17, 18, 19],\n",
       "       [20, 21, 22, 23, 24]])"
      ]
     },
     "execution_count": 126,
     "metadata": {},
     "output_type": "execute_result"
    }
   ],
   "source": [
    "a[-3:]"
   ]
  },
  {
   "cell_type": "code",
   "execution_count": 128,
   "id": "b3445d2f",
   "metadata": {
    "ExecuteTime": {
     "end_time": "2023-12-15T06:09:05.739960Z",
     "start_time": "2023-12-15T06:09:05.731404Z"
    }
   },
   "outputs": [
    {
     "data": {
      "text/plain": [
       "(array([], shape=(0, 5), dtype=int64),\n",
       " array([[10, 11, 12, 13, 14],\n",
       "        [15, 16, 17, 18, 19]]))"
      ]
     },
     "execution_count": 128,
     "metadata": {},
     "output_type": "execute_result"
    }
   ],
   "source": [
    "a[:0], a[:-1]"
   ]
  },
  {
   "cell_type": "code",
   "execution_count": 130,
   "id": "fc1c11ab",
   "metadata": {
    "ExecuteTime": {
     "end_time": "2023-12-15T06:09:46.326900Z",
     "start_time": "2023-12-15T06:09:46.320284Z"
    }
   },
   "outputs": [
    {
     "data": {
      "text/plain": [
       "array([[15, 16, 17, 18, 19]])"
      ]
     },
     "execution_count": 130,
     "metadata": {},
     "output_type": "execute_result"
    }
   ],
   "source": [
    "a[1:-1]"
   ]
  },
  {
   "cell_type": "code",
   "execution_count": 131,
   "id": "ed1e07d9",
   "metadata": {
    "ExecuteTime": {
     "end_time": "2023-12-15T06:10:17.844013Z",
     "start_time": "2023-12-15T06:10:17.834937Z"
    }
   },
   "outputs": [
    {
     "data": {
      "text/plain": [
       "array([[10, 11, 12, 13, 14],\n",
       "       [15, 16, 17, 18, 19],\n",
       "       [20, 21, 22, 23, 24]])"
      ]
     },
     "execution_count": 131,
     "metadata": {},
     "output_type": "execute_result"
    }
   ],
   "source": [
    "a[:, :]"
   ]
  },
  {
   "cell_type": "code",
   "execution_count": 132,
   "id": "433eb592",
   "metadata": {
    "ExecuteTime": {
     "end_time": "2023-12-15T06:10:30.736210Z",
     "start_time": "2023-12-15T06:10:30.729948Z"
    }
   },
   "outputs": [
    {
     "data": {
      "text/plain": [
       "array([[11, 12, 13, 14],\n",
       "       [16, 17, 18, 19],\n",
       "       [21, 22, 23, 24]])"
      ]
     },
     "execution_count": 132,
     "metadata": {},
     "output_type": "execute_result"
    }
   ],
   "source": [
    "a[:, 1:]"
   ]
  },
  {
   "cell_type": "code",
   "execution_count": 136,
   "id": "83cd8764",
   "metadata": {
    "ExecuteTime": {
     "end_time": "2023-12-15T06:11:30.986166Z",
     "start_time": "2023-12-15T06:11:30.982146Z"
    }
   },
   "outputs": [
    {
     "data": {
      "text/plain": [
       "array([[13, 14],\n",
       "       [18, 19],\n",
       "       [23, 24]])"
      ]
     },
     "execution_count": 136,
     "metadata": {},
     "output_type": "execute_result"
    }
   ],
   "source": [
    "a[:, 3:]"
   ]
  },
  {
   "cell_type": "code",
   "execution_count": 137,
   "id": "b033fb44",
   "metadata": {
    "ExecuteTime": {
     "end_time": "2023-12-15T06:11:46.790228Z",
     "start_time": "2023-12-15T06:11:46.774682Z"
    }
   },
   "outputs": [
    {
     "data": {
      "text/plain": [
       "array([[14],\n",
       "       [19],\n",
       "       [24]])"
      ]
     },
     "execution_count": 137,
     "metadata": {},
     "output_type": "execute_result"
    }
   ],
   "source": [
    "a[:, -1:]"
   ]
  },
  {
   "cell_type": "code",
   "execution_count": 138,
   "id": "1e6edfd2",
   "metadata": {
    "ExecuteTime": {
     "end_time": "2023-12-15T06:16:19.266078Z",
     "start_time": "2023-12-15T06:16:19.258440Z"
    }
   },
   "outputs": [
    {
     "data": {
      "text/plain": [
       "array([[10],\n",
       "       [15],\n",
       "       [20]])"
      ]
     },
     "execution_count": 138,
     "metadata": {},
     "output_type": "execute_result"
    }
   ],
   "source": [
    "a[:, :1]"
   ]
  },
  {
   "cell_type": "code",
   "execution_count": 139,
   "id": "c512f72d",
   "metadata": {
    "ExecuteTime": {
     "end_time": "2023-12-15T06:17:11.766159Z",
     "start_time": "2023-12-15T06:17:11.759076Z"
    }
   },
   "outputs": [
    {
     "data": {
      "text/plain": [
       "array([[10],\n",
       "       [15],\n",
       "       [20]])"
      ]
     },
     "execution_count": 139,
     "metadata": {},
     "output_type": "execute_result"
    }
   ],
   "source": [
    "a[:, 0:1]"
   ]
  },
  {
   "cell_type": "code",
   "execution_count": 140,
   "id": "f2e9d888",
   "metadata": {
    "ExecuteTime": {
     "end_time": "2023-12-15T06:17:27.776949Z",
     "start_time": "2023-12-15T06:17:27.773200Z"
    }
   },
   "outputs": [
    {
     "data": {
      "text/plain": [
       "array([[11, 12, 13],\n",
       "       [16, 17, 18],\n",
       "       [21, 22, 23]])"
      ]
     },
     "execution_count": 140,
     "metadata": {},
     "output_type": "execute_result"
    }
   ],
   "source": [
    "a[:, 1:-1]"
   ]
  },
  {
   "cell_type": "code",
   "execution_count": 141,
   "id": "d1834244",
   "metadata": {
    "ExecuteTime": {
     "end_time": "2023-12-15T06:18:24.113620Z",
     "start_time": "2023-12-15T06:18:24.105000Z"
    }
   },
   "outputs": [
    {
     "data": {
      "text/plain": [
       "array([[10, 11, 12, 13, 14, 15, 16, 17, 18, 19],\n",
       "       [20, 21, 22, 23, 24, 25, 26, 27, 28, 29],\n",
       "       [30, 31, 32, 33, 34, 35, 36, 37, 38, 39],\n",
       "       [40, 41, 42, 43, 44, 45, 46, 47, 48, 49],\n",
       "       [50, 51, 52, 53, 54, 55, 56, 57, 58, 59],\n",
       "       [60, 61, 62, 63, 64, 65, 66, 67, 68, 69],\n",
       "       [70, 71, 72, 73, 74, 75, 76, 77, 78, 79],\n",
       "       [80, 81, 82, 83, 84, 85, 86, 87, 88, 89],\n",
       "       [90, 91, 92, 93, 94, 95, 96, 97, 98, 99]])"
      ]
     },
     "execution_count": 141,
     "metadata": {},
     "output_type": "execute_result"
    }
   ],
   "source": [
    "a = np.arange(10, 100).reshape(9, 10)\n",
    "a"
   ]
  },
  {
   "cell_type": "code",
   "execution_count": 142,
   "id": "62abf1fa",
   "metadata": {
    "ExecuteTime": {
     "end_time": "2023-12-15T06:18:35.604949Z",
     "start_time": "2023-12-15T06:18:35.595319Z"
    }
   },
   "outputs": [
    {
     "data": {
      "text/plain": [
       "array([[30, 31, 32, 33, 34, 35, 36, 37, 38, 39],\n",
       "       [40, 41, 42, 43, 44, 45, 46, 47, 48, 49],\n",
       "       [50, 51, 52, 53, 54, 55, 56, 57, 58, 59]])"
      ]
     },
     "execution_count": 142,
     "metadata": {},
     "output_type": "execute_result"
    }
   ],
   "source": [
    "a[2:5, :]"
   ]
  },
  {
   "cell_type": "code",
   "execution_count": 143,
   "id": "fd57448b",
   "metadata": {
    "ExecuteTime": {
     "end_time": "2023-12-15T06:18:51.407669Z",
     "start_time": "2023-12-15T06:18:51.400026Z"
    }
   },
   "outputs": [
    {
     "data": {
      "text/plain": [
       "array([[12, 13, 14],\n",
       "       [22, 23, 24],\n",
       "       [32, 33, 34],\n",
       "       [42, 43, 44],\n",
       "       [52, 53, 54],\n",
       "       [62, 63, 64],\n",
       "       [72, 73, 74],\n",
       "       [82, 83, 84],\n",
       "       [92, 93, 94]])"
      ]
     },
     "execution_count": 143,
     "metadata": {},
     "output_type": "execute_result"
    }
   ],
   "source": [
    "a[:, 2:5]"
   ]
  },
  {
   "cell_type": "code",
   "execution_count": 144,
   "id": "7a7dc815",
   "metadata": {
    "ExecuteTime": {
     "end_time": "2023-12-15T06:20:46.011866Z",
     "start_time": "2023-12-15T06:20:46.004339Z"
    }
   },
   "outputs": [
    {
     "data": {
      "text/plain": [
       "array([[10, 12, 14, 16, 18],\n",
       "       [30, 32, 34, 36, 38],\n",
       "       [50, 52, 54, 56, 58],\n",
       "       [70, 72, 74, 76, 78],\n",
       "       [90, 92, 94, 96, 98]])"
      ]
     },
     "execution_count": 144,
     "metadata": {},
     "output_type": "execute_result"
    }
   ],
   "source": [
    "a[::2, ::2]"
   ]
  },
  {
   "cell_type": "code",
   "execution_count": 145,
   "id": "1fefdf50",
   "metadata": {
    "ExecuteTime": {
     "end_time": "2023-12-15T06:21:17.065022Z",
     "start_time": "2023-12-15T06:21:17.054608Z"
    }
   },
   "outputs": [
    {
     "data": {
      "text/plain": [
       "array([[99, 98, 97, 96, 95, 94, 93, 92, 91, 90],\n",
       "       [89, 88, 87, 86, 85, 84, 83, 82, 81, 80],\n",
       "       [79, 78, 77, 76, 75, 74, 73, 72, 71, 70],\n",
       "       [69, 68, 67, 66, 65, 64, 63, 62, 61, 60],\n",
       "       [59, 58, 57, 56, 55, 54, 53, 52, 51, 50],\n",
       "       [49, 48, 47, 46, 45, 44, 43, 42, 41, 40],\n",
       "       [39, 38, 37, 36, 35, 34, 33, 32, 31, 30],\n",
       "       [29, 28, 27, 26, 25, 24, 23, 22, 21, 20],\n",
       "       [19, 18, 17, 16, 15, 14, 13, 12, 11, 10]])"
      ]
     },
     "execution_count": 145,
     "metadata": {},
     "output_type": "execute_result"
    }
   ],
   "source": [
    "a[::-1, ::-1]"
   ]
  },
  {
   "cell_type": "markdown",
   "id": "c242167d",
   "metadata": {},
   "source": [
    "## 전치행렬\n",
    "넘파이배열.T: 행과 열 구조 바꿈"
   ]
  },
  {
   "cell_type": "code",
   "execution_count": 146,
   "id": "d896bcfc",
   "metadata": {
    "ExecuteTime": {
     "end_time": "2023-12-15T06:25:01.353403Z",
     "start_time": "2023-12-15T06:25:01.346123Z"
    }
   },
   "outputs": [
    {
     "data": {
      "text/plain": [
       "array([[1, 2],\n",
       "       [3, 4],\n",
       "       [5, 6]])"
      ]
     },
     "execution_count": 146,
     "metadata": {},
     "output_type": "execute_result"
    }
   ],
   "source": [
    "# 3행 2열\n",
    "matrix_d = np.arange(1,7).reshape(3,2)\n",
    "matrix_d"
   ]
  },
  {
   "cell_type": "code",
   "execution_count": 147,
   "id": "b99107a3",
   "metadata": {
    "ExecuteTime": {
     "end_time": "2023-12-15T06:25:18.323621Z",
     "start_time": "2023-12-15T06:25:18.316660Z"
    }
   },
   "outputs": [
    {
     "name": "stdout",
     "output_type": "stream",
     "text": [
      "[[1 3 5]\n",
      " [2 4 6]]\n"
     ]
    }
   ],
   "source": [
    "# 2행 3열로 변환\n",
    "print(matrix_d.T)"
   ]
  },
  {
   "cell_type": "code",
   "execution_count": 149,
   "id": "2dde3292",
   "metadata": {
    "ExecuteTime": {
     "end_time": "2023-12-15T06:25:33.112062Z",
     "start_time": "2023-12-15T06:25:33.107046Z"
    }
   },
   "outputs": [
    {
     "data": {
      "text/plain": [
       "array([[1, 2],\n",
       "       [3, 4],\n",
       "       [5, 6]])"
      ]
     },
     "execution_count": 149,
     "metadata": {},
     "output_type": "execute_result"
    }
   ],
   "source": [
    "matrix_d"
   ]
  },
  {
   "cell_type": "code",
   "execution_count": 153,
   "id": "526d89a8",
   "metadata": {
    "ExecuteTime": {
     "end_time": "2023-12-15T06:29:02.345315Z",
     "start_time": "2023-12-15T06:29:02.336389Z"
    }
   },
   "outputs": [
    {
     "data": {
      "text/plain": [
       "(array([[1, 2, 3],\n",
       "        [4, 5, 6]]),\n",
       " array([[1, 3, 5],\n",
       "        [2, 4, 6]]))"
      ]
     },
     "execution_count": 153,
     "metadata": {},
     "output_type": "execute_result"
    }
   ],
   "source": [
    "matrix_d.reshape(2, 3), matrix_d.T"
   ]
  },
  {
   "cell_type": "markdown",
   "id": "bfb7e9dd",
   "metadata": {},
   "source": [
    "## 난수로 구성된 넘파이 배열\n",
    "np.random.randint(start, end, n) : 정수 난수   \n",
    "np.random.randint(start, end, (i, j))"
   ]
  },
  {
   "cell_type": "code",
   "execution_count": 154,
   "id": "71704edc",
   "metadata": {
    "ExecuteTime": {
     "end_time": "2023-12-15T06:30:01.551445Z",
     "start_time": "2023-12-15T06:30:01.536477Z"
    }
   },
   "outputs": [
    {
     "data": {
      "text/plain": [
       "array([3, 3, 1, 9, 3, 4, 7, 3, 1, 9])"
      ]
     },
     "execution_count": 154,
     "metadata": {},
     "output_type": "execute_result"
    }
   ],
   "source": [
    "# 1~10 사이의 숫자중에서 10개 출력\n",
    "np.random.randint(1, 10, 10)"
   ]
  },
  {
   "cell_type": "code",
   "execution_count": 155,
   "id": "7effdafd",
   "metadata": {
    "ExecuteTime": {
     "end_time": "2023-12-15T06:30:21.397259Z",
     "start_time": "2023-12-15T06:30:21.392251Z"
    }
   },
   "outputs": [
    {
     "data": {
      "text/plain": [
       "array([13, 34, 35, 13, 39,  7])"
      ]
     },
     "execution_count": 155,
     "metadata": {},
     "output_type": "execute_result"
    }
   ],
   "source": [
    "np.random.randint(1, 45, 6)"
   ]
  },
  {
   "cell_type": "code",
   "execution_count": 156,
   "id": "700db866",
   "metadata": {
    "ExecuteTime": {
     "end_time": "2023-12-15T06:30:35.585332Z",
     "start_time": "2023-12-15T06:30:35.575675Z"
    }
   },
   "outputs": [
    {
     "data": {
      "text/plain": [
       "array([[4, 1, 5, 1, 8],\n",
       "       [2, 3, 1, 7, 5]])"
      ]
     },
     "execution_count": 156,
     "metadata": {},
     "output_type": "execute_result"
    }
   ],
   "source": [
    "# 2행 5열로 츨력\n",
    "np.random.randint(1, 10, (2,5))"
   ]
  },
  {
   "cell_type": "code",
   "execution_count": 184,
   "id": "341cb46d",
   "metadata": {
    "ExecuteTime": {
     "end_time": "2023-12-15T07:09:56.730582Z",
     "start_time": "2023-12-15T07:09:56.713600Z"
    }
   },
   "outputs": [],
   "source": [
    "np.random.randint?"
   ]
  },
  {
   "cell_type": "markdown",
   "id": "cefc286d",
   "metadata": {},
   "source": [
    "### 섞기\n",
    "np.random.shuffle(넘파이배열) 원본에 바로 적용"
   ]
  },
  {
   "cell_type": "code",
   "execution_count": 157,
   "id": "32a0b552",
   "metadata": {
    "ExecuteTime": {
     "end_time": "2023-12-15T06:31:46.573144Z",
     "start_time": "2023-12-15T06:31:46.545509Z"
    }
   },
   "outputs": [
    {
     "data": {
      "text/plain": [
       "array([ 1,  2,  3,  4,  5,  6,  7,  8,  9, 10])"
      ]
     },
     "execution_count": 157,
     "metadata": {},
     "output_type": "execute_result"
    }
   ],
   "source": [
    "# 10개 무작위 값 만들기\n",
    "matrix_e = np.arange(1,11)\n",
    "matrix_e"
   ]
  },
  {
   "cell_type": "code",
   "execution_count": 158,
   "id": "458cdfcb",
   "metadata": {
    "ExecuteTime": {
     "end_time": "2023-12-15T06:31:54.103975Z",
     "start_time": "2023-12-15T06:31:54.095583Z"
    }
   },
   "outputs": [
    {
     "data": {
      "text/plain": [
       "array([10,  4,  8,  5,  3,  9,  6,  7,  1,  2])"
      ]
     },
     "execution_count": 158,
     "metadata": {},
     "output_type": "execute_result"
    }
   ],
   "source": [
    "np.random.shuffle(matrix_e)\n",
    "matrix_e"
   ]
  },
  {
   "cell_type": "markdown",
   "id": "cada7295",
   "metadata": {},
   "source": [
    "### 실수 난수\n",
    "np.random.randn(n) np.random.randn(i, j)"
   ]
  },
  {
   "cell_type": "code",
   "execution_count": 193,
   "id": "5cfe0751",
   "metadata": {
    "ExecuteTime": {
     "end_time": "2023-12-15T07:17:19.782566Z",
     "start_time": "2023-12-15T07:17:19.776705Z"
    }
   },
   "outputs": [],
   "source": [
    "np.random.randn?"
   ]
  },
  {
   "cell_type": "code",
   "execution_count": 159,
   "id": "a526423d",
   "metadata": {
    "ExecuteTime": {
     "end_time": "2023-12-15T06:32:26.132462Z",
     "start_time": "2023-12-15T06:32:26.109677Z"
    }
   },
   "outputs": [
    {
     "data": {
      "text/plain": [
       "array([ 1.21564514,  0.28582506,  2.1108846 , -0.15438849,  0.86513081,\n",
       "        0.13059008,  1.61301839,  1.40437178,  0.55518889, -0.91238776])"
      ]
     },
     "execution_count": 159,
     "metadata": {},
     "output_type": "execute_result"
    }
   ],
   "source": [
    "matrix1 = np.random.randn(10) # 표준정규분포 0 ~ 분산1\n",
    "matrix1"
   ]
  },
  {
   "cell_type": "code",
   "execution_count": 160,
   "id": "cfc5568e",
   "metadata": {
    "ExecuteTime": {
     "end_time": "2023-12-15T06:32:31.027189Z",
     "start_time": "2023-12-15T06:32:31.022784Z"
    }
   },
   "outputs": [
    {
     "data": {
      "text/plain": [
       "array([[ 0.145425  ,  0.89474676,  0.30537338, -0.3857596 ],\n",
       "       [-0.17761605, -0.39078912, -0.47004198, -0.95698669],\n",
       "       [ 0.37288867, -0.08950229,  1.08571073,  0.90902382],\n",
       "       [-0.96517724, -0.9606675 ,  0.66567646, -1.06745908]])"
      ]
     },
     "execution_count": 160,
     "metadata": {},
     "output_type": "execute_result"
    }
   ],
   "source": [
    "matrix2 = np.random.randn(4, 4)\n",
    "matrix2"
   ]
  },
  {
   "cell_type": "code",
   "execution_count": 161,
   "id": "523a9026",
   "metadata": {
    "ExecuteTime": {
     "end_time": "2023-12-15T06:32:37.158490Z",
     "start_time": "2023-12-15T06:32:37.148497Z"
    }
   },
   "outputs": [
    {
     "data": {
      "text/plain": [
       "(2.1108846010486855, -0.9123877605141075)"
      ]
     },
     "execution_count": 161,
     "metadata": {},
     "output_type": "execute_result"
    }
   ],
   "source": [
    "matrix1.max(), matrix1.min()"
   ]
  },
  {
   "cell_type": "markdown",
   "id": "7904af17",
   "metadata": {},
   "source": [
    "### 집계함수에서의 축\n",
    "2차원에서의 집계합수(sum, mean)   \n",
    "axis = 0, 1   \n",
    "np.sum(넘파이배열, axis=0/1)   \n",
    "np.mean(넘파이배열, axis=0/1)   \n",
    "np.sort(넘파이배열, axis=0/1)   "
   ]
  },
  {
   "cell_type": "code",
   "execution_count": 162,
   "id": "064afe0a",
   "metadata": {
    "ExecuteTime": {
     "end_time": "2023-12-15T06:33:46.825241Z",
     "start_time": "2023-12-15T06:33:46.813057Z"
    }
   },
   "outputs": [
    {
     "data": {
      "text/plain": [
       "array([[31, 12, 44, 40, 20],\n",
       "       [41,  2, 30, 36, 22],\n",
       "       [ 7, 17, 47, 49, 19],\n",
       "       [ 3, 19,  9, 17, 43],\n",
       "       [36,  9, 48, 35, 44]])"
      ]
     },
     "execution_count": 162,
     "metadata": {},
     "output_type": "execute_result"
    }
   ],
   "source": [
    "m1 = np.random.randint(1, 50, (5,5))\n",
    "m1"
   ]
  },
  {
   "cell_type": "code",
   "execution_count": 163,
   "id": "718f15fb",
   "metadata": {
    "ExecuteTime": {
     "end_time": "2023-12-15T06:34:01.431131Z",
     "start_time": "2023-12-15T06:34:01.420815Z"
    }
   },
   "outputs": [
    {
     "data": {
      "text/plain": [
       "array([118,  59, 178, 177, 148])"
      ]
     },
     "execution_count": 163,
     "metadata": {},
     "output_type": "execute_result"
    }
   ],
   "source": [
    "np.sum(m1, axis=0) # (x)행 합계"
   ]
  },
  {
   "cell_type": "code",
   "execution_count": 164,
   "id": "69b46118",
   "metadata": {
    "ExecuteTime": {
     "end_time": "2023-12-15T06:34:07.872540Z",
     "start_time": "2023-12-15T06:34:07.866806Z"
    }
   },
   "outputs": [
    {
     "data": {
      "text/plain": [
       "array([147, 131, 139,  91, 172])"
      ]
     },
     "execution_count": 164,
     "metadata": {},
     "output_type": "execute_result"
    }
   ],
   "source": [
    "np.sum(m1, axis=1) # 열(y) 합계"
   ]
  },
  {
   "cell_type": "code",
   "execution_count": 166,
   "id": "18e81a96",
   "metadata": {
    "ExecuteTime": {
     "end_time": "2023-12-15T06:37:51.238142Z",
     "start_time": "2023-12-15T06:37:51.231275Z"
    }
   },
   "outputs": [
    {
     "data": {
      "text/plain": [
       "147"
      ]
     },
     "execution_count": 166,
     "metadata": {},
     "output_type": "execute_result"
    }
   ],
   "source": [
    "# 1번째행의 합계는\n",
    "np.sum(m1[0], axis=0) # x축(행 방향) 합계"
   ]
  },
  {
   "cell_type": "markdown",
   "id": "ab7a883e",
   "metadata": {},
   "source": [
    "### np.sort()"
   ]
  },
  {
   "cell_type": "code",
   "execution_count": 168,
   "id": "946bb2eb",
   "metadata": {
    "ExecuteTime": {
     "end_time": "2023-12-15T06:40:35.179001Z",
     "start_time": "2023-12-15T06:40:35.173168Z"
    }
   },
   "outputs": [
    {
     "data": {
      "text/plain": [
       "array([[33, 27, 11],\n",
       "       [24, 45, 40],\n",
       "       [12, 19, 43],\n",
       "       [13, 30, 10]])"
      ]
     },
     "execution_count": 168,
     "metadata": {},
     "output_type": "execute_result"
    }
   ],
   "source": [
    "m2 = np.random.randint(1, 50, (4, 3))\n",
    "m2"
   ]
  },
  {
   "cell_type": "code",
   "execution_count": 169,
   "id": "0be8ff7a",
   "metadata": {
    "ExecuteTime": {
     "end_time": "2023-12-15T06:40:44.464079Z",
     "start_time": "2023-12-15T06:40:44.458468Z"
    }
   },
   "outputs": [
    {
     "data": {
      "text/plain": [
       "array([[11, 27, 33],\n",
       "       [24, 40, 45],\n",
       "       [12, 19, 43],\n",
       "       [10, 13, 30]])"
      ]
     },
     "execution_count": 169,
     "metadata": {},
     "output_type": "execute_result"
    }
   ],
   "source": [
    "np.sort(m2) # 행 안에서 열정렬"
   ]
  },
  {
   "cell_type": "code",
   "execution_count": 171,
   "id": "9af0787d",
   "metadata": {
    "ExecuteTime": {
     "end_time": "2023-12-15T06:42:31.675949Z",
     "start_time": "2023-12-15T06:42:31.668843Z"
    }
   },
   "outputs": [
    {
     "data": {
      "text/plain": [
       "array([[33, 27, 11],\n",
       "       [24, 45, 40],\n",
       "       [12, 19, 43],\n",
       "       [13, 30, 10]])"
      ]
     },
     "execution_count": 171,
     "metadata": {},
     "output_type": "execute_result"
    }
   ],
   "source": [
    "m2"
   ]
  },
  {
   "cell_type": "code",
   "execution_count": 170,
   "id": "3c0b6bde",
   "metadata": {
    "ExecuteTime": {
     "end_time": "2023-12-15T06:41:53.784676Z",
     "start_time": "2023-12-15T06:41:53.776520Z"
    }
   },
   "outputs": [
    {
     "data": {
      "text/plain": [
       "array([[12, 19, 10],\n",
       "       [13, 27, 11],\n",
       "       [24, 30, 40],\n",
       "       [33, 45, 43]])"
      ]
     },
     "execution_count": 170,
     "metadata": {},
     "output_type": "execute_result"
    }
   ],
   "source": [
    "np.sort(m2, axis=0)"
   ]
  },
  {
   "cell_type": "code",
   "execution_count": 172,
   "id": "4653e2c9",
   "metadata": {
    "ExecuteTime": {
     "end_time": "2023-12-15T06:44:28.517474Z",
     "start_time": "2023-12-15T06:44:28.509084Z"
    }
   },
   "outputs": [
    {
     "data": {
      "text/plain": [
       "array([[11, 27, 33],\n",
       "       [24, 40, 45],\n",
       "       [12, 19, 43],\n",
       "       [10, 13, 30]])"
      ]
     },
     "execution_count": 172,
     "metadata": {},
     "output_type": "execute_result"
    }
   ],
   "source": [
    "np.sort(m2, axis=1)"
   ]
  },
  {
   "cell_type": "code",
   "execution_count": 194,
   "id": "224de58d",
   "metadata": {
    "ExecuteTime": {
     "end_time": "2023-12-15T07:19:01.402670Z",
     "start_time": "2023-12-15T07:19:01.388997Z"
    }
   },
   "outputs": [],
   "source": [
    "np.sort?"
   ]
  },
  {
   "cell_type": "markdown",
   "id": "52435134",
   "metadata": {},
   "source": [
    "### 인덱스 소팅\n",
    "np.argsort(넘파이배열, axis=0,1)  \n",
    "정렬값을 인덱스로 변환 (np.sort()를 인덱스로)"
   ]
  },
  {
   "cell_type": "code",
   "execution_count": 175,
   "id": "83629321",
   "metadata": {
    "ExecuteTime": {
     "end_time": "2023-12-15T06:47:35.769457Z",
     "start_time": "2023-12-15T06:47:35.764673Z"
    }
   },
   "outputs": [
    {
     "data": {
      "text/plain": [
       "array([2, 1, 0])"
      ]
     },
     "execution_count": 175,
     "metadata": {},
     "output_type": "execute_result"
    }
   ],
   "source": [
    "x = np.array([9, 5, 4])\n",
    "np.argsort(x) # 4, 5, 9에 대한 인덱스 값을 리턴"
   ]
  },
  {
   "cell_type": "code",
   "execution_count": 176,
   "id": "1060473f",
   "metadata": {
    "ExecuteTime": {
     "end_time": "2023-12-15T06:48:02.562586Z",
     "start_time": "2023-12-15T06:48:02.552828Z"
    }
   },
   "outputs": [
    {
     "data": {
      "text/plain": [
       "array([4, 5, 9])"
      ]
     },
     "execution_count": 176,
     "metadata": {},
     "output_type": "execute_result"
    }
   ],
   "source": [
    "x[np.argsort(x)]"
   ]
  },
  {
   "cell_type": "code",
   "execution_count": 195,
   "id": "c85e4b05",
   "metadata": {
    "ExecuteTime": {
     "end_time": "2023-12-15T07:23:41.065417Z",
     "start_time": "2023-12-15T07:23:41.050368Z"
    }
   },
   "outputs": [],
   "source": [
    "np.argsort?"
   ]
  },
  {
   "cell_type": "code",
   "execution_count": null,
   "id": "a0871941",
   "metadata": {},
   "outputs": [],
   "source": []
  }
 ],
 "metadata": {
  "kernelspec": {
   "display_name": "Python 3 (ipykernel)",
   "language": "python",
   "name": "python3"
  },
  "language_info": {
   "codemirror_mode": {
    "name": "ipython",
    "version": 3
   },
   "file_extension": ".py",
   "mimetype": "text/x-python",
   "name": "python",
   "nbconvert_exporter": "python",
   "pygments_lexer": "ipython3",
   "version": "3.11.5"
  },
  "toc": {
   "base_numbering": 1,
   "nav_menu": {},
   "number_sections": true,
   "sideBar": true,
   "skip_h1_title": false,
   "title_cell": "Table of Contents",
   "title_sidebar": "Contents",
   "toc_cell": false,
   "toc_position": {
    "height": "calc(100% - 180px)",
    "left": "10px",
    "top": "150px",
    "width": "256px"
   },
   "toc_section_display": true,
   "toc_window_display": true
  }
 },
 "nbformat": 4,
 "nbformat_minor": 5
}
