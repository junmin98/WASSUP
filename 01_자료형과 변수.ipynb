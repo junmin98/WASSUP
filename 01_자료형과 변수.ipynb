{
 "cells": [
  {
   "cell_type": "markdown",
   "id": "c4039ddd",
   "metadata": {},
   "source": [
    "# 숫자형"
   ]
  },
  {
   "cell_type": "markdown",
   "id": "72496b24",
   "metadata": {},
   "source": [
    "## 정수형"
   ]
  },
  {
   "cell_type": "code",
   "execution_count": 2,
   "id": "9e05b92d",
   "metadata": {
    "ExecuteTime": {
     "end_time": "2023-11-23T02:18:54.177550Z",
     "start_time": "2023-11-23T02:18:54.172583Z"
    }
   },
   "outputs": [],
   "source": [
    "a = 123"
   ]
  },
  {
   "cell_type": "code",
   "execution_count": 3,
   "id": "c4312ee5",
   "metadata": {
    "ExecuteTime": {
     "end_time": "2023-11-23T02:18:56.139827Z",
     "start_time": "2023-11-23T02:18:56.128208Z"
    }
   },
   "outputs": [
    {
     "data": {
      "text/plain": [
       "123"
      ]
     },
     "execution_count": 3,
     "metadata": {},
     "output_type": "execute_result"
    }
   ],
   "source": [
    "a"
   ]
  },
  {
   "cell_type": "code",
   "execution_count": 4,
   "id": "95f2b999",
   "metadata": {
    "ExecuteTime": {
     "end_time": "2023-11-23T02:20:48.369717Z",
     "start_time": "2023-11-23T02:20:48.363888Z"
    }
   },
   "outputs": [],
   "source": [
    "a = -178"
   ]
  },
  {
   "cell_type": "code",
   "execution_count": 5,
   "id": "141cfe3f",
   "metadata": {
    "ExecuteTime": {
     "end_time": "2023-11-23T02:20:49.530861Z",
     "start_time": "2023-11-23T02:20:49.521701Z"
    }
   },
   "outputs": [
    {
     "data": {
      "text/plain": [
       "-178"
      ]
     },
     "execution_count": 5,
     "metadata": {},
     "output_type": "execute_result"
    }
   ],
   "source": [
    "a"
   ]
  },
  {
   "cell_type": "code",
   "execution_count": 6,
   "id": "6c67d9cd",
   "metadata": {
    "ExecuteTime": {
     "end_time": "2023-11-23T02:21:02.317651Z",
     "start_time": "2023-11-23T02:21:02.312267Z"
    }
   },
   "outputs": [],
   "source": [
    "a = 0"
   ]
  },
  {
   "cell_type": "markdown",
   "id": "61c6279f",
   "metadata": {},
   "source": [
    "## 실수형"
   ]
  },
  {
   "cell_type": "code",
   "execution_count": 7,
   "id": "2a0c4b47",
   "metadata": {
    "ExecuteTime": {
     "end_time": "2023-11-23T02:21:33.815441Z",
     "start_time": "2023-11-23T02:21:33.809467Z"
    }
   },
   "outputs": [],
   "source": [
    "a = 1.2 "
   ]
  },
  {
   "cell_type": "code",
   "execution_count": 8,
   "id": "0b227e33",
   "metadata": {
    "ExecuteTime": {
     "end_time": "2023-11-23T02:21:35.806071Z",
     "start_time": "2023-11-23T02:21:35.798030Z"
    }
   },
   "outputs": [
    {
     "data": {
      "text/plain": [
       "1.2"
      ]
     },
     "execution_count": 8,
     "metadata": {},
     "output_type": "execute_result"
    }
   ],
   "source": [
    "a"
   ]
  },
  {
   "cell_type": "code",
   "execution_count": 9,
   "id": "ead9bd35",
   "metadata": {
    "ExecuteTime": {
     "end_time": "2023-11-23T02:21:40.210027Z",
     "start_time": "2023-11-23T02:21:40.205230Z"
    }
   },
   "outputs": [],
   "source": [
    "a = -3.45"
   ]
  },
  {
   "cell_type": "code",
   "execution_count": 10,
   "id": "64bed8b1",
   "metadata": {
    "ExecuteTime": {
     "end_time": "2023-11-23T02:21:41.779919Z",
     "start_time": "2023-11-23T02:21:41.772457Z"
    }
   },
   "outputs": [
    {
     "data": {
      "text/plain": [
       "-3.45"
      ]
     },
     "execution_count": 10,
     "metadata": {},
     "output_type": "execute_result"
    }
   ],
   "source": [
    "a"
   ]
  },
  {
   "cell_type": "code",
   "execution_count": 11,
   "id": "a68cc41f",
   "metadata": {
    "ExecuteTime": {
     "end_time": "2023-11-23T02:22:26.034731Z",
     "start_time": "2023-11-23T02:22:26.029974Z"
    }
   },
   "outputs": [],
   "source": [
    "# 컴퓨터식 지수 표현\n",
    "a = 4.24E10 # 4.24 * 10^10"
   ]
  },
  {
   "cell_type": "code",
   "execution_count": 12,
   "id": "9a352d1c",
   "metadata": {
    "ExecuteTime": {
     "end_time": "2023-11-23T02:22:27.212273Z",
     "start_time": "2023-11-23T02:22:27.204546Z"
    }
   },
   "outputs": [
    {
     "data": {
      "text/plain": [
       "42400000000.0"
      ]
     },
     "execution_count": 12,
     "metadata": {},
     "output_type": "execute_result"
    }
   ],
   "source": [
    "a"
   ]
  },
  {
   "cell_type": "code",
   "execution_count": 13,
   "id": "5f8d8eda",
   "metadata": {
    "ExecuteTime": {
     "end_time": "2023-11-23T02:23:22.666727Z",
     "start_time": "2023-11-23T02:23:22.657667Z"
    }
   },
   "outputs": [
    {
     "data": {
      "text/plain": [
       "127"
      ]
     },
     "execution_count": 13,
     "metadata": {},
     "output_type": "execute_result"
    }
   ],
   "source": [
    "# 8진수와 16진수\n",
    "a = 0o177 # 8진수\n",
    "a"
   ]
  },
  {
   "cell_type": "code",
   "execution_count": 14,
   "id": "e83f4c95",
   "metadata": {
    "ExecuteTime": {
     "end_time": "2023-11-23T02:23:33.150213Z",
     "start_time": "2023-11-23T02:23:33.142304Z"
    }
   },
   "outputs": [
    {
     "data": {
      "text/plain": [
       "int"
      ]
     },
     "execution_count": 14,
     "metadata": {},
     "output_type": "execute_result"
    }
   ],
   "source": [
    "type(a)"
   ]
  },
  {
   "cell_type": "code",
   "execution_count": 15,
   "id": "222e7d49",
   "metadata": {
    "ExecuteTime": {
     "end_time": "2023-11-23T02:23:58.077705Z",
     "start_time": "2023-11-23T02:23:58.070050Z"
    }
   },
   "outputs": [
    {
     "data": {
      "text/plain": [
       "2303"
      ]
     },
     "execution_count": 15,
     "metadata": {},
     "output_type": "execute_result"
    }
   ],
   "source": [
    "a = 0x8ff # 16진수\n",
    "a"
   ]
  },
  {
   "cell_type": "markdown",
   "id": "941756d8",
   "metadata": {},
   "source": [
    "## 사칙연산"
   ]
  },
  {
   "cell_type": "code",
   "execution_count": 16,
   "id": "18ca9da3",
   "metadata": {
    "ExecuteTime": {
     "end_time": "2023-11-23T02:24:24.128717Z",
     "start_time": "2023-11-23T02:24:24.120469Z"
    }
   },
   "outputs": [
    {
     "data": {
      "text/plain": [
       "7"
      ]
     },
     "execution_count": 16,
     "metadata": {},
     "output_type": "execute_result"
    }
   ],
   "source": [
    "a = 3\n",
    "b = 4\n",
    "a + b"
   ]
  },
  {
   "cell_type": "code",
   "execution_count": 18,
   "id": "d5fe04bc",
   "metadata": {
    "ExecuteTime": {
     "end_time": "2023-11-23T02:25:15.699219Z",
     "start_time": "2023-11-23T02:25:15.691497Z"
    }
   },
   "outputs": [
    {
     "data": {
      "text/plain": [
       "12"
      ]
     },
     "execution_count": 18,
     "metadata": {},
     "output_type": "execute_result"
    }
   ],
   "source": [
    "a * b"
   ]
  },
  {
   "cell_type": "code",
   "execution_count": 19,
   "id": "8f73dbd5",
   "metadata": {
    "ExecuteTime": {
     "end_time": "2023-11-23T02:25:19.375553Z",
     "start_time": "2023-11-23T02:25:19.367357Z"
    }
   },
   "outputs": [
    {
     "data": {
      "text/plain": [
       "0.75"
      ]
     },
     "execution_count": 19,
     "metadata": {},
     "output_type": "execute_result"
    }
   ],
   "source": [
    "a / b"
   ]
  },
  {
   "cell_type": "code",
   "execution_count": 20,
   "id": "b88974b7",
   "metadata": {
    "ExecuteTime": {
     "end_time": "2023-11-23T02:27:02.066334Z",
     "start_time": "2023-11-23T02:27:02.057727Z"
    }
   },
   "outputs": [
    {
     "data": {
      "text/plain": [
       "81"
      ]
     },
     "execution_count": 20,
     "metadata": {},
     "output_type": "execute_result"
    }
   ],
   "source": [
    "# a의 b제곱\n",
    "a ** b"
   ]
  },
  {
   "cell_type": "code",
   "execution_count": 21,
   "id": "2273739b",
   "metadata": {
    "ExecuteTime": {
     "end_time": "2023-11-23T02:27:22.980670Z",
     "start_time": "2023-11-23T02:27:22.972374Z"
    }
   },
   "outputs": [
    {
     "data": {
      "text/plain": [
       "1"
      ]
     },
     "execution_count": 21,
     "metadata": {},
     "output_type": "execute_result"
    }
   ],
   "source": [
    "# 나눗셈 나머지 반환\n",
    "7 % 3"
   ]
  },
  {
   "cell_type": "code",
   "execution_count": 22,
   "id": "1d95b54f",
   "metadata": {
    "ExecuteTime": {
     "end_time": "2023-11-23T02:27:31.142276Z",
     "start_time": "2023-11-23T02:27:31.135700Z"
    }
   },
   "outputs": [
    {
     "data": {
      "text/plain": [
       "3"
      ]
     },
     "execution_count": 22,
     "metadata": {},
     "output_type": "execute_result"
    }
   ],
   "source": [
    "3 % 7"
   ]
  },
  {
   "cell_type": "code",
   "execution_count": 23,
   "id": "24bc2d3d",
   "metadata": {
    "ExecuteTime": {
     "end_time": "2023-11-23T02:27:44.653085Z",
     "start_time": "2023-11-23T02:27:44.644521Z"
    }
   },
   "outputs": [
    {
     "data": {
      "text/plain": [
       "1"
      ]
     },
     "execution_count": 23,
     "metadata": {},
     "output_type": "execute_result"
    }
   ],
   "source": [
    "# 나눗셈 몫 반환\n",
    "7 // 4"
   ]
  },
  {
   "cell_type": "markdown",
   "id": "b76d7e14",
   "metadata": {},
   "source": [
    "# 문자열"
   ]
  },
  {
   "cell_type": "code",
   "execution_count": 24,
   "id": "96a45795",
   "metadata": {
    "ExecuteTime": {
     "end_time": "2023-11-23T02:32:55.158454Z",
     "start_time": "2023-11-23T02:32:55.152446Z"
    }
   },
   "outputs": [
    {
     "data": {
      "text/plain": [
       "'Hello World'"
      ]
     },
     "execution_count": 24,
     "metadata": {},
     "output_type": "execute_result"
    }
   ],
   "source": [
    "\"Hello World\""
   ]
  },
  {
   "cell_type": "code",
   "execution_count": 25,
   "id": "a10dac6f",
   "metadata": {
    "ExecuteTime": {
     "end_time": "2023-11-23T02:33:01.395115Z",
     "start_time": "2023-11-23T02:33:01.387338Z"
    }
   },
   "outputs": [
    {
     "data": {
      "text/plain": [
       "'Hello World'"
      ]
     },
     "execution_count": 25,
     "metadata": {},
     "output_type": "execute_result"
    }
   ],
   "source": [
    "'Hello World'"
   ]
  },
  {
   "cell_type": "code",
   "execution_count": 29,
   "id": "ea797f16",
   "metadata": {
    "ExecuteTime": {
     "end_time": "2023-11-23T02:36:09.624412Z",
     "start_time": "2023-11-23T02:36:09.616739Z"
    }
   },
   "outputs": [
    {
     "data": {
      "text/plain": [
       "'Life is too short, You need python'"
      ]
     },
     "execution_count": 29,
     "metadata": {},
     "output_type": "execute_result"
    }
   ],
   "source": [
    "\"\"\"Life is too short, You need python\"\"\""
   ]
  },
  {
   "cell_type": "code",
   "execution_count": 31,
   "id": "b93a0c9d",
   "metadata": {
    "ExecuteTime": {
     "end_time": "2023-11-23T02:36:30.662851Z",
     "start_time": "2023-11-23T02:36:30.659251Z"
    }
   },
   "outputs": [],
   "source": [
    "food = \"Python's favorite food is perl\""
   ]
  },
  {
   "cell_type": "code",
   "execution_count": 32,
   "id": "0131fa0d",
   "metadata": {
    "ExecuteTime": {
     "end_time": "2023-11-23T02:36:37.601223Z",
     "start_time": "2023-11-23T02:36:37.592585Z"
    }
   },
   "outputs": [
    {
     "data": {
      "text/plain": [
       "\"Python's favorite food is perl\""
      ]
     },
     "execution_count": 32,
     "metadata": {},
     "output_type": "execute_result"
    }
   ],
   "source": [
    "food"
   ]
  },
  {
   "cell_type": "code",
   "execution_count": 36,
   "id": "566574bf",
   "metadata": {
    "ExecuteTime": {
     "end_time": "2023-11-23T02:38:32.154068Z",
     "start_time": "2023-11-23T02:38:32.146440Z"
    }
   },
   "outputs": [
    {
     "data": {
      "text/plain": [
       "'\"Python is very easy.\" he says.'"
      ]
     },
     "execution_count": 36,
     "metadata": {},
     "output_type": "execute_result"
    }
   ],
   "source": [
    "'\"Python is very easy.\" he says.'"
   ]
  },
  {
   "cell_type": "code",
   "execution_count": 39,
   "id": "05ecaae0",
   "metadata": {
    "ExecuteTime": {
     "end_time": "2023-11-23T02:41:18.782679Z",
     "start_time": "2023-11-23T02:41:18.775056Z"
    }
   },
   "outputs": [
    {
     "data": {
      "text/plain": [
       "(\"Python's favorite food is perl\", '\"Python is very easy.\" he says.')"
      ]
     },
     "execution_count": 39,
     "metadata": {},
     "output_type": "execute_result"
    }
   ],
   "source": [
    "# 백슬래시 사용해서 따옴표를 문자열에도 포함하기\n",
    "food = 'Python\\'s favorite food is perl'\n",
    "say = \"\\\"Python is very easy.\\\" he says.\"\n",
    "food, say"
   ]
  },
  {
   "cell_type": "markdown",
   "id": "e9033952",
   "metadata": {
    "ExecuteTime": {
     "end_time": "2023-11-23T02:42:17.317280Z",
     "start_time": "2023-11-23T02:42:17.313266Z"
    }
   },
   "source": [
    "## 여러 줄인 문자열을 변수에 대입"
   ]
  },
  {
   "cell_type": "code",
   "execution_count": 41,
   "id": "f6888022",
   "metadata": {
    "ExecuteTime": {
     "end_time": "2023-11-23T02:43:14.236130Z",
     "start_time": "2023-11-23T02:43:14.228592Z"
    }
   },
   "outputs": [
    {
     "data": {
      "text/plain": [
       "'Life is too short. \\n You need python'"
      ]
     },
     "execution_count": 41,
     "metadata": {},
     "output_type": "execute_result"
    }
   ],
   "source": [
    "# 줄을 바꾸는 이스케이프 문자 : \\n\n",
    "multiline = \"Life is too short. \\n You need python\"\n",
    "multiline # notebook 편의 기능"
   ]
  },
  {
   "cell_type": "code",
   "execution_count": 42,
   "id": "e502d76f",
   "metadata": {
    "ExecuteTime": {
     "end_time": "2023-11-23T02:43:47.844505Z",
     "start_time": "2023-11-23T02:43:47.837432Z"
    }
   },
   "outputs": [
    {
     "name": "stdout",
     "output_type": "stream",
     "text": [
      "Life is too short. \n",
      " You need python\n"
     ]
    }
   ],
   "source": [
    "print(multiline) # python 내장함수"
   ]
  },
  {
   "cell_type": "markdown",
   "id": "4feb6bad",
   "metadata": {},
   "source": [
    "## 연속된 따옴표 사용하기"
   ]
  },
  {
   "cell_type": "code",
   "execution_count": 43,
   "id": "fef36151",
   "metadata": {
    "ExecuteTime": {
     "end_time": "2023-11-23T02:46:43.252133Z",
     "start_time": "2023-11-23T02:46:43.245027Z"
    }
   },
   "outputs": [
    {
     "name": "stdout",
     "output_type": "stream",
     "text": [
      "\"Life is too short. \n",
      " You need python\"\n"
     ]
    }
   ],
   "source": [
    "multiline = \"\\\"Life is too short. \\n You need python\\\"\"\n",
    "print(multiline)"
   ]
  },
  {
   "cell_type": "markdown",
   "id": "335d6c6e",
   "metadata": {},
   "source": [
    "## 문자열 연산하기"
   ]
  },
  {
   "cell_type": "code",
   "execution_count": null,
   "id": "c7bb3e3d",
   "metadata": {},
   "outputs": [],
   "source": []
  }
 ],
 "metadata": {
  "kernelspec": {
   "display_name": "Python 3 (ipykernel)",
   "language": "python",
   "name": "python3"
  },
  "language_info": {
   "codemirror_mode": {
    "name": "ipython",
    "version": 3
   },
   "file_extension": ".py",
   "mimetype": "text/x-python",
   "name": "python",
   "nbconvert_exporter": "python",
   "pygments_lexer": "ipython3",
   "version": "3.11.5"
  },
  "toc": {
   "base_numbering": 1,
   "nav_menu": {},
   "number_sections": true,
   "sideBar": true,
   "skip_h1_title": false,
   "title_cell": "Table of Contents",
   "title_sidebar": "Contents",
   "toc_cell": false,
   "toc_position": {
    "height": "calc(100% - 180px)",
    "left": "10px",
    "top": "150px",
    "width": "196.4px"
   },
   "toc_section_display": true,
   "toc_window_display": false
  }
 },
 "nbformat": 4,
 "nbformat_minor": 5
}
