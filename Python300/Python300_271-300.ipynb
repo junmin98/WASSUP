{
 "cells": [
  {
   "cell_type": "code",
   "execution_count": 1,
   "id": "23c739eb",
   "metadata": {
    "ExecuteTime": {
     "end_time": "2023-12-05T09:21:57.074195Z",
     "start_time": "2023-12-05T09:21:57.063753Z"
    }
   },
   "outputs": [
    {
     "name": "stdout",
     "output_type": "stream",
     "text": [
      "뽀로로\n",
      "2000\n",
      "SC은행\n",
      "013-05-617321\n"
     ]
    }
   ],
   "source": [
    "# 271\n",
    "import random\n",
    "\n",
    "class Account:\n",
    "    def __init__(self, name, balance):\n",
    "        self.name = name\n",
    "        self.balance = balance\n",
    "        self.bank = 'SC은행'\n",
    "        \n",
    "        num1 = str(random.randint(0, 999)).zfill(3)\n",
    "        num2 = str(random.randint(0, 99)).zfill(2)\n",
    "        num3 = str(random.randint(0, 999999)).zfill(6)\n",
    "        \n",
    "        self.account_num = f'{num1}-{num2}-{num3}'\n",
    "\n",
    "pororo = Account('뽀로로', 2000)\n",
    "print(pororo.name)\n",
    "print(pororo.balance)\n",
    "print(pororo.bank)\n",
    "print(pororo.account_num)"
   ]
  },
  {
   "cell_type": "code",
   "execution_count": 2,
   "id": "f9d05ff2",
   "metadata": {
    "ExecuteTime": {
     "end_time": "2023-12-05T09:21:57.079775Z",
     "start_time": "2023-12-05T09:21:57.075856Z"
    }
   },
   "outputs": [
    {
     "name": "stdout",
     "output_type": "stream",
     "text": [
      "2\n"
     ]
    }
   ],
   "source": [
    "# 272\n",
    "class Account:\n",
    "    account_count = 0\n",
    "    def __init__(self, name, balance):\n",
    "        self.name = name\n",
    "        self.balance = balance\n",
    "        self.bank = 'SC은행'\n",
    "        \n",
    "        num1 = str(random.randint(0, 999)).zfill(3)\n",
    "        num2 = str(random.randint(0, 99)).zfill(2)\n",
    "        num3 = str(random.randint(0, 999999)).zfill(6)\n",
    "        \n",
    "        self.account_num = f'{num1}-{num2}-{num3}'\n",
    "        Account.account_count += 1\n",
    "\n",
    "pororo = Account(\"뽀로로\", 2000)\n",
    "pobi = Account(\"포비\", 30000)\n",
    "print(Account.account_count)"
   ]
  },
  {
   "cell_type": "code",
   "execution_count": 3,
   "id": "8bc397a6",
   "metadata": {
    "ExecuteTime": {
     "end_time": "2023-12-05T09:21:57.086912Z",
     "start_time": "2023-12-05T09:21:57.081853Z"
    }
   },
   "outputs": [
    {
     "name": "stdout",
     "output_type": "stream",
     "text": [
      "1\n"
     ]
    }
   ],
   "source": [
    "# 273\n",
    "import random\n",
    "\n",
    "class Account:\n",
    "    account_count = 0\n",
    "    \n",
    "    def __init__(self, name, balance):\n",
    "        self.name = name\n",
    "        self.balance = balance\n",
    "        self.bank = 'SC은행'\n",
    "        \n",
    "        num1 = str(random.randint(0, 999)).zfill(3)\n",
    "        num2 = str(random.randint(0, 99)).zfill(2)\n",
    "        num3 = str(random.randint(0, 999999)).zfill(6)\n",
    "        \n",
    "        self.account_num = f'{num1}-{num2}-{num3}'\n",
    "        Account.account_count += 1\n",
    "        \n",
    "    def get_account_num(self):\n",
    "        print(Account.account_count)\n",
    "        \n",
    "pororo = Account(\"뽀로로\", 2000)\n",
    "pororo.get_account_num()"
   ]
  },
  {
   "cell_type": "code",
   "execution_count": 4,
   "id": "94bb4e04",
   "metadata": {
    "ExecuteTime": {
     "end_time": "2023-12-05T09:21:57.093504Z",
     "start_time": "2023-12-05T09:21:57.090090Z"
    }
   },
   "outputs": [],
   "source": [
    "# 274\n",
    "class Account:\n",
    "    account_count = 0\n",
    "    \n",
    "    def __init__(self, name, balance):\n",
    "        self.name = name\n",
    "        self.balance = balance\n",
    "        self.bank = 'SC은행'\n",
    "        \n",
    "        num1 = str(random.randint(0, 999)).zfill(3)\n",
    "        num2 = str(random.randint(0, 99)).zfill(2)\n",
    "        num3 = str(random.randint(0, 999999)).zfill(6)\n",
    "        \n",
    "        self.account_num = f'{num1}-{num2}-{num3}'\n",
    "        Account.account_count += 1\n",
    "        \n",
    "    def get_account_num(self):\n",
    "        print(Account.account_count)\n",
    "        \n",
    "    def deposit(self, money):\n",
    "        if money >= 1:\n",
    "            self.balance += money\n",
    "            "
   ]
  },
  {
   "cell_type": "code",
   "execution_count": 5,
   "id": "80ecd18c",
   "metadata": {
    "ExecuteTime": {
     "end_time": "2023-12-05T09:21:57.098045Z",
     "start_time": "2023-12-05T09:21:57.094651Z"
    }
   },
   "outputs": [],
   "source": [
    "# 275\n",
    "class Account:\n",
    "    account_count = 0\n",
    "    \n",
    "    def __init__(self, name, balance):\n",
    "        self.name = name\n",
    "        self.balance = balance\n",
    "        self.bank = 'SC은행'\n",
    "        \n",
    "        num1 = str(random.randint(0, 999)).zfill(3)\n",
    "        num2 = str(random.randint(0, 99)).zfill(2)\n",
    "        num3 = str(random.randint(0, 999999)).zfill(6)\n",
    "        \n",
    "        self.account_num = f'{num1}-{num2}-{num3}'\n",
    "        Account.account_count += 1\n",
    "        \n",
    "    def get_account_num(self):\n",
    "        print(Account.account_count)\n",
    "        \n",
    "    def deposit(self, money):\n",
    "        if money >= 1:\n",
    "            self.balance += money\n",
    "    def withdraw(self, money):\n",
    "        if self.balance >= money:\n",
    "            self.balance -= money\n",
    "            "
   ]
  },
  {
   "cell_type": "code",
   "execution_count": 6,
   "id": "7026361b",
   "metadata": {
    "ExecuteTime": {
     "end_time": "2023-12-05T09:21:57.102864Z",
     "start_time": "2023-12-05T09:21:57.099079Z"
    }
   },
   "outputs": [
    {
     "name": "stdout",
     "output_type": "stream",
     "text": [
      "은행이름:  SC은행\n",
      "예금주:  pororo\n",
      "계좌번호:  308-73-915309\n",
      "잔고:  10000\n"
     ]
    }
   ],
   "source": [
    "class Account:\n",
    "    account_count = 0\n",
    "    \n",
    "    def __init__(self, name, balance):\n",
    "        self.name = name\n",
    "        self.balance = balance\n",
    "        self.bank = 'SC은행'\n",
    "        \n",
    "        num1 = str(random.randint(0, 999)).zfill(3)\n",
    "        num2 = str(random.randint(0, 99)).zfill(2)\n",
    "        num3 = str(random.randint(0, 999999)).zfill(6)\n",
    "        \n",
    "        self.account_num = f'{num1}-{num2}-{num3}'\n",
    "        Account.account_count += 1\n",
    "        \n",
    "    def get_account_num(self):\n",
    "        print(Account.account_count)\n",
    "        \n",
    "    def deposit(self, money):\n",
    "        if money >= 1:\n",
    "            self.balance += money\n",
    "    def withdraw(self, money):\n",
    "        if self.balance >= money:\n",
    "            self.balance -= money\n",
    "    def display_info(self):\n",
    "        print(\"은행이름: \", self.bank)\n",
    "        print(\"예금주: \", self.name)\n",
    "        print(\"계좌번호: \", self.account_num)\n",
    "        print(\"잔고: \", self.balance)\n",
    "\n",
    "pororo = Account('pororo', 10000)\n",
    "pororo.display_info()"
   ]
  },
  {
   "cell_type": "code",
   "execution_count": 7,
   "id": "35897276",
   "metadata": {
    "ExecuteTime": {
     "end_time": "2023-12-05T09:21:57.106906Z",
     "start_time": "2023-12-05T09:21:57.103994Z"
    }
   },
   "outputs": [
    {
     "name": "stdout",
     "output_type": "stream",
     "text": [
      "50000\n"
     ]
    }
   ],
   "source": [
    "# 277\n",
    "p = Account(\"파이썬\", 10000)\n",
    "p.deposit(10000)\n",
    "p.deposit(10000)\n",
    "p.deposit(10000)\n",
    "p.deposit(5000)\n",
    "p.deposit(5000)\n",
    "print(p.balance)"
   ]
  },
  {
   "cell_type": "code",
   "execution_count": 8,
   "id": "7875ccc9",
   "metadata": {
    "ExecuteTime": {
     "end_time": "2023-12-05T09:21:57.110874Z",
     "start_time": "2023-12-05T09:21:57.108628Z"
    }
   },
   "outputs": [
    {
     "name": "stdout",
     "output_type": "stream",
     "text": [
      "[<__main__.Account object at 0x1089bd910>, <__main__.Account object at 0x1089c7710>, <__main__.Account object at 0x1089c2250>]\n"
     ]
    }
   ],
   "source": [
    "# 278\n",
    "p = Account(\"뽀로로\", 10000)\n",
    "e = Account(\"에디\", 20000)\n",
    "c = Account(\"크롱\", 22200)\n",
    "\n",
    "data_list = [p, e, c]\n",
    "print(data_list)\n"
   ]
  },
  {
   "cell_type": "code",
   "execution_count": 9,
   "id": "8a7e5da5",
   "metadata": {
    "ExecuteTime": {
     "end_time": "2023-12-05T09:21:57.113651Z",
     "start_time": "2023-12-05T09:21:57.111621Z"
    }
   },
   "outputs": [
    {
     "name": "stdout",
     "output_type": "stream",
     "text": [
      "은행이름:  SC은행\n",
      "예금주:  뽀로로\n",
      "계좌번호:  372-64-559357\n",
      "잔고:  100000000\n",
      "은행이름:  SC은행\n",
      "예금주:  크롱\n",
      "계좌번호:  007-56-381883\n",
      "잔고:  22200000000\n"
     ]
    }
   ],
   "source": [
    "# 279\n",
    "\n",
    "p = Account(\"뽀로로\", 100000000)\n",
    "e = Account(\"에디\", 200000)\n",
    "c = Account(\"크롱\", 22200000000)\n",
    "\n",
    "data_list = [p, e, c]\n",
    "\n",
    "for d in data_list:\n",
    "    if d.balance >= 1000000:\n",
    "        d.display_info()"
   ]
  },
  {
   "cell_type": "code",
   "execution_count": 10,
   "id": "5c9ebd91",
   "metadata": {
    "ExecuteTime": {
     "end_time": "2023-12-05T09:21:57.120327Z",
     "start_time": "2023-12-05T09:21:57.115917Z"
    }
   },
   "outputs": [],
   "source": [
    "# 280\n",
    "\n",
    "class Account:\n",
    "    account_count = 0\n",
    "    \n",
    "    def __init__(self, name, balance):\n",
    "        self.name = name\n",
    "        self.balance = balance\n",
    "        self.bank = 'SC은행'\n",
    "        self.deposit_count = 0\n",
    "        self.deposit_log = []\n",
    "        self.withdraw_log = []\n",
    "        \n",
    "        num1 = str(random.randint(0, 999)).zfill(3)\n",
    "        num2 = str(random.randint(0, 99)).zfill(2)\n",
    "        num3 = str(random.randint(0, 999999)).zfill(6)\n",
    "        \n",
    "        self.account_num = f'{num1}-{num2}-{num3}'\n",
    "        Account.account_count += 1\n",
    "        \n",
    "    def get_account_num(self):\n",
    "        print(Account.account_count)\n",
    "        \n",
    "    def deposit(self, money):\n",
    "        if money >= 1:\n",
    "            self.balance += money\n",
    "            self.deposit_count += 1\n",
    "            self.deposit_log.append(money)\n",
    "            \n",
    "            if self.deposit_count % 5 == 0:\n",
    "                self.balance *= 1.01\n",
    "        \n",
    "    def withdraw(self, money):\n",
    "        if self.balance >= money:\n",
    "            self.balance -= money\n",
    "            self.withdraw_log.append(money)\n",
    "            \n",
    "    def deposit_history(self):\n",
    "        for money_log in self.deposit_log:\n",
    "            print(money_log)\n",
    "        \n",
    "        \n",
    "    def withdraw_history(self):\n",
    "        for money_log in self.withdraw_log:\n",
    "            print(money_log)\n",
    "        \n",
    "        \n",
    "    def display_info(self):\n",
    "        print(\"은행이름: \", self.bank)\n",
    "        print(\"예금주: \", self.name)\n",
    "        print(\"계좌번호: \", self.account_num)\n",
    "        print(\"잔고: \", self.balance)"
   ]
  },
  {
   "cell_type": "code",
   "execution_count": 11,
   "id": "cf00b185",
   "metadata": {
    "ExecuteTime": {
     "end_time": "2023-12-05T09:21:57.123596Z",
     "start_time": "2023-12-05T09:21:57.121449Z"
    }
   },
   "outputs": [
    {
     "name": "stdout",
     "output_type": "stream",
     "text": [
      "100\n",
      "200\n",
      "300\n",
      "100\n",
      "200\n"
     ]
    }
   ],
   "source": [
    "k = Account(\"Kim\", 1000)\n",
    "k.deposit(100)\n",
    "k.deposit(200)\n",
    "k.deposit(300)\n",
    "k.deposit_history()\n",
    "\n",
    "k.withdraw(100)\n",
    "k.withdraw(200)\n",
    "k.withdraw_history()"
   ]
  },
  {
   "cell_type": "markdown",
   "id": "0c6928b1",
   "metadata": {},
   "source": [
    "# 281~290"
   ]
  },
  {
   "cell_type": "code",
   "execution_count": 12,
   "id": "64715c57",
   "metadata": {
    "ExecuteTime": {
     "end_time": "2023-12-05T09:25:42.206659Z",
     "start_time": "2023-12-05T09:25:42.196965Z"
    }
   },
   "outputs": [
    {
     "name": "stdout",
     "output_type": "stream",
     "text": [
      "2 100\n"
     ]
    }
   ],
   "source": [
    "# 281\n",
    "class 차:\n",
    "    def __init__(self, num_wheel, price):\n",
    "        self.바퀴 = num_wheel\n",
    "        self.가격 = price\n",
    "\n",
    "car = 차(2, 100)\n",
    "print(car.바퀴, car.가격)"
   ]
  },
  {
   "cell_type": "code",
   "execution_count": 15,
   "id": "44aaa06b",
   "metadata": {
    "ExecuteTime": {
     "end_time": "2023-12-05T09:28:48.983306Z",
     "start_time": "2023-12-05T09:28:48.978665Z"
    }
   },
   "outputs": [
    {
     "name": "stdout",
     "output_type": "stream",
     "text": [
      "2 10\n"
     ]
    }
   ],
   "source": [
    "# 282 - 283\n",
    "class 자전거(차):\n",
    "    pass\n",
    "bike = 자전거(2, 10)\n",
    "\n",
    "print(bike.바퀴, bike.가격)"
   ]
  },
  {
   "cell_type": "code",
   "execution_count": 16,
   "id": "6be25efb",
   "metadata": {
    "ExecuteTime": {
     "end_time": "2023-12-05T09:30:45.947662Z",
     "start_time": "2023-12-05T09:30:45.934646Z"
    }
   },
   "outputs": [
    {
     "data": {
      "text/plain": [
       "'시미노'"
      ]
     },
     "execution_count": 16,
     "metadata": {},
     "output_type": "execute_result"
    }
   ],
   "source": [
    "# 284\n",
    "class 자전거(차):\n",
    "    def __init__(self, num_wheel, price, 구동계):\n",
    "        self.바퀴 = num_wheel\n",
    "        self.price = price\n",
    "        self.구동계 = 구동계\n",
    "        \n",
    "bicycle = 자전거(2, 100, \"시미노\")\n",
    "bicycle.구동계"
   ]
  },
  {
   "cell_type": "code",
   "execution_count": 17,
   "id": "d4c06689",
   "metadata": {
    "ExecuteTime": {
     "end_time": "2023-12-05T09:31:49.685868Z",
     "start_time": "2023-12-05T09:31:49.682105Z"
    }
   },
   "outputs": [
    {
     "name": "stdout",
     "output_type": "stream",
     "text": [
      "바퀴수:  4\n",
      "가격:  1000\n"
     ]
    }
   ],
   "source": [
    "# 285\n",
    "class 자동차(차):\n",
    "    def __init__(self,바퀴,가격):\n",
    "        super().__init__(바퀴, 가격) # super(): 부모 클래스의 임시적인 객체를 반환하여 부모클래스의 메소드를 사용할 수 있게 하는 것\n",
    "        \n",
    "    def 정보(self):\n",
    "        print(\"바퀴수: \", self.바퀴)\n",
    "        print(\"가격: \", self.가격)\n",
    "car = 자동차(4, 1000)\n",
    "car.정보()"
   ]
  },
  {
   "cell_type": "code",
   "execution_count": 18,
   "id": "848baf31",
   "metadata": {
    "ExecuteTime": {
     "end_time": "2023-12-05T09:35:29.576366Z",
     "start_time": "2023-12-05T09:35:29.567547Z"
    }
   },
   "outputs": [
    {
     "name": "stdout",
     "output_type": "stream",
     "text": [
      "바퀴수  2\n",
      "가격  100\n"
     ]
    }
   ],
   "source": [
    "# 286\n",
    "class 차:\n",
    "    def __init__(self, 바퀴, 가격):\n",
    "        self.바퀴 = 바퀴\n",
    "        self.가격 = 가격\n",
    "\n",
    "    def 정보(self):\n",
    "        print(\"바퀴수 \", self.바퀴)\n",
    "        print(\"가격 \", self.가격)\n",
    "\n",
    "class 자전거(차):\n",
    "    def __init__(self, 바퀴, 가격, 구동계):\n",
    "        super().__init__(바퀴, 가격)\n",
    "        self.구동계 = 구동계\n",
    "\n",
    "bicycle = 자전거(2, 100, \"시미노\")\n",
    "bicycle.정보()"
   ]
  },
  {
   "cell_type": "code",
   "execution_count": 23,
   "id": "82af35af",
   "metadata": {
    "ExecuteTime": {
     "end_time": "2023-12-05T09:37:37.735537Z",
     "start_time": "2023-12-05T09:37:37.727321Z"
    }
   },
   "outputs": [
    {
     "name": "stdout",
     "output_type": "stream",
     "text": [
      "바퀴수  2\n",
      "가격  100\n",
      "구동계  시마노\n"
     ]
    }
   ],
   "source": [
    "# 287\n",
    "class 차:\n",
    "    def __init__(self, 바퀴, 가격):\n",
    "        self.바퀴 = 바퀴\n",
    "        self.가격 = 가격\n",
    "\n",
    "    def 정보(self):\n",
    "        print(\"바퀴수 \", self.바퀴)\n",
    "        print(\"가격 \", self.가격)\n",
    "        \n",
    "class 자전거(차):\n",
    "    def __init__(self, 바퀴, 가격, 구동계):\n",
    "        super().__init__(바퀴, 가격)\n",
    "        self.구동계 = 구동계\n",
    "        \n",
    "    def 정보(self):\n",
    "        super().정보()\n",
    "        print(\"구동계 \", self.구동계)\n",
    "\n",
    "bicycle = 자전거(2, 100, \"시마노\")\n",
    "bicycle.정보()"
   ]
  },
  {
   "cell_type": "code",
   "execution_count": 24,
   "id": "41e56a45",
   "metadata": {
    "ExecuteTime": {
     "end_time": "2023-12-05T09:38:21.530892Z",
     "start_time": "2023-12-05T09:38:21.526855Z"
    }
   },
   "outputs": [
    {
     "name": "stdout",
     "output_type": "stream",
     "text": [
      "자식호출\n"
     ]
    }
   ],
   "source": [
    "# 288\n",
    "# 답: 자식호출\n",
    "\n",
    "class 부모:\n",
    "    def 호출(self):\n",
    "        print(\"부모호출\")\n",
    "\n",
    "class 자식(부모):\n",
    "    def 호출(self):\n",
    "        print(\"자식호출\")\n",
    "\n",
    "\n",
    "나 = 자식()\n",
    "나.호출()"
   ]
  },
  {
   "cell_type": "code",
   "execution_count": 25,
   "id": "e6849e97",
   "metadata": {
    "ExecuteTime": {
     "end_time": "2023-12-05T09:38:55.821464Z",
     "start_time": "2023-12-05T09:38:55.812922Z"
    }
   },
   "outputs": [
    {
     "name": "stdout",
     "output_type": "stream",
     "text": [
      "자식생성\n"
     ]
    }
   ],
   "source": [
    "# 289\n",
    "# 답: 자식생성\n",
    "\n",
    "class 부모:\n",
    "    def __init__(self):\n",
    "        print(\"부모생성\")\n",
    "\n",
    "class 자식(부모):\n",
    "    def __init__(self):\n",
    "        print(\"자식생성\")\n",
    "        \n",
    "나 = 자식()"
   ]
  },
  {
   "cell_type": "code",
   "execution_count": 26,
   "id": "80f609bd",
   "metadata": {
    "ExecuteTime": {
     "end_time": "2023-12-05T09:39:23.002553Z",
     "start_time": "2023-12-05T09:39:22.998825Z"
    }
   },
   "outputs": [
    {
     "name": "stdout",
     "output_type": "stream",
     "text": [
      "자식생성\n",
      "부모생성\n"
     ]
    }
   ],
   "source": [
    "# 290\n",
    "# 답: 자식생성 부모생성\n",
    "\n",
    "class 부모:\n",
    "    def __init__(self):\n",
    "        print(\"부모생성\")\n",
    "\n",
    "class 자식(부모):\n",
    "    def __init__(self):\n",
    "        print(\"자식생성\")\n",
    "        super().__init__()\n",
    "\n",
    "나 = 자식()"
   ]
  },
  {
   "cell_type": "markdown",
   "id": "02d980eb",
   "metadata": {},
   "source": [
    "# 291~300"
   ]
  },
  {
   "cell_type": "code",
   "execution_count": 27,
   "id": "5b0f4bb3",
   "metadata": {
    "ExecuteTime": {
     "end_time": "2023-12-05T09:41:29.893447Z",
     "start_time": "2023-12-05T09:41:29.885423Z"
    }
   },
   "outputs": [],
   "source": [
    "# 291\n",
    "f = open('./files/매수종목1.txt', 'w')\n",
    "f.write('005930\\n')\n",
    "f.write('005380\\n')\n",
    "f.write('035420\\n')\n",
    "f.close()"
   ]
  },
  {
   "cell_type": "code",
   "execution_count": 28,
   "id": "7950a494",
   "metadata": {
    "ExecuteTime": {
     "end_time": "2023-12-05T09:42:34.706553Z",
     "start_time": "2023-12-05T09:42:34.699812Z"
    }
   },
   "outputs": [],
   "source": [
    "# 292\n",
    "f = open('./files/매수종목2.txt', 'w')\n",
    "f.write('005930 삼성전자\\n')\n",
    "f.write('005380 현대차\\n')\n",
    "f.write('035420 NAVER\\n')\n",
    "f.close()"
   ]
  },
  {
   "cell_type": "code",
   "execution_count": 34,
   "id": "cf490d34",
   "metadata": {
    "ExecuteTime": {
     "end_time": "2023-12-05T10:00:14.799933Z",
     "start_time": "2023-12-05T10:00:14.780549Z"
    }
   },
   "outputs": [],
   "source": [
    "# 293\n",
    "import csv\n",
    "open?\n",
    "# newline controls how universal newlines works (it only applies to text mode)\n",
    "f = open('./files/매수종목.csv', 'wt', encoding='cp949', newline='')\n",
    "w = csv.writer(f)\n",
    "w.writerow(['종목명', '종목코드', 'PER'])\n",
    "w.writerow([\"삼성전자\", \"005930\", 15.59])\n",
    "w.writerow([\"NAVER\", \"035420\", 55.82])\n",
    "f.close()"
   ]
  },
  {
   "cell_type": "code",
   "execution_count": 38,
   "id": "757bf333",
   "metadata": {
    "ExecuteTime": {
     "end_time": "2023-12-05T10:01:58.787434Z",
     "start_time": "2023-12-05T10:01:58.782008Z"
    }
   },
   "outputs": [
    {
     "data": {
      "text/plain": [
       "['005930', '005380', '035420']"
      ]
     },
     "execution_count": 38,
     "metadata": {},
     "output_type": "execute_result"
    }
   ],
   "source": [
    "# 294\n",
    "f = open('./files/매수종목1.txt', 'r')\n",
    "lines = f.readlines()\n",
    "code_list = [line.strip() for line in lines]\n",
    "\n",
    "f.close()\n",
    "code_list"
   ]
  },
  {
   "cell_type": "code",
   "execution_count": 40,
   "id": "4bb5f14d",
   "metadata": {
    "ExecuteTime": {
     "end_time": "2023-12-05T10:04:47.690608Z",
     "start_time": "2023-12-05T10:04:47.683502Z"
    }
   },
   "outputs": [
    {
     "name": "stdout",
     "output_type": "stream",
     "text": [
      "['005930 삼성전자\\n', '005380 현대차\\n', '035420 NAVER\\n']\n",
      "{'005930': '삼성전자', '005380': '현대차', '035420': 'NAVER'}\n"
     ]
    }
   ],
   "source": [
    "# 295\n",
    "f = open('./files/매수종목2.txt', 'r')\n",
    "lines = f.readlines()\n",
    "print(lines)\n",
    "data_dict = {}\n",
    "\n",
    "for line in lines:\n",
    "    line = line.strip()\n",
    "    data_dict[line.split(' ')[0]] = line.split(' ')[1]\n",
    "    \n",
    "print(data_dict)\n",
    "\n",
    "f.close()"
   ]
  },
  {
   "cell_type": "code",
   "execution_count": 42,
   "id": "b683f5fb",
   "metadata": {
    "ExecuteTime": {
     "end_time": "2023-12-05T10:06:20.267339Z",
     "start_time": "2023-12-05T10:06:20.263720Z"
    }
   },
   "outputs": [
    {
     "name": "stdout",
     "output_type": "stream",
     "text": [
      "10.31\n",
      "0\n",
      "8.0\n"
     ]
    }
   ],
   "source": [
    "# 296\n",
    "per = [\"10.31\", \"\", \"8.00\"]\n",
    "\n",
    "\n",
    "for i in per:\n",
    "    try:\n",
    "        print(float(i))\n",
    "    except:\n",
    "        print(0)"
   ]
  },
  {
   "cell_type": "code",
   "execution_count": 45,
   "id": "3aae4d27",
   "metadata": {
    "ExecuteTime": {
     "end_time": "2023-12-05T10:07:51.693787Z",
     "start_time": "2023-12-05T10:07:51.688361Z"
    }
   },
   "outputs": [
    {
     "name": "stdout",
     "output_type": "stream",
     "text": [
      "[10.31, 0.0, 8.0]\n"
     ]
    }
   ],
   "source": [
    "# 297\n",
    "per = [\"10.31\", \"\", \"8.00\"]\n",
    "res = []\n",
    "for i in per:\n",
    "    try:\n",
    "        res.append(float(i))\n",
    "    except:\n",
    "        res.append(0.0)\n",
    "print(res)"
   ]
  },
  {
   "cell_type": "code",
   "execution_count": 51,
   "id": "647dfaea",
   "metadata": {
    "ExecuteTime": {
     "end_time": "2023-12-05T10:10:32.317401Z",
     "start_time": "2023-12-05T10:10:30.988704Z"
    }
   },
   "outputs": [
    {
     "name": "stdout",
     "output_type": "stream",
     "text": [
      "a와 b를 입력하세요 (a/b)가 수행됩니다: 4 0\n",
      "4 0\n",
      "0으로 나눌 수 없습니다\n"
     ]
    }
   ],
   "source": [
    "# 298\n",
    "a, b = map(int, input(\"a와 b를 입력하세요 (a/b)가 수행됩니다: \").split())\n",
    "print(a, b)\n",
    "try:\n",
    "    a / b\n",
    "except ZeroDivisionError:\n",
    "    print(\"0으로 나눌 수 없습니다\")"
   ]
  },
  {
   "cell_type": "code",
   "execution_count": 52,
   "id": "eba3c461",
   "metadata": {
    "ExecuteTime": {
     "end_time": "2023-12-05T10:11:43.086889Z",
     "start_time": "2023-12-05T10:11:43.079572Z"
    }
   },
   "outputs": [
    {
     "name": "stdout",
     "output_type": "stream",
     "text": [
      "1\n",
      "2\n",
      "3\n",
      "list index out of range\n",
      "list index out of range\n"
     ]
    }
   ],
   "source": [
    "# 299\n",
    "data = [1, 2, 3]\n",
    "\n",
    "for i in range(5):\n",
    "    try:\n",
    "        print(data[i])\n",
    "    except IndexError as e:\n",
    "        print(e)"
   ]
  },
  {
   "cell_type": "code",
   "execution_count": 56,
   "id": "8be9e2c4",
   "metadata": {
    "ExecuteTime": {
     "end_time": "2023-12-05T10:14:27.735118Z",
     "start_time": "2023-12-05T10:14:27.729816Z"
    }
   },
   "outputs": [
    {
     "name": "stdout",
     "output_type": "stream",
     "text": [
      "10.31\n",
      "else\n",
      "finally\n",
      "0\n",
      "finally\n",
      "8.0\n",
      "else\n",
      "finally\n"
     ]
    }
   ],
   "source": [
    "# 300\n",
    "per = [\"10.31\", \"\", \"8.00\"]\n",
    "\n",
    "for i in per:\n",
    "    try:\n",
    "        print(float(i))\n",
    "    except:\n",
    "        print(0)\n",
    "    else:\n",
    "        print(\"else\")\n",
    "    finally:\n",
    "        print(\"finally\")\n"
   ]
  },
  {
   "cell_type": "code",
   "execution_count": null,
   "id": "8731549a",
   "metadata": {},
   "outputs": [],
   "source": []
  }
 ],
 "metadata": {
  "kernelspec": {
   "display_name": "Python 3 (ipykernel)",
   "language": "python",
   "name": "python3"
  },
  "language_info": {
   "codemirror_mode": {
    "name": "ipython",
    "version": 3
   },
   "file_extension": ".py",
   "mimetype": "text/x-python",
   "name": "python",
   "nbconvert_exporter": "python",
   "pygments_lexer": "ipython3",
   "version": "3.11.5"
  },
  "toc": {
   "base_numbering": 1,
   "nav_menu": {},
   "number_sections": true,
   "sideBar": true,
   "skip_h1_title": false,
   "title_cell": "Table of Contents",
   "title_sidebar": "Contents",
   "toc_cell": false,
   "toc_position": {},
   "toc_section_display": true,
   "toc_window_display": false
  }
 },
 "nbformat": 4,
 "nbformat_minor": 5
}
