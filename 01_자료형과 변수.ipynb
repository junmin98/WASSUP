{
 "cells": [
  {
   "cell_type": "markdown",
   "id": "74d7b9b0",
   "metadata": {},
   "source": [
    "# 숫자형"
   ]
  },
  {
   "cell_type": "markdown",
   "id": "787de100",
   "metadata": {},
   "source": [
    "## 정수형"
   ]
  },
  {
   "cell_type": "code",
   "execution_count": 2,
   "id": "63fe2a3b",
   "metadata": {
    "ExecuteTime": {
     "end_time": "2023-11-23T02:18:54.177550Z",
     "start_time": "2023-11-23T02:18:54.172583Z"
    }
   },
   "outputs": [],
   "source": [
    "a = 123"
   ]
  },
  {
   "cell_type": "code",
   "execution_count": 3,
   "id": "d7aa13a7",
   "metadata": {
    "ExecuteTime": {
     "end_time": "2023-11-23T02:18:56.139827Z",
     "start_time": "2023-11-23T02:18:56.128208Z"
    }
   },
   "outputs": [
    {
     "data": {
      "text/plain": [
       "123"
      ]
     },
     "execution_count": 3,
     "metadata": {},
     "output_type": "execute_result"
    }
   ],
   "source": [
    "a"
   ]
  },
  {
   "cell_type": "code",
   "execution_count": 4,
   "id": "f6defb5c",
   "metadata": {
    "ExecuteTime": {
     "end_time": "2023-11-23T02:20:48.369717Z",
     "start_time": "2023-11-23T02:20:48.363888Z"
    }
   },
   "outputs": [],
   "source": [
    "a = -178"
   ]
  },
  {
   "cell_type": "code",
   "execution_count": 5,
   "id": "ecfe1e56",
   "metadata": {
    "ExecuteTime": {
     "end_time": "2023-11-23T02:20:49.530861Z",
     "start_time": "2023-11-23T02:20:49.521701Z"
    }
   },
   "outputs": [
    {
     "data": {
      "text/plain": [
       "-178"
      ]
     },
     "execution_count": 5,
     "metadata": {},
     "output_type": "execute_result"
    }
   ],
   "source": [
    "a"
   ]
  },
  {
   "cell_type": "code",
   "execution_count": 6,
   "id": "7d2d93e4",
   "metadata": {
    "ExecuteTime": {
     "end_time": "2023-11-23T02:21:02.317651Z",
     "start_time": "2023-11-23T02:21:02.312267Z"
    }
   },
   "outputs": [],
   "source": [
    "a = 0"
   ]
  },
  {
   "cell_type": "markdown",
   "id": "e301788d",
   "metadata": {},
   "source": [
    "## 실수형"
   ]
  },
  {
   "cell_type": "code",
   "execution_count": 7,
   "id": "074dcfd7",
   "metadata": {
    "ExecuteTime": {
     "end_time": "2023-11-23T02:21:33.815441Z",
     "start_time": "2023-11-23T02:21:33.809467Z"
    }
   },
   "outputs": [],
   "source": [
    "a = 1.2 "
   ]
  },
  {
   "cell_type": "code",
   "execution_count": 8,
   "id": "160cbcb7",
   "metadata": {
    "ExecuteTime": {
     "end_time": "2023-11-23T02:21:35.806071Z",
     "start_time": "2023-11-23T02:21:35.798030Z"
    }
   },
   "outputs": [
    {
     "data": {
      "text/plain": [
       "1.2"
      ]
     },
     "execution_count": 8,
     "metadata": {},
     "output_type": "execute_result"
    }
   ],
   "source": [
    "a"
   ]
  },
  {
   "cell_type": "code",
   "execution_count": 9,
   "id": "be323b69",
   "metadata": {
    "ExecuteTime": {
     "end_time": "2023-11-23T02:21:40.210027Z",
     "start_time": "2023-11-23T02:21:40.205230Z"
    }
   },
   "outputs": [],
   "source": [
    "a = -3.45"
   ]
  },
  {
   "cell_type": "code",
   "execution_count": 10,
   "id": "a5347b86",
   "metadata": {
    "ExecuteTime": {
     "end_time": "2023-11-23T02:21:41.779919Z",
     "start_time": "2023-11-23T02:21:41.772457Z"
    }
   },
   "outputs": [
    {
     "data": {
      "text/plain": [
       "-3.45"
      ]
     },
     "execution_count": 10,
     "metadata": {},
     "output_type": "execute_result"
    }
   ],
   "source": [
    "a"
   ]
  },
  {
   "cell_type": "code",
   "execution_count": 11,
   "id": "f72a9db3",
   "metadata": {
    "ExecuteTime": {
     "end_time": "2023-11-23T02:22:26.034731Z",
     "start_time": "2023-11-23T02:22:26.029974Z"
    }
   },
   "outputs": [],
   "source": [
    "# 컴퓨터식 지수 표현\n",
    "a = 4.24E10 # 4.24 * 10^10"
   ]
  },
  {
   "cell_type": "code",
   "execution_count": 12,
   "id": "a3d0930a",
   "metadata": {
    "ExecuteTime": {
     "end_time": "2023-11-23T02:22:27.212273Z",
     "start_time": "2023-11-23T02:22:27.204546Z"
    }
   },
   "outputs": [
    {
     "data": {
      "text/plain": [
       "42400000000.0"
      ]
     },
     "execution_count": 12,
     "metadata": {},
     "output_type": "execute_result"
    }
   ],
   "source": [
    "a"
   ]
  },
  {
   "cell_type": "code",
   "execution_count": 13,
   "id": "6f11f13c",
   "metadata": {
    "ExecuteTime": {
     "end_time": "2023-11-23T02:23:22.666727Z",
     "start_time": "2023-11-23T02:23:22.657667Z"
    }
   },
   "outputs": [
    {
     "data": {
      "text/plain": [
       "127"
      ]
     },
     "execution_count": 13,
     "metadata": {},
     "output_type": "execute_result"
    }
   ],
   "source": [
    "# 8진수와 16진수\n",
    "a = 0o177 # 8진수\n",
    "a"
   ]
  },
  {
   "cell_type": "code",
   "execution_count": 14,
   "id": "079bac3d",
   "metadata": {
    "ExecuteTime": {
     "end_time": "2023-11-23T02:23:33.150213Z",
     "start_time": "2023-11-23T02:23:33.142304Z"
    }
   },
   "outputs": [
    {
     "data": {
      "text/plain": [
       "int"
      ]
     },
     "execution_count": 14,
     "metadata": {},
     "output_type": "execute_result"
    }
   ],
   "source": [
    "type(a)"
   ]
  },
  {
   "cell_type": "code",
   "execution_count": 15,
   "id": "b2415143",
   "metadata": {
    "ExecuteTime": {
     "end_time": "2023-11-23T02:23:58.077705Z",
     "start_time": "2023-11-23T02:23:58.070050Z"
    }
   },
   "outputs": [
    {
     "data": {
      "text/plain": [
       "2303"
      ]
     },
     "execution_count": 15,
     "metadata": {},
     "output_type": "execute_result"
    }
   ],
   "source": [
    "a = 0x8ff # 16진수\n",
    "a"
   ]
  },
  {
   "cell_type": "markdown",
   "id": "35cfa572",
   "metadata": {},
   "source": [
    "## 사칙연산"
   ]
  },
  {
   "cell_type": "code",
   "execution_count": 16,
   "id": "3986e127",
   "metadata": {
    "ExecuteTime": {
     "end_time": "2023-11-23T02:24:24.128717Z",
     "start_time": "2023-11-23T02:24:24.120469Z"
    }
   },
   "outputs": [
    {
     "data": {
      "text/plain": [
       "7"
      ]
     },
     "execution_count": 16,
     "metadata": {},
     "output_type": "execute_result"
    }
   ],
   "source": [
    "a = 3\n",
    "b = 4\n",
    "a + b"
   ]
  },
  {
   "cell_type": "code",
   "execution_count": 18,
   "id": "fa86f714",
   "metadata": {
    "ExecuteTime": {
     "end_time": "2023-11-23T02:25:15.699219Z",
     "start_time": "2023-11-23T02:25:15.691497Z"
    }
   },
   "outputs": [
    {
     "data": {
      "text/plain": [
       "12"
      ]
     },
     "execution_count": 18,
     "metadata": {},
     "output_type": "execute_result"
    }
   ],
   "source": [
    "a * b"
   ]
  },
  {
   "cell_type": "code",
   "execution_count": 19,
   "id": "fb4bceb3",
   "metadata": {
    "ExecuteTime": {
     "end_time": "2023-11-23T02:25:19.375553Z",
     "start_time": "2023-11-23T02:25:19.367357Z"
    }
   },
   "outputs": [
    {
     "data": {
      "text/plain": [
       "0.75"
      ]
     },
     "execution_count": 19,
     "metadata": {},
     "output_type": "execute_result"
    }
   ],
   "source": [
    "a / b"
   ]
  },
  {
   "cell_type": "code",
   "execution_count": 20,
   "id": "3511201e",
   "metadata": {
    "ExecuteTime": {
     "end_time": "2023-11-23T02:27:02.066334Z",
     "start_time": "2023-11-23T02:27:02.057727Z"
    }
   },
   "outputs": [
    {
     "data": {
      "text/plain": [
       "81"
      ]
     },
     "execution_count": 20,
     "metadata": {},
     "output_type": "execute_result"
    }
   ],
   "source": [
    "# a의 b제곱\n",
    "a ** b"
   ]
  },
  {
   "cell_type": "code",
   "execution_count": 21,
   "id": "534c97e4",
   "metadata": {
    "ExecuteTime": {
     "end_time": "2023-11-23T02:27:22.980670Z",
     "start_time": "2023-11-23T02:27:22.972374Z"
    }
   },
   "outputs": [
    {
     "data": {
      "text/plain": [
       "1"
      ]
     },
     "execution_count": 21,
     "metadata": {},
     "output_type": "execute_result"
    }
   ],
   "source": [
    "# 나눗셈 나머지 반환\n",
    "7 % 3"
   ]
  },
  {
   "cell_type": "code",
   "execution_count": 22,
   "id": "51671cde",
   "metadata": {
    "ExecuteTime": {
     "end_time": "2023-11-23T02:27:31.142276Z",
     "start_time": "2023-11-23T02:27:31.135700Z"
    }
   },
   "outputs": [
    {
     "data": {
      "text/plain": [
       "3"
      ]
     },
     "execution_count": 22,
     "metadata": {},
     "output_type": "execute_result"
    }
   ],
   "source": [
    "3 % 7"
   ]
  },
  {
   "cell_type": "code",
   "execution_count": 23,
   "id": "d1450de7",
   "metadata": {
    "ExecuteTime": {
     "end_time": "2023-11-23T02:27:44.653085Z",
     "start_time": "2023-11-23T02:27:44.644521Z"
    }
   },
   "outputs": [
    {
     "data": {
      "text/plain": [
       "1"
      ]
     },
     "execution_count": 23,
     "metadata": {},
     "output_type": "execute_result"
    }
   ],
   "source": [
    "# 나눗셈 몫 반환\n",
    "7 // 4"
   ]
  },
  {
   "cell_type": "markdown",
   "id": "07506614",
   "metadata": {},
   "source": [
    "# 문자열"
   ]
  },
  {
   "cell_type": "code",
   "execution_count": 24,
   "id": "812a88e0",
   "metadata": {
    "ExecuteTime": {
     "end_time": "2023-11-23T02:32:55.158454Z",
     "start_time": "2023-11-23T02:32:55.152446Z"
    }
   },
   "outputs": [
    {
     "data": {
      "text/plain": [
       "'Hello World'"
      ]
     },
     "execution_count": 24,
     "metadata": {},
     "output_type": "execute_result"
    }
   ],
   "source": [
    "\"Hello World\""
   ]
  },
  {
   "cell_type": "code",
   "execution_count": 25,
   "id": "8bfbd707",
   "metadata": {
    "ExecuteTime": {
     "end_time": "2023-11-23T02:33:01.395115Z",
     "start_time": "2023-11-23T02:33:01.387338Z"
    }
   },
   "outputs": [
    {
     "data": {
      "text/plain": [
       "'Hello World'"
      ]
     },
     "execution_count": 25,
     "metadata": {},
     "output_type": "execute_result"
    }
   ],
   "source": [
    "'Hello World'"
   ]
  },
  {
   "cell_type": "code",
   "execution_count": 29,
   "id": "1f9182ae",
   "metadata": {
    "ExecuteTime": {
     "end_time": "2023-11-23T02:36:09.624412Z",
     "start_time": "2023-11-23T02:36:09.616739Z"
    }
   },
   "outputs": [
    {
     "data": {
      "text/plain": [
       "'Life is too short, You need python'"
      ]
     },
     "execution_count": 29,
     "metadata": {},
     "output_type": "execute_result"
    }
   ],
   "source": [
    "\"\"\"Life is too short, You need python\"\"\""
   ]
  },
  {
   "cell_type": "code",
   "execution_count": 31,
   "id": "50458bfa",
   "metadata": {
    "ExecuteTime": {
     "end_time": "2023-11-23T02:36:30.662851Z",
     "start_time": "2023-11-23T02:36:30.659251Z"
    }
   },
   "outputs": [],
   "source": [
    "food = \"Python's favorite food is perl\""
   ]
  },
  {
   "cell_type": "code",
   "execution_count": 32,
   "id": "a41cc226",
   "metadata": {
    "ExecuteTime": {
     "end_time": "2023-11-23T02:36:37.601223Z",
     "start_time": "2023-11-23T02:36:37.592585Z"
    }
   },
   "outputs": [
    {
     "data": {
      "text/plain": [
       "\"Python's favorite food is perl\""
      ]
     },
     "execution_count": 32,
     "metadata": {},
     "output_type": "execute_result"
    }
   ],
   "source": [
    "food"
   ]
  },
  {
   "cell_type": "code",
   "execution_count": 36,
   "id": "7ea05f2d",
   "metadata": {
    "ExecuteTime": {
     "end_time": "2023-11-23T02:38:32.154068Z",
     "start_time": "2023-11-23T02:38:32.146440Z"
    }
   },
   "outputs": [
    {
     "data": {
      "text/plain": [
       "'\"Python is very easy.\" he says.'"
      ]
     },
     "execution_count": 36,
     "metadata": {},
     "output_type": "execute_result"
    }
   ],
   "source": [
    "'\"Python is very easy.\" he says.'"
   ]
  },
  {
   "cell_type": "code",
   "execution_count": 39,
   "id": "5aca1a2c",
   "metadata": {
    "ExecuteTime": {
     "end_time": "2023-11-23T02:41:18.782679Z",
     "start_time": "2023-11-23T02:41:18.775056Z"
    }
   },
   "outputs": [
    {
     "data": {
      "text/plain": [
       "(\"Python's favorite food is perl\", '\"Python is very easy.\" he says.')"
      ]
     },
     "execution_count": 39,
     "metadata": {},
     "output_type": "execute_result"
    }
   ],
   "source": [
    "# 백슬래시 사용해서 따옴표를 문자열에도 포함하기\n",
    "food = 'Python\\'s favorite food is perl'\n",
    "say = \"\\\"Python is very easy.\\\" he says.\"\n",
    "food, say"
   ]
  },
  {
   "cell_type": "markdown",
   "id": "c2cc0bbd",
   "metadata": {
    "ExecuteTime": {
     "end_time": "2023-11-23T02:42:17.317280Z",
     "start_time": "2023-11-23T02:42:17.313266Z"
    }
   },
   "source": [
    "## 여러 줄인 문자열을 변수에 대입"
   ]
  },
  {
   "cell_type": "code",
   "execution_count": 41,
   "id": "1b4e031e",
   "metadata": {
    "ExecuteTime": {
     "end_time": "2023-11-23T02:43:14.236130Z",
     "start_time": "2023-11-23T02:43:14.228592Z"
    }
   },
   "outputs": [
    {
     "data": {
      "text/plain": [
       "'Life is too short. \\n You need python'"
      ]
     },
     "execution_count": 41,
     "metadata": {},
     "output_type": "execute_result"
    }
   ],
   "source": [
    "# 줄을 바꾸는 이스케이프 문자 : \\n\n",
    "multiline = \"Life is too short. \\n You need python\"\n",
    "multiline # notebook 편의 기능"
   ]
  },
  {
   "cell_type": "code",
   "execution_count": 42,
   "id": "0d4ac96b",
   "metadata": {
    "ExecuteTime": {
     "end_time": "2023-11-23T02:43:47.844505Z",
     "start_time": "2023-11-23T02:43:47.837432Z"
    }
   },
   "outputs": [
    {
     "name": "stdout",
     "output_type": "stream",
     "text": [
      "Life is too short. \n",
      " You need python\n"
     ]
    }
   ],
   "source": [
    "print(multiline) # python 내장함수"
   ]
  },
  {
   "cell_type": "markdown",
   "id": "d0d0a458",
   "metadata": {},
   "source": [
    "## 연속된 따옴표 사용하기"
   ]
  },
  {
   "cell_type": "code",
   "execution_count": 43,
   "id": "864e3e4f",
   "metadata": {
    "ExecuteTime": {
     "end_time": "2023-11-23T02:46:43.252133Z",
     "start_time": "2023-11-23T02:46:43.245027Z"
    }
   },
   "outputs": [
    {
     "name": "stdout",
     "output_type": "stream",
     "text": [
      "\"Life is too short. \n",
      " You need python\"\n"
     ]
    }
   ],
   "source": [
    "multiline = \"\\\"Life is too short. \\n You need python\\\"\"\n",
    "print(multiline)"
   ]
  },
  {
   "cell_type": "markdown",
   "id": "019c2fb6",
   "metadata": {},
   "source": [
    "## 문자열 연산하기"
   ]
  },
  {
   "cell_type": "code",
   "execution_count": 1,
   "id": "45301d81",
   "metadata": {
    "ExecuteTime": {
     "end_time": "2023-11-24T00:35:14.364931Z",
     "start_time": "2023-11-24T00:35:14.350536Z"
    }
   },
   "outputs": [
    {
     "name": "stdout",
     "output_type": "stream",
     "text": [
      "Python is fun\n"
     ]
    }
   ],
   "source": [
    "head = \"Python\"\n",
    "tail = \" is fun\"\n",
    "print(head + tail)"
   ]
  },
  {
   "cell_type": "code",
   "execution_count": 2,
   "id": "a478fc06",
   "metadata": {
    "ExecuteTime": {
     "end_time": "2023-11-24T00:35:27.553092Z",
     "start_time": "2023-11-24T00:35:27.542596Z"
    }
   },
   "outputs": [
    {
     "data": {
      "text/plain": [
       "'PythonPython'"
      ]
     },
     "execution_count": 2,
     "metadata": {},
     "output_type": "execute_result"
    }
   ],
   "source": [
    "a = \"Python\"\n",
    "a * 2"
   ]
  },
  {
   "cell_type": "code",
   "execution_count": 3,
   "id": "88b94402",
   "metadata": {
    "ExecuteTime": {
     "end_time": "2023-11-24T00:36:12.841427Z",
     "start_time": "2023-11-24T00:36:12.832912Z"
    }
   },
   "outputs": [
    {
     "data": {
      "text/plain": [
       "17"
      ]
     },
     "execution_count": 3,
     "metadata": {},
     "output_type": "execute_result"
    }
   ],
   "source": [
    "a = \"Life is too short\"\n",
    "len(a)"
   ]
  },
  {
   "cell_type": "markdown",
   "id": "0273c57c",
   "metadata": {},
   "source": [
    "# 문자열 인덱싱과 슬라이싱"
   ]
  },
  {
   "cell_type": "markdown",
   "id": "13ea286b",
   "metadata": {},
   "source": [
    "## 인덱싱"
   ]
  },
  {
   "cell_type": "code",
   "execution_count": 4,
   "id": "93d275f3",
   "metadata": {
    "ExecuteTime": {
     "end_time": "2023-11-24T00:37:28.880484Z",
     "start_time": "2023-11-24T00:37:28.870686Z"
    }
   },
   "outputs": [
    {
     "data": {
      "text/plain": [
       "'Life is too short, You need python'"
      ]
     },
     "execution_count": 4,
     "metadata": {},
     "output_type": "execute_result"
    }
   ],
   "source": [
    "a = \"Life is too short, You need python\"\n",
    "a"
   ]
  },
  {
   "cell_type": "code",
   "execution_count": 5,
   "id": "7006f76e",
   "metadata": {
    "ExecuteTime": {
     "end_time": "2023-11-24T00:38:49.177402Z",
     "start_time": "2023-11-24T00:38:49.168730Z"
    }
   },
   "outputs": [
    {
     "data": {
      "text/plain": [
       "('e', 'L')"
      ]
     },
     "execution_count": 5,
     "metadata": {},
     "output_type": "execute_result"
    }
   ],
   "source": [
    "a[3], a[0]"
   ]
  },
  {
   "cell_type": "code",
   "execution_count": 6,
   "id": "51deb4a5",
   "metadata": {
    "ExecuteTime": {
     "end_time": "2023-11-24T00:39:05.666917Z",
     "start_time": "2023-11-24T00:39:05.658351Z"
    }
   },
   "outputs": [
    {
     "data": {
      "text/plain": [
       "'n'"
      ]
     },
     "execution_count": 6,
     "metadata": {},
     "output_type": "execute_result"
    }
   ],
   "source": [
    "a[-1]"
   ]
  },
  {
   "cell_type": "code",
   "execution_count": 7,
   "id": "006d75ae",
   "metadata": {
    "ExecuteTime": {
     "end_time": "2023-11-24T00:39:18.603428Z",
     "start_time": "2023-11-24T00:39:18.594647Z"
    }
   },
   "outputs": [
    {
     "data": {
      "text/plain": [
       "'o'"
      ]
     },
     "execution_count": 7,
     "metadata": {},
     "output_type": "execute_result"
    }
   ],
   "source": [
    "a[-2]"
   ]
  },
  {
   "cell_type": "code",
   "execution_count": 8,
   "id": "f2de43fe",
   "metadata": {
    "ExecuteTime": {
     "end_time": "2023-11-24T00:40:03.063652Z",
     "start_time": "2023-11-24T00:40:03.055929Z"
    }
   },
   "outputs": [
    {
     "data": {
      "text/plain": [
       "'y'"
      ]
     },
     "execution_count": 8,
     "metadata": {},
     "output_type": "execute_result"
    }
   ],
   "source": [
    "a[-5]"
   ]
  },
  {
   "cell_type": "markdown",
   "id": "aa2ca1b0",
   "metadata": {},
   "source": [
    "## 슬라이싱\n",
    "* 범위 [start_index:end_index+1]"
   ]
  },
  {
   "cell_type": "code",
   "execution_count": 9,
   "id": "8d213ac1",
   "metadata": {
    "ExecuteTime": {
     "end_time": "2023-11-24T00:41:17.462718Z",
     "start_time": "2023-11-24T00:41:17.455282Z"
    }
   },
   "outputs": [
    {
     "data": {
      "text/plain": [
       "'Life is too short, You need python'"
      ]
     },
     "execution_count": 9,
     "metadata": {},
     "output_type": "execute_result"
    }
   ],
   "source": [
    "a"
   ]
  },
  {
   "cell_type": "code",
   "execution_count": 10,
   "id": "f6565635",
   "metadata": {
    "ExecuteTime": {
     "end_time": "2023-11-24T00:41:38.434645Z",
     "start_time": "2023-11-24T00:41:38.428438Z"
    }
   },
   "outputs": [
    {
     "data": {
      "text/plain": [
       "'Life'"
      ]
     },
     "execution_count": 10,
     "metadata": {},
     "output_type": "execute_result"
    }
   ],
   "source": [
    "a[0:4] # 0<=, <4"
   ]
  },
  {
   "cell_type": "code",
   "execution_count": 11,
   "id": "e71f5119",
   "metadata": {
    "ExecuteTime": {
     "end_time": "2023-11-24T00:42:46.068491Z",
     "start_time": "2023-11-24T00:42:46.061507Z"
    }
   },
   "outputs": [
    {
     "data": {
      "text/plain": [
       "'Life'"
      ]
     },
     "execution_count": 11,
     "metadata": {},
     "output_type": "execute_result"
    }
   ],
   "source": [
    "a[:4] # 0은 생략 가능"
   ]
  },
  {
   "cell_type": "code",
   "execution_count": 12,
   "id": "8313d81d",
   "metadata": {
    "ExecuteTime": {
     "end_time": "2023-11-24T00:44:10.524877Z",
     "start_time": "2023-11-24T00:44:10.517667Z"
    }
   },
   "outputs": [
    {
     "data": {
      "text/plain": [
       "'You need python'"
      ]
     },
     "execution_count": 12,
     "metadata": {},
     "output_type": "execute_result"
    }
   ],
   "source": [
    "a[19:]"
   ]
  },
  {
   "cell_type": "code",
   "execution_count": 13,
   "id": "9a73bb9f",
   "metadata": {
    "ExecuteTime": {
     "end_time": "2023-11-24T00:44:20.000884Z",
     "start_time": "2023-11-24T00:44:19.992976Z"
    }
   },
   "outputs": [
    {
     "data": {
      "text/plain": [
       "'Life is too short, You need python'"
      ]
     },
     "execution_count": 13,
     "metadata": {},
     "output_type": "execute_result"
    }
   ],
   "source": [
    "a[:]"
   ]
  },
  {
   "cell_type": "code",
   "execution_count": 14,
   "id": "9140e94f",
   "metadata": {
    "ExecuteTime": {
     "end_time": "2023-11-24T00:44:51.988622Z",
     "start_time": "2023-11-24T00:44:51.980405Z"
    }
   },
   "outputs": [
    {
     "data": {
      "text/plain": [
       "'You need'"
      ]
     },
     "execution_count": 14,
     "metadata": {},
     "output_type": "execute_result"
    }
   ],
   "source": [
    "a[19:-7]"
   ]
  },
  {
   "cell_type": "code",
   "execution_count": 22,
   "id": "f8eb544b",
   "metadata": {
    "ExecuteTime": {
     "end_time": "2023-11-24T00:47:50.496267Z",
     "start_time": "2023-11-24T00:47:50.489530Z"
    }
   },
   "outputs": [
    {
     "name": "stdout",
     "output_type": "stream",
     "text": [
      "20231124\n",
      "Sunny\n"
     ]
    }
   ],
   "source": [
    "a = \"20231124Sunny\"\n",
    "date = a[:8]\n",
    "weather = a[8:]\n",
    "print(date)\n",
    "print(weather)"
   ]
  },
  {
   "cell_type": "code",
   "execution_count": 25,
   "id": "2f199fdf",
   "metadata": {
    "ExecuteTime": {
     "end_time": "2023-11-24T00:50:08.736980Z",
     "start_time": "2023-11-24T00:50:08.728799Z"
    }
   },
   "outputs": [
    {
     "name": "stdout",
     "output_type": "stream",
     "text": [
      "year=2023, month=11, day=24\n"
     ]
    }
   ],
   "source": [
    "year = a[:4]\n",
    "month = a[4:6]\n",
    "day = a[6:8]\n",
    "print(f\"year={year}, month={month}, day={day}\")"
   ]
  },
  {
   "cell_type": "markdown",
   "id": "d304da10",
   "metadata": {},
   "source": [
    "## 문자열 요소 바꾸기"
   ]
  },
  {
   "cell_type": "code",
   "execution_count": null,
   "id": "18f694ab",
   "metadata": {},
   "outputs": [],
   "source": []
  }
 ],
 "metadata": {
  "kernelspec": {
   "display_name": "Python 3 (ipykernel)",
   "language": "python",
   "name": "python3"
  },
  "language_info": {
   "codemirror_mode": {
    "name": "ipython",
    "version": 3
   },
   "file_extension": ".py",
   "mimetype": "text/x-python",
   "name": "python",
   "nbconvert_exporter": "python",
   "pygments_lexer": "ipython3",
   "version": "3.11.5"
  },
  "toc": {
   "base_numbering": 1,
   "nav_menu": {},
   "number_sections": true,
   "sideBar": true,
   "skip_h1_title": false,
   "title_cell": "Table of Contents",
   "title_sidebar": "Contents",
   "toc_cell": false,
   "toc_position": {
    "height": "calc(100% - 180px)",
    "left": "10px",
    "top": "150px",
    "width": "196.4px"
   },
   "toc_section_display": true,
   "toc_window_display": true
  }
 },
 "nbformat": 4,
 "nbformat_minor": 5
}
