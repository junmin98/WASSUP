{
 "cells": [
  {
   "cell_type": "markdown",
   "id": "75c1c118",
   "metadata": {},
   "source": [
    "# 001~010: 파이썬 시작하기\n",
    "[초보자를 위한 파이썬 300제](https://wikidocs.net/78548)"
   ]
  },
  {
   "cell_type": "code",
   "execution_count": 1,
   "id": "1702d4a7",
   "metadata": {
    "ExecuteTime": {
     "end_time": "2023-11-24T03:01:38.152370Z",
     "start_time": "2023-11-24T03:01:38.134087Z"
    }
   },
   "outputs": [
    {
     "name": "stdout",
     "output_type": "stream",
     "text": [
      "Hello World\n"
     ]
    }
   ],
   "source": [
    "print(\"Hello World\")"
   ]
  },
  {
   "cell_type": "code",
   "execution_count": 2,
   "id": "a8be3368",
   "metadata": {
    "ExecuteTime": {
     "end_time": "2023-11-24T03:02:01.274923Z",
     "start_time": "2023-11-24T03:02:01.268179Z"
    }
   },
   "outputs": [
    {
     "name": "stdout",
     "output_type": "stream",
     "text": [
      "Mary's cosmetics\n"
     ]
    }
   ],
   "source": [
    "print(\"Mary's cosmetics\")"
   ]
  },
  {
   "cell_type": "code",
   "execution_count": 6,
   "id": "7891f581",
   "metadata": {
    "ExecuteTime": {
     "end_time": "2023-11-24T03:02:36.804016Z",
     "start_time": "2023-11-24T03:02:36.797727Z"
    }
   },
   "outputs": [
    {
     "name": "stdout",
     "output_type": "stream",
     "text": [
      "신씨가 소리질렀다. \"도둑이야\".\n"
     ]
    }
   ],
   "source": [
    "print(\"신씨가 소리질렀다. \\\"도둑이야\\\".\")"
   ]
  },
  {
   "cell_type": "code",
   "execution_count": 7,
   "id": "8bfbc04d",
   "metadata": {
    "ExecuteTime": {
     "end_time": "2023-11-24T03:02:54.320896Z",
     "start_time": "2023-11-24T03:02:54.313877Z"
    }
   },
   "outputs": [
    {
     "name": "stdout",
     "output_type": "stream",
     "text": [
      "C:\\Windows\n"
     ]
    }
   ],
   "source": [
    "print(\"C:\\Windows\")"
   ]
  },
  {
   "cell_type": "code",
   "execution_count": 9,
   "id": "b72e2fc7",
   "metadata": {
    "ExecuteTime": {
     "end_time": "2023-11-24T03:03:50.709345Z",
     "start_time": "2023-11-24T03:03:50.703007Z"
    }
   },
   "outputs": [
    {
     "name": "stdout",
     "output_type": "stream",
     "text": [
      "안녕하세요. \n",
      " 만나서 \t\t 반갑습니다.\n"
     ]
    }
   ],
   "source": [
    "print(\"안녕하세요. \\n 만나서 \\t\\t 반갑습니다.\")\n",
    "# \\n: 줄바꿈\n",
    "# \\t: 탭"
   ]
  },
  {
   "cell_type": "code",
   "execution_count": 10,
   "id": "13c5cf08",
   "metadata": {
    "ExecuteTime": {
     "end_time": "2023-11-24T03:04:10.379156Z",
     "start_time": "2023-11-24T03:04:10.374102Z"
    }
   },
   "outputs": [
    {
     "name": "stdout",
     "output_type": "stream",
     "text": [
      "오늘은 일요일\n"
     ]
    }
   ],
   "source": [
    "print(\"오늘은\", \"일요일\")"
   ]
  },
  {
   "cell_type": "code",
   "execution_count": 13,
   "id": "bf2aadc1",
   "metadata": {
    "ExecuteTime": {
     "end_time": "2023-11-24T03:05:08.914360Z",
     "start_time": "2023-11-24T03:05:08.907241Z"
    }
   },
   "outputs": [
    {
     "name": "stdout",
     "output_type": "stream",
     "text": [
      "naver;kakao;sk;samsung\n",
      "naver;kakao;sk;samsung\n"
     ]
    }
   ],
   "source": [
    "print(\"naver;kakao;sk;samsung\")\n",
    "print(\"naver\", \"kakao\", \"sk\", \"samsung\", sep=';')"
   ]
  },
  {
   "cell_type": "code",
   "execution_count": 14,
   "id": "b6e5b416",
   "metadata": {
    "ExecuteTime": {
     "end_time": "2023-11-24T03:05:21.655156Z",
     "start_time": "2023-11-24T03:05:21.648716Z"
    }
   },
   "outputs": [
    {
     "name": "stdout",
     "output_type": "stream",
     "text": [
      "naver/kakao/sk/samsung\n"
     ]
    }
   ],
   "source": [
    "print(\"naver\", \"kakao\", \"sk\", \"samsung\", sep='/')"
   ]
  },
  {
   "cell_type": "code",
   "execution_count": 16,
   "id": "ea441c6f",
   "metadata": {
    "ExecuteTime": {
     "end_time": "2023-11-24T03:06:15.932458Z",
     "start_time": "2023-11-24T03:06:15.926891Z"
    }
   },
   "outputs": [
    {
     "name": "stdout",
     "output_type": "stream",
     "text": [
      "firstsecond\n"
     ]
    }
   ],
   "source": [
    "print(\"first\", end=\"\")\n",
    "print(\"second\")"
   ]
  },
  {
   "cell_type": "code",
   "execution_count": 17,
   "id": "240e4bbc",
   "metadata": {
    "ExecuteTime": {
     "end_time": "2023-11-24T03:06:28.303493Z",
     "start_time": "2023-11-24T03:06:28.297968Z"
    }
   },
   "outputs": [
    {
     "name": "stdout",
     "output_type": "stream",
     "text": [
      "1.6666666666666667\n"
     ]
    }
   ],
   "source": [
    "print(5/3)"
   ]
  },
  {
   "cell_type": "markdown",
   "id": "0eecbcec",
   "metadata": {},
   "source": [
    "# 011~020: 파이썬 변수"
   ]
  },
  {
   "cell_type": "code",
   "execution_count": 18,
   "id": "1f50cc4d",
   "metadata": {
    "ExecuteTime": {
     "end_time": "2023-11-24T03:07:47.469694Z",
     "start_time": "2023-11-24T03:07:47.460956Z"
    }
   },
   "outputs": [
    {
     "name": "stdout",
     "output_type": "stream",
     "text": [
      "500000\n"
     ]
    }
   ],
   "source": [
    "삼성전자 = 50000\n",
    "총평가금액=삼성전자 * 10\n",
    "print(총평가금액)"
   ]
  },
  {
   "cell_type": "code",
   "execution_count": 20,
   "id": "8d782d1c",
   "metadata": {
    "ExecuteTime": {
     "end_time": "2023-11-24T03:35:07.306915Z",
     "start_time": "2023-11-24T03:35:07.298842Z"
    }
   },
   "outputs": [
    {
     "name": "stdout",
     "output_type": "stream",
     "text": [
      "298000000000000 <class 'int'>\n",
      "50000 <class 'int'>\n",
      "15.79 <class 'float'>\n"
     ]
    }
   ],
   "source": [
    "total = 298000000000000\n",
    "cur = 50000\n",
    "per = 15.79\n",
    "print(total, type(total))\n",
    "print(cur,type(cur))\n",
    "print(per,type(per))"
   ]
  },
  {
   "cell_type": "code",
   "execution_count": 22,
   "id": "caaa760f",
   "metadata": {
    "ExecuteTime": {
     "end_time": "2023-11-24T03:36:29.881076Z",
     "start_time": "2023-11-24T03:36:29.874918Z"
    }
   },
   "outputs": [
    {
     "name": "stdout",
     "output_type": "stream",
     "text": [
      "hello! python\n"
     ]
    }
   ],
   "source": [
    "s = \"hello\"\n",
    "t = \"python\"\n",
    "print(s+\"!\", t)"
   ]
  },
  {
   "cell_type": "code",
   "execution_count": 23,
   "id": "38c9bc96",
   "metadata": {
    "ExecuteTime": {
     "end_time": "2023-11-24T03:37:34.073880Z",
     "start_time": "2023-11-24T03:37:34.068677Z"
    }
   },
   "outputs": [
    {
     "name": "stdout",
     "output_type": "stream",
     "text": [
      "<class 'str'>\n"
     ]
    }
   ],
   "source": [
    "a = \"132\"\n",
    "print(type(a))"
   ]
  },
  {
   "cell_type": "code",
   "execution_count": 24,
   "id": "a08e36e4",
   "metadata": {
    "ExecuteTime": {
     "end_time": "2023-11-24T03:38:04.061215Z",
     "start_time": "2023-11-24T03:38:04.054797Z"
    }
   },
   "outputs": [
    {
     "name": "stdout",
     "output_type": "stream",
     "text": [
      "<class 'int'>\n"
     ]
    }
   ],
   "source": [
    "num_str = \"720\"\n",
    "num = int(num_str)\n",
    "print(type(num))"
   ]
  },
  {
   "cell_type": "code",
   "execution_count": 25,
   "id": "6e0f6582",
   "metadata": {
    "ExecuteTime": {
     "end_time": "2023-11-24T03:38:39.028768Z",
     "start_time": "2023-11-24T03:38:39.022631Z"
    }
   },
   "outputs": [
    {
     "name": "stdout",
     "output_type": "stream",
     "text": [
      "15.79 <class 'float'>\n"
     ]
    }
   ],
   "source": [
    "num_str = \"15.79\"\n",
    "num_float = float(num_str)\n",
    "print(num_float, type(num_float))"
   ]
  },
  {
   "cell_type": "code",
   "execution_count": 27,
   "id": "12f90acb",
   "metadata": {
    "ExecuteTime": {
     "end_time": "2023-11-24T03:39:18.001188Z",
     "start_time": "2023-11-24T03:39:17.995277Z"
    }
   },
   "outputs": [
    {
     "name": "stdout",
     "output_type": "stream",
     "text": [
      "2018 2019 2020\n"
     ]
    }
   ],
   "source": [
    "year = \"2020\"\n",
    "y = int(year)\n",
    "print(y-2, y-1, y)"
   ]
  },
  {
   "cell_type": "code",
   "execution_count": 28,
   "id": "a54ef9dd",
   "metadata": {
    "ExecuteTime": {
     "end_time": "2023-11-24T03:40:00.164900Z",
     "start_time": "2023-11-24T03:40:00.158863Z"
    }
   },
   "outputs": [
    {
     "name": "stdout",
     "output_type": "stream",
     "text": [
      "1749024\n"
     ]
    }
   ],
   "source": [
    "mp = 48584\n",
    "total = 36 * mp\n",
    "print(total)"
   ]
  },
  {
   "cell_type": "markdown",
   "id": "6b845766",
   "metadata": {},
   "source": [
    "# 021~050: 파이썬 문자열"
   ]
  },
  {
   "cell_type": "code",
   "execution_count": null,
   "id": "0f31f268",
   "metadata": {},
   "outputs": [],
   "source": []
  }
 ],
 "metadata": {
  "kernelspec": {
   "display_name": "Python 3 (ipykernel)",
   "language": "python",
   "name": "python3"
  },
  "language_info": {
   "codemirror_mode": {
    "name": "ipython",
    "version": 3
   },
   "file_extension": ".py",
   "mimetype": "text/x-python",
   "name": "python",
   "nbconvert_exporter": "python",
   "pygments_lexer": "ipython3",
   "version": "3.11.5"
  },
  "toc": {
   "base_numbering": 1,
   "nav_menu": {},
   "number_sections": true,
   "sideBar": true,
   "skip_h1_title": false,
   "title_cell": "Table of Contents",
   "title_sidebar": "Contents",
   "toc_cell": false,
   "toc_position": {},
   "toc_section_display": true,
   "toc_window_display": false
  }
 },
 "nbformat": 4,
 "nbformat_minor": 5
}
