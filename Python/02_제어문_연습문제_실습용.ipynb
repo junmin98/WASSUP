{
 "cells": [
  {
   "cell_type": "markdown",
   "id": "7463e6f8",
   "metadata": {},
   "source": [
    "# Q1 다음 코드의 결괏값은 무엇일까?\n",
    "```\n",
    "a = 'Life is too short, you need python'\n",
    "if 'wife' in a: print('wife')\n",
    "elif 'python' in a and 'you' not in a : print('python')\n",
    "elif 'shirt' not in a : print('shirt')\n",
    "elif 'need' in a: print('need')\n",
    "else: print('none')\n",
    "```"
   ]
  },
  {
   "cell_type": "code",
   "execution_count": 3,
   "id": "876ead4f",
   "metadata": {
    "ExecuteTime": {
     "end_time": "2023-11-29T01:20:04.551976Z",
     "start_time": "2023-11-29T01:20:04.546469Z"
    }
   },
   "outputs": [
    {
     "name": "stdout",
     "output_type": "stream",
     "text": [
      "shirt\n"
     ]
    }
   ],
   "source": [
    "# 답: shirt\n",
    "\n",
    "# 답 확인\n",
    "a = 'Life is too short, you need python'\n",
    "\n",
    "if 'wife' in a: print('wife')\n",
    "elif 'python' in a and 'you' not in a : print('python')\n",
    "elif 'shirt' not in a : print('shirt')\n",
    "elif 'need' in a: print('need')\n",
    "else: print('none')"
   ]
  },
  {
   "cell_type": "markdown",
   "id": "5748095d",
   "metadata": {},
   "source": [
    "# Q2 while문을 사용해 1부터 1000까지의 자연수 중 3의 배수의 합을 구해 보자.\n",
    "```\n",
    "result = 0\n",
    "i = 1\n",
    "while i <= 1000:\n",
    "    if ?????  # 3으로 나누어 떨어지는 수는 3의 배수\n",
    "        result += i\n",
    "    i += 1\n",
    "print(result) # 166833 출력\n",
    "```"
   ]
  },
  {
   "cell_type": "code",
   "execution_count": 4,
   "id": "e465d2d1",
   "metadata": {
    "ExecuteTime": {
     "end_time": "2023-11-29T01:20:55.039531Z",
     "start_time": "2023-11-29T01:20:55.035852Z"
    }
   },
   "outputs": [
    {
     "name": "stdout",
     "output_type": "stream",
     "text": [
      "166833\n"
     ]
    }
   ],
   "source": [
    "result = 0\n",
    "i = 1\n",
    "while i <= 1000:\n",
    "    if i % 3 == 0:\n",
    "        result += i\n",
    "    i += 1\n",
    "print(result)"
   ]
  },
  {
   "cell_type": "markdown",
   "id": "7f8a865a",
   "metadata": {},
   "source": [
    "# Q3 while문을 사용하여 다음과 같이 별(*)을 표시하는 프로그램을 작성해 보자.\n",
    "```\n",
    "*\n",
    "**\n",
    "***\n",
    "****\n",
    "*****\n",
    "```"
   ]
  },
  {
   "cell_type": "code",
   "execution_count": 7,
   "id": "a10b8c46",
   "metadata": {
    "ExecuteTime": {
     "end_time": "2023-11-29T01:21:37.066898Z",
     "start_time": "2023-11-29T01:21:37.063746Z"
    }
   },
   "outputs": [
    {
     "name": "stdout",
     "output_type": "stream",
     "text": [
      "*\n",
      "**\n",
      "***\n",
      "****\n",
      "*****\n"
     ]
    }
   ],
   "source": [
    "i = 1\n",
    "while i <= 5:\n",
    "    print('*'*i)\n",
    "    i += 1"
   ]
  },
  {
   "cell_type": "markdown",
   "id": "2cd6d851",
   "metadata": {},
   "source": [
    "# Q4 for문을 사용해 1부터 100까지의 숫자를 출력해보자\n",
    "```\n",
    "for i in ???\n",
    "    print(i)\n",
    "```"
   ]
  },
  {
   "cell_type": "code",
   "execution_count": 8,
   "id": "386de29b",
   "metadata": {
    "ExecuteTime": {
     "end_time": "2023-11-29T01:21:48.824107Z",
     "start_time": "2023-11-29T01:21:48.820621Z"
    }
   },
   "outputs": [
    {
     "name": "stdout",
     "output_type": "stream",
     "text": [
      "1\n",
      "2\n",
      "3\n",
      "4\n",
      "5\n",
      "6\n",
      "7\n",
      "8\n",
      "9\n",
      "10\n",
      "11\n",
      "12\n",
      "13\n",
      "14\n",
      "15\n",
      "16\n",
      "17\n",
      "18\n",
      "19\n",
      "20\n",
      "21\n",
      "22\n",
      "23\n",
      "24\n",
      "25\n",
      "26\n",
      "27\n",
      "28\n",
      "29\n",
      "30\n",
      "31\n",
      "32\n",
      "33\n",
      "34\n",
      "35\n",
      "36\n",
      "37\n",
      "38\n",
      "39\n",
      "40\n",
      "41\n",
      "42\n",
      "43\n",
      "44\n",
      "45\n",
      "46\n",
      "47\n",
      "48\n",
      "49\n",
      "50\n",
      "51\n",
      "52\n",
      "53\n",
      "54\n",
      "55\n",
      "56\n",
      "57\n",
      "58\n",
      "59\n",
      "60\n",
      "61\n",
      "62\n",
      "63\n",
      "64\n",
      "65\n",
      "66\n",
      "67\n",
      "68\n",
      "69\n",
      "70\n",
      "71\n",
      "72\n",
      "73\n",
      "74\n",
      "75\n",
      "76\n",
      "77\n",
      "78\n",
      "79\n",
      "80\n",
      "81\n",
      "82\n",
      "83\n",
      "84\n",
      "85\n",
      "86\n",
      "87\n",
      "88\n",
      "89\n",
      "90\n",
      "91\n",
      "92\n",
      "93\n",
      "94\n",
      "95\n",
      "96\n",
      "97\n",
      "98\n",
      "99\n",
      "100\n"
     ]
    }
   ],
   "source": [
    "for i in range(1, 101):\n",
    "    print(i)"
   ]
  },
  {
   "cell_type": "markdown",
   "id": "aad386c0",
   "metadata": {},
   "source": [
    "# Q5 A학급에 총 10명의 학생이 있다. 이 학생들의 중간고사 점수는 다음과 같다.\n",
    "for문을 사용하여 A 학급의 평균 점수를 구해보자.\n",
    "```\n",
    "A = [70, 60, 55, 75, 95, 90, 80, 80, 85, 100]\n",
    "total = 0\n",
    "for score in A:\n",
    "    total += ???? # A학급의 점수를 모두 더한다.\n",
    "average = ???? # 평균을 구하기 위해 총 점수를 총 학생수로 나눈다.\n",
    "print(average)\n",
    "```"
   ]
  },
  {
   "cell_type": "code",
   "execution_count": 9,
   "id": "6c3fdeb4",
   "metadata": {
    "ExecuteTime": {
     "end_time": "2023-11-29T01:22:22.065114Z",
     "start_time": "2023-11-29T01:22:22.061084Z"
    }
   },
   "outputs": [
    {
     "name": "stdout",
     "output_type": "stream",
     "text": [
      "79.0\n"
     ]
    }
   ],
   "source": [
    "A = [70, 60, 55, 75, 95, 90, 80, 80, 85, 100]\n",
    "total = 0\n",
    "for score in A:\n",
    "    total += score # A학급의 점수를 모두 더한다.\n",
    "average = total / len(A) # 평균을 구하기 위해 총 점수를 총 학생수로 나눈다.\n",
    "print(average)"
   ]
  },
  {
   "cell_type": "markdown",
   "id": "a84c0728",
   "metadata": {},
   "source": [
    "# Q6 리스트 중에서 홀수에만 2를 곱하여 저장하는 다음 코드가 있다.\n",
    "```\n",
    "numbers = [1, 2, 3, 4, 5]\n",
    "result = []\n",
    "for n in numbers:\n",
    "if n % 2 == 1:\n",
    "    result.append(n*2)\n",
    "```\n",
    "위 코드를 리스트 내포(list comprehension)을 사용하여 표현해보자.\n",
    "```\n",
    "numbers = [1, 2, 3, 4, 5]\n",
    "result = ?????\n",
    "print(result)\n",
    "```"
   ]
  },
  {
   "cell_type": "code",
   "execution_count": 10,
   "id": "cf9aee67",
   "metadata": {
    "ExecuteTime": {
     "end_time": "2023-11-29T01:23:14.831143Z",
     "start_time": "2023-11-29T01:23:14.821997Z"
    }
   },
   "outputs": [
    {
     "name": "stdout",
     "output_type": "stream",
     "text": [
      "[2, 6, 10]\n"
     ]
    }
   ],
   "source": [
    "numbers = [1, 2, 3, 4, 5]\n",
    "result = [i * 2 for i in numbers if i % 2 != 0]\n",
    "print(result)"
   ]
  },
  {
   "cell_type": "markdown",
   "id": "d6b526fc",
   "metadata": {},
   "source": [
    "```\n",
    "\"뭔가 하게 되면 나는 어떤 식으로든 성장한다.\"\n",
    "- 소설가 김연수\n",
    "```"
   ]
  }
 ],
 "metadata": {
  "kernelspec": {
   "display_name": "Python 3 (ipykernel)",
   "language": "python",
   "name": "python3"
  },
  "language_info": {
   "codemirror_mode": {
    "name": "ipython",
    "version": 3
   },
   "file_extension": ".py",
   "mimetype": "text/x-python",
   "name": "python",
   "nbconvert_exporter": "python",
   "pygments_lexer": "ipython3",
   "version": "3.11.5"
  },
  "toc": {
   "base_numbering": 1,
   "nav_menu": {},
   "number_sections": true,
   "sideBar": true,
   "skip_h1_title": false,
   "title_cell": "Table of Contents",
   "title_sidebar": "Contents",
   "toc_cell": false,
   "toc_position": {},
   "toc_section_display": true,
   "toc_window_display": false
  },
  "varInspector": {
   "cols": {
    "lenName": 16,
    "lenType": 16,
    "lenVar": 40
   },
   "kernels_config": {
    "python": {
     "delete_cmd_postfix": "",
     "delete_cmd_prefix": "del ",
     "library": "var_list.py",
     "varRefreshCmd": "print(var_dic_list())"
    },
    "r": {
     "delete_cmd_postfix": ") ",
     "delete_cmd_prefix": "rm(",
     "library": "var_list.r",
     "varRefreshCmd": "cat(var_dic_list()) "
    }
   },
   "types_to_exclude": [
    "module",
    "function",
    "builtin_function_or_method",
    "instance",
    "_Feature"
   ],
   "window_display": false
  }
 },
 "nbformat": 4,
 "nbformat_minor": 5
}
