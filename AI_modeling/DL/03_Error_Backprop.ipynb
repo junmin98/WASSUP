{
 "cells": [
  {
   "cell_type": "markdown",
   "id": "a6ca8923-0dd2-4a35-988f-3d6af2866c90",
   "metadata": {},
   "source": [
    "# Error backpropagation"
   ]
  },
  {
   "cell_type": "code",
   "execution_count": 1,
   "id": "35b8b2a8-b737-4398-b2c0-5658e025525a",
   "metadata": {},
   "outputs": [],
   "source": [
    "import warnings\n",
    "warnings.filterwarnings('ignore')"
   ]
  },
  {
   "cell_type": "code",
   "execution_count": 2,
   "id": "51c17fcb-17ec-408e-aa62-c8cdc167c921",
   "metadata": {},
   "outputs": [],
   "source": [
    "import numpy as np\n",
    "np.set_printoptions(suppress = True, precision = 3)"
   ]
  },
  {
   "cell_type": "markdown",
   "id": "46048e0d-ae6d-46d2-bcba-91c3d15c7fec",
   "metadata": {},
   "source": [
    "## Data"
   ]
  },
  {
   "cell_type": "code",
   "execution_count": 3,
   "id": "2d51f7cb-6351-423b-9760-207d8810557e",
   "metadata": {},
   "outputs": [
    {
     "data": {
      "text/plain": [
       "array([[0, 0, 1],\n",
       "       [0, 1, 1],\n",
       "       [1, 0, 1],\n",
       "       [1, 1, 1]])"
      ]
     },
     "execution_count": 3,
     "metadata": {},
     "output_type": "execute_result"
    }
   ],
   "source": [
    "X = np.array([[0, 0, 1],\n",
    "              [0, 1, 1],\n",
    "              [1, 0, 1],\n",
    "              [1, 1, 1]])\n",
    "\n",
    "X"
   ]
  },
  {
   "cell_type": "code",
   "execution_count": 4,
   "id": "841548e4-9bb3-44b8-b1b3-708591ae6693",
   "metadata": {},
   "outputs": [
    {
     "data": {
      "text/plain": [
       "array([[0.],\n",
       "       [1.],\n",
       "       [1.],\n",
       "       [0.]])"
      ]
     },
     "execution_count": 4,
     "metadata": {},
     "output_type": "execute_result"
    }
   ],
   "source": [
    "y = np.array([0., 1., 1., 0.]).reshape(4, 1)\n",
    "\n",
    "y"
   ]
  },
  {
   "cell_type": "code",
   "execution_count": 5,
   "id": "b79f63af-65b9-406d-b3ad-d1f16af07390",
   "metadata": {},
   "outputs": [
    {
     "data": {
      "text/plain": [
       "array([[0.844, 0.886, 0.139, 0.061],\n",
       "       [0.192, 0.532, 0.155, 0.827],\n",
       "       [0.92 , 0.015, 0.49 , 0.692]])"
      ]
     },
     "execution_count": 5,
     "metadata": {},
     "output_type": "execute_result"
    }
   ],
   "source": [
    "np.random.seed(2045)\n",
    "W1 = np.random.rand(3, 4)\n",
    "\n",
    "W1"
   ]
  },
  {
   "cell_type": "code",
   "execution_count": 6,
   "id": "6f40c488-651f-4ff8-9f11-d4a8dd30f549",
   "metadata": {},
   "outputs": [
    {
     "data": {
      "text/plain": [
       "array([[0.895],\n",
       "       [0.596],\n",
       "       [0.436],\n",
       "       [0.153]])"
      ]
     },
     "execution_count": 6,
     "metadata": {},
     "output_type": "execute_result"
    }
   ],
   "source": [
    "np.random.seed(2046)\n",
    "W2 = np.random.rand(4)\n",
    "\n",
    "W2 = W2.reshape(4, 1)\n",
    "W2"
   ]
  },
  {
   "cell_type": "code",
   "execution_count": 7,
   "id": "60964eb1-ab74-4ffa-b60e-6733d62bbda2",
   "metadata": {},
   "outputs": [
    {
     "data": {
      "text/plain": [
       "array([[0.844],\n",
       "       [0.886],\n",
       "       [0.139],\n",
       "       [0.061]])"
      ]
     },
     "execution_count": 7,
     "metadata": {},
     "output_type": "execute_result"
    }
   ],
   "source": [
    "np.random.seed(2045)\n",
    "y_hat = np.random.rand(4).reshape(4, 1)\n",
    "\n",
    "y_hat"
   ]
  },
  {
   "cell_type": "code",
   "execution_count": 8,
   "id": "ab44fafa-5559-4f15-93f9-add0d17da9de",
   "metadata": {},
   "outputs": [
    {
     "data": {
      "text/plain": [
       "array([[1., 1., 1., 1.],\n",
       "       [1., 1., 1., 1.],\n",
       "       [1., 1., 1., 1.],\n",
       "       [1., 1., 1., 1.]])"
      ]
     },
     "execution_count": 8,
     "metadata": {},
     "output_type": "execute_result"
    }
   ],
   "source": [
    "Layer1 = np.ones([4, 4])\n",
    "\n",
    "Layer1"
   ]
  },
  {
   "cell_type": "markdown",
   "id": "fad30a06-ab3a-4577-b545-5d8d2df540c6",
   "metadata": {},
   "source": [
    "## 함수 정의"
   ]
  },
  {
   "cell_type": "code",
   "execution_count": 9,
   "id": "dd0b7600-3a85-4b3e-99ab-9c6076fcd617",
   "metadata": {},
   "outputs": [],
   "source": [
    "# sigmoid\n",
    "def sigmoid(x):\n",
    "    y_hat = 1 / (1 + np.exp(-x))\n",
    "    return y_hat"
   ]
  },
  {
   "cell_type": "code",
   "execution_count": 10,
   "id": "12a585c9-f723-4c95-8d2f-c541701694d6",
   "metadata": {},
   "outputs": [],
   "source": [
    "def d_sigmoid(x):\n",
    "    dy = x * (1.0 - x)\n",
    "    return dy"
   ]
  },
  {
   "cell_type": "code",
   "execution_count": 11,
   "id": "d557ee47-f387-4898-a90c-b47f0c4e5dd2",
   "metadata": {},
   "outputs": [],
   "source": [
    "# loss function\n",
    "def loss_function(y, y_hat):\n",
    "    Loss = -np.mean((y * np.log(y_hat) + (1 - y) * np.log(1 - y_hat)))\n",
    "    return Loss "
   ]
  },
  {
   "cell_type": "markdown",
   "id": "6e49d6bb-bfe1-4fa1-b73a-177654c37bbf",
   "metadata": {},
   "source": [
    "## forward prop"
   ]
  },
  {
   "cell_type": "code",
   "execution_count": 12,
   "id": "e22c02e9-a7dd-445b-90bb-23902c830604",
   "metadata": {},
   "outputs": [],
   "source": [
    "def forwardProp(X, W1, Layer1, W2, y_hat):\n",
    "    Layer1 = sigmoid(np.dot(X, W1))\n",
    "    y_hat = sigmoid(np.dot(Layer1, W2))\n",
    "\n",
    "    return Layer1, y_hat"
   ]
  },
  {
   "cell_type": "markdown",
   "id": "51709d28-25f3-4c9c-8309-b9a459b01355",
   "metadata": {},
   "source": [
    "## back prop"
   ]
  },
  {
   "cell_type": "code",
   "execution_count": 13,
   "id": "51db1791-be88-4876-a141-afaa7c50680a",
   "metadata": {},
   "outputs": [],
   "source": [
    "def backProp(X, y, y_hat, Layer1, W1, W2):\n",
    "    d_W2 = np.dot(Layer1, ((y_hat - y) * d_sigmoid(y_hat)))\n",
    "\n",
    "    d_W1 = np.dot(((y_hat - y) * d_sigmoid(y_hat)), np.transpose(W2))\n",
    "    d_W1 = d_W1 * d_sigmoid(Layer1)\n",
    "    d_W1 = np.dot(np.transpose(X), d_W1)\n",
    "\n",
    "    W1 = W1 - 0.8 * d_W1\n",
    "    W2 = W2 - 0.8 * d_W2\n",
    "\n",
    "    return y_hat, Layer1, W1, W2"
   ]
  },
  {
   "cell_type": "markdown",
   "id": "c4c2371c-621b-4576-a65b-3dfd49ab1600",
   "metadata": {},
   "source": [
    "## Gradient descent"
   ]
  },
  {
   "cell_type": "code",
   "execution_count": 14,
   "id": "4216def8-7ba2-40bd-aef9-a5d6384d18dc",
   "metadata": {},
   "outputs": [],
   "source": [
    "Loss_Record = []"
   ]
  },
  {
   "cell_type": "code",
   "execution_count": 15,
   "id": "afc8a7ef-392e-449f-9841-05c45a720600",
   "metadata": {},
   "outputs": [],
   "source": [
    "for k in range(0, 2000):\n",
    "    Layer1, y_hat = forwardProp(X, W1, Layer1, W2, y_hat)\n",
    "    y_hat, Layer1, W1, W2 = backProp(X, y, y_hat, Layer1, W1, W2)\n",
    "    \n",
    "    Loss_Record.append(loss_function(y, y_hat))"
   ]
  },
  {
   "cell_type": "code",
   "execution_count": 16,
   "id": "ef3b5358-de16-40ef-8ae0-8b84045bb0ac",
   "metadata": {},
   "outputs": [
    {
     "data": {
      "text/plain": [
       "array([[ 4.249, -3.19 ,  5.47 ,  2.429],\n",
       "       [ 3.185, -3.703,  6.202,  2.731],\n",
       "       [-5.472,  0.857, -2.302, -3.605]])"
      ]
     },
     "execution_count": 16,
     "metadata": {},
     "output_type": "execute_result"
    }
   ],
   "source": [
    "W1"
   ]
  },
  {
   "cell_type": "code",
   "execution_count": 17,
   "id": "5f5c9cab-b371-43a2-99e2-fde3a4fb6a45",
   "metadata": {},
   "outputs": [
    {
     "data": {
      "text/plain": [
       "array([[-2.247],\n",
       "       [-5.244],\n",
       "       [ 6.988],\n",
       "       [-9.85 ]])"
      ]
     },
     "execution_count": 17,
     "metadata": {},
     "output_type": "execute_result"
    }
   ],
   "source": [
    "W2"
   ]
  },
  {
   "cell_type": "code",
   "execution_count": 18,
   "id": "c6054adf-9d7d-46d3-91c5-35fe199a3a79",
   "metadata": {},
   "outputs": [
    {
     "data": {
      "text/plain": [
       "array([[0.035],\n",
       "       [0.969],\n",
       "       [0.968],\n",
       "       [0.042]])"
      ]
     },
     "execution_count": 18,
     "metadata": {},
     "output_type": "execute_result"
    }
   ],
   "source": [
    "y_hat"
   ]
  },
  {
   "cell_type": "markdown",
   "id": "d7c63a40-9787-46df-969f-3092d0ab767e",
   "metadata": {},
   "source": [
    "## visualization"
   ]
  },
  {
   "cell_type": "code",
   "execution_count": 19,
   "id": "f2580d91-5cb3-401e-bdfa-1d3331291bdd",
   "metadata": {},
   "outputs": [
    {
     "data": {
      "image/png": "[encoded data removed]",
      "text/plain": [
       "<Figure size 900x600 with 1 Axes>"
      ]
     },
     "metadata": {},
     "output_type": "display_data"
    }
   ],
   "source": [
    "import matplotlib.pyplot as plt\n",
    "\n",
    "plt.figure(figsize = (9, 6))\n",
    "plt.plot(Loss_Record)\n",
    "plt.show()"
   ]
  },
  {
   "cell_type": "code",
   "execution_count": null,
   "id": "8dc16b70-ce59-42f2-86d7-c0c6766adcdf",
   "metadata": {},
   "outputs": [],
   "source": []
  }
 ],
 "metadata": {
  "kernelspec": {
   "display_name": "Python 3 (ipykernel)",
   "language": "python",
   "name": "python3"
  },
  "language_info": {
   "codemirror_mode": {
    "name": "ipython",
    "version": 3
   },
   "file_extension": ".py",
   "mimetype": "text/x-python",
   "name": "python",
   "nbconvert_exporter": "python",
   "pygments_lexer": "ipython3",
   "version": "3.11.5"
  }
 },
 "nbformat": 4,
 "nbformat_minor": 5
}
