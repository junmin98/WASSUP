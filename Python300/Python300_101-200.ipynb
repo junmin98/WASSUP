{
 "cells": [
  {
   "cell_type": "markdown",
   "id": "2fa403fd",
   "metadata": {},
   "source": [
    "# 파이썬 분기문"
   ]
  },
  {
   "cell_type": "markdown",
   "id": "e66259cb",
   "metadata": {},
   "source": [
    "## 101~110"
   ]
  },
  {
   "cell_type": "code",
   "execution_count": 1,
   "id": "ac56cc6f",
   "metadata": {
    "ExecuteTime": {
     "end_time": "2023-11-28T00:52:29.889251Z",
     "start_time": "2023-11-28T00:52:29.879014Z"
    }
   },
   "outputs": [],
   "source": [
    "# 'bool' 타입"
   ]
  },
  {
   "cell_type": "code",
   "execution_count": 2,
   "id": "5333f270",
   "metadata": {
    "ExecuteTime": {
     "end_time": "2023-11-28T00:52:30.746971Z",
     "start_time": "2023-11-28T00:52:30.712951Z"
    }
   },
   "outputs": [
    {
     "name": "stdout",
     "output_type": "stream",
     "text": [
      "False\n"
     ]
    }
   ],
   "source": [
    "print(3==5) # 예상답: False"
   ]
  },
  {
   "cell_type": "code",
   "execution_count": 3,
   "id": "f2bbbf3b",
   "metadata": {
    "ExecuteTime": {
     "end_time": "2023-11-28T00:52:49.928788Z",
     "start_time": "2023-11-28T00:52:49.925844Z"
    }
   },
   "outputs": [
    {
     "name": "stdout",
     "output_type": "stream",
     "text": [
      "True\n"
     ]
    }
   ],
   "source": [
    "print(3<5) # 예상답: True"
   ]
  },
  {
   "cell_type": "code",
   "execution_count": 4,
   "id": "c7e12612",
   "metadata": {
    "ExecuteTime": {
     "end_time": "2023-11-28T00:53:21.180944Z",
     "start_time": "2023-11-28T00:53:21.175086Z"
    }
   },
   "outputs": [
    {
     "name": "stdout",
     "output_type": "stream",
     "text": [
      "True\n"
     ]
    }
   ],
   "source": [
    "x = 4\n",
    "print(1<x<5) # 예상답: True"
   ]
  },
  {
   "cell_type": "code",
   "execution_count": 6,
   "id": "a7176d1f",
   "metadata": {
    "ExecuteTime": {
     "end_time": "2023-11-28T00:53:44.486298Z",
     "start_time": "2023-11-28T00:53:44.481453Z"
    }
   },
   "outputs": [
    {
     "name": "stdout",
     "output_type": "stream",
     "text": [
      "True\n"
     ]
    }
   ],
   "source": [
    "print((3==3) and (4!=3)) # 예상답: True"
   ]
  },
  {
   "cell_type": "code",
   "execution_count": 9,
   "id": "9c190dfa",
   "metadata": {
    "ExecuteTime": {
     "end_time": "2023-11-28T00:54:44.380118Z",
     "start_time": "2023-11-28T00:54:44.377545Z"
    }
   },
   "outputs": [],
   "source": [
    "# print(3 => 4)\n",
    "# 에러 발생 원인: => 가 아니라 >= 로 사용해야한다. "
   ]
  },
  {
   "cell_type": "code",
   "execution_count": 10,
   "id": "a8879c69",
   "metadata": {
    "ExecuteTime": {
     "end_time": "2023-11-28T00:55:10.997222Z",
     "start_time": "2023-11-28T00:55:10.992867Z"
    }
   },
   "outputs": [],
   "source": [
    "if 4 < 3:\n",
    "    print(\"Hello World\") # 출력결과: 아무 결과도 출력되지 않음"
   ]
  },
  {
   "cell_type": "code",
   "execution_count": 11,
   "id": "a8536b6c",
   "metadata": {
    "ExecuteTime": {
     "end_time": "2023-11-28T00:55:23.156194Z",
     "start_time": "2023-11-28T00:55:23.153116Z"
    }
   },
   "outputs": [
    {
     "name": "stdout",
     "output_type": "stream",
     "text": [
      "Hi, there.\n"
     ]
    }
   ],
   "source": [
    "if 4 < 3:\n",
    "    print(\"Hello World.\")\n",
    "else:\n",
    "    print(\"Hi, there.\")\n",
    "# 출력 결과: Hi, there."
   ]
  },
  {
   "cell_type": "code",
   "execution_count": 13,
   "id": "034db4d4",
   "metadata": {
    "ExecuteTime": {
     "end_time": "2023-11-28T00:56:46.016579Z",
     "start_time": "2023-11-28T00:56:46.013390Z"
    }
   },
   "outputs": [
    {
     "name": "stdout",
     "output_type": "stream",
     "text": [
      "1\n",
      "2\n",
      "4\n"
     ]
    }
   ],
   "source": [
    "if True :\n",
    "    print (\"1\")\n",
    "    print (\"2\")\n",
    "else :\n",
    "    print(\"3\")\n",
    "\n",
    "print(\"4\")\n",
    "# 출력결과: \n",
    "# 1 \n",
    "# 2 \n",
    "# 4"
   ]
  },
  {
   "cell_type": "code",
   "execution_count": 14,
   "id": "3909c433",
   "metadata": {
    "ExecuteTime": {
     "end_time": "2023-11-28T00:57:31.612616Z",
     "start_time": "2023-11-28T00:57:31.608856Z"
    }
   },
   "outputs": [
    {
     "name": "stdout",
     "output_type": "stream",
     "text": [
      "3\n",
      "5\n"
     ]
    }
   ],
   "source": [
    "if True :\n",
    "    if False:\n",
    "        print(\"1\")\n",
    "        print(\"2\")\n",
    "    else:\n",
    "        print(\"3\")\n",
    "else :\n",
    "    print(\"4\")\n",
    "print(\"5\")\n",
    "# 출력결과:\n",
    "# 3 \n",
    "# 5"
   ]
  },
  {
   "cell_type": "markdown",
   "id": "a7045cdc",
   "metadata": {},
   "source": [
    "## 111~120"
   ]
  },
  {
   "cell_type": "code",
   "execution_count": 16,
   "id": "1c263f65",
   "metadata": {
    "ExecuteTime": {
     "end_time": "2023-11-28T00:58:56.799644Z",
     "start_time": "2023-11-28T00:58:54.319230Z"
    }
   },
   "outputs": [
    {
     "name": "stdout",
     "output_type": "stream",
     "text": [
      "입력: 안녕하세요\n",
      "안녕하세요안녕하세요\n"
     ]
    }
   ],
   "source": [
    "user = input(\"입력: \")\n",
    "print(user * 2)"
   ]
  },
  {
   "cell_type": "code",
   "execution_count": 18,
   "id": "f5e313cb",
   "metadata": {
    "ExecuteTime": {
     "end_time": "2023-11-28T00:59:35.192770Z",
     "start_time": "2023-11-28T00:59:33.198369Z"
    }
   },
   "outputs": [
    {
     "name": "stdout",
     "output_type": "stream",
     "text": [
      "숫자를 입력하세요:30\n",
      "40\n"
     ]
    }
   ],
   "source": [
    "num = int(input(\"숫자를 입력하세요:\"))\n",
    "print(num+10)"
   ]
  },
  {
   "cell_type": "code",
   "execution_count": 19,
   "id": "8e38cb8f",
   "metadata": {
    "ExecuteTime": {
     "end_time": "2023-11-28T01:00:41.870463Z",
     "start_time": "2023-11-28T01:00:37.597182Z"
    }
   },
   "outputs": [
    {
     "name": "stdout",
     "output_type": "stream",
     "text": [
      "30\n",
      "짝수\n"
     ]
    }
   ],
   "source": [
    "num = int(input())\n",
    "if num % 2 == 0:\n",
    "    print(\"짝수\")\n",
    "else:\n",
    "    print(\"홀수\")"
   ]
  },
  {
   "cell_type": "code",
   "execution_count": 24,
   "id": "465e1259",
   "metadata": {
    "ExecuteTime": {
     "end_time": "2023-11-28T01:02:56.864086Z",
     "start_time": "2023-11-28T01:02:48.689388Z"
    }
   },
   "outputs": [
    {
     "name": "stdout",
     "output_type": "stream",
     "text": [
      "입력값:240\n",
      "255\n"
     ]
    }
   ],
   "source": [
    "num = int(input(\"입력값:\"))\n",
    "num_ = num+20\n",
    "if num_ > 255:\n",
    "    print(255)\n",
    "else:\n",
    "    print(num_)"
   ]
  },
  {
   "cell_type": "code",
   "execution_count": 25,
   "id": "70506999",
   "metadata": {
    "ExecuteTime": {
     "end_time": "2023-11-28T01:05:50.518108Z",
     "start_time": "2023-11-28T01:05:46.890116Z"
    }
   },
   "outputs": [
    {
     "name": "stdout",
     "output_type": "stream",
     "text": [
      "입력값:10\n",
      "0\n"
     ]
    }
   ],
   "source": [
    "num = int(input(\"입력값:\"))\n",
    "num_ = num-20\n",
    "if num_ < 0:\n",
    "    print(0)\n",
    "elif num_ > 255:\n",
    "    print(255)\n",
    "else:\n",
    "    print(num_)"
   ]
  },
  {
   "cell_type": "code",
   "execution_count": 28,
   "id": "2fcd035b",
   "metadata": {
    "ExecuteTime": {
     "end_time": "2023-11-28T01:07:08.010005Z",
     "start_time": "2023-11-28T01:07:03.525245Z"
    }
   },
   "outputs": [
    {
     "name": "stdout",
     "output_type": "stream",
     "text": [
      "현재시간:03:10\n",
      "정각이 아닙니다.\n"
     ]
    }
   ],
   "source": [
    "time = input(\"현재시간:\")\n",
    "if time.split(':')[1] == '00':\n",
    "    print(\"정각 입니다.\")\n",
    "else:\n",
    "    print(\"정각이 아닙니다.\")"
   ]
  },
  {
   "cell_type": "code",
   "execution_count": 29,
   "id": "20392527",
   "metadata": {
    "ExecuteTime": {
     "end_time": "2023-11-28T01:08:31.144425Z",
     "start_time": "2023-11-28T01:08:26.545027Z"
    }
   },
   "outputs": [
    {
     "name": "stdout",
     "output_type": "stream",
     "text": [
      "좋아하는 과일은?사과\n",
      "정답입니다.\n"
     ]
    }
   ],
   "source": [
    "fruit = [\"사과\", \"포도\", \"홍시\"]\n",
    "\n",
    "user = input(\"좋아하는 과일은?\")\n",
    "if user in fruit:\n",
    "    print(\"정답입니다.\")\n",
    "else:\n",
    "    print(\"오답입니다.\")"
   ]
  },
  {
   "cell_type": "code",
   "execution_count": 31,
   "id": "debcf65e",
   "metadata": {
    "ExecuteTime": {
     "end_time": "2023-11-28T01:09:54.947294Z",
     "start_time": "2023-11-28T01:09:53.083022Z"
    }
   },
   "outputs": [
    {
     "name": "stdout",
     "output_type": "stream",
     "text": [
      "종목명: LG\n",
      "투자 경고 종목입니다.\n"
     ]
    }
   ],
   "source": [
    "warn_investment_list = [\"Microsoft\", \"Google\", \"Naver\", \"Kakao\", \"SAMSUNG\", \"LG\"]\n",
    "user = input(\"종목명: \")\n",
    "if user in warn_investment_list:\n",
    "    print(\"투자 경고 종목입니다.\")\n",
    "else:\n",
    "    print(\"투자 경고 종목이 아닙니다.\")"
   ]
  },
  {
   "cell_type": "code",
   "execution_count": 33,
   "id": "31150895",
   "metadata": {
    "ExecuteTime": {
     "end_time": "2023-11-28T01:11:13.984456Z",
     "start_time": "2023-11-28T01:11:11.962416Z"
    }
   },
   "outputs": [
    {
     "name": "stdout",
     "output_type": "stream",
     "text": [
      "제가 좋아하는 계절은: 봄\n",
      "정답입니다.\n"
     ]
    }
   ],
   "source": [
    "fruit = {\"봄\" : \"딸기\", \"여름\" : \"토마토\", \"가을\" : \"사과\"}\n",
    "user = input(\"제가 좋아하는 계절은: \")\n",
    "if user in fruit.keys():\n",
    "    print(\"정답입니다.\")\n",
    "else:\n",
    "    print(\"오답입니다.\")"
   ]
  },
  {
   "cell_type": "code",
   "execution_count": 34,
   "id": "52e99413",
   "metadata": {
    "ExecuteTime": {
     "end_time": "2023-11-28T01:12:48.995189Z",
     "start_time": "2023-11-28T01:12:44.822469Z"
    }
   },
   "outputs": [
    {
     "name": "stdout",
     "output_type": "stream",
     "text": [
      "좋아하는 과일은? 한라봉\n",
      "오답입니다.\n"
     ]
    }
   ],
   "source": [
    "fruit = {\"봄\" : \"딸기\", \"여름\" : \"토마토\", \"가을\" : \"사과\"}\n",
    "user = input(\"좋아하는 과일은? \")\n",
    "if user in fruit.values():\n",
    "    print(\"정답입니다.\")\n",
    "else:\n",
    "    print(\"오답입니다.\")"
   ]
  },
  {
   "cell_type": "markdown",
   "id": "15fc57c3",
   "metadata": {},
   "source": [
    "## 121~130"
   ]
  },
  {
   "cell_type": "code",
   "execution_count": 35,
   "id": "96e14ec0",
   "metadata": {
    "ExecuteTime": {
     "end_time": "2023-11-28T02:32:12.229884Z",
     "start_time": "2023-11-28T02:32:11.298558Z"
    }
   },
   "outputs": [
    {
     "name": "stdout",
     "output_type": "stream",
     "text": [
      "a\n",
      "A\n"
     ]
    }
   ],
   "source": [
    "user = input(\"\")\n",
    "if user.islower():\n",
    "    print(user.upper())\n",
    "else:\n",
    "    print(user.lower())"
   ]
  },
  {
   "cell_type": "code",
   "execution_count": 45,
   "id": "9e5c8f4d",
   "metadata": {
    "ExecuteTime": {
     "end_time": "2023-11-28T02:37:50.608898Z",
     "start_time": "2023-11-28T02:37:48.374678Z"
    }
   },
   "outputs": [
    {
     "name": "stdout",
     "output_type": "stream",
     "text": [
      "score: 5\n",
      "grade is  E\n",
      "score: 5\n",
      "grade is  E\n"
     ]
    }
   ],
   "source": [
    "score = int(input(\"score: \"))\n",
    "if 81 <= score <= 100:\n",
    "    grade = 'A'\n",
    "elif 61 <= score <= 80:\n",
    "    grade = 'B'\n",
    "elif 41 <= score <= 60:\n",
    "    grade = 'C'\n",
    "elif 21 <= score <= 40:\n",
    "    grade = 'D'\n",
    "else:\n",
    "    grade = 'E'\n",
    "print(\"grade is \", grade)\n",
    "\n",
    "\n",
    "score = int(input(\"score: \"))\n",
    "if score >= 81:\n",
    "    grade = 'A'\n",
    "elif score >= 61:\n",
    "    grade = 'B'\n",
    "elif score >= 41:\n",
    "    grade = 'C'\n",
    "elif score >= 21:\n",
    "    grade = 'D'\n",
    "else:\n",
    "    grade = 'E'\n",
    "print(\"grade is \", grade)"
   ]
  },
  {
   "cell_type": "code",
   "execution_count": 51,
   "id": "2e61f408",
   "metadata": {
    "ExecuteTime": {
     "end_time": "2023-11-28T02:45:16.962360Z",
     "start_time": "2023-11-28T02:45:11.902541Z"
    }
   },
   "outputs": [
    {
     "name": "stdout",
     "output_type": "stream",
     "text": [
      "입력: 14 위안\n",
      "2394 원\n"
     ]
    }
   ],
   "source": [
    "환율 = {'달러': 1167, '엔': 1.096, '유로':1268, '위안':171}\n",
    "money, unit = input(\"입력: \").split()\n",
    "print(환율[unit] * int(money), \"원\")\n"
   ]
  },
  {
   "cell_type": "code",
   "execution_count": 60,
   "id": "124d0cee",
   "metadata": {
    "ExecuteTime": {
     "end_time": "2023-11-28T03:01:18.065124Z",
     "start_time": "2023-11-28T03:01:15.049177Z"
    }
   },
   "outputs": [
    {
     "name": "stdout",
     "output_type": "stream",
     "text": [
      "input number0: 10\n",
      "input number1: 9\n",
      "input number2: 20\n",
      "20\n"
     ]
    }
   ],
   "source": [
    "nums = [ int(input(f\"input number{i}: \")) for i in range(3)]  \n",
    "print(max(nums))"
   ]
  },
  {
   "cell_type": "code",
   "execution_count": 63,
   "id": "024264cd",
   "metadata": {
    "ExecuteTime": {
     "end_time": "2023-11-28T03:03:28.104135Z",
     "start_time": "2023-11-28T03:03:23.018695Z"
    }
   },
   "outputs": [
    {
     "name": "stdout",
     "output_type": "stream",
     "text": [
      "휴대전화 번호 입력: 011-345-1922\n",
      "당신은 SKT 사용자입니다.\n"
     ]
    }
   ],
   "source": [
    "nums = input(\"휴대전화 번호 입력: \")\n",
    "telecom = nums.split('-')[0]\n",
    "t_dict = {\"011\": \"SKT\", \"016\": \"KT\", \"019\":\"LGU\", \"010\":\"알 수 없음\"}\n",
    "print(f\"당신은 {t_dict[telecom]} 사용자입니다.\")"
   ]
  },
  {
   "cell_type": "markdown",
   "id": "5a190d31",
   "metadata": {},
   "source": [
    "# 파이썬 반복문"
   ]
  },
  {
   "cell_type": "markdown",
   "id": "f00a5cbc",
   "metadata": {},
   "source": [
    "## 131~140"
   ]
  },
  {
   "cell_type": "code",
   "execution_count": 65,
   "id": "bd08ca51",
   "metadata": {
    "ExecuteTime": {
     "end_time": "2023-11-28T03:51:57.695023Z",
     "start_time": "2023-11-28T03:51:57.680077Z"
    }
   },
   "outputs": [
    {
     "name": "stdout",
     "output_type": "stream",
     "text": [
      "사과\n",
      "귤\n",
      "수박\n"
     ]
    }
   ],
   "source": [
    "# 사과\n",
    "# 귤\n",
    "# 수박\n",
    "과일 = [\"사과\", \"귤\", \"수박\"]\n",
    "for 변수 in 과일:\n",
    "    print(변수)"
   ]
  },
  {
   "cell_type": "code",
   "execution_count": 67,
   "id": "bc065f10",
   "metadata": {
    "ExecuteTime": {
     "end_time": "2023-11-28T03:52:17.362041Z",
     "start_time": "2023-11-28T03:52:17.358482Z"
    }
   },
   "outputs": [
    {
     "name": "stdout",
     "output_type": "stream",
     "text": [
      "#####\n",
      "#####\n",
      "#####\n"
     ]
    }
   ],
   "source": [
    "#####\n",
    "#####\n",
    "#####\n",
    "\n",
    "과일 = [\"사과\", \"귤\", \"수박\"]\n",
    "for 변수 in 과일:\n",
    "    print(\"#####\")"
   ]
  },
  {
   "cell_type": "code",
   "execution_count": 68,
   "id": "d7aafb79",
   "metadata": {
    "ExecuteTime": {
     "end_time": "2023-11-28T03:53:13.992452Z",
     "start_time": "2023-11-28T03:53:13.984858Z"
    }
   },
   "outputs": [
    {
     "name": "stdout",
     "output_type": "stream",
     "text": [
      "10\n",
      "20\n",
      "30\n"
     ]
    }
   ],
   "source": [
    "변수 = [10, 20, 30]\n",
    "for i in 변수:\n",
    "    print(i)"
   ]
  },
  {
   "cell_type": "code",
   "execution_count": 69,
   "id": "1242fab8",
   "metadata": {
    "ExecuteTime": {
     "end_time": "2023-11-28T03:54:01.473819Z",
     "start_time": "2023-11-28T03:54:01.470736Z"
    }
   },
   "outputs": [
    {
     "name": "stdout",
     "output_type": "stream",
     "text": [
      "10\n",
      "----------\n",
      "20\n",
      "----------\n",
      "30\n",
      "----------\n"
     ]
    }
   ],
   "source": [
    "nums = [10, 20, 30]\n",
    "for i in nums:\n",
    "    print(i)\n",
    "    print(\"----------\")"
   ]
  },
  {
   "cell_type": "code",
   "execution_count": 70,
   "id": "00ec1e06",
   "metadata": {
    "ExecuteTime": {
     "end_time": "2023-11-28T03:54:20.113990Z",
     "start_time": "2023-11-28T03:54:20.109881Z"
    }
   },
   "outputs": [
    {
     "name": "stdout",
     "output_type": "stream",
     "text": [
      "+++++\n",
      "10\n",
      "20\n",
      "30\n"
     ]
    }
   ],
   "source": [
    "print(\"+++++\")\n",
    "for i in nums:\n",
    "    print(i)"
   ]
  },
  {
   "cell_type": "code",
   "execution_count": 71,
   "id": "26b4dab0",
   "metadata": {
    "ExecuteTime": {
     "end_time": "2023-11-28T03:54:36.545937Z",
     "start_time": "2023-11-28T03:54:36.540226Z"
    }
   },
   "outputs": [
    {
     "name": "stdout",
     "output_type": "stream",
     "text": [
      "----------\n",
      "----------\n",
      "----------\n",
      "----------\n"
     ]
    }
   ],
   "source": [
    "for _ in range(4):\n",
    "    print(\"-\"*10)"
   ]
  },
  {
   "cell_type": "markdown",
   "id": "fe7c9c39",
   "metadata": {},
   "source": [
    "## 141~150"
   ]
  },
  {
   "cell_type": "code",
   "execution_count": 72,
   "id": "e37b9f0c",
   "metadata": {
    "ExecuteTime": {
     "end_time": "2023-11-28T03:55:13.481474Z",
     "start_time": "2023-11-28T03:55:13.475187Z"
    }
   },
   "outputs": [
    {
     "name": "stdout",
     "output_type": "stream",
     "text": [
      "110\n",
      "210\n",
      "310\n"
     ]
    }
   ],
   "source": [
    "리스트 = [100, 200, 300]\n",
    "부가세 = 10\n",
    "for i in 리스트:\n",
    "    print(i+부가세)"
   ]
  },
  {
   "cell_type": "code",
   "execution_count": 73,
   "id": "11ad2d73",
   "metadata": {
    "ExecuteTime": {
     "end_time": "2023-11-28T03:55:44.943893Z",
     "start_time": "2023-11-28T03:55:44.938275Z"
    }
   },
   "outputs": [
    {
     "name": "stdout",
     "output_type": "stream",
     "text": [
      "오늘의 메뉴:  김밥\n",
      "오늘의 메뉴:  라면\n",
      "오늘의 메뉴:  튀김\n"
     ]
    }
   ],
   "source": [
    "리스트 = [\"김밥\", \"라면\", \"튀김\"]\n",
    "for menu in 리스트:\n",
    "    print(\"오늘의 메뉴: \", menu)"
   ]
  },
  {
   "cell_type": "code",
   "execution_count": 74,
   "id": "290aa86f",
   "metadata": {
    "ExecuteTime": {
     "end_time": "2023-11-28T03:56:02.054852Z",
     "start_time": "2023-11-28T03:56:02.051872Z"
    }
   },
   "outputs": [
    {
     "name": "stdout",
     "output_type": "stream",
     "text": [
      "6\n",
      "4\n",
      "4\n"
     ]
    }
   ],
   "source": [
    "리스트 = [\"SK하이닉스\", \"삼성전자\", \"LG전자\"]\n",
    "for i in 리스트:\n",
    "    print(len(i))"
   ]
  },
  {
   "cell_type": "code",
   "execution_count": 75,
   "id": "038d0bb1",
   "metadata": {
    "ExecuteTime": {
     "end_time": "2023-11-28T03:58:11.621568Z",
     "start_time": "2023-11-28T03:58:11.609665Z"
    }
   },
   "outputs": [
    {
     "name": "stdout",
     "output_type": "stream",
     "text": [
      "dog 3\n",
      "cat 3\n",
      "parrot 6\n"
     ]
    }
   ],
   "source": [
    "리스트 = ['dog', 'cat', 'parrot']\n",
    "for animal in 리스트:\n",
    "    print(animal, len(animal))"
   ]
  },
  {
   "cell_type": "code",
   "execution_count": 76,
   "id": "c252b0cd",
   "metadata": {
    "ExecuteTime": {
     "end_time": "2023-11-28T03:58:29.521899Z",
     "start_time": "2023-11-28T03:58:29.516377Z"
    }
   },
   "outputs": [
    {
     "name": "stdout",
     "output_type": "stream",
     "text": [
      "d\n",
      "c\n",
      "p\n"
     ]
    }
   ],
   "source": [
    "for animal in 리스트:\n",
    "    print(animal[0])"
   ]
  },
  {
   "cell_type": "code",
   "execution_count": 77,
   "id": "ae38b399",
   "metadata": {
    "ExecuteTime": {
     "end_time": "2023-11-28T03:58:58.322055Z",
     "start_time": "2023-11-28T03:58:58.317389Z"
    }
   },
   "outputs": [
    {
     "name": "stdout",
     "output_type": "stream",
     "text": [
      "3 x 1\n",
      "3 x 2\n",
      "3 x 3\n"
     ]
    }
   ],
   "source": [
    "리스트 = [1, 2, 3]\n",
    "for i in 리스트:\n",
    "    print(f\"3 x {i}\")"
   ]
  },
  {
   "cell_type": "code",
   "execution_count": 78,
   "id": "2400f154",
   "metadata": {
    "ExecuteTime": {
     "end_time": "2023-11-28T03:59:15.544937Z",
     "start_time": "2023-11-28T03:59:15.537812Z"
    }
   },
   "outputs": [
    {
     "name": "stdout",
     "output_type": "stream",
     "text": [
      "3 x 1 = 3\n",
      "3 x 2 = 6\n",
      "3 x 3 = 9\n"
     ]
    }
   ],
   "source": [
    "for i in 리스트:\n",
    "    print(f\"3 x {i} = {3*i}\")"
   ]
  },
  {
   "cell_type": "code",
   "execution_count": 80,
   "id": "2fba2c26",
   "metadata": {
    "ExecuteTime": {
     "end_time": "2023-11-28T03:59:47.443029Z",
     "start_time": "2023-11-28T03:59:47.438477Z"
    }
   },
   "outputs": [
    {
     "name": "stdout",
     "output_type": "stream",
     "text": [
      "나\n",
      "다\n",
      "라\n"
     ]
    }
   ],
   "source": [
    "리스트 = [\"가\", \"나\", \"다\", \"라\"]\n",
    "for i in range(1, len(리스트)):\n",
    "    print(리스트[i])"
   ]
  },
  {
   "cell_type": "code",
   "execution_count": 84,
   "id": "fdc3dd31",
   "metadata": {
    "ExecuteTime": {
     "end_time": "2023-11-28T04:06:13.737601Z",
     "start_time": "2023-11-28T04:06:13.732781Z"
    }
   },
   "outputs": [
    {
     "name": "stdout",
     "output_type": "stream",
     "text": [
      "가\n",
      "다\n",
      "가\n",
      "다\n"
     ]
    }
   ],
   "source": [
    "리스트 = [\"가\", \"나\", \"다\", \"라\"]\n",
    "for i in range(0, len(리스트), 2):\n",
    "    print(리스트[i])\n",
    "    \n",
    "for i in 리스트[::2]:\n",
    "    print(i)"
   ]
  },
  {
   "cell_type": "code",
   "execution_count": 85,
   "id": "d5bd5517",
   "metadata": {
    "ExecuteTime": {
     "end_time": "2023-11-28T04:57:46.074072Z",
     "start_time": "2023-11-28T04:57:46.062762Z"
    }
   },
   "outputs": [
    {
     "name": "stdout",
     "output_type": "stream",
     "text": [
      "라\n",
      "다\n",
      "나\n",
      "가\n"
     ]
    }
   ],
   "source": [
    "리스트 = [\"가\", \"나\", \"다\", \"라\"]\n",
    "for i in 리스트[::-1]:\n",
    "    print(i)"
   ]
  },
  {
   "cell_type": "markdown",
   "id": "fb537d9a",
   "metadata": {},
   "source": [
    "## 151~160"
   ]
  },
  {
   "cell_type": "code",
   "execution_count": 88,
   "id": "a1d619e6",
   "metadata": {
    "ExecuteTime": {
     "end_time": "2023-11-28T04:58:42.882944Z",
     "start_time": "2023-11-28T04:58:42.879500Z"
    }
   },
   "outputs": [
    {
     "name": "stdout",
     "output_type": "stream",
     "text": [
      "-20\n",
      "-3\n"
     ]
    }
   ],
   "source": [
    "리스트 = [3, -20, -3, 44]\n",
    "for i in 리스트:\n",
    "    if i < 0:\n",
    "        print(i)"
   ]
  },
  {
   "cell_type": "code",
   "execution_count": 89,
   "id": "924a8d86",
   "metadata": {
    "ExecuteTime": {
     "end_time": "2023-11-28T04:59:00.497911Z",
     "start_time": "2023-11-28T04:59:00.491320Z"
    }
   },
   "outputs": [
    {
     "name": "stdout",
     "output_type": "stream",
     "text": [
      "3\n"
     ]
    }
   ],
   "source": [
    "리스트 = [3, 100, 23, 44]\n",
    "for i in 리스트:\n",
    "    if i % 3 == 0:\n",
    "        print(i)"
   ]
  },
  {
   "cell_type": "code",
   "execution_count": 91,
   "id": "0dcb6c7a",
   "metadata": {
    "ExecuteTime": {
     "end_time": "2023-11-28T04:59:40.676091Z",
     "start_time": "2023-11-28T04:59:40.665336Z"
    }
   },
   "outputs": [
    {
     "name": "stdout",
     "output_type": "stream",
     "text": [
      "12\n",
      "18\n"
     ]
    }
   ],
   "source": [
    "리스트 = [13, 21, 12, 14, 30, 18]\n",
    "for i in 리스트:\n",
    "    if (i < 20) & (i%3==0):\n",
    "        print(i)"
   ]
  },
  {
   "cell_type": "code",
   "execution_count": 92,
   "id": "c2bdd1e8",
   "metadata": {
    "ExecuteTime": {
     "end_time": "2023-11-28T04:59:58.261129Z",
     "start_time": "2023-11-28T04:59:58.254205Z"
    }
   },
   "outputs": [
    {
     "name": "stdout",
     "output_type": "stream",
     "text": [
      "study\n",
      "python\n",
      "language\n"
     ]
    }
   ],
   "source": [
    "리스트 = [\"I\", \"study\", \"python\", \"language\", \"!\"]\n",
    "for i in 리스트:\n",
    "    if len(i) >= 3:\n",
    "        print(i)"
   ]
  },
  {
   "cell_type": "code",
   "execution_count": 93,
   "id": "00d0c2b3",
   "metadata": {
    "ExecuteTime": {
     "end_time": "2023-11-28T07:04:08.542124Z",
     "start_time": "2023-11-28T07:04:08.522384Z"
    }
   },
   "outputs": [
    {
     "name": "stdout",
     "output_type": "stream",
     "text": [
      "A\n",
      "D\n"
     ]
    }
   ],
   "source": [
    "리스트 = [\"A\", \"b\", \"c\", \"D\"]\n",
    "for i in 리스트:\n",
    "    if i.isupper():\n",
    "        print(i)"
   ]
  },
  {
   "cell_type": "code",
   "execution_count": 94,
   "id": "363b8903",
   "metadata": {
    "ExecuteTime": {
     "end_time": "2023-11-28T07:04:23.738745Z",
     "start_time": "2023-11-28T07:04:23.731110Z"
    }
   },
   "outputs": [
    {
     "name": "stdout",
     "output_type": "stream",
     "text": [
      "b\n",
      "c\n"
     ]
    }
   ],
   "source": [
    "리스트 = [\"A\", \"b\", \"c\", \"D\"]\n",
    "for i in 리스트:\n",
    "    if i.islower():\n",
    "        print(i)"
   ]
  },
  {
   "cell_type": "code",
   "execution_count": 95,
   "id": "8ff6c62e",
   "metadata": {
    "ExecuteTime": {
     "end_time": "2023-11-28T07:04:42.376267Z",
     "start_time": "2023-11-28T07:04:42.368330Z"
    }
   },
   "outputs": [
    {
     "name": "stdout",
     "output_type": "stream",
     "text": [
      "Dog\n",
      "Cat\n",
      "Parrot\n"
     ]
    }
   ],
   "source": [
    "리스트 = ['dog', 'cat', 'parrot']\n",
    "for i in 리스트:\n",
    "    print(i.capitalize())"
   ]
  },
  {
   "cell_type": "code",
   "execution_count": 96,
   "id": "e2606ed4",
   "metadata": {
    "ExecuteTime": {
     "end_time": "2023-11-28T07:05:25.655581Z",
     "start_time": "2023-11-28T07:05:25.646312Z"
    }
   },
   "outputs": [
    {
     "name": "stdout",
     "output_type": "stream",
     "text": [
      "hello\n",
      "ex01\n",
      "intro\n"
     ]
    }
   ],
   "source": [
    "리스트 = ['hello.py', 'ex01.py', 'intro.hwp']\n",
    "for i in 리스트:\n",
    "    print(i.split('.')[0])"
   ]
  },
  {
   "cell_type": "code",
   "execution_count": 97,
   "id": "733a8147",
   "metadata": {
    "ExecuteTime": {
     "end_time": "2023-11-28T07:07:03.060895Z",
     "start_time": "2023-11-28T07:07:03.053365Z"
    }
   },
   "outputs": [
    {
     "name": "stdout",
     "output_type": "stream",
     "text": [
      "intra.h\n",
      "define.h\n"
     ]
    }
   ],
   "source": [
    "리스트 = ['intra.h', 'intra.c', 'define.h', 'run.py']\n",
    "for i in 리스트:\n",
    "    if i.split('.')[1] == 'h':\n",
    "        print(i)"
   ]
  },
  {
   "cell_type": "code",
   "execution_count": 99,
   "id": "92f6bae0",
   "metadata": {
    "ExecuteTime": {
     "end_time": "2023-11-28T07:10:51.423818Z",
     "start_time": "2023-11-28T07:10:51.413542Z"
    }
   },
   "outputs": [
    {
     "name": "stdout",
     "output_type": "stream",
     "text": [
      "intra.h\n",
      "intra.c\n",
      "define.h\n"
     ]
    }
   ],
   "source": [
    "리스트 = ['intra.h', 'intra.c', 'define.h', 'run.py']\n",
    "for i in 리스트:\n",
    "    ext = i.split('.')[1]\n",
    "    if (ext == 'h') or (ext=='c'):\n",
    "        print(i)"
   ]
  },
  {
   "cell_type": "markdown",
   "id": "a23396bc",
   "metadata": {},
   "source": [
    "## 161~170"
   ]
  },
  {
   "cell_type": "code",
   "execution_count": 101,
   "id": "d182f5d4",
   "metadata": {
    "ExecuteTime": {
     "end_time": "2023-11-28T07:13:39.549468Z",
     "start_time": "2023-11-28T07:13:39.545763Z"
    }
   },
   "outputs": [
    {
     "name": "stdout",
     "output_type": "stream",
     "text": [
      "0\n",
      "1\n",
      "2\n",
      "3\n",
      "4\n",
      "5\n",
      "6\n",
      "7\n",
      "8\n",
      "9\n",
      "10\n",
      "11\n",
      "12\n",
      "13\n",
      "14\n",
      "15\n",
      "16\n",
      "17\n",
      "18\n",
      "19\n",
      "20\n",
      "21\n",
      "22\n",
      "23\n",
      "24\n",
      "25\n",
      "26\n",
      "27\n",
      "28\n",
      "29\n",
      "30\n",
      "31\n",
      "32\n",
      "33\n",
      "34\n",
      "35\n",
      "36\n",
      "37\n",
      "38\n",
      "39\n",
      "40\n",
      "41\n",
      "42\n",
      "43\n",
      "44\n",
      "45\n",
      "46\n",
      "47\n",
      "48\n",
      "49\n",
      "50\n",
      "51\n",
      "52\n",
      "53\n",
      "54\n",
      "55\n",
      "56\n",
      "57\n",
      "58\n",
      "59\n",
      "60\n",
      "61\n",
      "62\n",
      "63\n",
      "64\n",
      "65\n",
      "66\n",
      "67\n",
      "68\n",
      "69\n",
      "70\n",
      "71\n",
      "72\n",
      "73\n",
      "74\n",
      "75\n",
      "76\n",
      "77\n",
      "78\n",
      "79\n",
      "80\n",
      "81\n",
      "82\n",
      "83\n",
      "84\n",
      "85\n",
      "86\n",
      "87\n",
      "88\n",
      "89\n",
      "90\n",
      "91\n",
      "92\n",
      "93\n",
      "94\n",
      "95\n",
      "96\n",
      "97\n",
      "98\n",
      "99\n"
     ]
    }
   ],
   "source": [
    "for i in range(100):\n",
    "    print(i)"
   ]
  },
  {
   "cell_type": "code",
   "execution_count": 102,
   "id": "1f0614df",
   "metadata": {
    "ExecuteTime": {
     "end_time": "2023-11-28T07:14:10.684098Z",
     "start_time": "2023-11-28T07:14:10.675477Z"
    }
   },
   "outputs": [
    {
     "name": "stdout",
     "output_type": "stream",
     "text": [
      "2002\n",
      "2006\n",
      "2010\n",
      "2014\n",
      "2018\n",
      "2022\n",
      "2026\n",
      "2030\n",
      "2034\n",
      "2038\n",
      "2042\n",
      "2046\n"
     ]
    }
   ],
   "source": [
    "for i in range(2002, 2050, 4):\n",
    "    print(i)"
   ]
  },
  {
   "cell_type": "code",
   "execution_count": 104,
   "id": "fc948273",
   "metadata": {
    "ExecuteTime": {
     "end_time": "2023-11-28T07:16:43.219601Z",
     "start_time": "2023-11-28T07:16:43.215137Z"
    }
   },
   "outputs": [
    {
     "name": "stdout",
     "output_type": "stream",
     "text": [
      "3\n",
      "6\n",
      "9\n",
      "12\n",
      "15\n",
      "18\n",
      "21\n",
      "24\n",
      "27\n",
      "30\n"
     ]
    }
   ],
   "source": [
    "for i in range(3, 31, 3):\n",
    "    print(i)"
   ]
  },
  {
   "cell_type": "code",
   "execution_count": 107,
   "id": "178a4255",
   "metadata": {
    "ExecuteTime": {
     "end_time": "2023-11-28T07:18:16.156849Z",
     "start_time": "2023-11-28T07:18:16.153462Z"
    }
   },
   "outputs": [
    {
     "name": "stdout",
     "output_type": "stream",
     "text": [
      "99\n",
      "98\n",
      "97\n",
      "96\n",
      "95\n",
      "94\n",
      "93\n",
      "92\n",
      "91\n",
      "90\n",
      "89\n",
      "88\n",
      "87\n",
      "86\n",
      "85\n",
      "84\n",
      "83\n",
      "82\n",
      "81\n",
      "80\n",
      "79\n",
      "78\n",
      "77\n",
      "76\n",
      "75\n",
      "74\n",
      "73\n",
      "72\n",
      "71\n",
      "70\n",
      "69\n",
      "68\n",
      "67\n",
      "66\n",
      "65\n",
      "64\n",
      "63\n",
      "62\n",
      "61\n",
      "60\n",
      "59\n",
      "58\n",
      "57\n",
      "56\n",
      "55\n",
      "54\n",
      "53\n",
      "52\n",
      "51\n",
      "50\n",
      "49\n",
      "48\n",
      "47\n",
      "46\n",
      "45\n",
      "44\n",
      "43\n",
      "42\n",
      "41\n",
      "40\n",
      "39\n",
      "38\n",
      "37\n",
      "36\n",
      "35\n",
      "34\n",
      "33\n",
      "32\n",
      "31\n",
      "30\n",
      "29\n",
      "28\n",
      "27\n",
      "26\n",
      "25\n",
      "24\n",
      "23\n",
      "22\n",
      "21\n",
      "20\n",
      "19\n",
      "18\n",
      "17\n",
      "16\n",
      "15\n",
      "14\n",
      "13\n",
      "12\n",
      "11\n",
      "10\n",
      "9\n",
      "8\n",
      "7\n",
      "6\n",
      "5\n",
      "4\n",
      "3\n",
      "2\n",
      "1\n"
     ]
    }
   ],
   "source": [
    "for i in range(99, 0, -1):\n",
    "    print(i)"
   ]
  },
  {
   "cell_type": "code",
   "execution_count": 108,
   "id": "503c3f24",
   "metadata": {
    "ExecuteTime": {
     "end_time": "2023-11-28T07:19:00.310670Z",
     "start_time": "2023-11-28T07:19:00.305138Z"
    }
   },
   "outputs": [
    {
     "name": "stdout",
     "output_type": "stream",
     "text": [
      "0.0\n",
      "0.1\n",
      "0.2\n",
      "0.3\n",
      "0.4\n",
      "0.5\n",
      "0.6\n",
      "0.7\n",
      "0.8\n",
      "0.9\n"
     ]
    }
   ],
   "source": [
    "for i in range(10):\n",
    "    print(i/10)"
   ]
  },
  {
   "cell_type": "code",
   "execution_count": 110,
   "id": "d8040087",
   "metadata": {
    "ExecuteTime": {
     "end_time": "2023-11-28T07:20:54.001143Z",
     "start_time": "2023-11-28T07:20:53.998139Z"
    }
   },
   "outputs": [
    {
     "name": "stdout",
     "output_type": "stream",
     "text": [
      "3 x 1 = 3\n",
      "3 x 2 = 6\n",
      "3 x 3 = 9\n",
      "3 x 4 = 12\n",
      "3 x 5 = 15\n",
      "3 x 6 = 18\n",
      "3 x 7 = 21\n",
      "3 x 8 = 24\n",
      "3 x 9 = 27\n"
     ]
    }
   ],
   "source": [
    "for i in range(1, 10):\n",
    "    print(f\"3 x {i} = {3*i}\")"
   ]
  },
  {
   "cell_type": "code",
   "execution_count": 111,
   "id": "878510dd",
   "metadata": {
    "ExecuteTime": {
     "end_time": "2023-11-28T07:22:01.636660Z",
     "start_time": "2023-11-28T07:22:01.628933Z"
    }
   },
   "outputs": [
    {
     "name": "stdout",
     "output_type": "stream",
     "text": [
      "3 x 1 = 3\n",
      "3 x 3 = 9\n",
      "3 x 5 = 15\n",
      "3 x 7 = 21\n",
      "3 x 9 = 27\n"
     ]
    }
   ],
   "source": [
    "for i in range(1, 10):\n",
    "    if i % 2 != 0:\n",
    "        print(f\"3 x {i} = {3*i}\")"
   ]
  },
  {
   "cell_type": "code",
   "execution_count": 112,
   "id": "1ee7fab6",
   "metadata": {
    "ExecuteTime": {
     "end_time": "2023-11-28T07:23:09.609694Z",
     "start_time": "2023-11-28T07:23:09.603843Z"
    }
   },
   "outputs": [
    {
     "name": "stdout",
     "output_type": "stream",
     "text": [
      "55\n"
     ]
    }
   ],
   "source": [
    "res = 0\n",
    "for i in range(1, 11):\n",
    "    res += i\n",
    "print(res)"
   ]
  },
  {
   "cell_type": "code",
   "execution_count": 113,
   "id": "46ecbd49",
   "metadata": {
    "ExecuteTime": {
     "end_time": "2023-11-28T07:23:37.777892Z",
     "start_time": "2023-11-28T07:23:37.771588Z"
    }
   },
   "outputs": [
    {
     "name": "stdout",
     "output_type": "stream",
     "text": [
      "25\n"
     ]
    }
   ],
   "source": [
    "res = 0\n",
    "for i in range(1, 11, 2):\n",
    "    res += i\n",
    "print(res)"
   ]
  },
  {
   "cell_type": "code",
   "execution_count": 114,
   "id": "80d8b841",
   "metadata": {
    "ExecuteTime": {
     "end_time": "2023-11-28T07:24:08.050069Z",
     "start_time": "2023-11-28T07:24:08.042856Z"
    }
   },
   "outputs": [
    {
     "name": "stdout",
     "output_type": "stream",
     "text": [
      "3628800\n"
     ]
    }
   ],
   "source": [
    "res = 1\n",
    "for i in range(1, 11):\n",
    "    res *= i\n",
    "print(res)"
   ]
  },
  {
   "cell_type": "markdown",
   "id": "3fd7108c",
   "metadata": {},
   "source": [
    "## 171~180"
   ]
  },
  {
   "cell_type": "code",
   "execution_count": 115,
   "id": "9b6091a9",
   "metadata": {
    "ExecuteTime": {
     "end_time": "2023-11-28T07:24:56.242412Z",
     "start_time": "2023-11-28T07:24:56.235337Z"
    }
   },
   "outputs": [
    {
     "name": "stdout",
     "output_type": "stream",
     "text": [
      "32100\n",
      "32150\n",
      "32000\n",
      "32500\n"
     ]
    }
   ],
   "source": [
    "price_list = [32100, 32150, 32000, 32500]\n",
    "for i in range(len(price_list)):\n",
    "    print(price_list[i])"
   ]
  },
  {
   "cell_type": "code",
   "execution_count": 116,
   "id": "9a5006eb",
   "metadata": {
    "ExecuteTime": {
     "end_time": "2023-11-28T07:25:17.029711Z",
     "start_time": "2023-11-28T07:25:17.024400Z"
    }
   },
   "outputs": [
    {
     "name": "stdout",
     "output_type": "stream",
     "text": [
      "0 32100\n",
      "1 32150\n",
      "2 32000\n",
      "3 32500\n"
     ]
    }
   ],
   "source": [
    "price_list = [32100, 32150, 32000, 32500]\n",
    "for i in range(len(price_list)):\n",
    "    print(i, price_list[i])"
   ]
  },
  {
   "cell_type": "code",
   "execution_count": 120,
   "id": "eaefa08b",
   "metadata": {
    "ExecuteTime": {
     "end_time": "2023-11-28T07:26:27.253715Z",
     "start_time": "2023-11-28T07:26:27.248087Z"
    }
   },
   "outputs": [
    {
     "name": "stdout",
     "output_type": "stream",
     "text": [
      "3 32100\n",
      "2 32150\n",
      "1 32000\n",
      "0 32500\n"
     ]
    }
   ],
   "source": [
    "price_list = [32100, 32150, 32000, 32500]\n",
    "for i in range(len(price_list)):\n",
    "    print(len(price_list)-1-i, price_list[i])"
   ]
  },
  {
   "cell_type": "code",
   "execution_count": 121,
   "id": "20c0f800",
   "metadata": {
    "ExecuteTime": {
     "end_time": "2023-11-28T07:28:30.726375Z",
     "start_time": "2023-11-28T07:28:30.717449Z"
    }
   },
   "outputs": [
    {
     "name": "stdout",
     "output_type": "stream",
     "text": [
      "100 32150\n",
      "110 32000\n",
      "120 32500\n"
     ]
    }
   ],
   "source": [
    "price_list = [32100, 32150, 32000, 32500]\n",
    "for i in range(1, len(price_list)):\n",
    "    print(90+i*10, price_list[i])"
   ]
  },
  {
   "cell_type": "code",
   "execution_count": 123,
   "id": "ea3a3308",
   "metadata": {
    "ExecuteTime": {
     "end_time": "2023-11-28T07:29:45.384568Z",
     "start_time": "2023-11-28T07:29:45.379481Z"
    }
   },
   "outputs": [
    {
     "name": "stdout",
     "output_type": "stream",
     "text": [
      "가 나\n",
      "나 다\n",
      "다 라\n"
     ]
    }
   ],
   "source": [
    "my_list = [\"가\", \"나\", \"다\", \"라\"]\n",
    "for i in range(len(my_list)-1):\n",
    "    print(my_list[i], my_list[i+1])\n",
    "    "
   ]
  },
  {
   "cell_type": "code",
   "execution_count": 124,
   "id": "17956719",
   "metadata": {
    "ExecuteTime": {
     "end_time": "2023-11-28T07:30:56.816168Z",
     "start_time": "2023-11-28T07:30:56.808441Z"
    }
   },
   "outputs": [
    {
     "name": "stdout",
     "output_type": "stream",
     "text": [
      "가 나 다\n",
      "나 다 라\n",
      "다 라 마\n"
     ]
    }
   ],
   "source": [
    "my_list = [\"가\", \"나\", \"다\", \"라\", \"마\"]\n",
    "for i in range(len(my_list)-2):\n",
    "    print(my_list[i], my_list[i+1], my_list[i+2])"
   ]
  },
  {
   "cell_type": "code",
   "execution_count": 127,
   "id": "28d6ab09",
   "metadata": {
    "ExecuteTime": {
     "end_time": "2023-11-28T07:31:45.237276Z",
     "start_time": "2023-11-28T07:31:45.231338Z"
    }
   },
   "outputs": [
    {
     "name": "stdout",
     "output_type": "stream",
     "text": [
      "라 다\n",
      "다 나\n",
      "나 가\n"
     ]
    }
   ],
   "source": [
    "my_list = [\"가\", \"나\", \"다\", \"라\"]\n",
    "for i in range(1, len(my_list)):\n",
    "    print(my_list[-i], my_list[-(i+1)])"
   ]
  },
  {
   "cell_type": "code",
   "execution_count": 128,
   "id": "8117afa1",
   "metadata": {
    "ExecuteTime": {
     "end_time": "2023-11-28T07:32:40.548534Z",
     "start_time": "2023-11-28T07:32:40.542046Z"
    }
   },
   "outputs": [
    {
     "name": "stdout",
     "output_type": "stream",
     "text": [
      "100\n",
      "200\n",
      "400\n"
     ]
    }
   ],
   "source": [
    "my_list = [100, 200, 400, 800]\n",
    "for i in range(len(my_list)-1):\n",
    "    print(my_list[i+1]-my_list[i])"
   ]
  },
  {
   "cell_type": "code",
   "execution_count": 131,
   "id": "bad1da10",
   "metadata": {
    "ExecuteTime": {
     "end_time": "2023-11-28T07:34:17.166972Z",
     "start_time": "2023-11-28T07:34:17.162325Z"
    }
   },
   "outputs": [
    {
     "name": "stdout",
     "output_type": "stream",
     "text": [
      "233.33333333333334\n",
      "466.6666666666667\n",
      "733.3333333333334\n",
      "1033.3333333333333\n"
     ]
    }
   ],
   "source": [
    "my_list = [100, 200, 400, 800, 1000, 1300]\n",
    "for i in range(len(my_list)-2):\n",
    "    avg = sum(my_list[i:i+3])/len(my_list[i:i+3])\n",
    "    print(avg)"
   ]
  },
  {
   "cell_type": "code",
   "execution_count": 133,
   "id": "4e882800",
   "metadata": {
    "ExecuteTime": {
     "end_time": "2023-11-28T07:35:36.763805Z",
     "start_time": "2023-11-28T07:35:36.736705Z"
    }
   },
   "outputs": [
    {
     "data": {
      "text/plain": [
       "[50, 100, 30, 80, 0]"
      ]
     },
     "execution_count": 133,
     "metadata": {},
     "output_type": "execute_result"
    }
   ],
   "source": [
    "low_prices  = [100, 200, 400, 800, 1000]\n",
    "high_prices = [150, 300, 430, 880, 1000]\n",
    "volatility = []\n",
    "for i in range(len(low_prices)):\n",
    "    volatility.append(high_prices[i] - low_prices[i])\n",
    "volatility"
   ]
  },
  {
   "cell_type": "markdown",
   "id": "e58acf6b",
   "metadata": {},
   "source": [
    "## 181~190"
   ]
  },
  {
   "cell_type": "code",
   "execution_count": 134,
   "id": "62a5b3d3",
   "metadata": {
    "ExecuteTime": {
     "end_time": "2023-11-28T07:36:46.730362Z",
     "start_time": "2023-11-28T07:36:46.721274Z"
    }
   },
   "outputs": [
    {
     "data": {
      "text/plain": [
       "[['101호', '102호'], ['201호', '202호'], ['301호', '302호']]"
      ]
     },
     "execution_count": 134,
     "metadata": {},
     "output_type": "execute_result"
    }
   ],
   "source": [
    "apart = [ ['101호', '102호'], ['201호', '202호'], ['301호', '302호']]\n",
    "apart"
   ]
  },
  {
   "cell_type": "code",
   "execution_count": 135,
   "id": "205a93ff",
   "metadata": {
    "ExecuteTime": {
     "end_time": "2023-11-28T07:37:32.900196Z",
     "start_time": "2023-11-28T07:37:32.887272Z"
    }
   },
   "outputs": [
    {
     "data": {
      "text/plain": [
       "[['시가', 100, 200, 300], ['종가', 80, 210, 330]]"
      ]
     },
     "execution_count": 135,
     "metadata": {},
     "output_type": "execute_result"
    }
   ],
   "source": [
    "stock = [  ['시가', 100, 200, 300], ['종가', 80, 210, 330]  ]\n",
    "stock"
   ]
  },
  {
   "cell_type": "code",
   "execution_count": 137,
   "id": "a7a73170",
   "metadata": {
    "ExecuteTime": {
     "end_time": "2023-11-28T07:38:40.508273Z",
     "start_time": "2023-11-28T07:38:40.499309Z"
    }
   },
   "outputs": [
    {
     "data": {
      "text/plain": [
       "{'시가': [100, 200, 300], '종가': [80, 210, 330]}"
      ]
     },
     "execution_count": 137,
     "metadata": {},
     "output_type": "execute_result"
    }
   ],
   "source": [
    "stock ={\"시가\":[100, 200, 300], \"종가\": [80, 210, 330]}\n",
    "stock"
   ]
  },
  {
   "cell_type": "code",
   "execution_count": 139,
   "id": "849903ff",
   "metadata": {
    "ExecuteTime": {
     "end_time": "2023-11-28T07:39:20.127865Z",
     "start_time": "2023-11-28T07:39:20.122448Z"
    }
   },
   "outputs": [
    {
     "data": {
      "text/plain": [
       "{'10/10': [80, 110, 70, 90], '10/11': [210, 230, 190, 200]}"
      ]
     },
     "execution_count": 139,
     "metadata": {},
     "output_type": "execute_result"
    }
   ],
   "source": [
    "stock = {\"10/10\": [80, 110, 70, 90], \"10/11\":[210, 230, 190, 200]}\n",
    "stock"
   ]
  },
  {
   "cell_type": "code",
   "execution_count": 149,
   "id": "a8489988",
   "metadata": {
    "ExecuteTime": {
     "end_time": "2023-11-28T07:42:18.859754Z",
     "start_time": "2023-11-28T07:42:18.855858Z"
    }
   },
   "outputs": [
    {
     "name": "stdout",
     "output_type": "stream",
     "text": [
      "101 호\n",
      "102 호\n",
      "201 호\n",
      "202 호\n",
      "301 호\n",
      "302 호\n"
     ]
    }
   ],
   "source": [
    "apart = [ [101, 102], [201, 202], [301, 302] ]\n",
    "for i in apart:\n",
    "    for j in i:\n",
    "        print(j, \"호\")"
   ]
  },
  {
   "cell_type": "code",
   "execution_count": 150,
   "id": "b589fa41",
   "metadata": {
    "ExecuteTime": {
     "end_time": "2023-11-28T07:42:47.089589Z",
     "start_time": "2023-11-28T07:42:47.080822Z"
    }
   },
   "outputs": [
    {
     "name": "stdout",
     "output_type": "stream",
     "text": [
      "301 호\n",
      "302 호\n",
      "201 호\n",
      "202 호\n",
      "101 호\n",
      "102 호\n"
     ]
    }
   ],
   "source": [
    "apart = [ [101, 102], [201, 202], [301, 302] ]\n",
    "for i in apart[::-1]:\n",
    "    for j in i:\n",
    "        print(j, \"호\")"
   ]
  },
  {
   "cell_type": "code",
   "execution_count": 151,
   "id": "9e2aa39e",
   "metadata": {
    "ExecuteTime": {
     "end_time": "2023-11-28T07:43:09.360468Z",
     "start_time": "2023-11-28T07:43:09.353132Z"
    }
   },
   "outputs": [
    {
     "name": "stdout",
     "output_type": "stream",
     "text": [
      "302 호\n",
      "301 호\n",
      "202 호\n",
      "201 호\n",
      "102 호\n",
      "101 호\n"
     ]
    }
   ],
   "source": [
    "apart = [ [101, 102], [201, 202], [301, 302] ]\n",
    "for i in apart[::-1]:\n",
    "    for j in i[::-1]:\n",
    "        print(j, \"호\")"
   ]
  },
  {
   "cell_type": "code",
   "execution_count": 152,
   "id": "6ac3ec5c",
   "metadata": {
    "ExecuteTime": {
     "end_time": "2023-11-28T07:43:47.712788Z",
     "start_time": "2023-11-28T07:43:47.703428Z"
    }
   },
   "outputs": [
    {
     "name": "stdout",
     "output_type": "stream",
     "text": [
      "101 호\n",
      "-----\n",
      "102 호\n",
      "-----\n",
      "201 호\n",
      "-----\n",
      "202 호\n",
      "-----\n",
      "301 호\n",
      "-----\n",
      "302 호\n",
      "-----\n"
     ]
    }
   ],
   "source": [
    "apart = [ [101, 102], [201, 202], [301, 302] ]\n",
    "for i in apart:\n",
    "    for j in i:\n",
    "        print(j, \"호\")\n",
    "        print('-'*5)"
   ]
  },
  {
   "cell_type": "code",
   "execution_count": 153,
   "id": "98a930ee",
   "metadata": {
    "ExecuteTime": {
     "end_time": "2023-11-28T07:44:05.837378Z",
     "start_time": "2023-11-28T07:44:05.832176Z"
    }
   },
   "outputs": [
    {
     "name": "stdout",
     "output_type": "stream",
     "text": [
      "101 호\n",
      "102 호\n",
      "-----\n",
      "201 호\n",
      "202 호\n",
      "-----\n",
      "301 호\n",
      "302 호\n",
      "-----\n"
     ]
    }
   ],
   "source": [
    "apart = [ [101, 102], [201, 202], [301, 302] ]\n",
    "for i in apart:\n",
    "    for j in i:\n",
    "        print(j, \"호\")\n",
    "    print('-'*5)"
   ]
  },
  {
   "cell_type": "code",
   "execution_count": 154,
   "id": "89c18bb9",
   "metadata": {
    "ExecuteTime": {
     "end_time": "2023-11-28T07:44:19.323990Z",
     "start_time": "2023-11-28T07:44:19.319772Z"
    }
   },
   "outputs": [
    {
     "name": "stdout",
     "output_type": "stream",
     "text": [
      "101 호\n",
      "102 호\n",
      "201 호\n",
      "202 호\n",
      "301 호\n",
      "302 호\n",
      "-----\n"
     ]
    }
   ],
   "source": [
    "apart = [ [101, 102], [201, 202], [301, 302] ]\n",
    "for i in apart:\n",
    "    for j in i:\n",
    "        print(j, \"호\")\n",
    "print('-'*5)"
   ]
  },
  {
   "cell_type": "markdown",
   "id": "02165fad",
   "metadata": {},
   "source": [
    "## 191~200"
   ]
  },
  {
   "cell_type": "code",
   "execution_count": 164,
   "id": "add31a93",
   "metadata": {
    "ExecuteTime": {
     "end_time": "2023-11-28T07:49:35.903372Z",
     "start_time": "2023-11-28T07:49:35.898211Z"
    }
   },
   "outputs": [
    {
     "name": "stdout",
     "output_type": "stream",
     "text": [
      "2000.28\n",
      "3050.427\n",
      "2050.2870000000003\n",
      "1980.2772\n",
      "7501.05\n",
      "2050.2870000000003\n",
      "2050.2870000000003\n",
      "1980.2772\n",
      "15452.163\n",
      "15052.107\n",
      "15552.177\n",
      "14902.086000000001\n"
     ]
    }
   ],
   "source": [
    "data = [\n",
    "    [ 2000,  3050,  2050,  1980],\n",
    "    [ 7500,  2050,  2050,  1980],\n",
    "    [15450, 15050, 15550, 14900]\n",
    "]\n",
    "\n",
    "for i in data:\n",
    "    for j in i:\n",
    "        print(j*1.00014)"
   ]
  },
  {
   "cell_type": "code",
   "execution_count": 165,
   "id": "d3c78cc5",
   "metadata": {
    "ExecuteTime": {
     "end_time": "2023-11-28T07:49:36.246887Z",
     "start_time": "2023-11-28T07:49:36.243402Z"
    }
   },
   "outputs": [
    {
     "name": "stdout",
     "output_type": "stream",
     "text": [
      "2000.28\n",
      "3050.427\n",
      "2050.2870000000003\n",
      "1980.2772\n",
      "----\n",
      "7501.05\n",
      "2050.2870000000003\n",
      "2050.2870000000003\n",
      "1980.2772\n",
      "----\n",
      "15452.163\n",
      "15052.107\n",
      "15552.177\n",
      "14902.086000000001\n",
      "----\n"
     ]
    }
   ],
   "source": [
    "data = [\n",
    "    [ 2000,  3050,  2050,  1980],\n",
    "    [ 7500,  2050,  2050,  1980],\n",
    "    [15450, 15050, 15550, 14900]\n",
    "]\n",
    "\n",
    "for i in data:\n",
    "    for j in i:\n",
    "        print(j*1.00014)\n",
    "    print('-'*4)"
   ]
  },
  {
   "cell_type": "code",
   "execution_count": 167,
   "id": "9c88bba2",
   "metadata": {
    "ExecuteTime": {
     "end_time": "2023-11-28T07:50:18.848439Z",
     "start_time": "2023-11-28T07:50:18.843006Z"
    }
   },
   "outputs": [
    {
     "data": {
      "text/plain": [
       "[2000.28,\n",
       " 3050.427,\n",
       " 2050.2870000000003,\n",
       " 1980.2772,\n",
       " 7501.05,\n",
       " 2050.2870000000003,\n",
       " 2050.2870000000003,\n",
       " 1980.2772,\n",
       " 15452.163,\n",
       " 15052.107,\n",
       " 15552.177,\n",
       " 14902.086000000001]"
      ]
     },
     "execution_count": 167,
     "metadata": {},
     "output_type": "execute_result"
    }
   ],
   "source": [
    "res = []\n",
    "for i in data:\n",
    "    for j in i:\n",
    "        res.append(j*1.00014)\n",
    "res"
   ]
  },
  {
   "cell_type": "code",
   "execution_count": 170,
   "id": "6107fd2b",
   "metadata": {
    "ExecuteTime": {
     "end_time": "2023-11-28T07:52:27.511589Z",
     "start_time": "2023-11-28T07:52:27.507926Z"
    }
   },
   "outputs": [
    {
     "name": "stdout",
     "output_type": "stream",
     "text": [
      "[[2000.28, 3050.427, 2050.2870000000003, 1980.2772, 7501.05, 2050.2870000000003, 2050.2870000000003, 1980.2772, 15452.163, 15052.107, 15552.177, 14902.086000000001], [2000.28, 3050.427, 2050.2870000000003, 1980.2772, 7501.05, 2050.2870000000003, 2050.2870000000003, 1980.2772, 15452.163, 15052.107, 15552.177, 14902.086000000001], [2000.28, 3050.427, 2050.2870000000003, 1980.2772, 7501.05, 2050.2870000000003, 2050.2870000000003, 1980.2772, 15452.163, 15052.107, 15552.177, 14902.086000000001]]\n"
     ]
    }
   ],
   "source": [
    "res = []\n",
    "tot_res = []\n",
    "for i in data:\n",
    "    for j in i:\n",
    "        res.append(j*1.00014)\n",
    "    tot_res.append(res)\n",
    "print(tot_res)"
   ]
  },
  {
   "cell_type": "code",
   "execution_count": 174,
   "id": "e26004ba",
   "metadata": {
    "ExecuteTime": {
     "end_time": "2023-11-28T07:54:10.575415Z",
     "start_time": "2023-11-28T07:54:10.572034Z"
    }
   },
   "outputs": [
    {
     "name": "stdout",
     "output_type": "stream",
     "text": [
      "100\n",
      "190\n",
      "310\n"
     ]
    }
   ],
   "source": [
    "ohlc = [[\"open\", \"high\", \"low\", \"close\"],\n",
    "        [100, 110, 70, 100],\n",
    "        [200, 210, 180, 190],\n",
    "        [300, 310, 300, 310]]\n",
    "\n",
    "for i in range(1, len(ohlc)):\n",
    "    print(ohlc[i][3])"
   ]
  },
  {
   "cell_type": "code",
   "execution_count": 175,
   "id": "b15ab635",
   "metadata": {
    "ExecuteTime": {
     "end_time": "2023-11-28T07:54:54.525422Z",
     "start_time": "2023-11-28T07:54:54.521237Z"
    }
   },
   "outputs": [
    {
     "name": "stdout",
     "output_type": "stream",
     "text": [
      "190\n",
      "310\n"
     ]
    }
   ],
   "source": [
    "ohlc = [[\"open\", \"high\", \"low\", \"close\"],\n",
    "        [100, 110, 70, 100],\n",
    "        [200, 210, 180, 190],\n",
    "        [300, 310, 300, 310]]\n",
    "for i in ohlc[1:]:\n",
    "    if i[3] > 150:\n",
    "        print(i[3])"
   ]
  },
  {
   "cell_type": "code",
   "execution_count": 176,
   "id": "669dd017",
   "metadata": {
    "ExecuteTime": {
     "end_time": "2023-11-28T07:55:36.089605Z",
     "start_time": "2023-11-28T07:55:36.086104Z"
    }
   },
   "outputs": [
    {
     "name": "stdout",
     "output_type": "stream",
     "text": [
      "100\n",
      "310\n"
     ]
    }
   ],
   "source": [
    "ohlc = [[\"open\", \"high\", \"low\", \"close\"],\n",
    "        [100, 110, 70, 100],\n",
    "        [200, 210, 180, 190],\n",
    "        [300, 310, 300, 310]]\n",
    "\n",
    "for i in ohlc[1:]:\n",
    "    if i[3] >= i[0]:\n",
    "        print(i[3])"
   ]
  },
  {
   "cell_type": "code",
   "execution_count": 177,
   "id": "f77b1ae3",
   "metadata": {
    "ExecuteTime": {
     "end_time": "2023-11-28T07:56:35.714965Z",
     "start_time": "2023-11-28T07:56:35.710425Z"
    }
   },
   "outputs": [
    {
     "data": {
      "text/plain": [
       "[40, 30, 10]"
      ]
     },
     "execution_count": 177,
     "metadata": {},
     "output_type": "execute_result"
    }
   ],
   "source": [
    "volatility = []\n",
    "for i in ohlc[1:]:\n",
    "    vol = i[1] - i[2]\n",
    "    volatility.append(vol)\n",
    "volatility\n"
   ]
  },
  {
   "cell_type": "code",
   "execution_count": 178,
   "id": "677dc91e",
   "metadata": {
    "ExecuteTime": {
     "end_time": "2023-11-28T07:57:30.115048Z",
     "start_time": "2023-11-28T07:57:30.112011Z"
    }
   },
   "outputs": [
    {
     "name": "stdout",
     "output_type": "stream",
     "text": [
      "10\n"
     ]
    }
   ],
   "source": [
    "for i in ohlc[1:]:\n",
    "    if i[3] > i[0]:\n",
    "        print(i[1] - i[2])"
   ]
  },
  {
   "cell_type": "code",
   "execution_count": 179,
   "id": "9532ceb5",
   "metadata": {
    "ExecuteTime": {
     "end_time": "2023-11-28T07:58:19.230719Z",
     "start_time": "2023-11-28T07:58:19.219054Z"
    }
   },
   "outputs": [
    {
     "data": {
      "text/plain": [
       "0"
      ]
     },
     "execution_count": 179,
     "metadata": {},
     "output_type": "execute_result"
    }
   ],
   "source": [
    "수익금 = []\n",
    "for i in ohlc[1:]:\n",
    "    수익금.append(i[3] - i[0])\n",
    "sum(수익금)"
   ]
  },
  {
   "cell_type": "code",
   "execution_count": null,
   "id": "6a954d6f",
   "metadata": {},
   "outputs": [],
   "source": []
  }
 ],
 "metadata": {
  "kernelspec": {
   "display_name": "Python 3 (ipykernel)",
   "language": "python",
   "name": "python3"
  },
  "language_info": {
   "codemirror_mode": {
    "name": "ipython",
    "version": 3
   },
   "file_extension": ".py",
   "mimetype": "text/x-python",
   "name": "python",
   "nbconvert_exporter": "python",
   "pygments_lexer": "ipython3",
   "version": "3.11.5"
  },
  "toc": {
   "base_numbering": 1,
   "nav_menu": {},
   "number_sections": true,
   "sideBar": true,
   "skip_h1_title": false,
   "title_cell": "Table of Contents",
   "title_sidebar": "Contents",
   "toc_cell": false,
   "toc_position": {},
   "toc_section_display": true,
   "toc_window_display": false
  }
 },
 "nbformat": 4,
 "nbformat_minor": 5
}
