{
 "cells": [
  {
   "cell_type": "markdown",
   "id": "82553e78",
   "metadata": {},
   "source": [
    "# 네이버증권 뉴스 제목과 URL 수집하기"
   ]
  },
  {
   "cell_type": "code",
   "execution_count": null,
   "id": "28d13045",
   "metadata": {
    "ExecuteTime": {
     "end_time": "2023-12-11T00:39:16.431153Z",
     "start_time": "2023-12-11T00:39:16.117765Z"
    }
   },
   "outputs": [],
   "source": [
    "import requests\n",
    "from bs4 import BeautifulSoup"
   ]
  },
  {
   "cell_type": "code",
   "execution_count": null,
   "id": "c516f304",
   "metadata": {
    "ExecuteTime": {
     "end_time": "2023-12-11T00:40:54.963651Z",
     "start_time": "2023-12-11T00:40:54.252813Z"
    }
   },
   "outputs": [],
   "source": [
    "PATH = 'https://finance.naver.com/'\n",
    "resp = requests.get(PATH)"
   ]
  },
  {
   "cell_type": "code",
   "execution_count": null,
   "id": "b721b1ff",
   "metadata": {
    "ExecuteTime": {
     "end_time": "2023-12-11T00:40:56.242838Z",
     "start_time": "2023-12-11T00:40:56.228818Z"
    }
   },
   "outputs": [],
   "source": [
    "resp # requests 응답 정보 객체"
   ]
  },
  {
   "cell_type": "code",
   "execution_count": null,
   "id": "0554bd4a",
   "metadata": {
    "ExecuteTime": {
     "end_time": "2023-12-11T00:42:01.613508Z",
     "start_time": "2023-12-11T00:42:01.607121Z"
    }
   },
   "outputs": [],
   "source": [
    "resp?"
   ]
  },
  {
   "cell_type": "code",
   "execution_count": null,
   "id": "b94954bb",
   "metadata": {
    "ExecuteTime": {
     "end_time": "2023-12-11T00:42:45.984970Z",
     "start_time": "2023-12-11T00:42:45.979922Z"
    },
    "scrolled": true
   },
   "outputs": [],
   "source": [
    "# resp.text"
   ]
  },
  {
   "cell_type": "code",
   "execution_count": null,
   "id": "32f0a649",
   "metadata": {
    "ExecuteTime": {
     "end_time": "2023-12-11T00:44:02.428067Z",
     "start_time": "2023-12-11T00:44:02.421918Z"
    }
   },
   "outputs": [],
   "source": [
    "src = resp.text"
   ]
  },
  {
   "cell_type": "code",
   "execution_count": null,
   "id": "8e262efd",
   "metadata": {
    "ExecuteTime": {
     "end_time": "2023-12-11T00:44:20.212845Z",
     "start_time": "2023-12-11T00:44:20.065433Z"
    },
    "scrolled": true
   },
   "outputs": [],
   "source": [
    "soup = BeautifulSoup(src, 'lxml')\n",
    "print(soup)"
   ]
  },
  {
   "cell_type": "code",
   "execution_count": null,
   "id": "26e54bdb",
   "metadata": {
    "ExecuteTime": {
     "end_time": "2023-12-11T00:45:35.417481Z",
     "start_time": "2023-12-11T00:45:35.407795Z"
    }
   },
   "outputs": [],
   "source": [
    "# 뉴스 목록 찾기"
   ]
  },
  {
   "cell_type": "code",
   "execution_count": null,
   "id": "22729b07",
   "metadata": {
    "ExecuteTime": {
     "end_time": "2023-12-11T01:06:37.823498Z",
     "start_time": "2023-12-11T01:06:37.782742Z"
    }
   },
   "outputs": [],
   "source": [
    "srclist = soup.select('.section_strategy a')\n",
    "srclist"
   ]
  },
  {
   "cell_type": "code",
   "execution_count": null,
   "id": "6650deaf",
   "metadata": {
    "ExecuteTime": {
     "end_time": "2023-12-11T01:09:12.467818Z",
     "start_time": "2023-12-11T01:09:12.421686Z"
    }
   },
   "outputs": [],
   "source": [
    "srclist = soup.select('.news_area a')\n",
    "print(type(srclist))"
   ]
  },
  {
   "cell_type": "code",
   "execution_count": null,
   "id": "aaec70de",
   "metadata": {
    "ExecuteTime": {
     "end_time": "2023-12-11T01:09:35.310852Z",
     "start_time": "2023-12-11T01:09:35.302289Z"
    }
   },
   "outputs": [],
   "source": [
    "print(len(srclist)) # '주요뉴스 더보기'가 포함되어있음\n",
    "print(srclist)"
   ]
  },
  {
   "cell_type": "code",
   "execution_count": null,
   "id": "6251f168",
   "metadata": {
    "ExecuteTime": {
     "end_time": "2023-12-11T01:14:29.018132Z",
     "start_time": "2023-12-11T01:14:28.977308Z"
    }
   },
   "outputs": [],
   "source": [
    "srclist = soup.select('.section_strategy ul a')\n",
    "print(len(srclist))\n",
    "print(srclist)"
   ]
  },
  {
   "cell_type": "code",
   "execution_count": null,
   "id": "d8dfd2c7",
   "metadata": {
    "ExecuteTime": {
     "end_time": "2023-12-11T01:16:54.174190Z",
     "start_time": "2023-12-11T01:16:54.165145Z"
    }
   },
   "outputs": [],
   "source": [
    "sample = srclist[0]\n",
    "sample?"
   ]
  },
  {
   "cell_type": "code",
   "execution_count": null,
   "id": "59f3f49d",
   "metadata": {
    "ExecuteTime": {
     "end_time": "2023-12-11T01:16:50.511622Z",
     "start_time": "2023-12-11T01:16:50.504835Z"
    }
   },
   "outputs": [],
   "source": [
    "print(sample)"
   ]
  },
  {
   "cell_type": "code",
   "execution_count": null,
   "id": "b637393b",
   "metadata": {
    "ExecuteTime": {
     "end_time": "2023-12-11T01:18:09.129733Z",
     "start_time": "2023-12-11T01:18:09.121821Z"
    }
   },
   "outputs": [],
   "source": [
    "sample.text"
   ]
  },
  {
   "cell_type": "code",
   "execution_count": null,
   "id": "2000c367",
   "metadata": {
    "ExecuteTime": {
     "end_time": "2023-12-11T01:18:53.435100Z",
     "start_time": "2023-12-11T01:18:53.427249Z"
    }
   },
   "outputs": [],
   "source": [
    "sample['href']"
   ]
  },
  {
   "cell_type": "markdown",
   "id": "6e0ad19f",
   "metadata": {},
   "source": [
    "## 상대 URL을 절대 URL로 변환하기"
   ]
  },
  {
   "cell_type": "code",
   "execution_count": null,
   "id": "07151566",
   "metadata": {
    "ExecuteTime": {
     "end_time": "2023-12-11T01:21:21.012402Z",
     "start_time": "2023-12-11T01:21:21.004720Z"
    }
   },
   "outputs": [],
   "source": [
    "href = sample['href']\n",
    "PATH + href # //가 중복되는 문제처럼 생각보다 합치는게 번거로울 때가 있음"
   ]
  },
  {
   "cell_type": "code",
   "execution_count": null,
   "id": "eab96f9f",
   "metadata": {
    "ExecuteTime": {
     "end_time": "2023-12-11T01:23:05.886043Z",
     "start_time": "2023-12-11T01:23:05.880532Z"
    }
   },
   "outputs": [],
   "source": [
    "from urllib.parse import urljoin"
   ]
  },
  {
   "cell_type": "code",
   "execution_count": null,
   "id": "8a5e77da",
   "metadata": {
    "ExecuteTime": {
     "end_time": "2023-12-11T01:23:13.806623Z",
     "start_time": "2023-12-11T01:23:13.798479Z"
    }
   },
   "outputs": [],
   "source": [
    "urljoin(PATH, href)"
   ]
  },
  {
   "cell_type": "code",
   "execution_count": null,
   "id": "b4f0a4d8",
   "metadata": {
    "ExecuteTime": {
     "end_time": "2023-12-11T01:25:59.507847Z",
     "start_time": "2023-12-11T01:25:59.500549Z"
    }
   },
   "outputs": [],
   "source": [
    "news_title = []\n",
    "news_url = []\n",
    "\n",
    "for src in srclist:\n",
    "    title = src.text\n",
    "    url = src['href']\n",
    "    url_ = urljoin(PATH, href)\n",
    "    news_title.append(title)\n",
    "    news_url.append(url_)\n",
    "    \n",
    "print(news_title)\n",
    "print(news_url)"
   ]
  },
  {
   "cell_type": "markdown",
   "id": "0cd2e3e3",
   "metadata": {},
   "source": [
    "## 데이터프레임 변환 - pandas"
   ]
  },
  {
   "cell_type": "code",
   "execution_count": null,
   "id": "1c8dc7c7",
   "metadata": {
    "ExecuteTime": {
     "end_time": "2023-12-11T01:33:59.650211Z",
     "start_time": "2023-12-11T01:33:58.446512Z"
    }
   },
   "outputs": [],
   "source": [
    "import pandas as pd"
   ]
  },
  {
   "cell_type": "code",
   "execution_count": null,
   "id": "d3e43557",
   "metadata": {
    "ExecuteTime": {
     "end_time": "2023-12-11T01:34:43.509465Z",
     "start_time": "2023-12-11T01:34:43.472843Z"
    }
   },
   "outputs": [],
   "source": [
    "df = pd.DataFrame({'제목': news_title, '주소':news_url})\n",
    "df"
   ]
  },
  {
   "cell_type": "code",
   "execution_count": null,
   "id": "53220e36",
   "metadata": {
    "ExecuteTime": {
     "end_time": "2023-12-11T01:35:33.227686Z",
     "start_time": "2023-12-11T01:35:33.219863Z"
    }
   },
   "outputs": [],
   "source": [
    "print(df)"
   ]
  },
  {
   "cell_type": "markdown",
   "id": "bb87d6ef",
   "metadata": {},
   "source": [
    "### 엑셀로 파일 저장"
   ]
  },
  {
   "cell_type": "code",
   "execution_count": null,
   "id": "5fa94b9c",
   "metadata": {
    "ExecuteTime": {
     "end_time": "2023-12-11T01:37:18.599765Z",
     "start_time": "2023-12-11T01:37:18.018900Z"
    }
   },
   "outputs": [],
   "source": [
    "df.to_excel('naver.xlsx', index=False) # 왼쪽에 자동으로 붙는 인덱스 삭제"
   ]
  },
  {
   "cell_type": "markdown",
   "id": "fada662e",
   "metadata": {},
   "source": [
    "### 파일명에 저장날짜 추가"
   ]
  },
  {
   "cell_type": "code",
   "execution_count": null,
   "id": "82a77424",
   "metadata": {
    "ExecuteTime": {
     "end_time": "2023-12-11T01:38:35.730739Z",
     "start_time": "2023-12-11T01:38:35.723381Z"
    }
   },
   "outputs": [],
   "source": [
    "import time\n",
    "today = time.localtime()\n",
    "today"
   ]
  },
  {
   "cell_type": "code",
   "execution_count": null,
   "id": "01a3aacb",
   "metadata": {
    "ExecuteTime": {
     "end_time": "2023-12-11T01:39:50.587291Z",
     "start_time": "2023-12-11T01:39:50.561004Z"
    }
   },
   "outputs": [],
   "source": [
    "df.to_excel(f\"{today.tm_year}{today.tm_mon}{today.tm_mday}_naver.xlsx\", index=False)"
   ]
  },
  {
   "cell_type": "code",
   "execution_count": null,
   "id": "6b00c3e1",
   "metadata": {
    "ExecuteTime": {
     "end_time": "2023-12-11T01:40:45.137457Z",
     "start_time": "2023-12-11T01:40:45.107037Z"
    }
   },
   "outputs": [],
   "source": [
    "df.to_excel(f\"{today.tm_year}-{today.tm_mon}-{today.tm_mday}_naver.xlsx\", index=False)"
   ]
  },
  {
   "cell_type": "markdown",
   "id": "ab8cfaa9",
   "metadata": {},
   "source": [
    "# 요청정보 header 수정\n",
    "사이트에따라 헤더 정보를 요구하는 경우도 있음"
   ]
  },
  {
   "cell_type": "markdown",
   "id": "93b2af15",
   "metadata": {},
   "source": [
    "## 멜론 차트, 노래제목과 가수 수집하기"
   ]
  },
  {
   "cell_type": "code",
   "execution_count": null,
   "id": "9c96b7d7",
   "metadata": {
    "ExecuteTime": {
     "end_time": "2023-12-11T01:45:58.149183Z",
     "start_time": "2023-12-11T01:45:58.144248Z"
    }
   },
   "outputs": [],
   "source": [
    "import requests\n",
    "from bs4 import BeautifulSoup\n",
    "import pandas as pd"
   ]
  },
  {
   "cell_type": "code",
   "execution_count": null,
   "id": "8b96ad6f",
   "metadata": {
    "ExecuteTime": {
     "end_time": "2023-12-11T01:46:42.803893Z",
     "start_time": "2023-12-11T01:46:42.087766Z"
    }
   },
   "outputs": [],
   "source": [
    "PATH = 'https://www.melon.com/chart/index.htm'\n",
    "resp = requests.get(PATH)\n",
    "resp"
   ]
  },
  {
   "cell_type": "code",
   "execution_count": null,
   "id": "7c40f3cb",
   "metadata": {
    "ExecuteTime": {
     "end_time": "2023-12-11T01:48:18.739115Z",
     "start_time": "2023-12-11T01:48:18.730504Z"
    }
   },
   "outputs": [],
   "source": [
    "html_src = resp.text\n",
    "html_src"
   ]
  },
  {
   "cell_type": "code",
   "execution_count": null,
   "id": "aeb0cfa5",
   "metadata": {
    "ExecuteTime": {
     "end_time": "2023-12-11T01:52:09.073815Z",
     "start_time": "2023-12-11T01:52:09.066235Z"
    }
   },
   "outputs": [],
   "source": [
    "# header 정보 알려주기. user-agent 확인하기\n",
    "info = {'User-Agent': 'Mozilla/5.0 (Windows NT 10.0; Win64; x64) AppleWebKit/537.36 (KHTML, like Gecko) Chrome/119.0.0.0 Safari/537.36'}\n",
    "info"
   ]
  },
  {
   "cell_type": "code",
   "execution_count": null,
   "id": "0fe56ac1",
   "metadata": {
    "ExecuteTime": {
     "end_time": "2023-12-11T01:52:18.508739Z",
     "start_time": "2023-12-11T01:52:17.708545Z"
    }
   },
   "outputs": [],
   "source": [
    "resp = requests.get(PATH, headers = info)\n",
    "resp"
   ]
  },
  {
   "cell_type": "code",
   "execution_count": null,
   "id": "6d1a3ec7",
   "metadata": {
    "ExecuteTime": {
     "end_time": "2023-12-11T02:05:03.816204Z",
     "start_time": "2023-12-11T02:05:02.941565Z"
    }
   },
   "outputs": [],
   "source": [
    "html_src = resp.text\n",
    "soup = BeautifulSoup(html_src, 'lxml')\n",
    "soup"
   ]
  },
  {
   "cell_type": "code",
   "execution_count": null,
   "id": "75be9298",
   "metadata": {
    "ExecuteTime": {
     "end_time": "2023-12-11T02:10:47.577918Z",
     "start_time": "2023-12-11T02:10:47.405934Z"
    }
   },
   "outputs": [],
   "source": [
    "len(soup.select('.ellipsis.rank01 a'))"
   ]
  },
  {
   "cell_type": "code",
   "execution_count": null,
   "id": "864ba81b",
   "metadata": {
    "ExecuteTime": {
     "end_time": "2023-12-11T02:11:45.065708Z",
     "start_time": "2023-12-11T02:11:44.928583Z"
    }
   },
   "outputs": [],
   "source": [
    "song = [item.text for item in soup.select('.ellipsis.rank01 a')]\n",
    "song"
   ]
  },
  {
   "cell_type": "code",
   "execution_count": null,
   "id": "93edf3a4",
   "metadata": {
    "ExecuteTime": {
     "end_time": "2023-12-11T02:18:59.459868Z",
     "start_time": "2023-12-11T02:18:59.274337Z"
    }
   },
   "outputs": [],
   "source": [
    "len(soup.select('.ellipsis.rank02 a'))\n",
    "# 왜 100개가 아닌 218개가 나올까? 중복되는 것들이 있음!\n",
    "artist = []\n",
    "for item in soup.select('.ellipsis.rank02 a'):\n",
    "    artist.append(item.text)\n",
    "print(artist)"
   ]
  },
  {
   "cell_type": "code",
   "execution_count": null,
   "id": "2c2025e9",
   "metadata": {
    "ExecuteTime": {
     "end_time": "2023-12-11T02:20:12.077149Z",
     "start_time": "2023-12-11T02:20:11.998391Z"
    }
   },
   "outputs": [],
   "source": [
    "name = [item.text for item in soup.select('.ellipsis.rank02>a')]\n",
    "len(name)"
   ]
  },
  {
   "cell_type": "code",
   "execution_count": null,
   "id": "6b8d47e2",
   "metadata": {
    "ExecuteTime": {
     "end_time": "2023-12-11T02:23:31.988029Z",
     "start_time": "2023-12-11T02:23:31.865659Z"
    }
   },
   "outputs": [],
   "source": [
    "artist = []\n",
    "for item in soup.select('.checkEllipsis'):\n",
    "    artist.append(item.text)\n",
    "print(len(artist))\n",
    "print(artist)"
   ]
  },
  {
   "cell_type": "code",
   "execution_count": null,
   "id": "927e8ffb",
   "metadata": {
    "ExecuteTime": {
     "end_time": "2023-12-11T02:23:55.062757Z",
     "start_time": "2023-12-11T02:23:55.057873Z"
    }
   },
   "outputs": [],
   "source": [
    "rank_list = list(range(1, 101))"
   ]
  },
  {
   "cell_type": "code",
   "execution_count": null,
   "id": "48902aac",
   "metadata": {
    "ExecuteTime": {
     "end_time": "2023-12-11T02:25:03.810817Z",
     "start_time": "2023-12-11T02:25:03.782397Z"
    }
   },
   "outputs": [],
   "source": [
    "songDF = pd.DataFrame({\n",
    "    '순위': rank_list,\n",
    "    '노래제목': song,\n",
    "    '가수명': artist\n",
    "})\n",
    "songDF"
   ]
  },
  {
   "cell_type": "code",
   "execution_count": null,
   "id": "38d9b033",
   "metadata": {
    "ExecuteTime": {
     "end_time": "2023-12-11T02:25:34.524399Z",
     "start_time": "2023-12-11T02:25:34.471979Z"
    }
   },
   "outputs": [],
   "source": [
    "songDF.to_excel('melonchart100.xlsx', index=False)"
   ]
  },
  {
   "cell_type": "markdown",
   "id": "48f3430e",
   "metadata": {},
   "source": [
    "# parameter 처리하기\n",
    "https://resttesttest.com//"
   ]
  },
  {
   "cell_type": "code",
   "execution_count": null,
   "id": "7b7a669e",
   "metadata": {
    "ExecuteTime": {
     "end_time": "2023-12-11T02:35:21.932457Z",
     "start_time": "2023-12-11T02:35:21.921698Z"
    }
   },
   "outputs": [],
   "source": [
    "import requests\n",
    "param = {'name':'Amy', 'age':20, 'address':'Seould'}"
   ]
  },
  {
   "cell_type": "markdown",
   "id": "df6f6b61",
   "metadata": {},
   "source": [
    "## GET 방식"
   ]
  },
  {
   "cell_type": "code",
   "execution_count": null,
   "id": "8281457e",
   "metadata": {
    "ExecuteTime": {
     "end_time": "2023-12-11T02:36:01.325010Z",
     "start_time": "2023-12-11T02:36:00.895056Z"
    }
   },
   "outputs": [],
   "source": [
    "# 요청 정보(파라미터)가 인자에 포함되어 있다.\n",
    "resp1 = requests.get('http://httpbin.org/get', params=param)\n",
    "print(resp1)\n",
    "print(resp1.text)"
   ]
  },
  {
   "cell_type": "markdown",
   "id": "e4afb8a1",
   "metadata": {},
   "source": [
    "## POST 방식"
   ]
  },
  {
   "cell_type": "code",
   "execution_count": null,
   "id": "7de032a3",
   "metadata": {
    "ExecuteTime": {
     "end_time": "2023-12-11T02:37:35.929427Z",
     "start_time": "2023-12-11T02:37:35.407166Z"
    }
   },
   "outputs": [],
   "source": [
    "# 요청 정보(파라미터)가 인자에 없고, form에 숨겨져있다.(예시라서 보이는 것)\n",
    "resp2 = requests.post('http://httpbin.org/post', data=param)\n",
    "print(resp2.text)"
   ]
  },
  {
   "cell_type": "markdown",
   "id": "03e745a8",
   "metadata": {},
   "source": [
    "## [GET]네이버 검색결과 수집하기"
   ]
  },
  {
   "cell_type": "code",
   "execution_count": null,
   "id": "4529e9ce",
   "metadata": {
    "ExecuteTime": {
     "end_time": "2023-12-11T02:39:36.111506Z",
     "start_time": "2023-12-11T02:39:36.107128Z"
    }
   },
   "outputs": [],
   "source": [
    "PATH = 'https://search.naver.com/search.naver'"
   ]
  },
  {
   "cell_type": "code",
   "execution_count": null,
   "id": "0f180361",
   "metadata": {
    "ExecuteTime": {
     "end_time": "2023-12-11T02:39:52.587446Z",
     "start_time": "2023-12-11T02:39:50.500289Z"
    }
   },
   "outputs": [],
   "source": [
    "keyword = input('검색어 입력: ')"
   ]
  },
  {
   "cell_type": "code",
   "execution_count": null,
   "id": "62322f88",
   "metadata": {
    "ExecuteTime": {
     "end_time": "2023-12-11T02:40:14.292993Z",
     "start_time": "2023-12-11T02:40:13.135364Z"
    }
   },
   "outputs": [],
   "source": [
    "resp = requests.get(PATH, params = {'query': keyword})\n",
    "resp"
   ]
  },
  {
   "cell_type": "code",
   "execution_count": null,
   "id": "6aa5c89b",
   "metadata": {
    "ExecuteTime": {
     "end_time": "2023-12-11T02:41:25.268230Z",
     "start_time": "2023-12-11T02:41:25.230555Z"
    }
   },
   "outputs": [],
   "source": [
    "html_src = resp.text\n",
    "html_src"
   ]
  },
  {
   "cell_type": "code",
   "execution_count": null,
   "id": "d794f98e",
   "metadata": {
    "ExecuteTime": {
     "end_time": "2023-12-11T02:41:48.498999Z",
     "start_time": "2023-12-11T02:41:48.025692Z"
    }
   },
   "outputs": [],
   "source": [
    "soup = BeautifulSoup(html_src, 'lxml')\n",
    "soup"
   ]
  },
  {
   "cell_type": "code",
   "execution_count": null,
   "id": "129b2df7",
   "metadata": {
    "ExecuteTime": {
     "end_time": "2023-12-11T02:45:03.108363Z",
     "start_time": "2023-12-11T02:45:03.053703Z"
    },
    "scrolled": true
   },
   "outputs": [],
   "source": [
    "# 뉴스 타이틀 가져오기\n",
    "result = soup.select('.news_tit')\n",
    "result"
   ]
  },
  {
   "cell_type": "code",
   "execution_count": null,
   "id": "51f74773",
   "metadata": {
    "ExecuteTime": {
     "end_time": "2023-12-11T02:45:27.172977Z",
     "start_time": "2023-12-11T02:45:27.164128Z"
    }
   },
   "outputs": [],
   "source": [
    "title = [item.text for item in result]\n",
    "title"
   ]
  },
  {
   "cell_type": "markdown",
   "id": "c1c2fbf1",
   "metadata": {},
   "source": [
    "# requests의 한계\n",
    "요소 클릭해서 검색하는 등의 동적 페이지에는 작동하지 않는다"
   ]
  },
  {
   "cell_type": "code",
   "execution_count": null,
   "id": "aa1b287b",
   "metadata": {
    "ExecuteTime": {
     "end_time": "2023-12-11T02:47:12.026378Z",
     "start_time": "2023-12-11T02:47:12.021358Z"
    }
   },
   "outputs": [],
   "source": [
    "import requests\n",
    "from bs4 import BeautifulSoup"
   ]
  },
  {
   "cell_type": "code",
   "execution_count": null,
   "id": "5bab5797",
   "metadata": {
    "ExecuteTime": {
     "end_time": "2023-12-11T02:47:14.648207Z",
     "start_time": "2023-12-11T02:47:13.215646Z"
    }
   },
   "outputs": [],
   "source": [
    "response = requests.get('https://korean.visitkorea.or.kr/')\n",
    "html_src = response.text"
   ]
  },
  {
   "cell_type": "code",
   "execution_count": null,
   "id": "af0b022b",
   "metadata": {
    "ExecuteTime": {
     "end_time": "2023-12-11T02:47:33.332336Z",
     "start_time": "2023-12-11T02:47:33.308017Z"
    }
   },
   "outputs": [],
   "source": [
    "soup = BeautifulSoup(html_src, 'html.parser')"
   ]
  },
  {
   "cell_type": "code",
   "execution_count": null,
   "id": "87e9f568",
   "metadata": {
    "ExecuteTime": {
     "end_time": "2023-12-11T02:47:34.365261Z",
     "start_time": "2023-12-11T02:47:34.352320Z"
    }
   },
   "outputs": [],
   "source": [
    "soup.select('#inp_search') # 동적페이지에서 불가, 반드시 액션(click등)이 있어야함\n"
   ]
  },
  {
   "cell_type": "code",
   "execution_count": null,
   "id": "a51f659a",
   "metadata": {},
   "outputs": [],
   "source": []
  }
 ],
 "metadata": {
  "kernelspec": {
   "display_name": "Python 3 (ipykernel)",
   "language": "python",
   "name": "python3"
  },
  "language_info": {
   "codemirror_mode": {
    "name": "ipython",
    "version": 3
   },
   "file_extension": ".py",
   "mimetype": "text/x-python",
   "name": "python",
   "nbconvert_exporter": "python",
   "pygments_lexer": "ipython3",
   "version": "3.11.5"
  },
  "toc": {
   "base_numbering": 1,
   "nav_menu": {},
   "number_sections": true,
   "sideBar": true,
   "skip_h1_title": false,
   "title_cell": "Table of Contents",
   "title_sidebar": "Contents",
   "toc_cell": false,
   "toc_position": {
    "height": "calc(100% - 180px)",
    "left": "10px",
    "top": "150px",
    "width": "165px"
   },
   "toc_section_display": true,
   "toc_window_display": true
  }
 },
 "nbformat": 4,
 "nbformat_minor": 5
}
