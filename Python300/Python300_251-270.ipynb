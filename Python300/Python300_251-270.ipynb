{
 "cells": [
  {
   "cell_type": "markdown",
   "id": "c8ab1ba4",
   "metadata": {},
   "source": [
    "# 251~260"
   ]
  },
  {
   "cell_type": "code",
   "execution_count": 1,
   "id": "a40bfb3c",
   "metadata": {
    "ExecuteTime": {
     "end_time": "2023-12-04T07:08:10.612706Z",
     "start_time": "2023-12-04T07:08:10.593958Z"
    }
   },
   "outputs": [],
   "source": [
    "# 251\n",
    "# 클래스와 객체에 대한 설명\n",
    "# 클래스: 과자 틀\n",
    "# 객체: 클래스로 만들어진 과자"
   ]
  },
  {
   "cell_type": "code",
   "execution_count": 3,
   "id": "2dd9c258",
   "metadata": {
    "ExecuteTime": {
     "end_time": "2023-12-04T07:08:59.077964Z",
     "start_time": "2023-12-04T07:08:59.071894Z"
    }
   },
   "outputs": [
    {
     "data": {
      "text/plain": [
       "<__main__.Human at 0x106687590>"
      ]
     },
     "execution_count": 3,
     "metadata": {},
     "output_type": "execute_result"
    }
   ],
   "source": [
    "# 252-253\n",
    "class Human:\n",
    "    pass\n",
    "\n",
    "areum = Human()\n",
    "areum"
   ]
  },
  {
   "cell_type": "code",
   "execution_count": 4,
   "id": "f02c82cb",
   "metadata": {
    "ExecuteTime": {
     "end_time": "2023-12-04T07:11:55.796283Z",
     "start_time": "2023-12-04T07:11:55.790253Z"
    }
   },
   "outputs": [
    {
     "name": "stdout",
     "output_type": "stream",
     "text": [
      "응애응애\n"
     ]
    }
   ],
   "source": [
    "# 254\n",
    "class Human:\n",
    "    def __init__(self):\n",
    "        print(\"응애응애\")\n",
    "areum = Human()"
   ]
  },
  {
   "cell_type": "code",
   "execution_count": 5,
   "id": "0dc11595",
   "metadata": {
    "ExecuteTime": {
     "end_time": "2023-12-04T07:12:52.869922Z",
     "start_time": "2023-12-04T07:12:52.863218Z"
    }
   },
   "outputs": [
    {
     "name": "stdout",
     "output_type": "stream",
     "text": [
      "아름\n"
     ]
    }
   ],
   "source": [
    "# 255\n",
    "class Human:\n",
    "    def __init__(self, name, age, sex):\n",
    "        self.name = name\n",
    "        self.age = age\n",
    "        self.sex = sex\n",
    "areum = Human(\"아름\", 25, '여자')\n",
    "print(areum.name)"
   ]
  },
  {
   "cell_type": "code",
   "execution_count": 6,
   "id": "a913e8bc",
   "metadata": {
    "ExecuteTime": {
     "end_time": "2023-12-04T07:13:12.032207Z",
     "start_time": "2023-12-04T07:13:12.028464Z"
    }
   },
   "outputs": [
    {
     "name": "stdout",
     "output_type": "stream",
     "text": [
      "25\n"
     ]
    }
   ],
   "source": [
    "# 256\n",
    "print(areum.age)"
   ]
  },
  {
   "cell_type": "code",
   "execution_count": 10,
   "id": "1316701d",
   "metadata": {
    "ExecuteTime": {
     "end_time": "2023-12-04T07:15:29.493926Z",
     "start_time": "2023-12-04T07:15:29.489528Z"
    }
   },
   "outputs": [
    {
     "name": "stdout",
     "output_type": "stream",
     "text": [
      "이름: 아름, 나이: 25, 성별: 여자\n"
     ]
    }
   ],
   "source": [
    "# 257\n",
    "class Human:\n",
    "    def __init__(self, name, age, sex):\n",
    "        self.name = name\n",
    "        self.age = age\n",
    "        self.sex = sex\n",
    "        \n",
    "    def who(self):\n",
    "        print(f\"이름: {self.name}, 나이: {self.age}, 성별: {self.sex}\" )\n",
    "        \n",
    "areum = Human(\"아름\", 25, '여자')\n",
    "areum.who()"
   ]
  },
  {
   "cell_type": "code",
   "execution_count": 12,
   "id": "4092c650",
   "metadata": {
    "ExecuteTime": {
     "end_time": "2023-12-04T07:18:38.618614Z",
     "start_time": "2023-12-04T07:18:38.608828Z"
    }
   },
   "outputs": [
    {
     "name": "stdout",
     "output_type": "stream",
     "text": [
      "이름: 불명, 나이: 미상, 성별: 모름\n",
      "이름: 아름, 나이: 25, 성별: 여자\n"
     ]
    }
   ],
   "source": [
    "# 258\n",
    "class Human:\n",
    "    def __init__(self, name, age, sex):\n",
    "        self.name = name\n",
    "        self.age = age\n",
    "        self.sex = sex\n",
    "        \n",
    "    def who(self):\n",
    "        print(f\"이름: {self.name}, 나이: {self.age}, 성별: {self.sex}\" )\n",
    "    \n",
    "    def setInfo(self, name, age, sex):\n",
    "        self.name = name\n",
    "        self.age = age\n",
    "        self.sex = sex\n",
    "\n",
    "areum = Human(\"불명\", \"미상\", \"모름\")\n",
    "areum.who()\n",
    "\n",
    "areum.setInfo(\"아름\", 25, \"여자\")\n",
    "areum.who()"
   ]
  },
  {
   "cell_type": "code",
   "execution_count": 14,
   "id": "13352eb6",
   "metadata": {
    "ExecuteTime": {
     "end_time": "2023-12-04T07:22:09.539892Z",
     "start_time": "2023-12-04T07:22:09.530261Z"
    }
   },
   "outputs": [
    {
     "name": "stdout",
     "output_type": "stream",
     "text": [
      "나의 죽음을 알리지마라\n"
     ]
    }
   ],
   "source": [
    "# 259\n",
    "class Human:\n",
    "    def __init__(self, name, age, sex):\n",
    "        self.name = name\n",
    "        self.age = age\n",
    "        self.sex = sex\n",
    "        \n",
    "    def __del__(self):\n",
    "        print(\"나의 죽음을 알리지마라\")\n",
    "        \n",
    "    def who(self):\n",
    "        print(f\"이름: {self.name}, 나이: {self.age}, 성별: {self.sex}\" )\n",
    "    \n",
    "    def setInfo(self, name, age, sex):\n",
    "        self.name = name\n",
    "        self.age = age\n",
    "        self.sex = sex\n",
    "        \n",
    "areum = Human(\"아름\", 25, \"여자\")\n",
    "del areum"
   ]
  },
  {
   "cell_type": "code",
   "execution_count": 16,
   "id": "b3c3fc47",
   "metadata": {
    "ExecuteTime": {
     "end_time": "2023-12-04T07:23:31.211513Z",
     "start_time": "2023-12-04T07:23:31.207809Z"
    }
   },
   "outputs": [
    {
     "name": "stdout",
     "output_type": "stream",
     "text": [
      "Oh my god\n"
     ]
    }
   ],
   "source": [
    "# 260: 에러나는 원인 \n",
    "# -> self를 넣어줘야, myStock 객체의 print 함수를 사용할 것이라는 걸 알 수 있기 때문에\n",
    "class OMG: \n",
    "    def print(self) :\n",
    "        print(\"Oh my god\")\n",
    "\n",
    "myStock = OMG()\n",
    "myStock.print()"
   ]
  },
  {
   "cell_type": "markdown",
   "id": "efc1e6f8",
   "metadata": {},
   "source": [
    "# 261~270"
   ]
  },
  {
   "cell_type": "code",
   "execution_count": 17,
   "id": "34a778d2",
   "metadata": {
    "ExecuteTime": {
     "end_time": "2023-12-04T07:38:21.063981Z",
     "start_time": "2023-12-04T07:38:21.053887Z"
    }
   },
   "outputs": [
    {
     "data": {
      "text/plain": [
       "<__main__.Stock at 0x1072f2750>"
      ]
     },
     "execution_count": 17,
     "metadata": {},
     "output_type": "execute_result"
    }
   ],
   "source": [
    "# 261\n",
    "class Stock:\n",
    "    pass\n",
    "a = Stock()\n",
    "a\n",
    "    "
   ]
  },
  {
   "cell_type": "code",
   "execution_count": 18,
   "id": "ad8f34e3",
   "metadata": {
    "ExecuteTime": {
     "end_time": "2023-12-04T09:11:53.973249Z",
     "start_time": "2023-12-04T09:11:53.948155Z"
    }
   },
   "outputs": [
    {
     "name": "stdout",
     "output_type": "stream",
     "text": [
      "삼성전자 005930\n"
     ]
    }
   ],
   "source": [
    "# 262\n",
    "class Stock:\n",
    "    def __init__(self, name, code):\n",
    "        self.name = name\n",
    "        self.code = code\n",
    "        \n",
    "삼성 = Stock(\"삼성전자\", \"005930\")\n",
    "print(삼성.name, 삼성.code)"
   ]
  },
  {
   "cell_type": "code",
   "execution_count": 19,
   "id": "66140747",
   "metadata": {
    "ExecuteTime": {
     "end_time": "2023-12-04T09:13:26.167831Z",
     "start_time": "2023-12-04T09:13:26.161331Z"
    }
   },
   "outputs": [
    {
     "name": "stdout",
     "output_type": "stream",
     "text": [
      "삼성전자\n"
     ]
    }
   ],
   "source": [
    "# 263\n",
    "class Stock:\n",
    "    def __init__(self, name, code):\n",
    "        self.name = name\n",
    "        self.code = code\n",
    "    def set_name(self, name):\n",
    "        self.name = name\n",
    "\n",
    "a = Stock(None, None)\n",
    "a.set_name(\"삼성전자\")\n",
    "print(a.name)"
   ]
  },
  {
   "cell_type": "code",
   "execution_count": 20,
   "id": "df31814b",
   "metadata": {
    "ExecuteTime": {
     "end_time": "2023-12-04T09:14:05.753776Z",
     "start_time": "2023-12-04T09:14:05.747304Z"
    }
   },
   "outputs": [
    {
     "name": "stdout",
     "output_type": "stream",
     "text": [
      "005930\n"
     ]
    }
   ],
   "source": [
    "# 264\n",
    "class Stock:\n",
    "    def __init__(self, name, code):\n",
    "        self.name = name\n",
    "        self.code = code\n",
    "    def set_name(self, name):\n",
    "        self.name = name\n",
    "    def set_code(self, code):\n",
    "        self.code = code\n",
    "\n",
    "a = Stock(None, None)\n",
    "a.set_code(\"005930\")\n",
    "print(a.code)"
   ]
  },
  {
   "cell_type": "code",
   "execution_count": 22,
   "id": "e7d90aa3",
   "metadata": {
    "ExecuteTime": {
     "end_time": "2023-12-04T09:15:34.060468Z",
     "start_time": "2023-12-04T09:15:34.053022Z"
    }
   },
   "outputs": [
    {
     "name": "stdout",
     "output_type": "stream",
     "text": [
      "삼성전자\n",
      "005930\n",
      "삼성전자\n",
      "005930\n"
     ]
    }
   ],
   "source": [
    "# 265\n",
    "class Stock:\n",
    "    def __init__(self, name, code):\n",
    "        self.name = name\n",
    "        self.code = code\n",
    "    def set_name(self, name):\n",
    "        self.name = name\n",
    "    def set_code(self):\n",
    "        self.code = code\n",
    "    def get_name(self):\n",
    "        return self.name\n",
    "    def get_code(self):\n",
    "        return self.code\n",
    "    \n",
    "삼성 = Stock(\"삼성전자\", \"005930\")\n",
    "print(삼성.name)\n",
    "print(삼성.code)\n",
    "print(삼성.get_name())\n",
    "print(삼성.get_code())"
   ]
  },
  {
   "cell_type": "code",
   "execution_count": 23,
   "id": "8f00190c",
   "metadata": {
    "ExecuteTime": {
     "end_time": "2023-12-04T09:16:47.240825Z",
     "start_time": "2023-12-04T09:16:47.233013Z"
    }
   },
   "outputs": [],
   "source": [
    "# 266\n",
    "class Stock:\n",
    "    def __init__(self, name, code, per, pbr, percent):\n",
    "        self.name = name\n",
    "        self.code = code\n",
    "        self.per = per\n",
    "        self.pbr = pbr\n",
    "        self.percent = percent\n",
    "        \n",
    "    def set_name(self, name):\n",
    "        self.name = name\n",
    "    def set_code(self):\n",
    "        self.code = code\n",
    "    def get_name(self):\n",
    "        return self.name\n",
    "    def get_code(self):\n",
    "        return self.code"
   ]
  },
  {
   "cell_type": "code",
   "execution_count": 24,
   "id": "6255d173",
   "metadata": {
    "ExecuteTime": {
     "end_time": "2023-12-04T09:17:34.066477Z",
     "start_time": "2023-12-04T09:17:34.063430Z"
    }
   },
   "outputs": [
    {
     "name": "stdout",
     "output_type": "stream",
     "text": [
      "<__main__.Stock object at 0x10734c490>\n"
     ]
    }
   ],
   "source": [
    "# 267\n",
    "a = Stock('삼성전자', \"005930\", 15.79, 1.33, 2.83)\n",
    "print(a)"
   ]
  },
  {
   "cell_type": "code",
   "execution_count": 25,
   "id": "02ffbdea",
   "metadata": {
    "ExecuteTime": {
     "end_time": "2023-12-04T09:19:00.228747Z",
     "start_time": "2023-12-04T09:19:00.223081Z"
    }
   },
   "outputs": [],
   "source": [
    "# 268\n",
    "class Stock:\n",
    "    def __init__(self, name, code, per, pbr, percent):\n",
    "        self.name = name\n",
    "        self.code = code\n",
    "        self.per = per\n",
    "        self.pbr = pbr\n",
    "        self.percent = percent\n",
    "        \n",
    "    def set_name(self, name):\n",
    "        self.name = name\n",
    "    def set_code(self):\n",
    "        self.code = code\n",
    "    def set_per(self, per):\n",
    "        self.per = per\n",
    "    def set_pbr(self, pbr):\n",
    "        self.pbr = pbr\n",
    "    def set_percent(self, percent):\n",
    "        self.percent = percent\n",
    "    def get_name(self):\n",
    "        return self.name\n",
    "    def get_code(self):\n",
    "        return self.code"
   ]
  },
  {
   "cell_type": "code",
   "execution_count": 27,
   "id": "8dfa6e1b",
   "metadata": {
    "ExecuteTime": {
     "end_time": "2023-12-04T09:19:55.372986Z",
     "start_time": "2023-12-04T09:19:55.363292Z"
    }
   },
   "outputs": [
    {
     "name": "stdout",
     "output_type": "stream",
     "text": [
      "<__main__.Stock object at 0x107396610>\n",
      "15.79\n",
      "12.75\n"
     ]
    }
   ],
   "source": [
    "# 269\n",
    "a = Stock('삼성전자', \"005930\", 15.79, 1.33, 2.83)\n",
    "print(a)\n",
    "\n",
    "print(a.per)\n",
    "a.set_per(12.75)\n",
    "print(a.per)"
   ]
  },
  {
   "cell_type": "code",
   "execution_count": 35,
   "id": "cf97d30b",
   "metadata": {
    "ExecuteTime": {
     "end_time": "2023-12-04T09:24:01.051127Z",
     "start_time": "2023-12-04T09:24:01.046929Z"
    }
   },
   "outputs": [
    {
     "name": "stdout",
     "output_type": "stream",
     "text": [
      "[<__main__.Stock object at 0x107426450>, <__main__.Stock object at 0x107427290>, <__main__.Stock object at 0x107427d10>]\n",
      "005930 15.79\n",
      "005380 8.7\n",
      "066570 317.34\n"
     ]
    }
   ],
   "source": [
    "samsung = Stock(\"삼성전자\", \"005930\", 15.79, 1.33, 2.83)\n",
    "hyundai = Stock(\"현대차\", \"005380\", 8.70, 0.35, 4.27)\n",
    "lg_elec = Stock(\"LG전자\", \"066570\", 317.34, 0.69, 1.37)\n",
    "\n",
    "obj_list = [samsung, hyundai, lg_elec]\n",
    "print(obj_list)\n",
    "for obj in obj_list:\n",
    "    print(obj.code, obj.per)"
   ]
  },
  {
   "cell_type": "code",
   "execution_count": null,
   "id": "3bfd76f8",
   "metadata": {},
   "outputs": [],
   "source": []
  }
 ],
 "metadata": {
  "kernelspec": {
   "display_name": "Python 3 (ipykernel)",
   "language": "python",
   "name": "python3"
  },
  "language_info": {
   "codemirror_mode": {
    "name": "ipython",
    "version": 3
   },
   "file_extension": ".py",
   "mimetype": "text/x-python",
   "name": "python",
   "nbconvert_exporter": "python",
   "pygments_lexer": "ipython3",
   "version": "3.11.5"
  },
  "toc": {
   "base_numbering": 1,
   "nav_menu": {},
   "number_sections": true,
   "sideBar": true,
   "skip_h1_title": false,
   "title_cell": "Table of Contents",
   "title_sidebar": "Contents",
   "toc_cell": false,
   "toc_position": {},
   "toc_section_display": true,
   "toc_window_display": false
  }
 },
 "nbformat": 4,
 "nbformat_minor": 5
}
