{
 "cells": [
  {
   "cell_type": "markdown",
   "id": "72c6bf0c-1b6a-4c86-91cb-9ff548347825",
   "metadata": {},
   "source": [
    "# Perceptron"
   ]
  },
  {
   "cell_type": "code",
   "execution_count": 1,
   "id": "b780e9b9-f4a3-437a-b5f1-ed7a44afc5c6",
   "metadata": {},
   "outputs": [],
   "source": [
    "import warnings\n",
    "warnings.filterwarnings('ignore')"
   ]
  },
  {
   "cell_type": "code",
   "execution_count": 2,
   "id": "4ddd96f6-a43c-46eb-999f-514e9dc64474",
   "metadata": {},
   "outputs": [],
   "source": [
    "import numpy as np "
   ]
  },
  {
   "cell_type": "markdown",
   "id": "1d41e4f3-48f8-414b-b214-e63532956355",
   "metadata": {},
   "source": [
    "## gradient() 함수 정의"
   ]
  },
  {
   "cell_type": "code",
   "execution_count": 3,
   "id": "1d0cdc93-d9ea-4508-907c-da9a268cadd5",
   "metadata": {},
   "outputs": [],
   "source": [
    "# Gradient 함수 정의\n",
    "def gradient(machine, param):\n",
    "\n",
    "    if param.ndim == 1:\n",
    "        temp_param = param\n",
    "        delta = 0.00005\n",
    "        learned_param = np.zeros(param.shape)\n",
    "        \n",
    "        for index in range(len(param)):\n",
    "            target_param = float(temp_param[index])\n",
    "            temp_param[index] = target_param + delta            \n",
    "            param_plus_delta = machine(temp_param)\n",
    "            temp_param[index] = target_param - delta  \n",
    "            param_minus_delta = machine(temp_param)\n",
    "            learned_param[index] = (param_plus_delta - param_minus_delta ) / (2 * delta)\n",
    "            temp_param[index] = target_param\n",
    "\n",
    "        return learned_param\n",
    "        \n",
    "\n",
    "    elif param.ndim == 2:\n",
    "        temp_param = param\n",
    "        delta = 0.00005\n",
    "        learned_param = np.zeros(param.shape)\n",
    "    \n",
    "        rows = param.shape[0]\n",
    "        columns = param.shape[1]\n",
    "    \n",
    "        for row in range(rows):\n",
    "            for column in range(columns):\n",
    "                target_param = float(temp_param[row, column])\n",
    "                temp_param[row, column] = target_param + delta            \n",
    "                param_plus_delta = machine(temp_param)\n",
    "                temp_param[row, column] = target_param - delta            \n",
    "                param_minus_delta = machine(temp_param)\n",
    "                learned_param[row, column] = (param_plus_delta - param_minus_delta) / (2 * delta)\n",
    "                temp_param[row, column] = target_param\n",
    "\n",
    "        return learned_param"
   ]
  },
  {
   "cell_type": "markdown",
   "id": "bf062da5-fac5-4052-beab-c5ed9dffbc5d",
   "metadata": {},
   "source": [
    "## Logic gate - and, or, nand"
   ]
  },
  {
   "cell_type": "code",
   "execution_count": 4,
   "id": "705e39f1-5617-4d03-8da6-cdc3bf15f2da",
   "metadata": {},
   "outputs": [],
   "source": [
    "# sigmoid 함수 정의\n",
    "import numpy as np \n",
    "\n",
    "def sigmoid(x):\n",
    "    y_hat = 1 / (1 + np.exp(-x))\n",
    "    return y_hat"
   ]
  },
  {
   "cell_type": "code",
   "execution_count": 5,
   "id": "6cb917c6-e2e4-40b8-84dd-de120735e4e5",
   "metadata": {},
   "outputs": [],
   "source": [
    "# LogicGate 클래스 선언\n",
    "class LogicGate:\n",
    "    \n",
    "    def __init__(self, gate_Type, X_input, y_output):  \n",
    "\n",
    "# gate_Type 문자열 지정 Member      \n",
    "        self.Type = gate_Type\n",
    "        \n",
    "# X_input, y_output Member 초기화\n",
    "        self.X_input = X_input.reshape(4, 2)\n",
    "        self.y_output = y_output.reshape(4, 1)\n",
    "        \n",
    "# W, b Member 초기화\n",
    "        self.W = np.random.rand(2, 1)  \n",
    "        self.b = np.random.rand(1)\n",
    "                        \n",
    "# learning_rate Member 지정\n",
    "        self.learning_rate = 0.01\n",
    "\n",
    "# Cost_Function(CEE) Method\n",
    "    def cost_func(self):\n",
    "        z = np.dot(self.X_input, self.W) + self.b\n",
    "        y_hat = sigmoid(z)\n",
    "        \n",
    "        return -np.sum(self.y_output * np.log(y_hat) + (1 - self.y_output) * np.log(1 - y_hat))      \n",
    "\n",
    "# Learning Method\n",
    "    def fit(self):\n",
    "        machine = lambda x : self.cost_func()\n",
    "        print('Initial Cost = ', self.cost_func())\n",
    "        \n",
    "        for step in  range(10001):\n",
    "            self.W = self.W - self.learning_rate * gradient(machine, self.W)\n",
    "            self.b = self.b - self.learning_rate * gradient(machine, self.b)\n",
    "    \n",
    "            if (step % 1000 == 0):\n",
    "                print('Step = ', step, 'Cost = ', self.cost_func())\n",
    "                \n",
    "# Predict Method\n",
    "    def predict(self, input_data):\n",
    "        \n",
    "        z = np.dot(input_data, self.W) + self.b\n",
    "        y_prob = sigmoid(z)\n",
    "    \n",
    "        if y_prob > 0.5:\n",
    "            result = 1\n",
    "        else:\n",
    "            result = 0\n",
    "    \n",
    "        return y_prob, result"
   ]
  },
  {
   "cell_type": "markdown",
   "id": "17d2ab83-0ab6-4f99-8dc4-c775f960b555",
   "metadata": {},
   "source": [
    "### AND gate"
   ]
  },
  {
   "cell_type": "code",
   "execution_count": 6,
   "id": "dcf8e067-e4f4-4da3-9947-ab6cd82d0902",
   "metadata": {},
   "outputs": [],
   "source": [
    "X_input  = np.array([[0, 0], [0, 1], [1, 0], [1, 1]])\n",
    "y_output = np.array([0, 0, 0, 1])"
   ]
  },
  {
   "cell_type": "code",
   "execution_count": 7,
   "id": "b0395e6b-c9a2-4104-9226-53dc7769d095",
   "metadata": {},
   "outputs": [
    {
     "name": "stdout",
     "output_type": "stream",
     "text": [
      "Initial Cost =  4.179397160882823\n",
      "Step =  0 Cost =  4.138255772874031\n",
      "Step =  1000 Cost =  1.0819996452944953\n",
      "Step =  2000 Cost =  0.6907011467580033\n",
      "Step =  3000 Cost =  0.5082474528198402\n",
      "Step =  4000 Cost =  0.4009729220468181\n",
      "Step =  5000 Cost =  0.330293016414963\n",
      "Step =  6000 Cost =  0.28029794830795673\n",
      "Step =  7000 Cost =  0.24313661141485196\n",
      "Step =  8000 Cost =  0.21447506507654376\n",
      "Step =  9000 Cost =  0.1917252246113691\n",
      "Step =  10000 Cost =  0.1732475284473811\n"
     ]
    }
   ],
   "source": [
    "AND_Gate = LogicGate('AND_GATE', X_input, y_output)\n",
    "AND_Gate.fit()"
   ]
  },
  {
   "cell_type": "code",
   "execution_count": 8,
   "id": "37f90350-9cb8-4106-8b41-aeb8656d53ff",
   "metadata": {},
   "outputs": [
    {
     "name": "stdout",
     "output_type": "stream",
     "text": [
      "AND_GATE \n",
      "\n",
      "[0 0]  =  0\n",
      "[0 1]  =  0\n",
      "[1 0]  =  0\n",
      "[1 1]  =  1\n"
     ]
    }
   ],
   "source": [
    "# 테스트\n",
    "print(AND_Gate.Type, '\\n')\n",
    "\n",
    "test_data = np.array([[0, 0], [0, 1], [1, 0], [1, 1]])\n",
    "\n",
    "for input_data in test_data:\n",
    "    (sigmoid_val, logical_val) = AND_Gate.predict(input_data) \n",
    "    print(input_data, ' = ', logical_val)  "
   ]
  },
  {
   "cell_type": "markdown",
   "id": "bbb6b1fa-05ee-4196-b4a9-44a982bcc932",
   "metadata": {},
   "source": [
    "### OR gate"
   ]
  },
  {
   "cell_type": "code",
   "execution_count": 9,
   "id": "53ffbcfe-9471-446f-8b9c-d60e90273294",
   "metadata": {},
   "outputs": [],
   "source": [
    "X_input  = np.array([[0, 0], [0, 1], [1, 0], [1, 1]])\n",
    "y_output = np.array([0, 1, 1, 1])"
   ]
  },
  {
   "cell_type": "code",
   "execution_count": 10,
   "id": "71627dc6-f283-42d7-a108-b2ff4c4f9763",
   "metadata": {},
   "outputs": [
    {
     "name": "stdout",
     "output_type": "stream",
     "text": [
      "Initial Cost =  1.8678228500318594\n",
      "Step =  0 Cost =  1.8635679861837042\n",
      "Step =  1000 Cost =  0.7152559469754135\n",
      "Step =  2000 Cost =  0.42992160825838766\n",
      "Step =  3000 Cost =  0.30279347399836554\n",
      "Step =  4000 Cost =  0.2320613095725498\n",
      "Step =  5000 Cost =  0.1874233301844704\n",
      "Step =  6000 Cost =  0.15684994554697365\n",
      "Step =  7000 Cost =  0.13467041600379073\n",
      "Step =  8000 Cost =  0.11788062796437469\n",
      "Step =  9000 Cost =  0.10474777758286027\n",
      "Step =  10000 Cost =  0.09420527849394685\n"
     ]
    }
   ],
   "source": [
    "OR_Gate = LogicGate('OR_GATE', X_input, y_output)\n",
    "\n",
    "OR_Gate.fit() "
   ]
  },
  {
   "cell_type": "code",
   "execution_count": 11,
   "id": "16409330-aae3-47ee-835b-8aaf2db4494f",
   "metadata": {},
   "outputs": [
    {
     "name": "stdout",
     "output_type": "stream",
     "text": [
      "OR_GATE \n",
      "\n",
      "[0 0]  =  0\n",
      "[0 1]  =  1\n",
      "[1 0]  =  1\n",
      "[1 1]  =  1\n"
     ]
    }
   ],
   "source": [
    "# 테스트\n",
    "print(OR_Gate.Type, '\\n')\n",
    "\n",
    "test_data = np.array([[0, 0], [0, 1], [1, 0], [1, 1]])\n",
    "\n",
    "for input_data in test_data:\n",
    "    (sigmoid_val, logical_val) = OR_Gate.predict(input_data) \n",
    "    print(input_data, ' = ', logical_val)  "
   ]
  },
  {
   "cell_type": "markdown",
   "id": "a2165e4b-e8fb-46ce-93fe-17f8a7c21873",
   "metadata": {},
   "source": [
    "### NAND gate"
   ]
  },
  {
   "cell_type": "code",
   "execution_count": 12,
   "id": "c373776f-6be3-402b-a56b-b7e1c0b33d24",
   "metadata": {},
   "outputs": [],
   "source": [
    "X_input  = np.array([[0, 0], [0, 1], [1, 0], [1, 1]])\n",
    "y_output = np.array([1, 1, 1, 0])"
   ]
  },
  {
   "cell_type": "code",
   "execution_count": 13,
   "id": "c46142c6-4ae5-4984-ac03-e5b46f38a6c1",
   "metadata": {},
   "outputs": [
    {
     "name": "stdout",
     "output_type": "stream",
     "text": [
      "Initial Cost =  3.36080460808229\n",
      "Step =  0 Cost =  3.347515164460352\n",
      "Step =  1000 Cost =  1.0733831919720458\n",
      "Step =  2000 Cost =  0.6872973980305899\n",
      "Step =  3000 Cost =  0.5063851799304506\n",
      "Step =  4000 Cost =  0.39979629155254126\n",
      "Step =  5000 Cost =  0.32948388454943445\n",
      "Step =  6000 Cost =  0.27970875662558337\n",
      "Step =  7000 Cost =  0.24268927856719286\n",
      "Step =  8000 Cost =  0.21412439791385318\n",
      "Step =  9000 Cost =  0.19144327991298188\n",
      "Step =  10000 Cost =  0.17301612199480354\n"
     ]
    }
   ],
   "source": [
    "NAND_Gate = LogicGate('NAND_GATE', X_input, y_output)\n",
    "\n",
    "NAND_Gate.fit()"
   ]
  },
  {
   "cell_type": "code",
   "execution_count": 14,
   "id": "958221c9-c6bc-4552-a33a-2fad5578b057",
   "metadata": {},
   "outputs": [
    {
     "name": "stdout",
     "output_type": "stream",
     "text": [
      "NAND_GATE \n",
      "\n",
      "[0 0]  =  1\n",
      "[0 1]  =  1\n",
      "[1 0]  =  1\n",
      "[1 1]  =  0\n"
     ]
    }
   ],
   "source": [
    "# 테스트\n",
    "print(NAND_Gate.Type, '\\n')\n",
    "\n",
    "test_data = np.array([[0, 0], [0, 1], [1, 0], [1, 1]])\n",
    "\n",
    "for input_data in test_data:\n",
    "    (sigmoid_val, logical_val) = NAND_Gate.predict(input_data) \n",
    "    print(input_data, ' = ', logical_val)  "
   ]
  },
  {
   "cell_type": "markdown",
   "id": "e194af2c-0b26-40a8-b34c-3921376b0e52",
   "metadata": {},
   "source": [
    "## XOR gate issue - failure"
   ]
  },
  {
   "cell_type": "code",
   "execution_count": 15,
   "id": "37012e01-72f0-4fbe-aa1c-1d514232bdc1",
   "metadata": {},
   "outputs": [],
   "source": [
    "X_input  = np.array([[0, 0], [0, 1], [1, 0], [1, 1]])\n",
    "y_output = np.array([0, 1, 1, 0])"
   ]
  },
  {
   "cell_type": "code",
   "execution_count": 16,
   "id": "8b39b191-dd8f-497a-b9b7-89374568a201",
   "metadata": {},
   "outputs": [
    {
     "name": "stdout",
     "output_type": "stream",
     "text": [
      "Initial Cost =  3.2787418343773966\n",
      "Step =  0 Cost =  3.26511411315253\n",
      "Step =  1000 Cost =  2.7726247468479004\n",
      "Step =  2000 Cost =  2.772589540066792\n",
      "Step =  3000 Cost =  2.7725887523742463\n",
      "Step =  4000 Cost =  2.7725887234960633\n",
      "Step =  5000 Cost =  2.772588722293289\n",
      "Step =  6000 Cost =  2.7725887222420678\n",
      "Step =  7000 Cost =  2.772588722239879\n",
      "Step =  8000 Cost =  2.7725887222397856\n",
      "Step =  9000 Cost =  2.7725887222397816\n",
      "Step =  10000 Cost =  2.772588722239781\n"
     ]
    }
   ],
   "source": [
    "XOR_Gate = LogicGate('XOR_GATE', X_input, y_output)\n",
    "\n",
    "XOR_Gate.fit()"
   ]
  },
  {
   "cell_type": "code",
   "execution_count": 17,
   "id": "3289630b-6d04-4ac6-9009-17eedc7e1451",
   "metadata": {},
   "outputs": [
    {
     "name": "stdout",
     "output_type": "stream",
     "text": [
      "XOR_GATE \n",
      "\n",
      "[0 0]  =  0\n",
      "[0 1]  =  0\n",
      "[1 0]  =  0\n",
      "[1 1]  =  1\n"
     ]
    }
   ],
   "source": [
    "print(XOR_Gate.Type, '\\n')\n",
    "\n",
    "test_data = np.array([[0, 0], [0, 1], [1, 0], [1, 1]])\n",
    "\n",
    "for input_data in test_data:\n",
    "    (sigmoid_val, logical_val) = XOR_Gate.predict(input_data) \n",
    "    print(input_data, ' = ', logical_val)  "
   ]
  },
  {
   "cell_type": "markdown",
   "id": "a9fa911d-2488-4c66-82d4-d1c7257b37dd",
   "metadata": {},
   "source": [
    "### XOR gate: NAND, OR 조합으로 만들기"
   ]
  },
  {
   "cell_type": "markdown",
   "id": "535ad441-ab61-4166-9a12-3fc5ff248cc7",
   "metadata": {},
   "source": [
    "- XOR를 (NAND + OR) 계층 및 AND 계층의 조합으로 연산\n",
    "- 이전 학습된 Parametrer로 XOR 수행"
   ]
  },
  {
   "cell_type": "code",
   "execution_count": 18,
   "id": "b1d29671-dd10-4c2f-9eea-fbf760f206a0",
   "metadata": {},
   "outputs": [],
   "source": [
    "input_data = np.array([[0, 0], [0, 1], [1, 0], [1, 1]])\n",
    "\n",
    "HL1_1 = []    # NAND 출력\n",
    "HL1_2 = []    # OR   출력\n",
    "\n",
    "new_input_data = []  # AND      입력\n",
    "final_output = []    # AND(XOR) 출력\n",
    "\n",
    "for index in range(len(input_data)):\n",
    "\n",
    "    HL1_1 = NAND_Gate.predict(input_data[index])  # NAND 출력\n",
    "    HL1_2 = OR_Gate.predict(input_data[index])    # OR   출력\n",
    "    \n",
    "    new_input_data.append(HL1_1[-1])    # AND 입력\n",
    "    new_input_data.append(HL1_2[-1])    # AND 입력\n",
    "    \n",
    "    (sigmoid_val, logical_val) = AND_Gate.predict(np.array(new_input_data))\n",
    "    \n",
    "    final_output.append(logical_val)    # AND(XOR) 출력    \n",
    "    new_input_data = []                 # AND 입력 초기화"
   ]
  },
  {
   "cell_type": "code",
   "execution_count": 19,
   "id": "a44525de-6cb1-4471-895d-30b29916ffe3",
   "metadata": {},
   "outputs": [
    {
     "name": "stdout",
     "output_type": "stream",
     "text": [
      "XOR_GATE \n",
      "\n",
      "[0 0]  =  0\n",
      "[0 1]  =  1\n",
      "[1 0]  =  1\n",
      "[1 1]  =  0\n"
     ]
    }
   ],
   "source": [
    "print(XOR_Gate.Type, '\\n')\n",
    "\n",
    "for index in range(len(input_data)):    \n",
    "    print(input_data[index], ' = ', final_output[index])"
   ]
  },
  {
   "cell_type": "markdown",
   "id": "965e221d-3ee6-4ecf-a7c2-2df516b01c62",
   "metadata": {},
   "source": [
    "### XOR gate: 학습"
   ]
  },
  {
   "cell_type": "code",
   "execution_count": 20,
   "id": "e810673b-0f14-4923-96b9-ecc534ab39bf",
   "metadata": {},
   "outputs": [],
   "source": [
    "class XOR_Gate:\n",
    "    \n",
    "    def __init__(self, gate_Type, X_input, y_output):  \n",
    "\n",
    "# gate_Type 문자열 지정 Member      \n",
    "        self.Type = gate_Type\n",
    "        \n",
    "# X_input, y_output Member 초기화\n",
    "        self.X_input = X_input.reshape(4, 2)\n",
    "        self.y_output = y_output.reshape(4, 1)\n",
    "        \n",
    "# W_1, b_1 Member 초기화\n",
    "        self.W_1 = np.random.rand(2, 2)  \n",
    "        self.b_1 = np.random.rand(2)\n",
    "\n",
    "# W_2, b_2 Member 초기화\n",
    "        self.W_2 = np.random.rand(2, 1)  \n",
    "        self.b_2 = np.random.rand(1)\n",
    "\n",
    "# learning_rate Member 지정\n",
    "        self.learning_rate = 0.01\n",
    "        \n",
    "# Cost_Function(CEE) Method\n",
    "    def cost_func(self):\n",
    "\n",
    "        z_1 = np.dot(self.X_input, self.W_1) + self.b_1     # Hidden Layer\n",
    "        a_1 = sigmoid(z_1)                                \n",
    "        \n",
    "        z_2 = np.dot(a_1, self.W_2) + self.b_2              # Output Layer\n",
    "        y_hat = sigmoid(z_2)                        \n",
    "\n",
    "        return -np.sum(self.y_output * np.log(y_hat) + (1 - self.y_output) * np.log(1 - y_hat))      \n",
    "\n",
    "# Learning Method\n",
    "    def fit(self):\n",
    "        machine = lambda x : self.cost_func()\n",
    "        print('Initial Cost = ', self.cost_func())\n",
    "        \n",
    "        for step in range(50001):\n",
    "            self.W_1 = self.W_1- self.learning_rate * gradient(machine, self.W_1)\n",
    "            self.b_1 = self.b_1 - self.learning_rate * gradient(machine, self.b_1)\n",
    "\n",
    "            self.W_2 = self.W_2 - self.learning_rate * gradient(machine, self.W_2)\n",
    "            self.b_2 = self.b_2 - self.learning_rate * gradient(machine, self.b_2)\n",
    "            \n",
    "            if (step % 1000 == 0):\n",
    "                print('Step = ', step, 'Cost = ', self.cost_func())\n",
    "                \n",
    "# Predict Method\n",
    "    def predict(self, input_data):\n",
    "        \n",
    "        z_1 = np.dot(input_data, self.W_1) + self.b_1     # Hidden Layer\n",
    "        a_1 = sigmoid(z_1)                                \n",
    "        \n",
    "        z_2 = np.dot(a_1, self.W_2) + self.b_2            # Output Layer\n",
    "        y_prob = sigmoid(z_2)                             \n",
    "\n",
    "\n",
    "        if y_prob > 0.5:\n",
    "            result = 1\n",
    "        else:\n",
    "            result = 0\n",
    "    \n",
    "        return y_prob, result"
   ]
  },
  {
   "cell_type": "code",
   "execution_count": 21,
   "id": "68991d86-52b1-409c-8f40-8525885cdd64",
   "metadata": {},
   "outputs": [],
   "source": [
    "X_input  = np.array([[0, 0], [0, 1], [1, 0], [1, 1]])\n",
    "y_output = np.array([0, 1, 1, 0])"
   ]
  },
  {
   "cell_type": "code",
   "execution_count": 22,
   "id": "2cffd00a-31f4-4e9c-88d5-934c8558bb44",
   "metadata": {},
   "outputs": [
    {
     "name": "stdout",
     "output_type": "stream",
     "text": [
      "Initial Cost =  3.175605086381407\n",
      "Step =  0 Cost =  3.1604772928342757\n",
      "Step =  1000 Cost =  2.7669906209225665\n",
      "Step =  2000 Cost =  2.7627057330954328\n",
      "Step =  3000 Cost =  2.7540220743068167\n",
      "Step =  4000 Cost =  2.7348795279894254\n",
      "Step =  5000 Cost =  2.691185056964151\n",
      "Step =  6000 Cost =  2.5953773004095835\n",
      "Step =  7000 Cost =  2.4286505915446144\n",
      "Step =  8000 Cost =  2.2366485984731748\n",
      "Step =  9000 Cost =  2.0561370546578472\n",
      "Step =  10000 Cost =  1.842421222646721\n",
      "Step =  11000 Cost =  1.4485290417747105\n",
      "Step =  12000 Cost =  0.9483465618570951\n",
      "Step =  13000 Cost =  0.6047832850912569\n",
      "Step =  14000 Cost =  0.4164541735729695\n",
      "Step =  15000 Cost =  0.3095847751213784\n",
      "Step =  16000 Cost =  0.24350942935859482\n",
      "Step =  17000 Cost =  0.19944196066778208\n",
      "Step =  18000 Cost =  0.16826114643703044\n",
      "Step =  19000 Cost =  0.1451672147693306\n",
      "Step =  20000 Cost =  0.12743984657139157\n",
      "Step =  21000 Cost =  0.11343791490415313\n",
      "Step =  22000 Cost =  0.1021188574684585\n",
      "Step =  23000 Cost =  0.09279135249514736\n",
      "Step =  24000 Cost =  0.08498022947557896\n",
      "Step =  25000 Cost =  0.07834881080111743\n",
      "Step =  26000 Cost =  0.07265226620061527\n",
      "Step =  27000 Cost =  0.06770851477659942\n",
      "Step =  28000 Cost =  0.06337946729879103\n",
      "Step =  29000 Cost =  0.05955858185969687\n",
      "Step =  30000 Cost =  0.05616239644268184\n",
      "Step =  31000 Cost =  0.05312463678001814\n",
      "Step =  32000 Cost =  0.05039203337353701\n",
      "Step =  33000 Cost =  0.04792129809161563\n",
      "Step =  34000 Cost =  0.045676903215025676\n",
      "Step =  35000 Cost =  0.04362942583046799\n",
      "Step =  36000 Cost =  0.041754297062302395\n",
      "Step =  37000 Cost =  0.04003084553985878\n",
      "Step =  38000 Cost =  0.038441557642429555\n",
      "Step =  39000 Cost =  0.036971499463267506\n",
      "Step =  40000 Cost =  0.03560786081628775\n",
      "Step =  41000 Cost =  0.03433959233069021\n",
      "Step =  42000 Cost =  0.03315711425357922\n",
      "Step =  43000 Cost =  0.03205208100149439\n",
      "Step =  44000 Cost =  0.031017189426963274\n",
      "Step =  45000 Cost =  0.030046021639320433\n",
      "Step =  46000 Cost =  0.029132915344935888\n",
      "Step =  47000 Cost =  0.028272856258647575\n",
      "Step =  48000 Cost =  0.02746138833494986\n",
      "Step =  49000 Cost =  0.026694538476114055\n",
      "Step =  50000 Cost =  0.02596875307114537\n"
     ]
    }
   ],
   "source": [
    "XOR_Gate_2 = XOR_Gate('XOR_GATE', X_input, y_output)\n",
    "\n",
    "XOR_Gate_2.fit()"
   ]
  },
  {
   "cell_type": "code",
   "execution_count": 23,
   "id": "6146cdc9-fec8-4f7b-b927-f51e50990520",
   "metadata": {},
   "outputs": [
    {
     "name": "stdout",
     "output_type": "stream",
     "text": [
      "XOR_GATE \n",
      "\n",
      "[0 0]  =  0\n",
      "[0 1]  =  1\n",
      "[1 0]  =  1\n",
      "[1 1]  =  0\n"
     ]
    }
   ],
   "source": [
    "print(XOR_Gate_2.Type, '\\n')\n",
    "\n",
    "test_data = np.array([[0, 0], [0, 1], [1, 0], [1, 1]])\n",
    "\n",
    "for input_data in test_data:\n",
    "    (sigmoid_val, logical_val) = XOR_Gate_2.predict(input_data) \n",
    "    print(input_data, ' = ', logical_val)  "
   ]
  },
  {
   "cell_type": "code",
   "execution_count": null,
   "id": "bace896b-cf5b-4b4e-86eb-abc77d0923a4",
   "metadata": {},
   "outputs": [],
   "source": []
  }
 ],
 "metadata": {
  "kernelspec": {
   "display_name": "Python 3 (ipykernel)",
   "language": "python",
   "name": "python3"
  },
  "language_info": {
   "codemirror_mode": {
    "name": "ipython",
    "version": 3
   },
   "file_extension": ".py",
   "mimetype": "text/x-python",
   "name": "python",
   "nbconvert_exporter": "python",
   "pygments_lexer": "ipython3",
   "version": "3.11.5"
  }
 },
 "nbformat": 4,
 "nbformat_minor": 5
}
