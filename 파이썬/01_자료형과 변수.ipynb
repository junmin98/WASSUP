{
 "cells": [
  {
   "cell_type": "markdown",
   "id": "74d7b9b0",
   "metadata": {},
   "source": [
    "# 숫자형"
   ]
  },
  {
   "cell_type": "markdown",
   "id": "787de100",
   "metadata": {},
   "source": [
    "## 정수형"
   ]
  },
  {
   "cell_type": "code",
   "execution_count": 2,
   "id": "63fe2a3b",
   "metadata": {
    "ExecuteTime": {
     "end_time": "2023-11-23T02:18:54.177550Z",
     "start_time": "2023-11-23T02:18:54.172583Z"
    }
   },
   "outputs": [],
   "source": [
    "a = 123"
   ]
  },
  {
   "cell_type": "code",
   "execution_count": 3,
   "id": "d7aa13a7",
   "metadata": {
    "ExecuteTime": {
     "end_time": "2023-11-23T02:18:56.139827Z",
     "start_time": "2023-11-23T02:18:56.128208Z"
    }
   },
   "outputs": [
    {
     "data": {
      "text/plain": [
       "123"
      ]
     },
     "execution_count": 3,
     "metadata": {},
     "output_type": "execute_result"
    }
   ],
   "source": [
    "a"
   ]
  },
  {
   "cell_type": "code",
   "execution_count": 4,
   "id": "f6defb5c",
   "metadata": {
    "ExecuteTime": {
     "end_time": "2023-11-23T02:20:48.369717Z",
     "start_time": "2023-11-23T02:20:48.363888Z"
    }
   },
   "outputs": [],
   "source": [
    "a = -178"
   ]
  },
  {
   "cell_type": "code",
   "execution_count": 5,
   "id": "ecfe1e56",
   "metadata": {
    "ExecuteTime": {
     "end_time": "2023-11-23T02:20:49.530861Z",
     "start_time": "2023-11-23T02:20:49.521701Z"
    }
   },
   "outputs": [
    {
     "data": {
      "text/plain": [
       "-178"
      ]
     },
     "execution_count": 5,
     "metadata": {},
     "output_type": "execute_result"
    }
   ],
   "source": [
    "a"
   ]
  },
  {
   "cell_type": "code",
   "execution_count": 6,
   "id": "7d2d93e4",
   "metadata": {
    "ExecuteTime": {
     "end_time": "2023-11-23T02:21:02.317651Z",
     "start_time": "2023-11-23T02:21:02.312267Z"
    }
   },
   "outputs": [],
   "source": [
    "a = 0"
   ]
  },
  {
   "cell_type": "markdown",
   "id": "e301788d",
   "metadata": {},
   "source": [
    "## 실수형"
   ]
  },
  {
   "cell_type": "code",
   "execution_count": 7,
   "id": "074dcfd7",
   "metadata": {
    "ExecuteTime": {
     "end_time": "2023-11-23T02:21:33.815441Z",
     "start_time": "2023-11-23T02:21:33.809467Z"
    }
   },
   "outputs": [],
   "source": [
    "a = 1.2 "
   ]
  },
  {
   "cell_type": "code",
   "execution_count": 8,
   "id": "160cbcb7",
   "metadata": {
    "ExecuteTime": {
     "end_time": "2023-11-23T02:21:35.806071Z",
     "start_time": "2023-11-23T02:21:35.798030Z"
    }
   },
   "outputs": [
    {
     "data": {
      "text/plain": [
       "1.2"
      ]
     },
     "execution_count": 8,
     "metadata": {},
     "output_type": "execute_result"
    }
   ],
   "source": [
    "a"
   ]
  },
  {
   "cell_type": "code",
   "execution_count": 9,
   "id": "be323b69",
   "metadata": {
    "ExecuteTime": {
     "end_time": "2023-11-23T02:21:40.210027Z",
     "start_time": "2023-11-23T02:21:40.205230Z"
    }
   },
   "outputs": [],
   "source": [
    "a = -3.45"
   ]
  },
  {
   "cell_type": "code",
   "execution_count": 10,
   "id": "a5347b86",
   "metadata": {
    "ExecuteTime": {
     "end_time": "2023-11-23T02:21:41.779919Z",
     "start_time": "2023-11-23T02:21:41.772457Z"
    }
   },
   "outputs": [
    {
     "data": {
      "text/plain": [
       "-3.45"
      ]
     },
     "execution_count": 10,
     "metadata": {},
     "output_type": "execute_result"
    }
   ],
   "source": [
    "a"
   ]
  },
  {
   "cell_type": "code",
   "execution_count": 11,
   "id": "f72a9db3",
   "metadata": {
    "ExecuteTime": {
     "end_time": "2023-11-23T02:22:26.034731Z",
     "start_time": "2023-11-23T02:22:26.029974Z"
    }
   },
   "outputs": [],
   "source": [
    "# 컴퓨터식 지수 표현\n",
    "a = 4.24E10 # 4.24 * 10^10"
   ]
  },
  {
   "cell_type": "code",
   "execution_count": 12,
   "id": "a3d0930a",
   "metadata": {
    "ExecuteTime": {
     "end_time": "2023-11-23T02:22:27.212273Z",
     "start_time": "2023-11-23T02:22:27.204546Z"
    }
   },
   "outputs": [
    {
     "data": {
      "text/plain": [
       "42400000000.0"
      ]
     },
     "execution_count": 12,
     "metadata": {},
     "output_type": "execute_result"
    }
   ],
   "source": [
    "a"
   ]
  },
  {
   "cell_type": "code",
   "execution_count": 13,
   "id": "6f11f13c",
   "metadata": {
    "ExecuteTime": {
     "end_time": "2023-11-23T02:23:22.666727Z",
     "start_time": "2023-11-23T02:23:22.657667Z"
    }
   },
   "outputs": [
    {
     "data": {
      "text/plain": [
       "127"
      ]
     },
     "execution_count": 13,
     "metadata": {},
     "output_type": "execute_result"
    }
   ],
   "source": [
    "# 8진수와 16진수\n",
    "a = 0o177 # 8진수\n",
    "a"
   ]
  },
  {
   "cell_type": "code",
   "execution_count": 14,
   "id": "079bac3d",
   "metadata": {
    "ExecuteTime": {
     "end_time": "2023-11-23T02:23:33.150213Z",
     "start_time": "2023-11-23T02:23:33.142304Z"
    }
   },
   "outputs": [
    {
     "data": {
      "text/plain": [
       "int"
      ]
     },
     "execution_count": 14,
     "metadata": {},
     "output_type": "execute_result"
    }
   ],
   "source": [
    "type(a)"
   ]
  },
  {
   "cell_type": "code",
   "execution_count": 15,
   "id": "b2415143",
   "metadata": {
    "ExecuteTime": {
     "end_time": "2023-11-23T02:23:58.077705Z",
     "start_time": "2023-11-23T02:23:58.070050Z"
    }
   },
   "outputs": [
    {
     "data": {
      "text/plain": [
       "2303"
      ]
     },
     "execution_count": 15,
     "metadata": {},
     "output_type": "execute_result"
    }
   ],
   "source": [
    "a = 0x8ff # 16진수\n",
    "a"
   ]
  },
  {
   "cell_type": "markdown",
   "id": "35cfa572",
   "metadata": {},
   "source": [
    "## 사칙연산"
   ]
  },
  {
   "cell_type": "code",
   "execution_count": 16,
   "id": "3986e127",
   "metadata": {
    "ExecuteTime": {
     "end_time": "2023-11-23T02:24:24.128717Z",
     "start_time": "2023-11-23T02:24:24.120469Z"
    }
   },
   "outputs": [
    {
     "data": {
      "text/plain": [
       "7"
      ]
     },
     "execution_count": 16,
     "metadata": {},
     "output_type": "execute_result"
    }
   ],
   "source": [
    "a = 3\n",
    "b = 4\n",
    "a + b"
   ]
  },
  {
   "cell_type": "code",
   "execution_count": 18,
   "id": "fa86f714",
   "metadata": {
    "ExecuteTime": {
     "end_time": "2023-11-23T02:25:15.699219Z",
     "start_time": "2023-11-23T02:25:15.691497Z"
    }
   },
   "outputs": [
    {
     "data": {
      "text/plain": [
       "12"
      ]
     },
     "execution_count": 18,
     "metadata": {},
     "output_type": "execute_result"
    }
   ],
   "source": [
    "a * b"
   ]
  },
  {
   "cell_type": "code",
   "execution_count": 19,
   "id": "fb4bceb3",
   "metadata": {
    "ExecuteTime": {
     "end_time": "2023-11-23T02:25:19.375553Z",
     "start_time": "2023-11-23T02:25:19.367357Z"
    }
   },
   "outputs": [
    {
     "data": {
      "text/plain": [
       "0.75"
      ]
     },
     "execution_count": 19,
     "metadata": {},
     "output_type": "execute_result"
    }
   ],
   "source": [
    "a / b"
   ]
  },
  {
   "cell_type": "code",
   "execution_count": 20,
   "id": "3511201e",
   "metadata": {
    "ExecuteTime": {
     "end_time": "2023-11-23T02:27:02.066334Z",
     "start_time": "2023-11-23T02:27:02.057727Z"
    }
   },
   "outputs": [
    {
     "data": {
      "text/plain": [
       "81"
      ]
     },
     "execution_count": 20,
     "metadata": {},
     "output_type": "execute_result"
    }
   ],
   "source": [
    "# a의 b제곱\n",
    "a ** b"
   ]
  },
  {
   "cell_type": "code",
   "execution_count": 21,
   "id": "534c97e4",
   "metadata": {
    "ExecuteTime": {
     "end_time": "2023-11-23T02:27:22.980670Z",
     "start_time": "2023-11-23T02:27:22.972374Z"
    }
   },
   "outputs": [
    {
     "data": {
      "text/plain": [
       "1"
      ]
     },
     "execution_count": 21,
     "metadata": {},
     "output_type": "execute_result"
    }
   ],
   "source": [
    "# 나눗셈 나머지 반환\n",
    "7 % 3"
   ]
  },
  {
   "cell_type": "code",
   "execution_count": 22,
   "id": "51671cde",
   "metadata": {
    "ExecuteTime": {
     "end_time": "2023-11-23T02:27:31.142276Z",
     "start_time": "2023-11-23T02:27:31.135700Z"
    }
   },
   "outputs": [
    {
     "data": {
      "text/plain": [
       "3"
      ]
     },
     "execution_count": 22,
     "metadata": {},
     "output_type": "execute_result"
    }
   ],
   "source": [
    "3 % 7"
   ]
  },
  {
   "cell_type": "code",
   "execution_count": 23,
   "id": "d1450de7",
   "metadata": {
    "ExecuteTime": {
     "end_time": "2023-11-23T02:27:44.653085Z",
     "start_time": "2023-11-23T02:27:44.644521Z"
    }
   },
   "outputs": [
    {
     "data": {
      "text/plain": [
       "1"
      ]
     },
     "execution_count": 23,
     "metadata": {},
     "output_type": "execute_result"
    }
   ],
   "source": [
    "# 나눗셈 몫 반환\n",
    "7 // 4"
   ]
  },
  {
   "cell_type": "markdown",
   "id": "07506614",
   "metadata": {},
   "source": [
    "# 문자열"
   ]
  },
  {
   "cell_type": "code",
   "execution_count": 24,
   "id": "812a88e0",
   "metadata": {
    "ExecuteTime": {
     "end_time": "2023-11-23T02:32:55.158454Z",
     "start_time": "2023-11-23T02:32:55.152446Z"
    }
   },
   "outputs": [
    {
     "data": {
      "text/plain": [
       "'Hello World'"
      ]
     },
     "execution_count": 24,
     "metadata": {},
     "output_type": "execute_result"
    }
   ],
   "source": [
    "\"Hello World\""
   ]
  },
  {
   "cell_type": "code",
   "execution_count": 25,
   "id": "8bfbd707",
   "metadata": {
    "ExecuteTime": {
     "end_time": "2023-11-23T02:33:01.395115Z",
     "start_time": "2023-11-23T02:33:01.387338Z"
    }
   },
   "outputs": [
    {
     "data": {
      "text/plain": [
       "'Hello World'"
      ]
     },
     "execution_count": 25,
     "metadata": {},
     "output_type": "execute_result"
    }
   ],
   "source": [
    "'Hello World'"
   ]
  },
  {
   "cell_type": "code",
   "execution_count": 29,
   "id": "1f9182ae",
   "metadata": {
    "ExecuteTime": {
     "end_time": "2023-11-23T02:36:09.624412Z",
     "start_time": "2023-11-23T02:36:09.616739Z"
    }
   },
   "outputs": [
    {
     "data": {
      "text/plain": [
       "'Life is too short, You need python'"
      ]
     },
     "execution_count": 29,
     "metadata": {},
     "output_type": "execute_result"
    }
   ],
   "source": [
    "\"\"\"Life is too short, You need python\"\"\""
   ]
  },
  {
   "cell_type": "code",
   "execution_count": 31,
   "id": "50458bfa",
   "metadata": {
    "ExecuteTime": {
     "end_time": "2023-11-23T02:36:30.662851Z",
     "start_time": "2023-11-23T02:36:30.659251Z"
    }
   },
   "outputs": [],
   "source": [
    "food = \"Python's favorite food is perl\""
   ]
  },
  {
   "cell_type": "code",
   "execution_count": 32,
   "id": "a41cc226",
   "metadata": {
    "ExecuteTime": {
     "end_time": "2023-11-23T02:36:37.601223Z",
     "start_time": "2023-11-23T02:36:37.592585Z"
    }
   },
   "outputs": [
    {
     "data": {
      "text/plain": [
       "\"Python's favorite food is perl\""
      ]
     },
     "execution_count": 32,
     "metadata": {},
     "output_type": "execute_result"
    }
   ],
   "source": [
    "food"
   ]
  },
  {
   "cell_type": "code",
   "execution_count": 36,
   "id": "7ea05f2d",
   "metadata": {
    "ExecuteTime": {
     "end_time": "2023-11-23T02:38:32.154068Z",
     "start_time": "2023-11-23T02:38:32.146440Z"
    }
   },
   "outputs": [
    {
     "data": {
      "text/plain": [
       "'\"Python is very easy.\" he says.'"
      ]
     },
     "execution_count": 36,
     "metadata": {},
     "output_type": "execute_result"
    }
   ],
   "source": [
    "'\"Python is very easy.\" he says.'"
   ]
  },
  {
   "cell_type": "code",
   "execution_count": 39,
   "id": "5aca1a2c",
   "metadata": {
    "ExecuteTime": {
     "end_time": "2023-11-23T02:41:18.782679Z",
     "start_time": "2023-11-23T02:41:18.775056Z"
    }
   },
   "outputs": [
    {
     "data": {
      "text/plain": [
       "(\"Python's favorite food is perl\", '\"Python is very easy.\" he says.')"
      ]
     },
     "execution_count": 39,
     "metadata": {},
     "output_type": "execute_result"
    }
   ],
   "source": [
    "# 백슬래시 사용해서 따옴표를 문자열에도 포함하기\n",
    "food = 'Python\\'s favorite food is perl'\n",
    "say = \"\\\"Python is very easy.\\\" he says.\"\n",
    "food, say"
   ]
  },
  {
   "cell_type": "markdown",
   "id": "c2cc0bbd",
   "metadata": {
    "ExecuteTime": {
     "end_time": "2023-11-23T02:42:17.317280Z",
     "start_time": "2023-11-23T02:42:17.313266Z"
    }
   },
   "source": [
    "## 여러 줄인 문자열을 변수에 대입"
   ]
  },
  {
   "cell_type": "code",
   "execution_count": 41,
   "id": "1b4e031e",
   "metadata": {
    "ExecuteTime": {
     "end_time": "2023-11-23T02:43:14.236130Z",
     "start_time": "2023-11-23T02:43:14.228592Z"
    }
   },
   "outputs": [
    {
     "data": {
      "text/plain": [
       "'Life is too short. \\n You need python'"
      ]
     },
     "execution_count": 41,
     "metadata": {},
     "output_type": "execute_result"
    }
   ],
   "source": [
    "# 줄을 바꾸는 이스케이프 문자 : \\n\n",
    "multiline = \"Life is too short. \\n You need python\"\n",
    "multiline # notebook 편의 기능"
   ]
  },
  {
   "cell_type": "code",
   "execution_count": 42,
   "id": "0d4ac96b",
   "metadata": {
    "ExecuteTime": {
     "end_time": "2023-11-23T02:43:47.844505Z",
     "start_time": "2023-11-23T02:43:47.837432Z"
    }
   },
   "outputs": [
    {
     "name": "stdout",
     "output_type": "stream",
     "text": [
      "Life is too short. \n",
      " You need python\n"
     ]
    }
   ],
   "source": [
    "print(multiline) # python 내장함수"
   ]
  },
  {
   "cell_type": "markdown",
   "id": "d0d0a458",
   "metadata": {},
   "source": [
    "## 연속된 따옴표 사용하기"
   ]
  },
  {
   "cell_type": "code",
   "execution_count": 43,
   "id": "864e3e4f",
   "metadata": {
    "ExecuteTime": {
     "end_time": "2023-11-23T02:46:43.252133Z",
     "start_time": "2023-11-23T02:46:43.245027Z"
    }
   },
   "outputs": [
    {
     "name": "stdout",
     "output_type": "stream",
     "text": [
      "\"Life is too short. \n",
      " You need python\"\n"
     ]
    }
   ],
   "source": [
    "multiline = \"\\\"Life is too short. \\n You need python\\\"\"\n",
    "print(multiline)"
   ]
  },
  {
   "cell_type": "markdown",
   "id": "019c2fb6",
   "metadata": {},
   "source": [
    "## 문자열 연산하기"
   ]
  },
  {
   "cell_type": "code",
   "execution_count": 1,
   "id": "45301d81",
   "metadata": {
    "ExecuteTime": {
     "end_time": "2023-11-24T00:35:14.364931Z",
     "start_time": "2023-11-24T00:35:14.350536Z"
    }
   },
   "outputs": [
    {
     "name": "stdout",
     "output_type": "stream",
     "text": [
      "Python is fun\n"
     ]
    }
   ],
   "source": [
    "head = \"Python\"\n",
    "tail = \" is fun\"\n",
    "print(head + tail)"
   ]
  },
  {
   "cell_type": "code",
   "execution_count": 2,
   "id": "a478fc06",
   "metadata": {
    "ExecuteTime": {
     "end_time": "2023-11-24T00:35:27.553092Z",
     "start_time": "2023-11-24T00:35:27.542596Z"
    }
   },
   "outputs": [
    {
     "data": {
      "text/plain": [
       "'PythonPython'"
      ]
     },
     "execution_count": 2,
     "metadata": {},
     "output_type": "execute_result"
    }
   ],
   "source": [
    "a = \"Python\"\n",
    "a * 2"
   ]
  },
  {
   "cell_type": "code",
   "execution_count": 3,
   "id": "88b94402",
   "metadata": {
    "ExecuteTime": {
     "end_time": "2023-11-24T00:36:12.841427Z",
     "start_time": "2023-11-24T00:36:12.832912Z"
    }
   },
   "outputs": [
    {
     "data": {
      "text/plain": [
       "17"
      ]
     },
     "execution_count": 3,
     "metadata": {},
     "output_type": "execute_result"
    }
   ],
   "source": [
    "a = \"Life is too short\"\n",
    "len(a)"
   ]
  },
  {
   "cell_type": "markdown",
   "id": "0273c57c",
   "metadata": {},
   "source": [
    "# 문자열 인덱싱과 슬라이싱"
   ]
  },
  {
   "cell_type": "markdown",
   "id": "13ea286b",
   "metadata": {},
   "source": [
    "## 인덱싱"
   ]
  },
  {
   "cell_type": "code",
   "execution_count": 4,
   "id": "93d275f3",
   "metadata": {
    "ExecuteTime": {
     "end_time": "2023-11-24T00:37:28.880484Z",
     "start_time": "2023-11-24T00:37:28.870686Z"
    }
   },
   "outputs": [
    {
     "data": {
      "text/plain": [
       "'Life is too short, You need python'"
      ]
     },
     "execution_count": 4,
     "metadata": {},
     "output_type": "execute_result"
    }
   ],
   "source": [
    "a = \"Life is too short, You need python\"\n",
    "a"
   ]
  },
  {
   "cell_type": "code",
   "execution_count": 5,
   "id": "7006f76e",
   "metadata": {
    "ExecuteTime": {
     "end_time": "2023-11-24T00:38:49.177402Z",
     "start_time": "2023-11-24T00:38:49.168730Z"
    }
   },
   "outputs": [
    {
     "data": {
      "text/plain": [
       "('e', 'L')"
      ]
     },
     "execution_count": 5,
     "metadata": {},
     "output_type": "execute_result"
    }
   ],
   "source": [
    "a[3], a[0]"
   ]
  },
  {
   "cell_type": "code",
   "execution_count": 6,
   "id": "51deb4a5",
   "metadata": {
    "ExecuteTime": {
     "end_time": "2023-11-24T00:39:05.666917Z",
     "start_time": "2023-11-24T00:39:05.658351Z"
    }
   },
   "outputs": [
    {
     "data": {
      "text/plain": [
       "'n'"
      ]
     },
     "execution_count": 6,
     "metadata": {},
     "output_type": "execute_result"
    }
   ],
   "source": [
    "a[-1]"
   ]
  },
  {
   "cell_type": "code",
   "execution_count": 7,
   "id": "006d75ae",
   "metadata": {
    "ExecuteTime": {
     "end_time": "2023-11-24T00:39:18.603428Z",
     "start_time": "2023-11-24T00:39:18.594647Z"
    }
   },
   "outputs": [
    {
     "data": {
      "text/plain": [
       "'o'"
      ]
     },
     "execution_count": 7,
     "metadata": {},
     "output_type": "execute_result"
    }
   ],
   "source": [
    "a[-2]"
   ]
  },
  {
   "cell_type": "code",
   "execution_count": 8,
   "id": "f2de43fe",
   "metadata": {
    "ExecuteTime": {
     "end_time": "2023-11-24T00:40:03.063652Z",
     "start_time": "2023-11-24T00:40:03.055929Z"
    }
   },
   "outputs": [
    {
     "data": {
      "text/plain": [
       "'y'"
      ]
     },
     "execution_count": 8,
     "metadata": {},
     "output_type": "execute_result"
    }
   ],
   "source": [
    "a[-5]"
   ]
  },
  {
   "cell_type": "markdown",
   "id": "aa2ca1b0",
   "metadata": {},
   "source": [
    "## 슬라이싱\n",
    "* 범위 [start_index:end_index+1]"
   ]
  },
  {
   "cell_type": "code",
   "execution_count": 9,
   "id": "8d213ac1",
   "metadata": {
    "ExecuteTime": {
     "end_time": "2023-11-24T00:41:17.462718Z",
     "start_time": "2023-11-24T00:41:17.455282Z"
    }
   },
   "outputs": [
    {
     "data": {
      "text/plain": [
       "'Life is too short, You need python'"
      ]
     },
     "execution_count": 9,
     "metadata": {},
     "output_type": "execute_result"
    }
   ],
   "source": [
    "a"
   ]
  },
  {
   "cell_type": "code",
   "execution_count": 10,
   "id": "f6565635",
   "metadata": {
    "ExecuteTime": {
     "end_time": "2023-11-24T00:41:38.434645Z",
     "start_time": "2023-11-24T00:41:38.428438Z"
    }
   },
   "outputs": [
    {
     "data": {
      "text/plain": [
       "'Life'"
      ]
     },
     "execution_count": 10,
     "metadata": {},
     "output_type": "execute_result"
    }
   ],
   "source": [
    "a[0:4] # 0<=, <4"
   ]
  },
  {
   "cell_type": "code",
   "execution_count": 11,
   "id": "e71f5119",
   "metadata": {
    "ExecuteTime": {
     "end_time": "2023-11-24T00:42:46.068491Z",
     "start_time": "2023-11-24T00:42:46.061507Z"
    }
   },
   "outputs": [
    {
     "data": {
      "text/plain": [
       "'Life'"
      ]
     },
     "execution_count": 11,
     "metadata": {},
     "output_type": "execute_result"
    }
   ],
   "source": [
    "a[:4] # 0은 생략 가능"
   ]
  },
  {
   "cell_type": "code",
   "execution_count": 12,
   "id": "8313d81d",
   "metadata": {
    "ExecuteTime": {
     "end_time": "2023-11-24T00:44:10.524877Z",
     "start_time": "2023-11-24T00:44:10.517667Z"
    }
   },
   "outputs": [
    {
     "data": {
      "text/plain": [
       "'You need python'"
      ]
     },
     "execution_count": 12,
     "metadata": {},
     "output_type": "execute_result"
    }
   ],
   "source": [
    "a[19:]"
   ]
  },
  {
   "cell_type": "code",
   "execution_count": 13,
   "id": "9a73bb9f",
   "metadata": {
    "ExecuteTime": {
     "end_time": "2023-11-24T00:44:20.000884Z",
     "start_time": "2023-11-24T00:44:19.992976Z"
    }
   },
   "outputs": [
    {
     "data": {
      "text/plain": [
       "'Life is too short, You need python'"
      ]
     },
     "execution_count": 13,
     "metadata": {},
     "output_type": "execute_result"
    }
   ],
   "source": [
    "a[:]"
   ]
  },
  {
   "cell_type": "code",
   "execution_count": 14,
   "id": "9140e94f",
   "metadata": {
    "ExecuteTime": {
     "end_time": "2023-11-24T00:44:51.988622Z",
     "start_time": "2023-11-24T00:44:51.980405Z"
    }
   },
   "outputs": [
    {
     "data": {
      "text/plain": [
       "'You need'"
      ]
     },
     "execution_count": 14,
     "metadata": {},
     "output_type": "execute_result"
    }
   ],
   "source": [
    "a[19:-7]"
   ]
  },
  {
   "cell_type": "code",
   "execution_count": 22,
   "id": "f8eb544b",
   "metadata": {
    "ExecuteTime": {
     "end_time": "2023-11-24T00:47:50.496267Z",
     "start_time": "2023-11-24T00:47:50.489530Z"
    }
   },
   "outputs": [
    {
     "name": "stdout",
     "output_type": "stream",
     "text": [
      "20231124\n",
      "Sunny\n"
     ]
    }
   ],
   "source": [
    "a = \"20231124Sunny\"\n",
    "date = a[:8]\n",
    "weather = a[8:]\n",
    "print(date)\n",
    "print(weather)"
   ]
  },
  {
   "cell_type": "code",
   "execution_count": 25,
   "id": "2f199fdf",
   "metadata": {
    "ExecuteTime": {
     "end_time": "2023-11-24T00:50:08.736980Z",
     "start_time": "2023-11-24T00:50:08.728799Z"
    }
   },
   "outputs": [
    {
     "name": "stdout",
     "output_type": "stream",
     "text": [
      "year=2023, month=11, day=24\n"
     ]
    }
   ],
   "source": [
    "year = a[:4]\n",
    "month = a[4:6]\n",
    "day = a[6:8]\n",
    "print(f\"year={year}, month={month}, day={day}\")"
   ]
  },
  {
   "cell_type": "markdown",
   "id": "d304da10",
   "metadata": {},
   "source": [
    "## 문자열 요소 바꾸기"
   ]
  },
  {
   "cell_type": "code",
   "execution_count": 1,
   "id": "18f694ab",
   "metadata": {
    "ExecuteTime": {
     "end_time": "2023-11-24T01:01:59.406305Z",
     "start_time": "2023-11-24T01:01:59.395568Z"
    }
   },
   "outputs": [],
   "source": [
    "a = 'pithon'"
   ]
  },
  {
   "cell_type": "code",
   "execution_count": 2,
   "id": "34a3c940",
   "metadata": {
    "ExecuteTime": {
     "end_time": "2023-11-24T01:02:07.769915Z",
     "start_time": "2023-11-24T01:02:06.943688Z"
    }
   },
   "outputs": [
    {
     "ename": "TypeError",
     "evalue": "'str' object does not support item assignment",
     "output_type": "error",
     "traceback": [
      "\u001b[1;31m---------------------------------------------------------------------------\u001b[0m",
      "\u001b[1;31mTypeError\u001b[0m                                 Traceback (most recent call last)",
      "Cell \u001b[1;32mIn[2], line 1\u001b[0m\n\u001b[1;32m----> 1\u001b[0m a[\u001b[38;5;241m1\u001b[39m] \u001b[38;5;241m=\u001b[39m \u001b[38;5;124m'\u001b[39m\u001b[38;5;124my\u001b[39m\u001b[38;5;124m'\u001b[39m\n",
      "\u001b[1;31mTypeError\u001b[0m: 'str' object does not support item assignment"
     ]
    }
   ],
   "source": [
    "a[1] = 'y'"
   ]
  },
  {
   "cell_type": "code",
   "execution_count": 3,
   "id": "e9e3cc65",
   "metadata": {
    "ExecuteTime": {
     "end_time": "2023-11-24T01:02:23.177938Z",
     "start_time": "2023-11-24T01:02:23.165685Z"
    }
   },
   "outputs": [
    {
     "data": {
      "text/plain": [
       "'python'"
      ]
     },
     "execution_count": 3,
     "metadata": {},
     "output_type": "execute_result"
    }
   ],
   "source": [
    "a[0] + 'y' + a[2:]"
   ]
  },
  {
   "cell_type": "markdown",
   "id": "47e01923",
   "metadata": {},
   "source": [
    "## 문자열 포맷팅\n",
    "* 현재 온도는 20도 입니다.\n",
    "* 현재 온도는 -3도 입니다."
   ]
  },
  {
   "cell_type": "code",
   "execution_count": 5,
   "id": "70f145d4",
   "metadata": {
    "ExecuteTime": {
     "end_time": "2023-11-24T01:09:33.251725Z",
     "start_time": "2023-11-24T01:09:33.242966Z"
    }
   },
   "outputs": [
    {
     "data": {
      "text/plain": [
       "'I eat 3 apples'"
      ]
     },
     "execution_count": 5,
     "metadata": {},
     "output_type": "execute_result"
    }
   ],
   "source": [
    "# 숫자 바로 대입하기\n",
    "\"I eat %d apples\"%3 # %d -> 어떤 값을 대입하기위한 문자"
   ]
  },
  {
   "cell_type": "code",
   "execution_count": 6,
   "id": "0f5e26aa",
   "metadata": {
    "ExecuteTime": {
     "end_time": "2023-11-24T01:10:02.733462Z",
     "start_time": "2023-11-24T01:10:02.725470Z"
    }
   },
   "outputs": [
    {
     "data": {
      "text/plain": [
       "'I eat 5 apples'"
      ]
     },
     "execution_count": 6,
     "metadata": {},
     "output_type": "execute_result"
    }
   ],
   "source": [
    "# 문자열 대입하기\n",
    "\"I eat %s apples\"%5"
   ]
  },
  {
   "cell_type": "code",
   "execution_count": 8,
   "id": "25eb8b5c",
   "metadata": {
    "ExecuteTime": {
     "end_time": "2023-11-24T01:10:44.746377Z",
     "start_time": "2023-11-24T01:10:44.738587Z"
    }
   },
   "outputs": [
    {
     "data": {
      "text/plain": [
       "'I eat 3 apples'"
      ]
     },
     "execution_count": 8,
     "metadata": {},
     "output_type": "execute_result"
    }
   ],
   "source": [
    "# 변수로 대입하기\n",
    "number=3\n",
    "\"I eat %d apples\"%number"
   ]
  },
  {
   "cell_type": "code",
   "execution_count": 9,
   "id": "dda75c28",
   "metadata": {
    "ExecuteTime": {
     "end_time": "2023-11-24T01:12:10.061317Z",
     "start_time": "2023-11-24T01:12:10.053101Z"
    }
   },
   "outputs": [
    {
     "data": {
      "text/plain": [
       "'I eat 3 apples. so i was sick for three days'"
      ]
     },
     "execution_count": 9,
     "metadata": {},
     "output_type": "execute_result"
    }
   ],
   "source": [
    "# 2개 이상 값 넣기\n",
    "number = 3\n",
    "day = \"three\"\n",
    "\"I eat %d apples. so i was sick for %s days\"%(number, day)"
   ]
  },
  {
   "cell_type": "markdown",
   "id": "8ac0564d",
   "metadata": {},
   "source": [
    "## 정렬과 공백\n",
    "* 양수: 우정렬\n",
    "* 음수: 좌정렬"
   ]
  },
  {
   "cell_type": "code",
   "execution_count": 13,
   "id": "52d70b38",
   "metadata": {
    "ExecuteTime": {
     "end_time": "2023-11-24T01:13:59.754873Z",
     "start_time": "2023-11-24T01:13:59.746978Z"
    }
   },
   "outputs": [
    {
     "data": {
      "text/plain": [
       "'        hi'"
      ]
     },
     "execution_count": 13,
     "metadata": {},
     "output_type": "execute_result"
    }
   ],
   "source": [
    "# 10개의 문자열 공간을 만들되, 치환되는 문자열을 우측 정렬하고, 빈곳은 공백으로 채우는  것\n",
    "\"%10s\"%\"hi\""
   ]
  },
  {
   "cell_type": "code",
   "execution_count": 14,
   "id": "552ad1e9",
   "metadata": {
    "ExecuteTime": {
     "end_time": "2023-11-24T01:14:20.620254Z",
     "start_time": "2023-11-24T01:14:20.612944Z"
    }
   },
   "outputs": [
    {
     "data": {
      "text/plain": [
       "'hi        '"
      ]
     },
     "execution_count": 14,
     "metadata": {},
     "output_type": "execute_result"
    }
   ],
   "source": [
    "\"%-10s\"%\"hi\""
   ]
  },
  {
   "cell_type": "markdown",
   "id": "482a83b9",
   "metadata": {},
   "source": [
    "## 소수점 표현하기"
   ]
  },
  {
   "cell_type": "code",
   "execution_count": 15,
   "id": "456ae87f",
   "metadata": {
    "ExecuteTime": {
     "end_time": "2023-11-24T01:15:04.307112Z",
     "start_time": "2023-11-24T01:15:04.299322Z"
    }
   },
   "outputs": [
    {
     "data": {
      "text/plain": [
       "'3.4213'"
      ]
     },
     "execution_count": 15,
     "metadata": {},
     "output_type": "execute_result"
    }
   ],
   "source": [
    "\"%0.4f\"%3.42134234"
   ]
  },
  {
   "cell_type": "markdown",
   "id": "ea178e32",
   "metadata": {},
   "source": [
    "## 포맷함수를 사용한 포매팅"
   ]
  },
  {
   "cell_type": "code",
   "execution_count": 16,
   "id": "ed2e7337",
   "metadata": {
    "ExecuteTime": {
     "end_time": "2023-11-24T01:16:08.073062Z",
     "start_time": "2023-11-24T01:16:08.064864Z"
    }
   },
   "outputs": [
    {
     "data": {
      "text/plain": [
       "'I eat 3 apples'"
      ]
     },
     "execution_count": 16,
     "metadata": {},
     "output_type": "execute_result"
    }
   ],
   "source": [
    "\"I eat {} apples\".format(3)"
   ]
  },
  {
   "cell_type": "code",
   "execution_count": 19,
   "id": "9cf9471a",
   "metadata": {
    "ExecuteTime": {
     "end_time": "2023-11-24T01:19:01.203520Z",
     "start_time": "2023-11-24T01:19:01.195546Z"
    }
   },
   "outputs": [
    {
     "data": {
      "text/plain": [
       "'I eat 3 apples. so i was sick for three days'"
      ]
     },
     "execution_count": 19,
     "metadata": {},
     "output_type": "execute_result"
    }
   ],
   "source": [
    "number = 3\n",
    "day = \"three\"\n",
    "\"I eat {} apples. so i was sick for {} days\".format(number, day)"
   ]
  },
  {
   "cell_type": "code",
   "execution_count": 20,
   "id": "0734c137",
   "metadata": {
    "ExecuteTime": {
     "end_time": "2023-11-24T01:20:04.542888Z",
     "start_time": "2023-11-24T01:20:04.533822Z"
    }
   },
   "outputs": [
    {
     "data": {
      "text/plain": [
       "'I eat 10 apples. so i was sick for 3 days'"
      ]
     },
     "execution_count": 20,
     "metadata": {},
     "output_type": "execute_result"
    }
   ],
   "source": [
    "# 변수 이름으로 넣기\n",
    "\"I eat {number} apples. so i was sick for {day} days\".format(number=10, day=3)"
   ]
  },
  {
   "cell_type": "code",
   "execution_count": 21,
   "id": "18ea8446",
   "metadata": {
    "ExecuteTime": {
     "end_time": "2023-11-24T01:20:33.362002Z",
     "start_time": "2023-11-24T01:20:33.353730Z"
    }
   },
   "outputs": [
    {
     "data": {
      "text/plain": [
       "'I eat 10 apples. so i was sick for 3 days'"
      ]
     },
     "execution_count": 21,
     "metadata": {},
     "output_type": "execute_result"
    }
   ],
   "source": [
    "\"I eat {number} apples. so i was sick for {day} days\".format(day=3, number=10)"
   ]
  },
  {
   "cell_type": "markdown",
   "id": "9651f052",
   "metadata": {},
   "source": [
    "## f문자열 포매팅"
   ]
  },
  {
   "cell_type": "code",
   "execution_count": 24,
   "id": "c5202ae1",
   "metadata": {
    "ExecuteTime": {
     "end_time": "2023-11-24T01:22:56.230855Z",
     "start_time": "2023-11-24T01:22:56.222994Z"
    }
   },
   "outputs": [
    {
     "data": {
      "text/plain": [
       "'나의 이름은 홍길동입니다. 나이는 30입니다.'"
      ]
     },
     "execution_count": 24,
     "metadata": {},
     "output_type": "execute_result"
    }
   ],
   "source": [
    "name = '홍길동'\n",
    "age = 30\n",
    "f\"나의 이름은 {name}입니다. 나이는 {age}입니다.\""
   ]
  },
  {
   "cell_type": "code",
   "execution_count": 25,
   "id": "eaef3ba1",
   "metadata": {
    "ExecuteTime": {
     "end_time": "2023-11-24T01:23:54.639214Z",
     "start_time": "2023-11-24T01:23:54.631554Z"
    }
   },
   "outputs": [
    {
     "data": {
      "text/plain": [
       "'나는 내년이면 31살이 됩니다.'"
      ]
     },
     "execution_count": 25,
     "metadata": {},
     "output_type": "execute_result"
    }
   ],
   "source": [
    "f\"나는 내년이면 {age+1}살이 됩니다.\""
   ]
  },
  {
   "cell_type": "code",
   "execution_count": 36,
   "id": "3f9945ea",
   "metadata": {
    "ExecuteTime": {
     "end_time": "2023-11-24T01:28:38.593968Z",
     "start_time": "2023-11-24T01:28:38.585117Z"
    }
   },
   "outputs": [
    {
     "data": {
      "text/plain": [
       "'나의 이름은 이준민입니다. 나이는 26입니다.'"
      ]
     },
     "execution_count": 36,
     "metadata": {},
     "output_type": "execute_result"
    }
   ],
   "source": [
    "d = {'name':'이준민', 'age':26}\n",
    "f\"나의 이름은 {d['name']}입니다. 나이는 {d['age']}입니다.\""
   ]
  },
  {
   "cell_type": "code",
   "execution_count": 37,
   "id": "2b81ea8a",
   "metadata": {
    "ExecuteTime": {
     "end_time": "2023-11-24T01:29:04.672291Z",
     "start_time": "2023-11-24T01:29:04.664680Z"
    }
   },
   "outputs": [
    {
     "data": {
      "text/plain": [
       "'3.4123'"
      ]
     },
     "execution_count": 37,
     "metadata": {},
     "output_type": "execute_result"
    }
   ],
   "source": [
    "y = 3.412323\n",
    "f'{y:0.4f}'"
   ]
  },
  {
   "cell_type": "markdown",
   "id": "5b247aef",
   "metadata": {},
   "source": [
    "## 문자열 관련 함수"
   ]
  },
  {
   "cell_type": "code",
   "execution_count": 38,
   "id": "f7b2e14d",
   "metadata": {
    "ExecuteTime": {
     "end_time": "2023-11-24T01:29:48.681823Z",
     "start_time": "2023-11-24T01:29:48.677498Z"
    }
   },
   "outputs": [],
   "source": [
    "a = \"hobby\""
   ]
  },
  {
   "cell_type": "code",
   "execution_count": 39,
   "id": "a03d0ae9",
   "metadata": {
    "ExecuteTime": {
     "end_time": "2023-11-24T01:29:55.076060Z",
     "start_time": "2023-11-24T01:29:55.068189Z"
    }
   },
   "outputs": [
    {
     "data": {
      "text/plain": [
       "2"
      ]
     },
     "execution_count": 39,
     "metadata": {},
     "output_type": "execute_result"
    }
   ],
   "source": [
    "a.count('b')"
   ]
  },
  {
   "cell_type": "code",
   "execution_count": 41,
   "id": "947b194e",
   "metadata": {
    "ExecuteTime": {
     "end_time": "2023-11-24T01:32:35.126460Z",
     "start_time": "2023-11-24T01:32:35.121560Z"
    }
   },
   "outputs": [],
   "source": [
    "a.count?"
   ]
  },
  {
   "cell_type": "code",
   "execution_count": 42,
   "id": "5b6a67a1",
   "metadata": {
    "ExecuteTime": {
     "end_time": "2023-11-24T01:32:53.241451Z",
     "start_time": "2023-11-24T01:32:53.235414Z"
    },
    "scrolled": true
   },
   "outputs": [
    {
     "name": "stdout",
     "output_type": "stream",
     "text": [
      "Help on built-in function count:\n",
      "\n",
      "count(...) method of builtins.str instance\n",
      "    S.count(sub[, start[, end]]) -> int\n",
      "    \n",
      "    Return the number of non-overlapping occurrences of substring sub in\n",
      "    string S[start:end].  Optional arguments start and end are\n",
      "    interpreted as in slice notation.\n",
      "\n"
     ]
    }
   ],
   "source": [
    "help(a.count)"
   ]
  },
  {
   "cell_type": "code",
   "execution_count": 43,
   "id": "069a9440",
   "metadata": {
    "ExecuteTime": {
     "end_time": "2023-11-24T01:35:54.033377Z",
     "start_time": "2023-11-24T01:35:54.025368Z"
    }
   },
   "outputs": [
    {
     "data": {
      "text/plain": [
       "14"
      ]
     },
     "execution_count": 43,
     "metadata": {},
     "output_type": "execute_result"
    }
   ],
   "source": [
    "a = 'python is the best choice'\n",
    "a.find('b') # -> index 반환"
   ]
  },
  {
   "cell_type": "code",
   "execution_count": 44,
   "id": "7fb8357d",
   "metadata": {
    "ExecuteTime": {
     "end_time": "2023-11-24T01:36:01.784498Z",
     "start_time": "2023-11-24T01:36:01.776013Z"
    }
   },
   "outputs": [
    {
     "data": {
      "text/plain": [
       "-1"
      ]
     },
     "execution_count": 44,
     "metadata": {},
     "output_type": "execute_result"
    }
   ],
   "source": [
    "a.find('k') # -1: 없음"
   ]
  },
  {
   "cell_type": "code",
   "execution_count": 49,
   "id": "5e903585",
   "metadata": {
    "ExecuteTime": {
     "end_time": "2023-11-24T01:36:42.477731Z",
     "start_time": "2023-11-24T01:36:42.470527Z"
    }
   },
   "outputs": [
    {
     "data": {
      "text/plain": [
       "2"
      ]
     },
     "execution_count": 49,
     "metadata": {},
     "output_type": "execute_result"
    }
   ],
   "source": [
    "a.index('t')"
   ]
  },
  {
   "cell_type": "markdown",
   "id": "4e12f76d",
   "metadata": {},
   "source": [
    "## 문자열 삽입 (join)"
   ]
  },
  {
   "cell_type": "code",
   "execution_count": 51,
   "id": "25cfd819",
   "metadata": {
    "ExecuteTime": {
     "end_time": "2023-11-24T01:39:03.333063Z",
     "start_time": "2023-11-24T01:39:03.325070Z"
    }
   },
   "outputs": [
    {
     "data": {
      "text/plain": [
       "'a.b.c.d'"
      ]
     },
     "execution_count": 51,
     "metadata": {},
     "output_type": "execute_result"
    }
   ],
   "source": [
    "# 문자열 사이에 , 삽입\n",
    "\".\".join('abcd')"
   ]
  },
  {
   "cell_type": "code",
   "execution_count": 52,
   "id": "ba6b42c5",
   "metadata": {
    "ExecuteTime": {
     "end_time": "2023-11-24T01:39:33.919076Z",
     "start_time": "2023-11-24T01:39:33.910715Z"
    }
   },
   "outputs": [
    {
     "data": {
      "text/plain": [
       "'a.b.c'"
      ]
     },
     "execution_count": 52,
     "metadata": {},
     "output_type": "execute_result"
    }
   ],
   "source": [
    "\".\".join(['a', 'b', 'c'])"
   ]
  },
  {
   "cell_type": "markdown",
   "id": "ed7e6211",
   "metadata": {
    "ExecuteTime": {
     "end_time": "2023-11-24T01:40:03.936095Z",
     "start_time": "2023-11-24T01:40:03.927268Z"
    }
   },
   "source": [
    "## 대소문자 변환 (upper, lower)"
   ]
  },
  {
   "cell_type": "code",
   "execution_count": 55,
   "id": "1346dae7",
   "metadata": {
    "ExecuteTime": {
     "end_time": "2023-11-24T01:40:46.342917Z",
     "start_time": "2023-11-24T01:40:46.333145Z"
    }
   },
   "outputs": [
    {
     "data": {
      "text/plain": [
       "'HI'"
      ]
     },
     "execution_count": 55,
     "metadata": {},
     "output_type": "execute_result"
    }
   ],
   "source": [
    "# 소문자 -> 대문자\n",
    "a = 'hi'\n",
    "a.upper()"
   ]
  },
  {
   "cell_type": "code",
   "execution_count": 56,
   "id": "da740b90",
   "metadata": {
    "ExecuteTime": {
     "end_time": "2023-11-24T01:41:10.599322Z",
     "start_time": "2023-11-24T01:41:10.589173Z"
    }
   },
   "outputs": [
    {
     "data": {
      "text/plain": [
       "'hi'"
      ]
     },
     "execution_count": 56,
     "metadata": {},
     "output_type": "execute_result"
    }
   ],
   "source": [
    "# 대문자 -> 소문자\n",
    "a = 'HI'\n",
    "a.lower()"
   ]
  },
  {
   "cell_type": "markdown",
   "id": "25ad9502",
   "metadata": {},
   "source": [
    "## 공백 지우기 (strip)"
   ]
  },
  {
   "cell_type": "code",
   "execution_count": 57,
   "id": "26cfee58",
   "metadata": {
    "ExecuteTime": {
     "end_time": "2023-11-24T01:41:55.356002Z",
     "start_time": "2023-11-24T01:41:55.348281Z"
    }
   },
   "outputs": [
    {
     "data": {
      "text/plain": [
       "'hi    '"
      ]
     },
     "execution_count": 57,
     "metadata": {},
     "output_type": "execute_result"
    }
   ],
   "source": [
    "# 왼쪽 공백 지우기\n",
    "a = \"     hi    \"\n",
    "a.lstrip()"
   ]
  },
  {
   "cell_type": "code",
   "execution_count": 58,
   "id": "87e18a83",
   "metadata": {
    "ExecuteTime": {
     "end_time": "2023-11-24T01:42:12.023715Z",
     "start_time": "2023-11-24T01:42:12.015534Z"
    }
   },
   "outputs": [
    {
     "data": {
      "text/plain": [
       "'     hi'"
      ]
     },
     "execution_count": 58,
     "metadata": {},
     "output_type": "execute_result"
    }
   ],
   "source": [
    "a.rstrip()"
   ]
  },
  {
   "cell_type": "code",
   "execution_count": 59,
   "id": "5bd02742",
   "metadata": {
    "ExecuteTime": {
     "end_time": "2023-11-24T01:42:19.580201Z",
     "start_time": "2023-11-24T01:42:19.573084Z"
    }
   },
   "outputs": [
    {
     "data": {
      "text/plain": [
       "'hi'"
      ]
     },
     "execution_count": 59,
     "metadata": {},
     "output_type": "execute_result"
    }
   ],
   "source": [
    "a.strip()"
   ]
  },
  {
   "cell_type": "markdown",
   "id": "597ac5b3",
   "metadata": {},
   "source": [
    "## 문자열 바꾸기 (replace)"
   ]
  },
  {
   "cell_type": "code",
   "execution_count": 60,
   "id": "fb6c6eb7",
   "metadata": {
    "ExecuteTime": {
     "end_time": "2023-11-24T01:45:03.420536Z",
     "start_time": "2023-11-24T01:45:03.412120Z"
    }
   },
   "outputs": [
    {
     "data": {
      "text/plain": [
       "'Your leg is too short'"
      ]
     },
     "execution_count": 60,
     "metadata": {},
     "output_type": "execute_result"
    }
   ],
   "source": [
    "a = \"Life is too short\"\n",
    "a.replace(\"Life\", \"Your leg\")"
   ]
  },
  {
   "cell_type": "markdown",
   "id": "22e9bf82",
   "metadata": {},
   "source": [
    "## 문자열 나누기 (split)"
   ]
  },
  {
   "cell_type": "code",
   "execution_count": 61,
   "id": "70dc0445",
   "metadata": {
    "ExecuteTime": {
     "end_time": "2023-11-24T01:46:21.745782Z",
     "start_time": "2023-11-24T01:46:21.737878Z"
    }
   },
   "outputs": [
    {
     "data": {
      "text/plain": [
       "['Life', 'is', 'too', 'short']"
      ]
     },
     "execution_count": 61,
     "metadata": {},
     "output_type": "execute_result"
    }
   ],
   "source": [
    "a.split()"
   ]
  },
  {
   "cell_type": "code",
   "execution_count": 62,
   "id": "0942bda0",
   "metadata": {
    "ExecuteTime": {
     "end_time": "2023-11-24T01:46:48.420331Z",
     "start_time": "2023-11-24T01:46:48.413715Z"
    }
   },
   "outputs": [
    {
     "data": {
      "text/plain": [
       "['a', 'b', 'c', 'd']"
      ]
     },
     "execution_count": 62,
     "metadata": {},
     "output_type": "execute_result"
    }
   ],
   "source": [
    "b = 'a:b:c:d'\n",
    "b.split(\":\")"
   ]
  },
  {
   "cell_type": "code",
   "execution_count": 63,
   "id": "6b1414f4",
   "metadata": {
    "ExecuteTime": {
     "end_time": "2023-11-24T01:47:53.129048Z",
     "start_time": "2023-11-24T01:47:53.121162Z"
    }
   },
   "outputs": [
    {
     "data": {
      "text/plain": [
       "['Life', 'is', 'too', 'short']"
      ]
     },
     "execution_count": 63,
     "metadata": {},
     "output_type": "execute_result"
    }
   ],
   "source": [
    "a1 = a.split()\n",
    "a1 # 리스트로 반환"
   ]
  },
  {
   "cell_type": "code",
   "execution_count": 65,
   "id": "7804b6e5",
   "metadata": {
    "ExecuteTime": {
     "end_time": "2023-11-24T01:48:59.013010Z",
     "start_time": "2023-11-24T01:48:59.005201Z"
    }
   },
   "outputs": [
    {
     "data": {
      "text/plain": [
       "'Life is too short'"
      ]
     },
     "execution_count": 65,
     "metadata": {},
     "output_type": "execute_result"
    }
   ],
   "source": [
    "# 다시 합치기\n",
    "' '.join(a1)"
   ]
  },
  {
   "cell_type": "markdown",
   "id": "9276fccc",
   "metadata": {},
   "source": [
    "# 리스트"
   ]
  },
  {
   "cell_type": "code",
   "execution_count": 67,
   "id": "5cfd7930",
   "metadata": {
    "ExecuteTime": {
     "end_time": "2023-11-24T02:02:39.112296Z",
     "start_time": "2023-11-24T02:02:39.104482Z"
    }
   },
   "outputs": [
    {
     "data": {
      "text/plain": [
       "([1, 3, 5, 7, 9], list)"
      ]
     },
     "execution_count": 67,
     "metadata": {},
     "output_type": "execute_result"
    }
   ],
   "source": [
    "odd = [1, 3, 5, 7, 9]\n",
    "odd, type(odd)"
   ]
  },
  {
   "cell_type": "code",
   "execution_count": 69,
   "id": "635d69c3",
   "metadata": {
    "ExecuteTime": {
     "end_time": "2023-11-24T02:05:53.086620Z",
     "start_time": "2023-11-24T02:05:53.077756Z"
    }
   },
   "outputs": [
    {
     "name": "stdout",
     "output_type": "stream",
     "text": [
      "[] [1, 2, 3] ['Life', 'is', 'too', 'short'] [1, 2, 'too', 'short'] [1, 2, ['Life', 'is']]\n"
     ]
    }
   ],
   "source": [
    "a = []\n",
    "b = [1, 2, 3]\n",
    "c = ['Life', 'is', 'too', 'short']\n",
    "d = [1, 2, 'too', 'short']\n",
    "e = [1, 2, ['Life', 'is']]\n",
    "print(a, b, c, d, e)"
   ]
  },
  {
   "cell_type": "code",
   "execution_count": 70,
   "id": "97f84fc0",
   "metadata": {
    "ExecuteTime": {
     "end_time": "2023-11-24T02:06:04.087252Z",
     "start_time": "2023-11-24T02:06:04.079244Z"
    }
   },
   "outputs": [
    {
     "data": {
      "text/plain": [
       "(4, 3)"
      ]
     },
     "execution_count": 70,
     "metadata": {},
     "output_type": "execute_result"
    }
   ],
   "source": [
    "len(d), len(e) # e의 경우, 리스트를 하나의 요소로 봄"
   ]
  },
  {
   "cell_type": "markdown",
   "id": "eb27d5a0",
   "metadata": {},
   "source": [
    "## 인덱싱과 슬라이싱"
   ]
  },
  {
   "cell_type": "code",
   "execution_count": 71,
   "id": "b8670499",
   "metadata": {
    "ExecuteTime": {
     "end_time": "2023-11-24T02:07:14.665295Z",
     "start_time": "2023-11-24T02:07:14.655265Z"
    }
   },
   "outputs": [
    {
     "data": {
      "text/plain": [
       "1"
      ]
     },
     "execution_count": 71,
     "metadata": {},
     "output_type": "execute_result"
    }
   ],
   "source": [
    "a = [1, 2, 3]\n",
    "a[0]"
   ]
  },
  {
   "cell_type": "code",
   "execution_count": 72,
   "id": "af33f304",
   "metadata": {
    "ExecuteTime": {
     "end_time": "2023-11-24T02:07:39.136285Z",
     "start_time": "2023-11-24T02:07:39.127728Z"
    }
   },
   "outputs": [
    {
     "data": {
      "text/plain": [
       "int"
      ]
     },
     "execution_count": 72,
     "metadata": {},
     "output_type": "execute_result"
    }
   ],
   "source": [
    "type(a[0])"
   ]
  },
  {
   "cell_type": "code",
   "execution_count": 73,
   "id": "c3473e5d",
   "metadata": {
    "ExecuteTime": {
     "end_time": "2023-11-24T02:07:47.243407Z",
     "start_time": "2023-11-24T02:07:47.236952Z"
    }
   },
   "outputs": [
    {
     "data": {
      "text/plain": [
       "3"
      ]
     },
     "execution_count": 73,
     "metadata": {},
     "output_type": "execute_result"
    }
   ],
   "source": [
    "a[0] * a[2]"
   ]
  },
  {
   "cell_type": "code",
   "execution_count": 74,
   "id": "aa728003",
   "metadata": {
    "ExecuteTime": {
     "end_time": "2023-11-24T02:08:42.415645Z",
     "start_time": "2023-11-24T02:08:42.408766Z"
    }
   },
   "outputs": [],
   "source": [
    "b = [1, 2, 3, ['a', 'b', 'c']]"
   ]
  },
  {
   "cell_type": "code",
   "execution_count": 75,
   "id": "67f1795c",
   "metadata": {
    "ExecuteTime": {
     "end_time": "2023-11-24T02:08:48.304240Z",
     "start_time": "2023-11-24T02:08:48.296772Z"
    }
   },
   "outputs": [
    {
     "data": {
      "text/plain": [
       "(['a', 'b', 'c'], ['a', 'b', 'c'])"
      ]
     },
     "execution_count": 75,
     "metadata": {},
     "output_type": "execute_result"
    }
   ],
   "source": [
    "b[-1], b[3]"
   ]
  },
  {
   "cell_type": "code",
   "execution_count": 76,
   "id": "7e87c552",
   "metadata": {
    "ExecuteTime": {
     "end_time": "2023-11-24T02:09:05.245463Z",
     "start_time": "2023-11-24T02:09:05.236405Z"
    }
   },
   "outputs": [
    {
     "data": {
      "text/plain": [
       "'a'"
      ]
     },
     "execution_count": 76,
     "metadata": {},
     "output_type": "execute_result"
    }
   ],
   "source": [
    "b[3][0]"
   ]
  },
  {
   "cell_type": "code",
   "execution_count": 78,
   "id": "6d3abf2b",
   "metadata": {
    "ExecuteTime": {
     "end_time": "2023-11-24T02:10:13.701364Z",
     "start_time": "2023-11-24T02:10:13.692293Z"
    }
   },
   "outputs": [
    {
     "data": {
      "text/plain": [
       "[1, 2, ['a', 'b', ['Life', 'is']]]"
      ]
     },
     "execution_count": 78,
     "metadata": {},
     "output_type": "execute_result"
    }
   ],
   "source": [
    "c = [1, 2, ['a', 'b', ['Life', 'is']]]\n",
    "c"
   ]
  },
  {
   "cell_type": "code",
   "execution_count": 80,
   "id": "0ce8b55a",
   "metadata": {
    "ExecuteTime": {
     "end_time": "2023-11-24T02:10:34.220293Z",
     "start_time": "2023-11-24T02:10:34.212021Z"
    }
   },
   "outputs": [
    {
     "data": {
      "text/plain": [
       "'Life'"
      ]
     },
     "execution_count": 80,
     "metadata": {},
     "output_type": "execute_result"
    }
   ],
   "source": [
    "c[2][2][0]"
   ]
  },
  {
   "cell_type": "code",
   "execution_count": 83,
   "id": "6f22667e",
   "metadata": {
    "ExecuteTime": {
     "end_time": "2023-11-24T02:21:58.187231Z",
     "start_time": "2023-11-24T02:21:58.178889Z"
    }
   },
   "outputs": [
    {
     "data": {
      "text/plain": [
       "[1, 2]"
      ]
     },
     "execution_count": 83,
     "metadata": {},
     "output_type": "execute_result"
    }
   ],
   "source": [
    "a = [1, 2, 3, 4, 5]\n",
    "a[0:2]"
   ]
  },
  {
   "cell_type": "code",
   "execution_count": 86,
   "id": "3a3f624f",
   "metadata": {
    "ExecuteTime": {
     "end_time": "2023-11-24T02:22:48.872463Z",
     "start_time": "2023-11-24T02:22:48.864024Z"
    }
   },
   "outputs": [
    {
     "name": "stdout",
     "output_type": "stream",
     "text": [
      "[1, 2] [3, 4, 5]\n",
      "[1, 2, 3, 4, 5]\n"
     ]
    }
   ],
   "source": [
    "a = [1, 2, 3, 4, 5]\n",
    "b = a[:2]\n",
    "c = a[2:]\n",
    "print(b, c)\n",
    "print(b + c)"
   ]
  },
  {
   "cell_type": "code",
   "execution_count": 87,
   "id": "57109988",
   "metadata": {
    "ExecuteTime": {
     "end_time": "2023-11-24T02:23:12.611782Z",
     "start_time": "2023-11-24T02:23:12.604841Z"
    }
   },
   "outputs": [
    {
     "data": {
      "text/plain": [
       "[3, ['a', 'b', 'c'], 4]"
      ]
     },
     "execution_count": 87,
     "metadata": {},
     "output_type": "execute_result"
    }
   ],
   "source": [
    "a = [1, 2, 3, ['a','b','c'], 4, 5]\n",
    "a[2:5]"
   ]
  },
  {
   "cell_type": "code",
   "execution_count": 88,
   "id": "d4331628",
   "metadata": {
    "ExecuteTime": {
     "end_time": "2023-11-24T02:23:42.806795Z",
     "start_time": "2023-11-24T02:23:42.800012Z"
    }
   },
   "outputs": [
    {
     "data": {
      "text/plain": [
       "['a', 'b']"
      ]
     },
     "execution_count": 88,
     "metadata": {},
     "output_type": "execute_result"
    }
   ],
   "source": [
    "a[3][:2]"
   ]
  },
  {
   "cell_type": "code",
   "execution_count": 89,
   "id": "22770f44",
   "metadata": {
    "ExecuteTime": {
     "end_time": "2023-11-24T02:24:26.896607Z",
     "start_time": "2023-11-24T02:24:26.890942Z"
    }
   },
   "outputs": [],
   "source": [
    "# 리스트 여난하기\n",
    "a = [1, 2, 3]\n",
    "b = [4, 5, 6]"
   ]
  },
  {
   "cell_type": "code",
   "execution_count": 90,
   "id": "9f8bf6ea",
   "metadata": {
    "ExecuteTime": {
     "end_time": "2023-11-24T02:24:59.986539Z",
     "start_time": "2023-11-24T02:24:59.978861Z"
    }
   },
   "outputs": [
    {
     "data": {
      "text/plain": [
       "[1, 2, 3, 1, 2, 3, 1, 2, 3]"
      ]
     },
     "execution_count": 90,
     "metadata": {},
     "output_type": "execute_result"
    }
   ],
   "source": [
    "# 리스트 반복하기\n",
    "a * 3"
   ]
  },
  {
   "cell_type": "code",
   "execution_count": 91,
   "id": "3e6f494e",
   "metadata": {
    "ExecuteTime": {
     "end_time": "2023-11-24T02:25:11.564115Z",
     "start_time": "2023-11-24T02:25:11.555377Z"
    }
   },
   "outputs": [
    {
     "data": {
      "text/plain": [
       "3"
      ]
     },
     "execution_count": 91,
     "metadata": {},
     "output_type": "execute_result"
    }
   ],
   "source": [
    "# 리스트 길이\n",
    "len(a)"
   ]
  },
  {
   "cell_type": "markdown",
   "id": "8dfeeeb9",
   "metadata": {},
   "source": [
    "## 리스트의 수정과 삭제"
   ]
  },
  {
   "cell_type": "code",
   "execution_count": 92,
   "id": "351175fa",
   "metadata": {
    "ExecuteTime": {
     "end_time": "2023-11-24T02:26:09.055804Z",
     "start_time": "2023-11-24T02:26:09.047171Z"
    }
   },
   "outputs": [
    {
     "data": {
      "text/plain": [
       "[1, 2, 4]"
      ]
     },
     "execution_count": 92,
     "metadata": {},
     "output_type": "execute_result"
    }
   ],
   "source": [
    "a = [1, 2, 3]\n",
    "a[2] = 4\n",
    "a"
   ]
  },
  {
   "cell_type": "code",
   "execution_count": 93,
   "id": "5ca9aad9",
   "metadata": {
    "ExecuteTime": {
     "end_time": "2023-11-24T02:26:33.579313Z",
     "start_time": "2023-11-24T02:26:33.570473Z"
    }
   },
   "outputs": [
    {
     "data": {
      "text/plain": [
       "[1, 3]"
      ]
     },
     "execution_count": 93,
     "metadata": {},
     "output_type": "execute_result"
    }
   ],
   "source": [
    "# del 함수\n",
    "a = [1, 2, 3]\n",
    "del a[1]\n",
    "a"
   ]
  },
  {
   "cell_type": "code",
   "execution_count": 95,
   "id": "39168ad7",
   "metadata": {
    "ExecuteTime": {
     "end_time": "2023-11-24T02:26:58.479237Z",
     "start_time": "2023-11-24T02:26:58.471707Z"
    }
   },
   "outputs": [
    {
     "data": {
      "text/plain": [
       "[1, 2]"
      ]
     },
     "execution_count": 95,
     "metadata": {},
     "output_type": "execute_result"
    }
   ],
   "source": [
    "a = [1, 2, 3, 4, 5]\n",
    "del a[2:]\n",
    "a"
   ]
  },
  {
   "cell_type": "markdown",
   "id": "a0717066",
   "metadata": {},
   "source": [
    "## 리스트 관련 함수\n",
    "* 요소 추가 (append)"
   ]
  },
  {
   "cell_type": "code",
   "execution_count": 99,
   "id": "f2657859",
   "metadata": {
    "ExecuteTime": {
     "end_time": "2023-11-24T02:29:01.806583Z",
     "start_time": "2023-11-24T02:29:01.796958Z"
    }
   },
   "outputs": [
    {
     "data": {
      "text/plain": [
       "[1, 2, 3, 4]"
      ]
     },
     "execution_count": 99,
     "metadata": {},
     "output_type": "execute_result"
    }
   ],
   "source": [
    "a = [1, 2, 3]\n",
    "a.append(4)\n",
    "a"
   ]
  },
  {
   "cell_type": "code",
   "execution_count": 100,
   "id": "775d65c3",
   "metadata": {
    "ExecuteTime": {
     "end_time": "2023-11-24T02:29:31.762286Z",
     "start_time": "2023-11-24T02:29:31.752631Z"
    }
   },
   "outputs": [
    {
     "data": {
      "text/plain": [
       "[1, 2, 3, 4, [5, 6]]"
      ]
     },
     "execution_count": 100,
     "metadata": {},
     "output_type": "execute_result"
    }
   ],
   "source": [
    "a.append([5, 6])\n",
    "a"
   ]
  },
  {
   "cell_type": "markdown",
   "id": "a6cdd9ab",
   "metadata": {},
   "source": [
    "## 정렬 (sort)"
   ]
  },
  {
   "cell_type": "code",
   "execution_count": 101,
   "id": "a6b0d837",
   "metadata": {
    "ExecuteTime": {
     "end_time": "2023-11-24T02:30:03.133160Z",
     "start_time": "2023-11-24T02:30:03.124653Z"
    }
   },
   "outputs": [
    {
     "data": {
      "text/plain": [
       "[1, 2, 3, 4]"
      ]
     },
     "execution_count": 101,
     "metadata": {},
     "output_type": "execute_result"
    }
   ],
   "source": [
    "a = [1, 4, 3, 2]\n",
    "a.sort()\n",
    "a"
   ]
  },
  {
   "cell_type": "code",
   "execution_count": 102,
   "id": "4a1eccda",
   "metadata": {
    "ExecuteTime": {
     "end_time": "2023-11-24T02:30:24.477324Z",
     "start_time": "2023-11-24T02:30:24.467762Z"
    }
   },
   "outputs": [
    {
     "data": {
      "text/plain": [
       "['a', 'b', 'c']"
      ]
     },
     "execution_count": 102,
     "metadata": {},
     "output_type": "execute_result"
    }
   ],
   "source": [
    "a = ['a', 'b', 'c']\n",
    "a.sort()\n",
    "a"
   ]
  },
  {
   "cell_type": "markdown",
   "id": "27ebc3c8",
   "metadata": {},
   "source": [
    "## 리스트 뒤집기 (reverse)"
   ]
  },
  {
   "cell_type": "code",
   "execution_count": 104,
   "id": "01a902ac",
   "metadata": {
    "ExecuteTime": {
     "end_time": "2023-11-24T02:31:06.902115Z",
     "start_time": "2023-11-24T02:31:06.894003Z"
    }
   },
   "outputs": [
    {
     "data": {
      "text/plain": [
       "['a', 'b', 'c']"
      ]
     },
     "execution_count": 104,
     "metadata": {},
     "output_type": "execute_result"
    }
   ],
   "source": [
    "a = ['c', 'b', 'a']\n",
    "a.reverse()\n",
    "a"
   ]
  },
  {
   "cell_type": "markdown",
   "id": "db62c529",
   "metadata": {},
   "source": [
    "## 위치 반환 (index)"
   ]
  },
  {
   "cell_type": "code",
   "execution_count": 105,
   "id": "5934b041",
   "metadata": {
    "ExecuteTime": {
     "end_time": "2023-11-24T02:32:00.334531Z",
     "start_time": "2023-11-24T02:32:00.326336Z"
    }
   },
   "outputs": [
    {
     "data": {
      "text/plain": [
       "2"
      ]
     },
     "execution_count": 105,
     "metadata": {},
     "output_type": "execute_result"
    }
   ],
   "source": [
    "a = [1, 2, 3]\n",
    "a.index(3)"
   ]
  },
  {
   "cell_type": "code",
   "execution_count": 106,
   "id": "65198de8",
   "metadata": {
    "ExecuteTime": {
     "end_time": "2023-11-24T02:32:08.395931Z",
     "start_time": "2023-11-24T02:32:08.369000Z"
    }
   },
   "outputs": [
    {
     "ename": "ValueError",
     "evalue": "5 is not in list",
     "output_type": "error",
     "traceback": [
      "\u001b[1;31m---------------------------------------------------------------------------\u001b[0m",
      "\u001b[1;31mValueError\u001b[0m                                Traceback (most recent call last)",
      "Cell \u001b[1;32mIn[106], line 1\u001b[0m\n\u001b[1;32m----> 1\u001b[0m a\u001b[38;5;241m.\u001b[39mindex(\u001b[38;5;241m5\u001b[39m)\n",
      "\u001b[1;31mValueError\u001b[0m: 5 is not in list"
     ]
    }
   ],
   "source": [
    "a.index(5)"
   ]
  },
  {
   "cell_type": "markdown",
   "id": "f77cbdba",
   "metadata": {
    "ExecuteTime": {
     "end_time": "2023-11-24T02:32:34.273501Z",
     "start_time": "2023-11-24T02:32:34.245003Z"
    }
   },
   "source": [
    "## 요소 삽입 (insert)"
   ]
  },
  {
   "cell_type": "code",
   "execution_count": 109,
   "id": "3df34085",
   "metadata": {
    "ExecuteTime": {
     "end_time": "2023-11-24T02:35:48.197857Z",
     "start_time": "2023-11-24T02:35:48.190075Z"
    }
   },
   "outputs": [
    {
     "data": {
      "text/plain": [
       "[4, 1, 2, 3]"
      ]
     },
     "execution_count": 109,
     "metadata": {},
     "output_type": "execute_result"
    }
   ],
   "source": [
    "a = [1, 2, 3]\n",
    "a.insert(0, 4)\n",
    "a"
   ]
  },
  {
   "cell_type": "code",
   "execution_count": 112,
   "id": "4ad222b3",
   "metadata": {
    "ExecuteTime": {
     "end_time": "2023-11-24T02:36:49.252485Z",
     "start_time": "2023-11-24T02:36:49.244336Z"
    }
   },
   "outputs": [
    {
     "data": {
      "text/plain": [
       "[4, 1, 2, 5, 5, 3]"
      ]
     },
     "execution_count": 112,
     "metadata": {},
     "output_type": "execute_result"
    }
   ],
   "source": [
    "a.insert(3, 5)\n",
    "a"
   ]
  },
  {
   "cell_type": "markdown",
   "id": "0636d995",
   "metadata": {},
   "source": [
    "## 요소 제거 (remove)"
   ]
  },
  {
   "cell_type": "code",
   "execution_count": 113,
   "id": "9e47932b",
   "metadata": {
    "ExecuteTime": {
     "end_time": "2023-11-24T02:37:33.241912Z",
     "start_time": "2023-11-24T02:37:33.232088Z"
    }
   },
   "outputs": [
    {
     "data": {
      "text/plain": [
       "[2, 3, 1, 2, 3]"
      ]
     },
     "execution_count": 113,
     "metadata": {},
     "output_type": "execute_result"
    }
   ],
   "source": [
    "a = [1, 2, 3, 1, 2, 3]\n",
    "a.remove(1)\n",
    "a"
   ]
  },
  {
   "cell_type": "markdown",
   "id": "6c140b48",
   "metadata": {},
   "source": [
    "## 요수 추출 (pop)"
   ]
  },
  {
   "cell_type": "code",
   "execution_count": 114,
   "id": "84ec8631",
   "metadata": {
    "ExecuteTime": {
     "end_time": "2023-11-24T02:38:35.156954Z",
     "start_time": "2023-11-24T02:38:35.147945Z"
    }
   },
   "outputs": [
    {
     "data": {
      "text/plain": [
       "[1, 2]"
      ]
     },
     "execution_count": 114,
     "metadata": {},
     "output_type": "execute_result"
    }
   ],
   "source": [
    "a = [1, 2, 3]\n",
    "a.pop()\n",
    "a"
   ]
  },
  {
   "cell_type": "code",
   "execution_count": 117,
   "id": "51ef2039",
   "metadata": {
    "ExecuteTime": {
     "end_time": "2023-11-24T02:39:39.398692Z",
     "start_time": "2023-11-24T02:39:39.390920Z"
    }
   },
   "outputs": [
    {
     "data": {
      "text/plain": [
       "2"
      ]
     },
     "execution_count": 117,
     "metadata": {},
     "output_type": "execute_result"
    }
   ],
   "source": [
    "a = [1, 2, 3]\n",
    "a.pop(1)"
   ]
  },
  {
   "cell_type": "markdown",
   "id": "2284acca",
   "metadata": {},
   "source": [
    "## 리스트 확장 (extend)"
   ]
  },
  {
   "cell_type": "code",
   "execution_count": 118,
   "id": "fb5563a6",
   "metadata": {
    "ExecuteTime": {
     "end_time": "2023-11-24T02:41:42.877322Z",
     "start_time": "2023-11-24T02:41:42.867634Z"
    }
   },
   "outputs": [
    {
     "data": {
      "text/plain": [
       "[1, 2, 3, 4, 5]"
      ]
     },
     "execution_count": 118,
     "metadata": {},
     "output_type": "execute_result"
    }
   ],
   "source": [
    "a = [1, 2, 3]\n",
    "a.extend([4, 5])\n",
    "a"
   ]
  },
  {
   "cell_type": "code",
   "execution_count": 120,
   "id": "3fab489f",
   "metadata": {
    "ExecuteTime": {
     "end_time": "2023-11-24T02:42:06.762208Z",
     "start_time": "2023-11-24T02:42:06.757786Z"
    }
   },
   "outputs": [],
   "source": [
    "b = [6, 7]\n",
    "a.extend(b)"
   ]
  },
  {
   "cell_type": "code",
   "execution_count": 121,
   "id": "7c15fae7",
   "metadata": {
    "ExecuteTime": {
     "end_time": "2023-11-24T02:42:19.369013Z",
     "start_time": "2023-11-24T02:42:19.362155Z"
    }
   },
   "outputs": [
    {
     "data": {
      "text/plain": [
       "[1, 2, 3, 4, 5, 6, 7, 4, 5]"
      ]
     },
     "execution_count": 121,
     "metadata": {},
     "output_type": "execute_result"
    }
   ],
   "source": [
    "a += [4, 5]\n",
    "a"
   ]
  },
  {
   "cell_type": "markdown",
   "id": "e9eed453",
   "metadata": {},
   "source": [
    "# 튜플"
   ]
  },
  {
   "cell_type": "code",
   "execution_count": 122,
   "id": "15e1281d",
   "metadata": {
    "ExecuteTime": {
     "end_time": "2023-11-24T02:46:56.518258Z",
     "start_time": "2023-11-24T02:46:56.508097Z"
    }
   },
   "outputs": [
    {
     "name": "stdout",
     "output_type": "stream",
     "text": [
      "() (1,) (1, 2, 3) (1, 2, 3) ('a', 'b', ('ab', 'cd'))\n",
      "<class 'tuple'> <class 'tuple'> <class 'tuple'> <class 'tuple'> <class 'tuple'>\n"
     ]
    }
   ],
   "source": [
    "t1 = () # 빈 객체만 만들어짐\n",
    "t2 = (1, )\n",
    "t3 = (1, 2, 3)\n",
    "t4 = 1, 2, 3\n",
    "t5 = ('a', 'b', ('ab', 'cd'))\n",
    "print(t1, t2, t3, t4, t5)\n",
    "print(type(t1), type(t2), type(t3), type(t4),type(t5))"
   ]
  },
  {
   "cell_type": "code",
   "execution_count": 123,
   "id": "a9e40ab3",
   "metadata": {
    "ExecuteTime": {
     "end_time": "2023-11-24T02:47:55.387089Z",
     "start_time": "2023-11-24T02:47:55.379141Z"
    }
   },
   "outputs": [
    {
     "data": {
      "text/plain": [
       "1"
      ]
     },
     "execution_count": 123,
     "metadata": {},
     "output_type": "execute_result"
    }
   ],
   "source": [
    "t6 = (1)\n",
    "t6"
   ]
  },
  {
   "cell_type": "code",
   "execution_count": 124,
   "id": "a2ea2f90",
   "metadata": {
    "ExecuteTime": {
     "end_time": "2023-11-24T02:48:03.925116Z",
     "start_time": "2023-11-24T02:48:03.920594Z"
    }
   },
   "outputs": [
    {
     "name": "stdout",
     "output_type": "stream",
     "text": [
      "1 <class 'int'>\n"
     ]
    }
   ],
   "source": [
    "print(t6, type(t6))"
   ]
  },
  {
   "cell_type": "code",
   "execution_count": 126,
   "id": "30cb1830",
   "metadata": {
    "ExecuteTime": {
     "end_time": "2023-11-24T02:49:21.677503Z",
     "start_time": "2023-11-24T02:49:21.639367Z"
    }
   },
   "outputs": [
    {
     "ename": "TypeError",
     "evalue": "'tuple' object doesn't support item deletion",
     "output_type": "error",
     "traceback": [
      "\u001b[1;31m---------------------------------------------------------------------------\u001b[0m",
      "\u001b[1;31mTypeError\u001b[0m                                 Traceback (most recent call last)",
      "Cell \u001b[1;32mIn[126], line 2\u001b[0m\n\u001b[0;32m      1\u001b[0m t1 \u001b[38;5;241m=\u001b[39m (\u001b[38;5;241m1\u001b[39m, \u001b[38;5;241m2\u001b[39m, \u001b[38;5;124m'\u001b[39m\u001b[38;5;124ma\u001b[39m\u001b[38;5;124m'\u001b[39m, \u001b[38;5;124m'\u001b[39m\u001b[38;5;124mb\u001b[39m\u001b[38;5;124m'\u001b[39m)\n\u001b[1;32m----> 2\u001b[0m \u001b[38;5;28;01mdel\u001b[39;00m t1[\u001b[38;5;241m0\u001b[39m]\n",
      "\u001b[1;31mTypeError\u001b[0m: 'tuple' object doesn't support item deletion"
     ]
    }
   ],
   "source": [
    "t1 = (1, 2, 'a', 'b')\n",
    "del t1[0] # tuple은 immutable 객체"
   ]
  },
  {
   "cell_type": "code",
   "execution_count": null,
   "id": "7d2f34c6",
   "metadata": {
    "ExecuteTime": {
     "end_time": "2023-11-24T02:50:20.653201Z",
     "start_time": "2023-11-24T02:50:20.622263Z"
    }
   },
   "outputs": [],
   "source": []
  },
  {
   "cell_type": "code",
   "execution_count": null,
   "id": "fb6dbc46",
   "metadata": {},
   "outputs": [],
   "source": []
  }
 ],
 "metadata": {
  "kernelspec": {
   "display_name": "Python 3 (ipykernel)",
   "language": "python",
   "name": "python3"
  },
  "language_info": {
   "codemirror_mode": {
    "name": "ipython",
    "version": 3
   },
   "file_extension": ".py",
   "mimetype": "text/x-python",
   "name": "python",
   "nbconvert_exporter": "python",
   "pygments_lexer": "ipython3",
   "version": "3.11.5"
  },
  "toc": {
   "base_numbering": 1,
   "nav_menu": {},
   "number_sections": true,
   "sideBar": true,
   "skip_h1_title": false,
   "title_cell": "Table of Contents",
   "title_sidebar": "Contents",
   "toc_cell": false,
   "toc_position": {
    "height": "calc(100% - 180px)",
    "left": "10px",
    "top": "150px",
    "width": "196.4px"
   },
   "toc_section_display": true,
   "toc_window_display": true
  }
 },
 "nbformat": 4,
 "nbformat_minor": 5
}
