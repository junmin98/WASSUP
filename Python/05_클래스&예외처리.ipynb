{
 "cells": [
  {
   "cell_type": "markdown",
   "id": "01df761e",
   "metadata": {},
   "source": [
    "# 클래스"
   ]
  },
  {
   "cell_type": "markdown",
   "id": "12d49d31",
   "metadata": {},
   "source": [
    "## 클래스는 왜 필요한가?"
   ]
  },
  {
   "cell_type": "code",
   "execution_count": 1,
   "id": "c1d6628f",
   "metadata": {
    "ExecuteTime": {
     "end_time": "2023-12-04T05:47:55.637048Z",
     "start_time": "2023-12-04T05:47:55.622890Z"
    }
   },
   "outputs": [
    {
     "name": "stdout",
     "output_type": "stream",
     "text": [
      "3\n",
      "7\n"
     ]
    }
   ],
   "source": [
    "res = 0\n",
    "def add(num):\n",
    "    global res # 이전 계산 결과 값에 더해주기위해서\n",
    "    res += num\n",
    "    return res\n",
    "\n",
    "print(add(3))\n",
    "print(add(4))"
   ]
  },
  {
   "cell_type": "code",
   "execution_count": 2,
   "id": "708a5202",
   "metadata": {
    "ExecuteTime": {
     "end_time": "2023-12-04T05:51:15.490711Z",
     "start_time": "2023-12-04T05:51:15.481671Z"
    }
   },
   "outputs": [
    {
     "name": "stdout",
     "output_type": "stream",
     "text": [
      "3\n",
      "7\n",
      "3\n",
      "10\n"
     ]
    }
   ],
   "source": [
    "# 두 대의 계산기가 필요한 경우\n",
    "res1 = 0\n",
    "res2 = 0\n",
    "\n",
    "def add1(num):\n",
    "    global res1\n",
    "    res1 += num\n",
    "    return res1\n",
    "\n",
    "def add2(num):\n",
    "    global res2\n",
    "    res2 += num\n",
    "    return res2\n",
    "\n",
    "print(add1(3))\n",
    "print(add1(4))\n",
    "print(add2(3))\n",
    "print(add2(7))"
   ]
  },
  {
   "cell_type": "code",
   "execution_count": 5,
   "id": "87aa4464",
   "metadata": {
    "ExecuteTime": {
     "end_time": "2023-12-04T05:54:18.513258Z",
     "start_time": "2023-12-04T05:54:18.506546Z"
    }
   },
   "outputs": [
    {
     "name": "stdout",
     "output_type": "stream",
     "text": [
      "3\n",
      "7\n",
      "3\n",
      "10\n"
     ]
    }
   ],
   "source": [
    "# 계산기 클래스 예시\n",
    "class Calculator: # 항상 대문자여야 함! 변수와 구분을 지어주는 것\n",
    "    def __init__(self):\n",
    "        self.res = 0\n",
    "    def add(self, num):\n",
    "        self.res += num\n",
    "        return self.res\n",
    "    def sub(self, num):\n",
    "        self.res -= num\n",
    "        return self.res\n",
    "    \n",
    "cal1 = Calculator()\n",
    "cal2 = Calculator()\n",
    "\n",
    "print(cal1.add(3))\n",
    "print(cal1.add(4))\n",
    "print(cal2.add(3))\n",
    "print(cal2.add(7))"
   ]
  },
  {
   "cell_type": "markdown",
   "id": "b4109859",
   "metadata": {},
   "source": [
    "**객체와 인스턴스 차이**   \n",
    "'인스턴스' = 클래스로 만든 객체\n",
    "a = Cookie() \n",
    "\n",
    "a = 객체\n",
    "a 객체는 Cookie의 인스턴스이다. \n",
    "\n",
    "인스턴스 = 특정 객체(a)가 어떤 클래스 (Cookie)의 객체인지를 관계 위주로 설명할 때 사용. \n",
    "\n",
    "'a는 객체' / 'a는 Cookie의 인스턴스'"
   ]
  },
  {
   "cell_type": "markdown",
   "id": "8528069f",
   "metadata": {},
   "source": [
    "## 클래스와 객체\n",
    "- 클래스 = 틀\n",
    "- 객체 = 클래스로 찍어낸 것들 -> 각 개체마다 고유한 성격을 가짐\n",
    "- 추상화: 객체 -> 클래스"
   ]
  },
  {
   "cell_type": "markdown",
   "id": "0570bd49",
   "metadata": {},
   "source": [
    "## 사칙 연산 클래스 만들기"
   ]
  },
  {
   "cell_type": "markdown",
   "id": "32d4e692",
   "metadata": {},
   "source": [
    "### 구상하기\n",
    "a = FourCal()   \n",
    "a.setdata(4, 2)   \n",
    "a.add()   \n",
    "a.mul()   \n",
    "a.sub()   \n",
    "a.div()   "
   ]
  },
  {
   "cell_type": "markdown",
   "id": "77a15045",
   "metadata": {},
   "source": [
    "### 클래스 구조 만들기"
   ]
  },
  {
   "cell_type": "code",
   "execution_count": 6,
   "id": "569f6dec",
   "metadata": {
    "ExecuteTime": {
     "end_time": "2023-12-04T06:15:39.276206Z",
     "start_time": "2023-12-04T06:15:39.269494Z"
    }
   },
   "outputs": [],
   "source": [
    "# 클래스 구조 만들기\n",
    "class FourCal:\n",
    "    pass"
   ]
  },
  {
   "cell_type": "code",
   "execution_count": 7,
   "id": "661601a2",
   "metadata": {
    "ExecuteTime": {
     "end_time": "2023-12-04T06:15:45.174550Z",
     "start_time": "2023-12-04T06:15:45.165972Z"
    }
   },
   "outputs": [
    {
     "data": {
      "text/plain": [
       "__main__.FourCal"
      ]
     },
     "execution_count": 7,
     "metadata": {},
     "output_type": "execute_result"
    }
   ],
   "source": [
    "a = FourCal()\n",
    "type(a)"
   ]
  },
  {
   "cell_type": "markdown",
   "id": "77fa1227",
   "metadata": {},
   "source": [
    "### 객체 연산할 숫자 지정하기\n",
    "- Method: 클래스 안에 구현된 함수"
   ]
  },
  {
   "cell_type": "code",
   "execution_count": 8,
   "id": "db44d37e",
   "metadata": {
    "ExecuteTime": {
     "end_time": "2023-12-04T06:16:02.723632Z",
     "start_time": "2023-12-04T06:16:02.463706Z"
    }
   },
   "outputs": [
    {
     "ename": "AttributeError",
     "evalue": "'FourCal' object has no attribute 'setdata'",
     "output_type": "error",
     "traceback": [
      "\u001b[0;31m---------------------------------------------------------------------------\u001b[0m",
      "\u001b[0;31mAttributeError\u001b[0m                            Traceback (most recent call last)",
      "Cell \u001b[0;32mIn[8], line 2\u001b[0m\n\u001b[1;32m      1\u001b[0m \u001b[38;5;66;03m# 객체 연산할 춧자 지정하기\u001b[39;00m\n\u001b[0;32m----> 2\u001b[0m a\u001b[38;5;241m.\u001b[39msetdata()\n",
      "\u001b[0;31mAttributeError\u001b[0m: 'FourCal' object has no attribute 'setdata'"
     ]
    }
   ],
   "source": [
    "# 객체 연산할 춧자 지정하기\n",
    "a.setdata() # -> 우리가 기능 (method) 을 만들어줘야 함"
   ]
  },
  {
   "cell_type": "code",
   "execution_count": 9,
   "id": "94cd21d1",
   "metadata": {
    "ExecuteTime": {
     "end_time": "2023-12-04T06:19:28.088131Z",
     "start_time": "2023-12-04T06:19:28.082070Z"
    }
   },
   "outputs": [],
   "source": [
    "class FourCal:\n",
    "    def setdata(self, first, second): # 메서드의 매개 변수\n",
    "        self.first = first\n",
    "        self.second = second\n",
    "        "
   ]
  },
  {
   "cell_type": "code",
   "execution_count": 10,
   "id": "e5fcf2ee",
   "metadata": {
    "ExecuteTime": {
     "end_time": "2023-12-04T06:19:38.674498Z",
     "start_time": "2023-12-04T06:19:38.671157Z"
    }
   },
   "outputs": [],
   "source": [
    "a = FourCal()\n",
    "a.setdata(4, 2)"
   ]
  },
  {
   "attachments": {
    "image.png": {
     "image/png": "[encoded data removed]"
    }
   },
   "cell_type": "markdown",
   "id": "51a19db5",
   "metadata": {},
   "source": [
    "### self\n",
    "- self에는 setdata 메서드를 호출한 객체 a가 자동으로 전달. \n",
    "- 클래스의 어떤 인스턴스가 메서드를 호출했는지도 알아야하기 때문에\n",
    "![image.png](attachment:image.png)"
   ]
  },
  {
   "cell_type": "code",
   "execution_count": 11,
   "id": "5a15ff38",
   "metadata": {
    "ExecuteTime": {
     "end_time": "2023-12-04T06:21:09.310375Z",
     "start_time": "2023-12-04T06:21:09.304766Z"
    }
   },
   "outputs": [
    {
     "name": "stdout",
     "output_type": "stream",
     "text": [
      "4 2\n"
     ]
    }
   ],
   "source": [
    "print(a.first, a.second) # '객체변수' or '속성'"
   ]
  },
  {
   "cell_type": "code",
   "execution_count": 12,
   "id": "3241a7ac",
   "metadata": {
    "ExecuteTime": {
     "end_time": "2023-12-04T06:26:01.249048Z",
     "start_time": "2023-12-04T06:26:01.241147Z"
    }
   },
   "outputs": [
    {
     "name": "stdout",
     "output_type": "stream",
     "text": [
      "4 2\n",
      "3 7\n"
     ]
    }
   ],
   "source": [
    "a = FourCal()\n",
    "b = FourCal()\n",
    "a.setdata(4, 2)\n",
    "print(a.first, a.second)\n",
    "b.setdata(3, 7)\n",
    "print(b.first, b.second)"
   ]
  },
  {
   "cell_type": "markdown",
   "id": "9bbb977b",
   "metadata": {},
   "source": [
    "### 더하기 기능 만들기"
   ]
  },
  {
   "cell_type": "code",
   "execution_count": 13,
   "id": "038e2855",
   "metadata": {
    "ExecuteTime": {
     "end_time": "2023-12-04T06:30:49.025817Z",
     "start_time": "2023-12-04T06:30:49.016354Z"
    }
   },
   "outputs": [],
   "source": [
    "class FourCal:\n",
    "    def setdata(self, first, second):\n",
    "        self.first = first\n",
    "        self.second = second\n",
    "    def add(self):\n",
    "        res = self.first + self.second\n",
    "        return res"
   ]
  },
  {
   "cell_type": "code",
   "execution_count": 15,
   "id": "8d0eeb55",
   "metadata": {
    "ExecuteTime": {
     "end_time": "2023-12-04T06:31:07.606033Z",
     "start_time": "2023-12-04T06:31:07.599542Z"
    }
   },
   "outputs": [
    {
     "data": {
      "text/plain": [
       "6"
      ]
     },
     "execution_count": 15,
     "metadata": {},
     "output_type": "execute_result"
    }
   ],
   "source": [
    "a = FourCal()\n",
    "a.setdata(4, 2)\n",
    "a.add()"
   ]
  },
  {
   "cell_type": "markdown",
   "id": "39f68fac",
   "metadata": {},
   "source": [
    "### 곱하기, 빼기, 나누기 기능 만들기"
   ]
  },
  {
   "cell_type": "code",
   "execution_count": 17,
   "id": "72a1c7fe",
   "metadata": {
    "ExecuteTime": {
     "end_time": "2023-12-04T06:34:55.253506Z",
     "start_time": "2023-12-04T06:34:55.245058Z"
    }
   },
   "outputs": [
    {
     "name": "stdout",
     "output_type": "stream",
     "text": [
      "6\n",
      "8\n",
      "2\n",
      "2.0\n",
      "11\n",
      "24\n",
      "-5\n",
      "0.375\n"
     ]
    }
   ],
   "source": [
    "class FourCal:\n",
    "    def setdata(self, first, second):\n",
    "        self.first = first\n",
    "        self.second = second\n",
    "    def add(self):\n",
    "        res = self.first + self.second\n",
    "        return res\n",
    "    def mul(self):\n",
    "        res = self.first * self.second\n",
    "        return res\n",
    "    def sub(self):\n",
    "        res = self.first - self.second\n",
    "        return res\n",
    "    def div(self):\n",
    "        res = self.first / self.second\n",
    "        return res\n",
    "    \n",
    "a = FourCal()\n",
    "b = FourCal()\n",
    "a.setdata(4, 2)\n",
    "b.setdata(3, 8)\n",
    "\n",
    "print(a.add())\n",
    "print(a.mul())\n",
    "print(a.sub())\n",
    "print(a.div())\n",
    "\n",
    "print(b.add())\n",
    "print(b.mul())\n",
    "print(b.sub())\n",
    "print(b.div())\n"
   ]
  },
  {
   "cell_type": "markdown",
   "id": "c4b49e76",
   "metadata": {},
   "source": [
    "## 생성자\n",
    "- 초깃값을 설정하기 위해서, 생성자를 구현한다.\n",
    "- 생성자: 객체가 생성될 때 자동으로 호출되는 메서드."
   ]
  },
  {
   "cell_type": "code",
   "execution_count": 18,
   "id": "ecc807bd",
   "metadata": {
    "ExecuteTime": {
     "end_time": "2023-12-04T06:41:46.588572Z",
     "start_time": "2023-12-04T06:41:46.579423Z"
    }
   },
   "outputs": [],
   "source": [
    "class FourCal:\n",
    "    def __init__(self, first, second):\n",
    "        self.first = first\n",
    "        self.second = second\n",
    "    def add(self):\n",
    "        res = self.first + self.second\n",
    "        return res\n",
    "    def mul(self):\n",
    "        res = self.first * self.second\n",
    "        return res\n",
    "    def sub(self):\n",
    "        res = self.first - self.second\n",
    "        return res\n",
    "    def div(self):\n",
    "        res = self.first / self.second\n",
    "        return res"
   ]
  },
  {
   "cell_type": "code",
   "execution_count": 19,
   "id": "01b915da",
   "metadata": {
    "ExecuteTime": {
     "end_time": "2023-12-04T06:42:21.766342Z",
     "start_time": "2023-12-04T06:42:21.740108Z"
    }
   },
   "outputs": [
    {
     "ename": "TypeError",
     "evalue": "FourCal.__init__() missing 2 required positional arguments: 'first' and 'second'",
     "output_type": "error",
     "traceback": [
      "\u001b[0;31m---------------------------------------------------------------------------\u001b[0m",
      "\u001b[0;31mTypeError\u001b[0m                                 Traceback (most recent call last)",
      "Cell \u001b[0;32mIn[19], line 1\u001b[0m\n\u001b[0;32m----> 1\u001b[0m a \u001b[38;5;241m=\u001b[39m FourCal()\n",
      "\u001b[0;31mTypeError\u001b[0m: FourCal.__init__() missing 2 required positional arguments: 'first' and 'second'"
     ]
    }
   ],
   "source": [
    "a = FourCal() # -> 생성자의 매개변수 first와 second에 값 전달이 안되어서 오류"
   ]
  },
  {
   "cell_type": "code",
   "execution_count": 20,
   "id": "219b52f9",
   "metadata": {
    "ExecuteTime": {
     "end_time": "2023-12-04T06:43:47.849027Z",
     "start_time": "2023-12-04T06:43:47.843017Z"
    }
   },
   "outputs": [
    {
     "name": "stdout",
     "output_type": "stream",
     "text": [
      "4 2\n"
     ]
    }
   ],
   "source": [
    "a = FourCal(4, 2)\n",
    "print(a.first, a.second)"
   ]
  },
  {
   "cell_type": "code",
   "execution_count": 21,
   "id": "b39b5dd5",
   "metadata": {
    "ExecuteTime": {
     "end_time": "2023-12-04T06:44:00.481375Z",
     "start_time": "2023-12-04T06:44:00.477405Z"
    }
   },
   "outputs": [
    {
     "name": "stdout",
     "output_type": "stream",
     "text": [
      "6 2.0\n"
     ]
    }
   ],
   "source": [
    "print(a.add(), a.div())"
   ]
  },
  {
   "cell_type": "markdown",
   "id": "e6509280",
   "metadata": {},
   "source": [
    "### 은행 예금출금 클래스 만들어보자\n",
    "- input : 계좌번호, 계좌소유자명, 잔액\n",
    "- 기능1 : 입금\n",
    "- 기능2 : 출금\n",
    "- 기능3 : 조회"
   ]
  },
  {
   "cell_type": "code",
   "execution_count": 25,
   "id": "2b755e09",
   "metadata": {
    "ExecuteTime": {
     "end_time": "2023-12-04T06:55:20.670821Z",
     "start_time": "2023-12-04T06:55:20.664589Z"
    }
   },
   "outputs": [],
   "source": [
    "class bank_in_out:\n",
    "    company = '한국은행' # 클래스 변수\n",
    "    \n",
    "    def __init__(self, num, name):\n",
    "        self.num = num\n",
    "        self.name = name\n",
    "        self.remain = 0 # 잔액 0으로 초기화\n",
    "        \n",
    "    def in_account(self, money):\n",
    "        self.remain += money\n",
    "        return self.remain\n",
    "    \n",
    "    def out_account(self, money):\n",
    "        self.remain -= money\n",
    "        return self.remain\n",
    "    \n",
    "    def __str__(self):\n",
    "        return f'계좌번호: {self.num}, 계좌소유자: {self.name}, 잔액: {self.remain}'"
   ]
  },
  {
   "cell_type": "code",
   "execution_count": 28,
   "id": "b2636c05",
   "metadata": {
    "ExecuteTime": {
     "end_time": "2023-12-04T06:56:21.212967Z",
     "start_time": "2023-12-04T06:56:21.206817Z"
    }
   },
   "outputs": [
    {
     "name": "stdout",
     "output_type": "stream",
     "text": [
      "계좌번호: 10-282-231, 계좌소유자: 뽀로로, 잔액: 96000\n"
     ]
    }
   ],
   "source": [
    "a = bank_in_out('10-282-231', '뽀로로')\n",
    "a.in_account(1000)\n",
    "a.in_account(100000)\n",
    "a.out_account(5000)\n",
    "print(a)"
   ]
  },
  {
   "cell_type": "code",
   "execution_count": null,
   "id": "6dfcabce",
   "metadata": {},
   "outputs": [],
   "source": []
  }
 ],
 "metadata": {
  "kernelspec": {
   "display_name": "Python 3 (ipykernel)",
   "language": "python",
   "name": "python3"
  },
  "language_info": {
   "codemirror_mode": {
    "name": "ipython",
    "version": 3
   },
   "file_extension": ".py",
   "mimetype": "text/x-python",
   "name": "python",
   "nbconvert_exporter": "python",
   "pygments_lexer": "ipython3",
   "version": "3.11.5"
  },
  "toc": {
   "base_numbering": 1,
   "nav_menu": {},
   "number_sections": true,
   "sideBar": true,
   "skip_h1_title": false,
   "title_cell": "Table of Contents",
   "title_sidebar": "Contents",
   "toc_cell": false,
   "toc_position": {},
   "toc_section_display": true,
   "toc_window_display": false
  }
 },
 "nbformat": 4,
 "nbformat_minor": 5
}
