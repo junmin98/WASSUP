{
 "cells": [
  {
   "cell_type": "code",
   "execution_count": 30,
   "id": "7745a8a8",
   "metadata": {
    "ExecuteTime": {
     "end_time": "2023-12-05T09:06:41.000056Z",
     "start_time": "2023-12-05T09:06:22.567845Z"
    }
   },
   "outputs": [
    {
     "name": "stdout",
     "output_type": "stream",
     "text": [
      "=================\n",
      "답:  python\n",
      "길이:  6\n",
      "=================\n",
      "단어를 입력해주세요: d\n",
      "틀렸습니다!\n",
      "<map object at 0x105ae74f0>\n",
      "남은 목숨: 5\n",
      "단어를 입력해주세요: c\n"
     ]
    }
   ],
   "source": [
    "import random\n",
    "word_list = ['python', 'banana', 'insert', 'jupyter']\n",
    "chosen_word = random.choice(word_list)\n",
    "word_length = len(chosen_word)\n",
    "num_chance = word_length\n",
    "\n",
    "print(\"=================\")\n",
    "print(\"답: \", chosen_word)\n",
    "print(\"길이: \", num_chance)\n",
    "print(\"=================\")\n",
    "\n",
    "\n",
    "guess_word = list('_' * len(word))\n",
    "\n",
    "while num_chance > 0:\n",
    "    a = input(\"단어를 입력해주세요: \")\n",
    "    num_answer = 0 \n",
    "    \n",
    "    if a == 'c':\n",
    "        break\n",
    "    \n",
    "    for index, w in enumerate(chosen_word):\n",
    "        if a == w:\n",
    "            guess_word[index] = a\n",
    "            num_answer += 1\n",
    "            \n",
    "    if num_answer == 0:\n",
    "        num_chance -= 1\n",
    "        print(f\"틀렸습니다!\")\n",
    "        \n",
    "    print(map(str, guess_word))\n",
    "    print(f\"남은 목숨: {num_chance}\")\n",
    "    \n",
    "    if num_chance == 0:\n",
    "        print(\"죽었습니다.\")\n",
    "        break"
   ]
  },
  {
   "cell_type": "code",
   "execution_count": null,
   "id": "6ba7a4aa",
   "metadata": {},
   "outputs": [],
   "source": []
  }
 ],
 "metadata": {
  "kernelspec": {
   "display_name": "Python 3 (ipykernel)",
   "language": "python",
   "name": "python3"
  },
  "language_info": {
   "codemirror_mode": {
    "name": "ipython",
    "version": 3
   },
   "file_extension": ".py",
   "mimetype": "text/x-python",
   "name": "python",
   "nbconvert_exporter": "python",
   "pygments_lexer": "ipython3",
   "version": "3.11.5"
  },
  "toc": {
   "base_numbering": 1,
   "nav_menu": {},
   "number_sections": true,
   "sideBar": true,
   "skip_h1_title": false,
   "title_cell": "Table of Contents",
   "title_sidebar": "Contents",
   "toc_cell": false,
   "toc_position": {},
   "toc_section_display": true,
   "toc_window_display": false
  }
 },
 "nbformat": 4,
 "nbformat_minor": 5
}
