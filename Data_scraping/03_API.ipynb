{
 "cells": [
  {
   "cell_type": "markdown",
   "id": "394b3e48",
   "metadata": {},
   "source": [
    "# API 연동\n",
    "공공데이터포털 오픈API 데이터형은 JSON을 XML로 전달 -> requests와 딕셔너리를 활용하면 됨"
   ]
  },
  {
   "cell_type": "markdown",
   "id": "71e3f7c2",
   "metadata": {},
   "source": [
    "# JSON 활용 연습"
   ]
  },
  {
   "cell_type": "code",
   "execution_count": 1,
   "id": "fcbb1c54",
   "metadata": {
    "ExecuteTime": {
     "end_time": "2023-12-11T04:13:18.819476Z",
     "start_time": "2023-12-11T04:13:17.864035Z"
    }
   },
   "outputs": [],
   "source": [
    "import requests, json, pandas as pd"
   ]
  },
  {
   "cell_type": "code",
   "execution_count": 2,
   "id": "3e8b9c27",
   "metadata": {
    "ExecuteTime": {
     "end_time": "2023-12-11T04:13:39.460979Z",
     "start_time": "2023-12-11T04:13:39.210337Z"
    }
   },
   "outputs": [],
   "source": [
    "URL = 'http://www.krei.re.kr:18181/chart/main_chart/index/kind/W/sdate/2019-01-01/edate/2019-12-31'\n",
    "resp = requests.get(URL)"
   ]
  },
  {
   "cell_type": "code",
   "execution_count": 3,
   "id": "7c9877dd",
   "metadata": {
    "ExecuteTime": {
     "end_time": "2023-12-11T04:13:41.058738Z",
     "start_time": "2023-12-11T04:13:41.053045Z"
    }
   },
   "outputs": [
    {
     "data": {
      "text/plain": [
       "<Response [200]>"
      ]
     },
     "execution_count": 3,
     "metadata": {},
     "output_type": "execute_result"
    }
   ],
   "source": [
    "resp"
   ]
  },
  {
   "cell_type": "code",
   "execution_count": 4,
   "id": "e675fb97",
   "metadata": {
    "ExecuteTime": {
     "end_time": "2023-12-11T04:16:00.806511Z",
     "start_time": "2023-12-11T04:16:00.795511Z"
    }
   },
   "outputs": [
    {
     "name": "stdout",
     "output_type": "stream",
     "text": [
      "<class 'str'> 37824\n"
     ]
    }
   ],
   "source": [
    "data1 = resp.text\n",
    "print(type(data1), len(data1))"
   ]
  },
  {
   "cell_type": "code",
   "execution_count": null,
   "id": "d2586a06",
   "metadata": {
    "ExecuteTime": {
     "end_time": "2023-12-11T04:17:16.065177Z",
     "start_time": "2023-12-11T04:17:16.012012Z"
    },
    "scrolled": true
   },
   "outputs": [],
   "source": [
    "data2 = resp.json()\n",
    "print(type(data2), len(data2))\n",
    "data2"
   ]
  },
  {
   "cell_type": "code",
   "execution_count": 8,
   "id": "cdf2fc29",
   "metadata": {
    "ExecuteTime": {
     "end_time": "2023-12-11T04:19:30.478373Z",
     "start_time": "2023-12-11T04:19:30.469307Z"
    }
   },
   "outputs": [],
   "source": [
    "# 필요한 것들만 추출하기! \n",
    "id_, date, symbol, open_, close = [], [], [], [] ,[]\n",
    "for item in data2:\n",
    "    id_.append(item['id'])\n",
    "    date.append(item['date'])\n",
    "    symbol.append(item['symbol'])\n",
    "    open_.append(item['open'])\n",
    "    close.append(item['close'])"
   ]
  },
  {
   "cell_type": "code",
   "execution_count": 9,
   "id": "3cb20365",
   "metadata": {
    "ExecuteTime": {
     "end_time": "2023-12-11T04:25:39.042508Z",
     "start_time": "2023-12-11T04:25:39.009031Z"
    }
   },
   "outputs": [
    {
     "data": {
      "text/html": [
       "<div>\n",
       "<style scoped>\n",
       "    .dataframe tbody tr th:only-of-type {\n",
       "        vertical-align: middle;\n",
       "    }\n",
       "\n",
       "    .dataframe tbody tr th {\n",
       "        vertical-align: top;\n",
       "    }\n",
       "\n",
       "    .dataframe thead th {\n",
       "        text-align: right;\n",
       "    }\n",
       "</style>\n",
       "<table border=\"1\" class=\"dataframe\">\n",
       "  <thead>\n",
       "    <tr style=\"text-align: right;\">\n",
       "      <th></th>\n",
       "      <th>id</th>\n",
       "      <th>date</th>\n",
       "      <th>symbol</th>\n",
       "      <th>open</th>\n",
       "      <th>close</th>\n",
       "    </tr>\n",
       "  </thead>\n",
       "  <tbody>\n",
       "    <tr>\n",
       "      <th>0</th>\n",
       "      <td>41596</td>\n",
       "      <td>20190102</td>\n",
       "      <td>None</td>\n",
       "      <td>184.63</td>\n",
       "      <td>186.29</td>\n",
       "    </tr>\n",
       "    <tr>\n",
       "      <th>1</th>\n",
       "      <td>41597</td>\n",
       "      <td>20190103</td>\n",
       "      <td>None</td>\n",
       "      <td>186.2</td>\n",
       "      <td>188.77</td>\n",
       "    </tr>\n",
       "    <tr>\n",
       "      <th>2</th>\n",
       "      <td>41603</td>\n",
       "      <td>20190104</td>\n",
       "      <td>None</td>\n",
       "      <td>188.77</td>\n",
       "      <td>189.59</td>\n",
       "    </tr>\n",
       "    <tr>\n",
       "      <th>3</th>\n",
       "      <td>41609</td>\n",
       "      <td>20190107</td>\n",
       "      <td>None</td>\n",
       "      <td>190.33</td>\n",
       "      <td>189.78</td>\n",
       "    </tr>\n",
       "    <tr>\n",
       "      <th>4</th>\n",
       "      <td>41610</td>\n",
       "      <td>20190108</td>\n",
       "      <td>None</td>\n",
       "      <td>189.78</td>\n",
       "      <td>190.79</td>\n",
       "    </tr>\n",
       "  </tbody>\n",
       "</table>\n",
       "</div>"
      ],
      "text/plain": [
       "      id      date symbol    open   close\n",
       "0  41596  20190102   None  184.63  186.29\n",
       "1  41597  20190103   None   186.2  188.77\n",
       "2  41603  20190104   None  188.77  189.59\n",
       "3  41609  20190107   None  190.33  189.78\n",
       "4  41610  20190108   None  189.78  190.79"
      ]
     },
     "execution_count": 9,
     "metadata": {},
     "output_type": "execute_result"
    }
   ],
   "source": [
    "df = pd.DataFrame({\n",
    "    'id': id_,\n",
    "    'date': date,\n",
    "    'symbol': symbol,\n",
    "    'open': open_,\n",
    "    'close': close\n",
    "})\n",
    "df.head()"
   ]
  },
  {
   "cell_type": "markdown",
   "id": "69a3025a",
   "metadata": {},
   "source": [
    "# 공공데이터포털 API 아파트매매 실거래자료 수집"
   ]
  },
  {
   "cell_type": "code",
   "execution_count": 14,
   "id": "5300f63e",
   "metadata": {
    "ExecuteTime": {
     "end_time": "2023-12-11T04:33:35.412687Z",
     "start_time": "2023-12-11T04:33:35.271804Z"
    }
   },
   "outputs": [],
   "source": [
    "from bs4 import BeautifulSoup"
   ]
  },
  {
   "cell_type": "code",
   "execution_count": 16,
   "id": "4bbb5595",
   "metadata": {
    "ExecuteTime": {
     "end_time": "2023-12-11T04:34:23.507074Z",
     "start_time": "2023-12-11T04:34:23.329068Z"
    }
   },
   "outputs": [
    {
     "data": {
      "text/plain": [
       "<Response [200]>"
      ]
     },
     "execution_count": 16,
     "metadata": {},
     "output_type": "execute_result"
    }
   ],
   "source": [
    "date = '201512'\n",
    "region_code = '11110'\n",
    "service_key = 'Bj9qwsP6aGk2kHvayNSukZU5phr3xGFuN%2BSovmuYpzdjG%2FDbychkMLrN8LTANjZI9LPxOluDvxQ0c%2BgxvWXIZg%3D%3D'\n",
    "\n",
    "PATH = f'http://openapi.molit.go.kr:8081/OpenAPI_ToolInstallPackage/service/rest/RTMSOBJSvc/getRTMSDataSvcAptTrade?LAWD_CD={region_code}&DEAL_YMD={date}&serviceKey={service_key}'\n",
    "res = requests.get(PATH)\n",
    "res"
   ]
  },
  {
   "cell_type": "code",
   "execution_count": null,
   "id": "bf9da94c",
   "metadata": {
    "ExecuteTime": {
     "end_time": "2023-12-11T04:34:52.382937Z",
     "start_time": "2023-12-11T04:34:52.360081Z"
    },
    "scrolled": false
   },
   "outputs": [],
   "source": [
    "textsrc = res.text\n",
    "textsrc"
   ]
  },
  {
   "cell_type": "code",
   "execution_count": 21,
   "id": "36684792",
   "metadata": {
    "ExecuteTime": {
     "end_time": "2023-12-11T04:36:27.341894Z",
     "start_time": "2023-12-11T04:36:27.316744Z"
    }
   },
   "outputs": [],
   "source": [
    "BeautifulSoup?"
   ]
  },
  {
   "attachments": {
    "image.png": {
     "image/png": "[encoded data removed]"
    }
   },
   "cell_type": "markdown",
   "id": "f9a700e3",
   "metadata": {},
   "source": [
    "![image.png](attachment:image.png)"
   ]
  },
  {
   "cell_type": "code",
   "execution_count": null,
   "id": "861c92be",
   "metadata": {
    "ExecuteTime": {
     "end_time": "2023-12-11T04:57:22.004895Z",
     "start_time": "2023-12-11T04:57:21.970237Z"
    },
    "scrolled": false
   },
   "outputs": [],
   "source": [
    "soup = BeautifulSoup(textsrc, 'xml')\n",
    "soup"
   ]
  },
  {
   "cell_type": "code",
   "execution_count": 46,
   "id": "ad690554",
   "metadata": {
    "ExecuteTime": {
     "end_time": "2023-12-11T04:57:37.784257Z",
     "start_time": "2023-12-11T04:57:37.771162Z"
    }
   },
   "outputs": [
    {
     "name": "stdout",
     "output_type": "stream",
     "text": [
      "<item><거래금액>      82,500</거래금액><거래유형> </거래유형><건축년도>2008</건축년도><년>2015</년><등기일자> </등기일자><법정동> 사직동</법정동><아파트>광화문스페이스본(101동~105동)</아파트><월>12</월><일>10</일><전용면적>94.51</전용면적><중개사소재지> </중개사소재지><지번>9</지번><지역코드>11110</지역코드><층>11</층><해제사유발생일> </해제사유발생일><해제여부> </해제여부></item>\n",
      "      82,500\n"
     ]
    }
   ],
   "source": [
    "items = soup.select('response > body > items > item')\n",
    "print(items[0])\n",
    "print(items[0].select_one('거래금액').text) # select_one은 tag 객체를 바로 반환\n",
    "# 왜 공백이 있을까? var와 char의 차이!! 글자수를 고정하면 속도가 빨라지기 때문에!"
   ]
  },
  {
   "cell_type": "code",
   "execution_count": 51,
   "id": "cd9ec3d5",
   "metadata": {
    "ExecuteTime": {
     "end_time": "2023-12-11T04:59:51.182884Z",
     "start_time": "2023-12-11T04:59:51.167105Z"
    }
   },
   "outputs": [
    {
     "data": {
      "text/plain": [
       "'      82,500'"
      ]
     },
     "execution_count": 51,
     "metadata": {},
     "output_type": "execute_result"
    }
   ],
   "source": [
    "items[0].select('거래금액')[0].text # select는 List 형태로 반환!"
   ]
  },
  {
   "cell_type": "code",
   "execution_count": 52,
   "id": "2b6f69f2",
   "metadata": {
    "ExecuteTime": {
     "end_time": "2023-12-11T05:00:22.320848Z",
     "start_time": "2023-12-11T05:00:22.307800Z"
    }
   },
   "outputs": [
    {
     "data": {
      "text/plain": [
       "' '"
      ]
     },
     "execution_count": 52,
     "metadata": {},
     "output_type": "execute_result"
    }
   ],
   "source": [
    "items[0].select_one('거래유형').text"
   ]
  },
  {
   "cell_type": "code",
   "execution_count": 53,
   "id": "5496e20e",
   "metadata": {
    "ExecuteTime": {
     "end_time": "2023-12-11T05:01:37.800655Z",
     "start_time": "2023-12-11T05:01:37.767066Z"
    }
   },
   "outputs": [
    {
     "name": "stdout",
     "output_type": "stream",
     "text": [
      "82,500  2008 2015  사직동 광화문스페이스본(101동~105동) 12 10 94.51  9 11110 11  \n",
      "60,000  1981 2015  당주동 롯데미도파광화문빌딩 12 22 149.95  145 11110 8  \n",
      "130,000  2004 2015  내수동 킹스매너 12 8 194.43  110-15 11110 6  \n",
      "105,000  2004 2015  내수동 경희궁의아침2단지 12 14 124.17  71 11110 8  \n",
      "120,000  2003 2015  내수동 경희궁파크팰리스 12 24 146.33  95 11110 4  \n",
      "17,000  2014 2015  연건동 이화에수풀 12 17 16.98  195-10 11110 8  \n",
      "17,000  2014 2015  연건동 이화에수풀 12 18 16.98  195-10 11110 4  \n",
      "57,000  2006 2015  명륜1가 렉스빌 12 29 106.98  19 11110 3  \n",
      "44,000  1995 2015  명륜2가 아남1 12 1 84.8  4 11110 18  \n",
      "52,000  1995 2015  명륜2가 아남1 12 10 84.9  4 11110 12  \n",
      "49,800  1995 2015  명륜2가 아남1 12 19 84.8  4 11110 1  \n",
      "41,000  1999 2015  명륜2가 아남3 12 19 61.13  237 11110 7  \n",
      "41,000  1999 2015  창신동 두산 12 2 59.95  232 11110 9  \n",
      "19,500  1966 2015  창신동 동대문 12 3 28.8  328-17 11110 6  \n",
      "39,900  2003 2015  창신동 창신이수 12 3 68.06  23-816 11110 8  \n",
      "20,800  1966 2015  창신동 동대문 12 7 28.8  328-17 11110 3  \n",
      "27,200  1993 2015  창신동 창신쌍용2 12 7 64.66  703 11110 3  \n",
      "39,000  1999 2015  창신동 두산 12 10 59.95  232 11110 14  \n",
      "39,950  1993 2015  창신동 창신쌍용2 12 11 115.53  703 11110 2  \n",
      "34,500  1992 2015  창신동 창신쌍용1 12 12 79.87  702 11110 5  \n",
      "37,000  1992 2015  창신동 창신쌍용1 12 14 79.87  702 11110 3  \n",
      "42,800  1992 2015  창신동 창신쌍용1 12 22 106.62  702 11110 12  \n",
      "37,300  1992 2015  창신동 창신쌍용1 12 23 79.87  702 11110 9  \n",
      "50,000  1999 2015  창신동 두산 12 24 84.9  232 11110 4  \n",
      "12,300  2013 2015  숭인동 종로아인스빌 12 2 12.15  1392-1 11110 10  \n",
      "52,000  2009 2015  숭인동 종로청계힐스테이트 12 3 84.9478  766 11110 19  \n",
      "53,300  2008 2015  숭인동 종로센트레빌 12 5 84.92  2-1 11110 10  \n",
      "42,500  2009 2015  숭인동 종로청계힐스테이트 12 5 59.9426  766 11110 2  \n",
      "13,000  2014 2015  숭인동 삼전솔하임4차 12 8 15.09  318-2 11110 15  \n",
      "11,500  2014 2015  숭인동 숭인한양LEEPS 12 8 12.78  1421-2 11110 10  \n",
      "27,000  1997 2015  숭인동 동문(비동,씨동)(494-0) 12 9 59.94  494 11110 3  \n",
      "44,900  2009 2015  숭인동 종로청계힐스테이트 12 14 59.9426  766 11110 12  \n",
      "11,900  2014 2015  숭인동 숭인한양LEEPS 12 14 12.78  1421-2 11110 11  \n",
      "10,500  2013 2015  숭인동 익성씨티하임 12 15 15.76  1392 11110 13  \n",
      "10,000  2013 2015  숭인동 익성씨티하임 12 15 14.48  1392 11110 14  \n",
      "42,500  2008 2015  숭인동 종로센트레빌 12 19 59.92  2-1 11110 12  \n",
      "39,700  2008 2015  숭인동 종로센트레빌 12 22 59.92  2-1 11110 1  \n",
      "52,300  2008 2015  숭인동 종로센트레빌 12 26 84.92  2-1 11110 12  \n",
      "10,800  2013 2015  숭인동 종로유케이201 12 31 12.01  201-11 11110 7  \n",
      "52,500  2009 2015  숭인동 종로청계힐스테이트 12 31 84.9478  766 11110 11  \n",
      "44,600  1995 2015  교북동 동아 12 7 84.28  101 11110 10  \n",
      "115,000  2004 2015  평창동 벽산블루밍평창힐스 12 2 210.53  45 11110 2  \n",
      "164,500  2009 2015  평창동 롯데캐슬로잔 12 3 219.775  108 11110 3  \n",
      "31,500  1998 2015  평창동 삼성 12 6 59.97  596 11110 9  \n",
      "39,490  2000 2015  무악동 현대 12 12 60  82 11110 15  \n",
      "63,490  2000 2015  무악동 현대 12 15 114.9  82 11110 6  \n",
      "62,000  2008 2015  무악동 인왕산아이파크 12 16 84.858  60 11110 5  \n",
      "63,400  2015 2015  무악동 인왕산2차아이파크 12 22 84.0284  88 11110 10  \n",
      "61,000  2008 2015  무악동 인왕산아이파크 12 25 84.858  60 11110 13  \n"
     ]
    }
   ],
   "source": [
    "for item in items:\n",
    "    print(item.select_one('거래금액').text.strip(),\n",
    "          item.select_one('거래유형').text.strip(),\n",
    "          item.select_one('건축년도').text.strip(),\n",
    "          item.select_one('년').text.strip(),\n",
    "          item.select_one('등기일자').text.strip(),\n",
    "          item.select_one('법정동').text.strip(),\n",
    "          item.select_one('아파트').text.strip(),\n",
    "          item.select_one('월').text.strip(),\n",
    "          item.select_one('일').text.strip(),\n",
    "          item.select_one('전용면적').text.strip(),\n",
    "          item.select_one('중개사소재지').text.strip(),\n",
    "          item.select_one('지번').text.strip(),\n",
    "          item.select_one('지역코드').text.strip(),\n",
    "          item.select_one('층').text.strip(),\n",
    "          item.select_one('해제사유발생일').text.strip(),\n",
    "          item.select_one('해제여부').text.strip())"
   ]
  },
  {
   "cell_type": "code",
   "execution_count": 54,
   "id": "54d1efef",
   "metadata": {
    "ExecuteTime": {
     "end_time": "2023-12-11T05:01:38.686794Z",
     "start_time": "2023-12-11T05:01:38.654298Z"
    }
   },
   "outputs": [
    {
     "name": "stdout",
     "output_type": "stream",
     "text": [
      "82,500  2008 2015  사직동 광화문스페이스본(101동~105동) 12 10 94.51  9 11110 11   \n",
      "60,000  1981 2015  당주동 롯데미도파광화문빌딩 12 22 149.95  145 11110 8   \n",
      "130,000  2004 2015  내수동 킹스매너 12 8 194.43  110-15 11110 6   \n",
      "105,000  2004 2015  내수동 경희궁의아침2단지 12 14 124.17  71 11110 8   \n",
      "120,000  2003 2015  내수동 경희궁파크팰리스 12 24 146.33  95 11110 4   \n",
      "17,000  2014 2015  연건동 이화에수풀 12 17 16.98  195-10 11110 8   \n",
      "17,000  2014 2015  연건동 이화에수풀 12 18 16.98  195-10 11110 4   \n",
      "57,000  2006 2015  명륜1가 렉스빌 12 29 106.98  19 11110 3   \n",
      "44,000  1995 2015  명륜2가 아남1 12 1 84.8  4 11110 18   \n",
      "52,000  1995 2015  명륜2가 아남1 12 10 84.9  4 11110 12   \n",
      "49,800  1995 2015  명륜2가 아남1 12 19 84.8  4 11110 1   \n",
      "41,000  1999 2015  명륜2가 아남3 12 19 61.13  237 11110 7   \n",
      "41,000  1999 2015  창신동 두산 12 2 59.95  232 11110 9   \n",
      "19,500  1966 2015  창신동 동대문 12 3 28.8  328-17 11110 6   \n",
      "39,900  2003 2015  창신동 창신이수 12 3 68.06  23-816 11110 8   \n",
      "20,800  1966 2015  창신동 동대문 12 7 28.8  328-17 11110 3   \n",
      "27,200  1993 2015  창신동 창신쌍용2 12 7 64.66  703 11110 3   \n",
      "39,000  1999 2015  창신동 두산 12 10 59.95  232 11110 14   \n",
      "39,950  1993 2015  창신동 창신쌍용2 12 11 115.53  703 11110 2   \n",
      "34,500  1992 2015  창신동 창신쌍용1 12 12 79.87  702 11110 5   \n",
      "37,000  1992 2015  창신동 창신쌍용1 12 14 79.87  702 11110 3   \n",
      "42,800  1992 2015  창신동 창신쌍용1 12 22 106.62  702 11110 12   \n",
      "37,300  1992 2015  창신동 창신쌍용1 12 23 79.87  702 11110 9   \n",
      "50,000  1999 2015  창신동 두산 12 24 84.9  232 11110 4   \n",
      "12,300  2013 2015  숭인동 종로아인스빌 12 2 12.15  1392-1 11110 10   \n",
      "52,000  2009 2015  숭인동 종로청계힐스테이트 12 3 84.9478  766 11110 19   \n",
      "53,300  2008 2015  숭인동 종로센트레빌 12 5 84.92  2-1 11110 10   \n",
      "42,500  2009 2015  숭인동 종로청계힐스테이트 12 5 59.9426  766 11110 2   \n",
      "13,000  2014 2015  숭인동 삼전솔하임4차 12 8 15.09  318-2 11110 15   \n",
      "11,500  2014 2015  숭인동 숭인한양LEEPS 12 8 12.78  1421-2 11110 10   \n",
      "27,000  1997 2015  숭인동 동문(비동,씨동)(494-0) 12 9 59.94  494 11110 3   \n",
      "44,900  2009 2015  숭인동 종로청계힐스테이트 12 14 59.9426  766 11110 12   \n",
      "11,900  2014 2015  숭인동 숭인한양LEEPS 12 14 12.78  1421-2 11110 11   \n",
      "10,500  2013 2015  숭인동 익성씨티하임 12 15 15.76  1392 11110 13   \n",
      "10,000  2013 2015  숭인동 익성씨티하임 12 15 14.48  1392 11110 14   \n",
      "42,500  2008 2015  숭인동 종로센트레빌 12 19 59.92  2-1 11110 12   \n",
      "39,700  2008 2015  숭인동 종로센트레빌 12 22 59.92  2-1 11110 1   \n",
      "52,300  2008 2015  숭인동 종로센트레빌 12 26 84.92  2-1 11110 12   \n",
      "10,800  2013 2015  숭인동 종로유케이201 12 31 12.01  201-11 11110 7   \n",
      "52,500  2009 2015  숭인동 종로청계힐스테이트 12 31 84.9478  766 11110 11   \n",
      "44,600  1995 2015  교북동 동아 12 7 84.28  101 11110 10   \n",
      "115,000  2004 2015  평창동 벽산블루밍평창힐스 12 2 210.53  45 11110 2   \n",
      "164,500  2009 2015  평창동 롯데캐슬로잔 12 3 219.775  108 11110 3   \n",
      "31,500  1998 2015  평창동 삼성 12 6 59.97  596 11110 9   \n",
      "39,490  2000 2015  무악동 현대 12 12 60  82 11110 15   \n",
      "63,490  2000 2015  무악동 현대 12 15 114.9  82 11110 6   \n",
      "62,000  2008 2015  무악동 인왕산아이파크 12 16 84.858  60 11110 5   \n",
      "63,400  2015 2015  무악동 인왕산2차아이파크 12 22 84.0284  88 11110 10   \n",
      "61,000  2008 2015  무악동 인왕산아이파크 12 25 84.858  60 11110 13   \n"
     ]
    }
   ],
   "source": [
    "tag_list = ['거래금액', '거래유형', '건축년도', '년', '등기일자', '법정동', '아파트', '월', '일', '전용면적', '중개사소재지', \n",
    "            '지번', '지역코드', '층','해제사유발생일', '해제여부' ]\n",
    "\n",
    "for item in items:\n",
    "    for tag in tag_list:\n",
    "        print(item.select_one(f'{tag}').text.strip(), end=' ')\n",
    "    print()"
   ]
  },
  {
   "cell_type": "markdown",
   "id": "d2678390",
   "metadata": {},
   "source": [
    "## 결측값 채우기"
   ]
  },
  {
   "cell_type": "code",
   "execution_count": 56,
   "id": "4d360b09",
   "metadata": {
    "ExecuteTime": {
     "end_time": "2023-12-11T05:08:49.693440Z",
     "start_time": "2023-12-11T05:08:49.657304Z"
    }
   },
   "outputs": [
    {
     "name": "stdout",
     "output_type": "stream",
     "text": [
      "82,500  2008 2015  사직동 광화문스페이스본(101동~105동) 12 10 94.51  9 11110 11   \n",
      "60,000  1981 2015  당주동 롯데미도파광화문빌딩 12 22 149.95  145 11110 8   \n",
      "130,000  2004 2015  내수동 킹스매너 12 8 194.43  110-15 11110 6   \n",
      "105,000  2004 2015  내수동 경희궁의아침2단지 12 14 124.17  71 11110 8   \n",
      "120,000  2003 2015  내수동 경희궁파크팰리스 12 24 146.33  95 11110 4   \n",
      "17,000  2014 2015  연건동 이화에수풀 12 17 16.98  195-10 11110 8   \n",
      "17,000  2014 2015  연건동 이화에수풀 12 18 16.98  195-10 11110 4   \n",
      "57,000  2006 2015  명륜1가 렉스빌 12 29 106.98  19 11110 3   \n",
      "44,000  1995 2015  명륜2가 아남1 12 1 84.8  4 11110 18   \n",
      "52,000  1995 2015  명륜2가 아남1 12 10 84.9  4 11110 12   \n",
      "49,800  1995 2015  명륜2가 아남1 12 19 84.8  4 11110 1   \n",
      "41,000  1999 2015  명륜2가 아남3 12 19 61.13  237 11110 7   \n",
      "41,000  1999 2015  창신동 두산 12 2 59.95  232 11110 9   \n",
      "19,500  1966 2015  창신동 동대문 12 3 28.8  328-17 11110 6   \n",
      "39,900  2003 2015  창신동 창신이수 12 3 68.06  23-816 11110 8   \n",
      "20,800  1966 2015  창신동 동대문 12 7 28.8  328-17 11110 3   \n",
      "27,200  1993 2015  창신동 창신쌍용2 12 7 64.66  703 11110 3   \n",
      "39,000  1999 2015  창신동 두산 12 10 59.95  232 11110 14   \n",
      "39,950  1993 2015  창신동 창신쌍용2 12 11 115.53  703 11110 2   \n",
      "34,500  1992 2015  창신동 창신쌍용1 12 12 79.87  702 11110 5   \n",
      "37,000  1992 2015  창신동 창신쌍용1 12 14 79.87  702 11110 3   \n",
      "42,800  1992 2015  창신동 창신쌍용1 12 22 106.62  702 11110 12   \n",
      "37,300  1992 2015  창신동 창신쌍용1 12 23 79.87  702 11110 9   \n",
      "50,000  1999 2015  창신동 두산 12 24 84.9  232 11110 4   \n",
      "12,300  2013 2015  숭인동 종로아인스빌 12 2 12.15  1392-1 11110 10   \n",
      "52,000  2009 2015  숭인동 종로청계힐스테이트 12 3 84.9478  766 11110 19   \n",
      "53,300  2008 2015  숭인동 종로센트레빌 12 5 84.92  2-1 11110 10   \n",
      "42,500  2009 2015  숭인동 종로청계힐스테이트 12 5 59.9426  766 11110 2   \n",
      "13,000  2014 2015  숭인동 삼전솔하임4차 12 8 15.09  318-2 11110 15   \n",
      "11,500  2014 2015  숭인동 숭인한양LEEPS 12 8 12.78  1421-2 11110 10   \n",
      "27,000  1997 2015  숭인동 동문(비동,씨동)(494-0) 12 9 59.94  494 11110 3   \n",
      "44,900  2009 2015  숭인동 종로청계힐스테이트 12 14 59.9426  766 11110 12   \n",
      "11,900  2014 2015  숭인동 숭인한양LEEPS 12 14 12.78  1421-2 11110 11   \n",
      "10,500  2013 2015  숭인동 익성씨티하임 12 15 15.76  1392 11110 13   \n",
      "10,000  2013 2015  숭인동 익성씨티하임 12 15 14.48  1392 11110 14   \n",
      "42,500  2008 2015  숭인동 종로센트레빌 12 19 59.92  2-1 11110 12   \n",
      "39,700  2008 2015  숭인동 종로센트레빌 12 22 59.92  2-1 11110 1   \n",
      "52,300  2008 2015  숭인동 종로센트레빌 12 26 84.92  2-1 11110 12   \n",
      "10,800  2013 2015  숭인동 종로유케이201 12 31 12.01  201-11 11110 7   \n",
      "52,500  2009 2015  숭인동 종로청계힐스테이트 12 31 84.9478  766 11110 11   \n",
      "44,600  1995 2015  교북동 동아 12 7 84.28  101 11110 10   \n",
      "115,000  2004 2015  평창동 벽산블루밍평창힐스 12 2 210.53  45 11110 2   \n",
      "164,500  2009 2015  평창동 롯데캐슬로잔 12 3 219.775  108 11110 3   \n",
      "31,500  1998 2015  평창동 삼성 12 6 59.97  596 11110 9   \n",
      "39,490  2000 2015  무악동 현대 12 12 60  82 11110 15   \n",
      "63,490  2000 2015  무악동 현대 12 15 114.9  82 11110 6   \n",
      "62,000  2008 2015  무악동 인왕산아이파크 12 16 84.858  60 11110 5   \n",
      "63,400  2015 2015  무악동 인왕산2차아이파크 12 22 84.0284  88 11110 10   \n",
      "61,000  2008 2015  무악동 인왕산아이파크 12 25 84.858  60 11110 13   \n"
     ]
    }
   ],
   "source": [
    "def default_text(node, text):\n",
    "    if node != None:\n",
    "        return node.text.strip()\n",
    "    else:\n",
    "        return text\n",
    "\n",
    "for item in items:\n",
    "    for tag in tag_list:\n",
    "        print(default_text(item.select_one(tag), ''), end=' ')\n",
    "    print()"
   ]
  },
  {
   "cell_type": "code",
   "execution_count": null,
   "id": "66146c69",
   "metadata": {
    "ExecuteTime": {
     "end_time": "2023-12-11T06:04:25.985167Z",
     "start_time": "2023-12-11T06:04:25.942427Z"
    }
   },
   "outputs": [],
   "source": [
    "# dataframe으로 변환 -> csv 파일 저장\n",
    "import pandas as pd\n",
    "\n",
    "tag_list = ['거래금액', '거래유형', '건축년도', '년', '등기일자', '법정동', '아파트', '월', '일', '전용면적', '중개사소재지', \n",
    "            '지번', '지역코드', '층','해제사유발생일', '해제여부']\n",
    "\n",
    "data = []\n",
    "\n",
    "\n",
    "for item in items:\n",
    "    data_list=[]\n",
    "    for tag in tag_list:\n",
    "        data_list.append(default_text(item.select_one(tag), ''))\n",
    "    data.append(data_list)\n",
    "\n",
    "df = pd.DataFrame(data, columns=tag_list)\n",
    "print(df)\n",
    "df.to_csv('./sample/아파트매매 실거래자료.csv', index=False, encoding='cp949') "
   ]
  },
  {
   "cell_type": "markdown",
   "id": "bbbe60a4",
   "metadata": {},
   "source": [
    "## 여러달 수집"
   ]
  },
  {
   "cell_type": "code",
   "execution_count": 76,
   "id": "28bf5221",
   "metadata": {
    "ExecuteTime": {
     "end_time": "2023-12-11T05:37:05.040898Z",
     "start_time": "2023-12-11T05:37:05.036071Z"
    }
   },
   "outputs": [
    {
     "data": {
      "text/plain": [
       "datetime.datetime(2023, 1, 1, 0, 0)"
      ]
     },
     "execution_count": 76,
     "metadata": {},
     "output_type": "execute_result"
    }
   ],
   "source": [
    "import datetime, dateutil\n",
    "start_datetime = datetime.datetime(2023, 1, 1)\n",
    "start_datetime"
   ]
  },
  {
   "cell_type": "code",
   "execution_count": 77,
   "id": "1fb4f990",
   "metadata": {
    "ExecuteTime": {
     "end_time": "2023-12-11T05:37:05.461093Z",
     "start_time": "2023-12-11T05:37:05.456904Z"
    }
   },
   "outputs": [
    {
     "data": {
      "text/plain": [
       "datetime.datetime(2023, 2, 1, 0, 0)"
      ]
     },
     "execution_count": 77,
     "metadata": {},
     "output_type": "execute_result"
    }
   ],
   "source": [
    "start_datetime = start_datetime + dateutil.relativedelta.relativedelta(months=1) # 한달씩 추가 -> 시계열 계산 가능\n",
    "start_datetime"
   ]
  },
  {
   "cell_type": "code",
   "execution_count": null,
   "id": "6e5a98a8",
   "metadata": {
    "ExecuteTime": {
     "end_time": "2023-12-11T06:04:22.704646Z",
     "start_time": "2023-12-11T06:04:20.594821Z"
    },
    "scrolled": false
   },
   "outputs": [],
   "source": [
    "def default_text(node, text):\n",
    "    if node != None:\n",
    "        return node.text.strip()\n",
    "    else:\n",
    "        return text\n",
    "    \n",
    "tag_list = ['거래금액', '거래유형', '건축년도', '년', '등기일자', '법정동', '아파트', '월', '일', '전용면적', '중개사소재지', \n",
    "            '지번', '지역코드', '층', '해제사유발생일', '해제여부']\n",
    "\n",
    "data_list = []        \n",
    "region_code = '11110'\n",
    "\n",
    "start_datetime = datetime.datetime(2023, 1, 1)\n",
    "\n",
    "while True:\n",
    "    date = start_datetime.strftime('%Y%m') #202301\n",
    "    if date >= '202309':\n",
    "        break\n",
    "        \n",
    "    service_key = 'Bj9qwsP6aGk2kHvayNSukZU5phr3xGFuN%2BSovmuYpzdjG%2FDbychkMLrN8LTANjZI9LPxOluDvxQ0c%2BgxvWXIZg%3D%3D' \n",
    "    url = f'http://openapi.molit.go.kr:8081/OpenAPI_ToolInstallPackage/service/rest/RTMSOBJSvc/getRTMSDataSvcAptTrade?LAWD_CD={region_code}&DEAL_YMD={date}&serviceKey={service_key}'\n",
    "\n",
    "    res = requests.get(url)\n",
    "    textsrc = res.text\n",
    "\n",
    "    soup = BeautifulSoup(textsrc, 'xml')\n",
    "    items = soup.select('response > body > items > item')\n",
    "\n",
    "    print('='*10, date, '='*10)\n",
    "           \n",
    "    for item in items:\n",
    "        row = [ default_text(item.select_one(tag), '') for tag in tag_list]\n",
    "        data_list.append(row) # value를 행기준으로 맞춤, 110 X 11\n",
    "    print(data_list)\n",
    "        \n",
    "    start_datetime = start_datetime + dateutil.relativedelta.relativedelta(months=1) #  += 1달\n",
    "\n",
    "df = pd.DataFrame(data_list, columns=tag_list)\n",
    "df.to_csv('./sample/아파트매매 실거래자료_여러달.csv', index=False, encoding='cp949')\n",
    "print('저장 완료')"
   ]
  },
  {
   "cell_type": "markdown",
   "id": "e4a6f5fa",
   "metadata": {},
   "source": [
    "## 여러 지역 코드 수집"
   ]
  },
  {
   "cell_type": "code",
   "execution_count": null,
   "id": "9efd62b6",
   "metadata": {
    "ExecuteTime": {
     "end_time": "2023-12-11T08:56:25.824546Z",
     "start_time": "2023-12-11T08:56:23.348188Z"
    },
    "scrolled": false
   },
   "outputs": [],
   "source": [
    "import requests, datetime, dateutil, pandas as pd\n",
    "from bs4 import BeautifulSoup\n",
    "\n",
    "def default_text(node, text):\n",
    "    if node != None:\n",
    "        return node.text.strip()\n",
    "    else:\n",
    "        return text\n",
    "\n",
    "tag_list = ['거래금액', '거래유형', '건축년도', '년', '등기일자', '법정동', '아파트', '월', '일', '전용면적', '중개사소재지', \n",
    "            '지번', '지역코드', '층', '해제사유발생일', '해제여부']\n",
    "data_list = []        \n",
    "lawd_cds = [11140, 11170, 11200]\n",
    "# lawd_cds = [11110, 11140, 11170, 11200, 11215, 11230, 11260, 11290, 11305,\n",
    "#        11320, 11350, 11380, 11410, 11440, 11470, 11500, 11530, 11545,\n",
    "#        11560, 11590, 11620, 11650, 11680, 11710, 11740]\n",
    "\n",
    "start_datetime = datetime.datetime(2023, 1, 1)\n",
    "\n",
    "while True:\n",
    "    service_key = 'Bj9qwsP6aGk2kHvayNSukZU5phr3xGFuN%2BSovmuYpzdjG%2FDbychkMLrN8LTANjZI9LPxOluDvxQ0c%2BgxvWXIZg%3D%3D'    \n",
    "    \n",
    "    date = start_datetime.strftime('%Y%m') #202301\n",
    "    if date >= '202309':\n",
    "        break\n",
    "        \n",
    "    for region_code in lawd_cds:\n",
    "        print('='*5, date, lawd_cd, '='*5)\n",
    "        url = f'http://openapi.molit.go.kr:8081/OpenAPI_ToolInstallPackage/service/rest/RTMSOBJSvc/getRTMSDataSvcAptTrade?LAWD_CD={region_code}&DEAL_YMD={date}&serviceKey={service_key}'\n",
    "\n",
    "        res = requests.get(url)\n",
    "        textsrc = res.text\n",
    "\n",
    "        soup = BeautifulSoup(textsrc, 'xml')\n",
    "        items = soup.select('response > body > items > item') \n",
    "           \n",
    "        for item in items:\n",
    "            row = [ default_text(item.select_one(tag), '') for tag in tag_list]\n",
    "            data_list.append(row) # value를 행기준으로 맞춤, 110 X 11\n",
    "        print(data_list)\n",
    "        \n",
    "        start_datetime = start_datetime + dateutil.relativedelta.relativedelta(months=1) #  += 1달\n",
    "\n",
    "df = pd.DataFrame(data_list, columns=item_list)\n",
    "df.to_csv('./sample/아파트매매 실거래자료_여러달_여러지역코드.csv', index=False, encoding='utf-8')\n",
    "print('저장 완료')"
   ]
  },
  {
   "cell_type": "markdown",
   "id": "5af53f4b",
   "metadata": {},
   "source": [
    "# 네이버 지식인 API 연동\n",
    "https://developers.naver.com/main/   \n",
    "documents: https://developers.naver.com/docs/serviceapi/search/blog/blog.md#%EB%B8%94%EB%A1%9C%EA%B7%B8"
   ]
  },
  {
   "cell_type": "code",
   "execution_count": 162,
   "id": "ffbc6561",
   "metadata": {
    "ExecuteTime": {
     "end_time": "2023-12-11T08:59:52.249462Z",
     "start_time": "2023-12-11T08:59:52.240584Z"
    }
   },
   "outputs": [],
   "source": [
    "import requests, time, os, json\n",
    "from html import unescape"
   ]
  },
  {
   "cell_type": "code",
   "execution_count": 163,
   "id": "6ad36411",
   "metadata": {
    "ExecuteTime": {
     "end_time": "2023-12-11T08:59:52.549259Z",
     "start_time": "2023-12-11T08:59:52.544972Z"
    }
   },
   "outputs": [],
   "source": [
    "client_id = 'E_feVCylf1iLGu7TYT0u'\n",
    "client_secret = 'FEu1hCJm_d'\n",
    "\n",
    "queries = ['전주 여행', '경주 여행']\n",
    "goal_page = 5 # 5개의 page에 대해 수집할 것"
   ]
  },
  {
   "cell_type": "code",
   "execution_count": 164,
   "id": "210d25a7",
   "metadata": {
    "ExecuteTime": {
     "end_time": "2023-12-11T08:59:53.016219Z",
     "start_time": "2023-12-11T08:59:53.013225Z"
    }
   },
   "outputs": [],
   "source": [
    "# setting\n",
    "# 필요 헤더들 document 확인\n",
    "user_agent = 'Mozilla/5.0 (Macintosh; Intel Mac OS X 10_15_7) AppleWebKit/537.36 (KHTML, like Gecko) Chrome/120.0.0.0 Safari/537.36'\n",
    "\n",
    "headers = {\"User-Agent\": user_agent,\n",
    "        \"X-Naver-Client-Id\": client_id,\n",
    "        \"X-Naver-Client-Secret\": client_secret}"
   ]
  },
  {
   "cell_type": "code",
   "execution_count": 165,
   "id": "6d901d4b",
   "metadata": {
    "ExecuteTime": {
     "end_time": "2023-12-11T08:59:53.579417Z",
     "start_time": "2023-12-11T08:59:53.542438Z"
    }
   },
   "outputs": [],
   "source": [
    "file_name = './sample/naver_kin.txt'\n",
    "with open(file_name, 'w', encoding='utf-8') as f:\n",
    "    f.write('query\\tno\\ttitle\\tlink\\tdescription\\ttotal_text\\n')"
   ]
  },
  {
   "cell_type": "code",
   "execution_count": 166,
   "id": "5bf6610f",
   "metadata": {
    "ExecuteTime": {
     "end_time": "2023-12-11T08:59:54.426512Z",
     "start_time": "2023-12-11T08:59:54.110385Z"
    }
   },
   "outputs": [
    {
     "name": "stdout",
     "output_type": "stream",
     "text": [
      "https://openapi.naver.com/v1/search/kin.json?display=100&query=전주 여행&start=1\n"
     ]
    },
    {
     "data": {
      "text/plain": [
       "<Response [200]>"
      ]
     },
     "execution_count": 166,
     "metadata": {},
     "output_type": "execute_result"
    }
   ],
   "source": [
    "url = \"https://openapi.naver.com/v1/search/kin.json?display=100&query=\" + queries[0] + \"&start=\" + str(1)\n",
    "print(url)\n",
    "response = requests.get(url, headers=headers)\n",
    "response"
   ]
  },
  {
   "cell_type": "code",
   "execution_count": 167,
   "id": "1eab65a4",
   "metadata": {
    "ExecuteTime": {
     "end_time": "2023-12-11T08:59:55.056994Z",
     "start_time": "2023-12-11T08:59:55.051759Z"
    }
   },
   "outputs": [
    {
     "data": {
      "text/plain": [
       "{'title': '<b>전주여행</b> 갈곳, 전시회 추천',\n",
       " 'link': 'https://kin.naver.com/qna/detail.naver?d1id=9&dirId=90110&docId=438462586&qb=7KCE7KO8IOyXrO2WiQ==&enc=utf8&section=kin.qna&rank=1&search_sort=0&spq=0',\n",
       " 'description': '제가 이번달 말에 남자친구랑 <b>전주여행</b>을 가는데요. 전주한옥마을만 가기엔 그래서 갈만한 곳, 공방, 전시회같은거 있음 추천부탁드려요ㅠㅠ 안녕하세요. 질문하신 [<b>전주여행</b>] 관련 답변 드리도록 하겠습니다. 전주로 놀러가시나 봅니다... '}"
      ]
     },
     "execution_count": 167,
     "metadata": {},
     "output_type": "execute_result"
    }
   ],
   "source": [
    "elements = json.loads(response.text)['items']\n",
    "elements[0]"
   ]
  },
  {
   "cell_type": "code",
   "execution_count": 172,
   "id": "64c2bec7",
   "metadata": {
    "ExecuteTime": {
     "end_time": "2023-12-11T09:00:31.497717Z",
     "start_time": "2023-12-11T09:00:31.490801Z"
    }
   },
   "outputs": [],
   "source": [
    "def get_list(query, page):\n",
    "    print('='*5, query, page, '='*5)\n",
    "    url = \"https://openapi.naver.com/v1/search/kin.json?display=100&query=\" + query + \"&start=\" + str(page+1)\n",
    "    response = requests.get(url, headers=headers)\n",
    "    elements = json.loads(response.text)['items']\n",
    "\n",
    "    for i, elm in enumerate(elements):\n",
    "        title = elm['title'].replace(\"<b>\", \"\").replace(\"</b>\", \"\")\n",
    "        title = unescape(title) # escape된 문자를 unescape문자로 변경\n",
    "        link = elm['link']\n",
    "        description = elm['description'].replace(\"<b>\", \"\").replace(\"</b>\", \"\")\n",
    "        description = unescape(description)\n",
    "        \n",
    "        print([query, (page*100)+(i+1), title, link, description, title+\" \"+description]) # 지식인을 요청할 때 100개씩 display하는 것을 기본 값으로 설정해줌!\n",
    "\n",
    "        with open(file_name, 'a', encoding='utf-8') as f: # overwrite 안되도록 add할 것\n",
    "            f.write( f'{query}\\t{(page*100)+(i+1)}\\t{title}\\t{link}\\t{description}\\t{title+\" \"+description}\\n')\n",
    "\n",
    "    return"
   ]
  },
  {
   "cell_type": "code",
   "execution_count": null,
   "id": "5ec69587",
   "metadata": {
    "ExecuteTime": {
     "end_time": "2023-12-11T09:00:40.292280Z",
     "start_time": "2023-12-11T09:00:32.137187Z"
    },
    "scrolled": false
   },
   "outputs": [],
   "source": [
    "for query in queries:\n",
    "    for page in range(goal_page):\n",
    "        kin_list = get_list(query, page)\n",
    "        time.sleep(0.5) #웹페이지 크롤링 매너 최소 6초"
   ]
  },
  {
   "cell_type": "markdown",
   "id": "7a8462dd",
   "metadata": {},
   "source": [
    "# 회고시간 (23.12.11 TIL)\n",
    "나만의 키워드로 네이버API 활용하기"
   ]
  },
  {
   "cell_type": "code",
   "execution_count": 174,
   "id": "f1e613dd",
   "metadata": {
    "ExecuteTime": {
     "end_time": "2023-12-11T09:07:09.518364Z",
     "start_time": "2023-12-11T09:07:09.510945Z"
    }
   },
   "outputs": [],
   "source": [
    "import requests, time, os, json\n",
    "from html import unescape"
   ]
  },
  {
   "cell_type": "code",
   "execution_count": 175,
   "id": "bb18f365",
   "metadata": {
    "ExecuteTime": {
     "end_time": "2023-12-11T09:07:31.746795Z",
     "start_time": "2023-12-11T09:07:31.740101Z"
    }
   },
   "outputs": [],
   "source": [
    "client_id = 'E_feVCylf1iLGu7TYT0u'\n",
    "client_secret = 'FEu1hCJm_d'\n",
    "\n",
    "queries = ['방탄소년단', '\b소녀시대']\n",
    "goal_page = 3"
   ]
  },
  {
   "cell_type": "code",
   "execution_count": 176,
   "id": "5e51932b",
   "metadata": {
    "ExecuteTime": {
     "end_time": "2023-12-11T09:07:56.548937Z",
     "start_time": "2023-12-11T09:07:56.542239Z"
    }
   },
   "outputs": [],
   "source": [
    "# setting\n",
    "# 필요 헤더들 document 확인\n",
    "user_agent = 'Mozilla/5.0 (Macintosh; Intel Mac OS X 10_15_7) AppleWebKit/537.36 (KHTML, like Gecko) Chrome/120.0.0.0 Safari/537.36'\n",
    "\n",
    "headers = {\"User-Agent\": user_agent,\n",
    "        \"X-Naver-Client-Id\": client_id,\n",
    "        \"X-Naver-Client-Secret\": client_secret}"
   ]
  },
  {
   "cell_type": "code",
   "execution_count": 177,
   "id": "c059b5d1",
   "metadata": {
    "ExecuteTime": {
     "end_time": "2023-12-11T09:08:40.814980Z",
     "start_time": "2023-12-11T09:08:40.805763Z"
    }
   },
   "outputs": [],
   "source": [
    "file_name = './sample/naver_blog_231211_til.txt'\n",
    "with open(file_name, 'w', encoding='utf-8') as f:\n",
    "    f.write('query\\tno\\ttitle\\tlink\\tdescription\\ttotal_text\\n')"
   ]
  },
  {
   "cell_type": "code",
   "execution_count": 178,
   "id": "750da5c8",
   "metadata": {
    "ExecuteTime": {
     "end_time": "2023-12-11T09:08:51.330799Z",
     "start_time": "2023-12-11T09:08:51.032768Z"
    }
   },
   "outputs": [
    {
     "data": {
      "text/plain": [
       "{'title': '[<b>방탄소년단</b>] 남준이 태형이 입소식에 모인 멤버들 (+ 석진이... ',\n",
       " 'link': 'https://blog.naver.com/blyna/223289309329',\n",
       " 'description': '달아주는거, <b>방탄소년단</b> 아니면 누가해 하드캐리했다!! 잘 다녀와 몸 건강히 !! 잠시만 안녕, 끓여놓은... 안녕이야, <b>방탄소년단</b> 군대 가도 난 안죽어!!!!! 오늘 보여준 너네들의 그 사랑이 정말 다시 날 살게하고... ',\n",
       " 'bloggername': 'Lyna로운 방탄한일상',\n",
       " 'bloggerlink': 'blog.naver.com/blyna',\n",
       " 'postdate': '20231211'}"
      ]
     },
     "execution_count": 178,
     "metadata": {},
     "output_type": "execute_result"
    }
   ],
   "source": [
    "url = \"https://openapi.naver.com/v1/search/blog.json?display=100&query=\" + queries[0] + \"&start=\" + str(1)\n",
    "response = requests.get(url, headers=headers)\n",
    "elements = json.loads(response.text)['items']\n",
    "elements[0]"
   ]
  },
  {
   "cell_type": "code",
   "execution_count": 179,
   "id": "e9d2c084",
   "metadata": {
    "ExecuteTime": {
     "end_time": "2023-12-11T09:10:59.376900Z",
     "start_time": "2023-12-11T09:10:59.364510Z"
    }
   },
   "outputs": [],
   "source": [
    "def get_list(query, page):\n",
    "    print('='*5, query, page, '='*5)\n",
    "    url = \"https://openapi.naver.com/v1/search/blog.json?display=100&query=\" + query + \"&start=\" + str(page+1)\n",
    "    response = requests.get(url, headers=headers)\n",
    "    elements = json.loads(response.text)['items']\n",
    "\n",
    "    for i, elm in enumerate(elements):\n",
    "        title = elm['title'].replace(\"<b>\", \"\").replace(\"</b>\", \"\")\n",
    "        title = unescape(title) # escape된 문자를 unescape문자로 변경\n",
    "        link = elm['link']\n",
    "        description = elm['description'].replace(\"<b>\", \"\").replace(\"</b>\", \"\")\n",
    "        description = unescape(description)\n",
    "        \n",
    "        print([query, (page*100)+(i+1), title, link, description, title+\" \"+description])\n",
    "\n",
    "        with open(file_name, 'a', encoding='utf-8') as f: # overwrite 안되도록 add할 것\n",
    "            f.write( f'{query}\\t{(page*100)+(i+1)}\\t{title}\\t{link}\\t{description}\\t{title+\" \"+description}\\n')\n",
    "    \n",
    "    return"
   ]
  },
  {
   "cell_type": "code",
   "execution_count": null,
   "id": "2cba4078",
   "metadata": {
    "ExecuteTime": {
     "end_time": "2023-12-11T09:11:10.940712Z",
     "start_time": "2023-12-11T09:11:06.062508Z"
    },
    "scrolled": false
   },
   "outputs": [],
   "source": [
    "for query in queries:\n",
    "    for page in range(goal_page):\n",
    "        kin_list = get_list(query, page)\n",
    "        time.sleep(0.5) #웹페이지 크롤링 매너 최소 6초"
   ]
  },
  {
   "cell_type": "code",
   "execution_count": 181,
   "id": "5cd18c58",
   "metadata": {
    "ExecuteTime": {
     "end_time": "2023-12-11T09:11:43.195144Z",
     "start_time": "2023-12-11T09:11:43.161639Z"
    }
   },
   "outputs": [],
   "source": [
    "import pandas as pd\n",
    "df = pd.read_csv('./sample/naver_blog_231211_til.txt', sep='\\t', header=0)"
   ]
  },
  {
   "cell_type": "code",
   "execution_count": 182,
   "id": "bc102e56",
   "metadata": {
    "ExecuteTime": {
     "end_time": "2023-12-11T09:11:44.963047Z",
     "start_time": "2023-12-11T09:11:44.939959Z"
    }
   },
   "outputs": [
    {
     "data": {
      "text/html": [
       "<div>\n",
       "<style scoped>\n",
       "    .dataframe tbody tr th:only-of-type {\n",
       "        vertical-align: middle;\n",
       "    }\n",
       "\n",
       "    .dataframe tbody tr th {\n",
       "        vertical-align: top;\n",
       "    }\n",
       "\n",
       "    .dataframe thead th {\n",
       "        text-align: right;\n",
       "    }\n",
       "</style>\n",
       "<table border=\"1\" class=\"dataframe\">\n",
       "  <thead>\n",
       "    <tr style=\"text-align: right;\">\n",
       "      <th></th>\n",
       "      <th>query</th>\n",
       "      <th>no</th>\n",
       "      <th>title</th>\n",
       "      <th>link</th>\n",
       "      <th>description</th>\n",
       "      <th>total_text</th>\n",
       "    </tr>\n",
       "  </thead>\n",
       "  <tbody>\n",
       "    <tr>\n",
       "      <th>0</th>\n",
       "      <td>방탄소년단</td>\n",
       "      <td>1</td>\n",
       "      <td>[방탄소년단] 남준이 태형이 입소식에 모인 멤버들 (+ 석진이...</td>\n",
       "      <td>https://blog.naver.com/blyna/223289309329</td>\n",
       "      <td>달아주는거, 방탄소년단 아니면 누가해 하드캐리했다!! 잘 다녀와 몸 건강히 !! 잠...</td>\n",
       "      <td>[방탄소년단] 남준이 태형이 입소식에 모인 멤버들 (+ 석진이...  달아주는거, ...</td>\n",
       "    </tr>\n",
       "    <tr>\n",
       "      <th>1</th>\n",
       "      <td>방탄소년단</td>\n",
       "      <td>2</td>\n",
       "      <td>[방탄소년단 뷔] 타짜 두번째 이야기 / Vcut 하이라이트</td>\n",
       "      <td>https://blog.naver.com/dfschoi/223288462955</td>\n",
       "      <td>어차피 우승은 뷔 정말 나오고 싶었는데 멋있는 게임을 같이 할 수있어서 기분이 좋고...</td>\n",
       "      <td>[방탄소년단 뷔] 타짜 두번째 이야기 / Vcut 하이라이트 어차피 우승은 뷔 정말...</td>\n",
       "    </tr>\n",
       "    <tr>\n",
       "      <th>2</th>\n",
       "      <td>방탄소년단</td>\n",
       "      <td>3</td>\n",
       "      <td>[BTS 방탄소년단 RM &amp; 뷔] 231210 오늘의 방탄 &amp; 인스타그램...</td>\n",
       "      <td>https://blog.naver.com/kumi030/223288488062</td>\n",
       "      <td>방탄소년단 / BTS / 진 / RM / 슈가 / 제이홉 / 지민 / 뷔 / 정국 ...</td>\n",
       "      <td>[BTS 방탄소년단 RM &amp; 뷔] 231210 오늘의 방탄 &amp; 인스타그램...  방...</td>\n",
       "    </tr>\n",
       "    <tr>\n",
       "      <th>3</th>\n",
       "      <td>방탄소년단</td>\n",
       "      <td>4</td>\n",
       "      <td>[BTS 방탄소년단] 231206-10 인스타그램, 스토리, 위버스...</td>\n",
       "      <td>https://blog.naver.com/okmijnuhb489/223288312506</td>\n",
       "      <td>231206 - 231210 방탄소년단 개인 인스타그램, 스토리 &amp; 위버스 라이브,...</td>\n",
       "      <td>[BTS 방탄소년단] 231206-10 인스타그램, 스토리, 위버스...  2312...</td>\n",
       "    </tr>\n",
       "    <tr>\n",
       "      <th>4</th>\n",
       "      <td>방탄소년단</td>\n",
       "      <td>5</td>\n",
       "      <td>방탄소년단(BTS 남준아 태형아 건강히 잘 다녀와)</td>\n",
       "      <td>https://blog.naver.com/stjkos77/223289032902</td>\n",
       "      <td>탄이들이 군대를 임하는 자세 유쾌해서 좋다구~ 겸둥이들 ㅋㅋㅋ 못말려 ㅋㅋㅋ 아포방...</td>\n",
       "      <td>방탄소년단(BTS 남준아 태형아 건강히 잘 다녀와) 탄이들이 군대를 임하는 자세 유...</td>\n",
       "    </tr>\n",
       "    <tr>\n",
       "      <th>...</th>\n",
       "      <td>...</td>\n",
       "      <td>...</td>\n",
       "      <td>...</td>\n",
       "      <td>...</td>\n",
       "      <td>...</td>\n",
       "      <td>...</td>\n",
       "    </tr>\n",
       "    <tr>\n",
       "      <th>595</th>\n",
       "      <td>\b소녀시대</td>\n",
       "      <td>296</td>\n",
       "      <td>소녀시대 수영 단발 여신 드파운드 머플러 니트 is 소소한...</td>\n",
       "      <td>https://blog.naver.com/wkaqh83/223281341700</td>\n",
       "      <td>단발여신 소녀시대 수영 드파운드 머플러 is 소소한 일상을 특별하게 하늘색 목도리....</td>\n",
       "      <td>소녀시대 수영 단발 여신 드파운드 머플러 니트 is 소소한...  단발여신 소녀시대...</td>\n",
       "    </tr>\n",
       "    <tr>\n",
       "      <th>596</th>\n",
       "      <td>\b소녀시대</td>\n",
       "      <td>297</td>\n",
       "      <td>소녀시대 서현 원피스 수영복 브랜드 파이시스 꺼</td>\n",
       "      <td>https://blog.naver.com/ohye1991/223271314293</td>\n",
       "      <td>중인 소녀시대 서현님이 인스타에서 선보인 파이시스 수영복이랑 튜브탑 가격 정보를 가...</td>\n",
       "      <td>소녀시대 서현 원피스 수영복 브랜드 파이시스 꺼 중인 소녀시대 서현님이 인스타에서 ...</td>\n",
       "    </tr>\n",
       "    <tr>\n",
       "      <th>597</th>\n",
       "      <td>\b소녀시대</td>\n",
       "      <td>298</td>\n",
       "      <td>소녀시대 - Kissing You (2007)</td>\n",
       "      <td>https://blog.naver.com/blazingjtl/223286736627</td>\n",
       "      <td>:-) 제가 입대해서 훈련소 시절에 유행하던 소녀시대의 Kissing You 라는 ...</td>\n",
       "      <td>소녀시대 - Kissing You (2007) :-) 제가 입대해서 훈련소 시절에 ...</td>\n",
       "    </tr>\n",
       "    <tr>\n",
       "      <th>598</th>\n",
       "      <td>\b소녀시대</td>\n",
       "      <td>299</td>\n",
       "      <td>프론투라인 클라우디 패딩재킷 소녀시대유리패딩 예뻐</td>\n",
       "      <td>https://blog.naver.com/25artist/223248560189</td>\n",
       "      <td>프론투라인 클라우디 패딩재킷 소녀시대유리패딩 예뻐를 소개하려고 합니다. Ⅰ. 제품 ...</td>\n",
       "      <td>프론투라인 클라우디 패딩재킷 소녀시대유리패딩 예뻐 프론투라인 클라우디 패딩재킷 소녀...</td>\n",
       "    </tr>\n",
       "    <tr>\n",
       "      <th>599</th>\n",
       "      <td>\b소녀시대</td>\n",
       "      <td>300</td>\n",
       "      <td>[티빙 영화 ]나의 소녀시대</td>\n",
       "      <td>https://blog.naver.com/poposee99/223284061918</td>\n",
       "      <td>오늘의 영화 소개 티빙: 나의 소녀시대 2016년 중국영화입니다 내용 돌아가고 싶은...</td>\n",
       "      <td>[티빙 영화 ]나의 소녀시대 오늘의 영화 소개 티빙: 나의 소녀시대 2016년 중국...</td>\n",
       "    </tr>\n",
       "  </tbody>\n",
       "</table>\n",
       "<p>600 rows × 6 columns</p>\n",
       "</div>"
      ],
      "text/plain": [
       "     query   no                                         title  \\\n",
       "0    방탄소년단    1        [방탄소년단] 남준이 태형이 입소식에 모인 멤버들 (+ 석진이...    \n",
       "1    방탄소년단    2             [방탄소년단 뷔] 타짜 두번째 이야기 / Vcut 하이라이트   \n",
       "2    방탄소년단    3  [BTS 방탄소년단 RM & 뷔] 231210 오늘의 방탄 & 인스타그램...    \n",
       "3    방탄소년단    4     [BTS 방탄소년단] 231206-10 인스타그램, 스토리, 위버스...    \n",
       "4    방탄소년단    5                  방탄소년단(BTS 남준아 태형아 건강히 잘 다녀와)   \n",
       "..     ...  ...                                           ...   \n",
       "595  \b소녀시대  296          소녀시대 수영 단발 여신 드파운드 머플러 니트 is 소소한...    \n",
       "596  \b소녀시대  297                    소녀시대 서현 원피스 수영복 브랜드 파이시스 꺼   \n",
       "597  \b소녀시대  298                     소녀시대 - Kissing You (2007)   \n",
       "598  \b소녀시대  299                   프론투라인 클라우디 패딩재킷 소녀시대유리패딩 예뻐   \n",
       "599  \b소녀시대  300                               [티빙 영화 ]나의 소녀시대   \n",
       "\n",
       "                                                 link  \\\n",
       "0           https://blog.naver.com/blyna/223289309329   \n",
       "1         https://blog.naver.com/dfschoi/223288462955   \n",
       "2         https://blog.naver.com/kumi030/223288488062   \n",
       "3    https://blog.naver.com/okmijnuhb489/223288312506   \n",
       "4        https://blog.naver.com/stjkos77/223289032902   \n",
       "..                                                ...   \n",
       "595       https://blog.naver.com/wkaqh83/223281341700   \n",
       "596      https://blog.naver.com/ohye1991/223271314293   \n",
       "597    https://blog.naver.com/blazingjtl/223286736627   \n",
       "598      https://blog.naver.com/25artist/223248560189   \n",
       "599     https://blog.naver.com/poposee99/223284061918   \n",
       "\n",
       "                                           description  \\\n",
       "0    달아주는거, 방탄소년단 아니면 누가해 하드캐리했다!! 잘 다녀와 몸 건강히 !! 잠...   \n",
       "1    어차피 우승은 뷔 정말 나오고 싶었는데 멋있는 게임을 같이 할 수있어서 기분이 좋고...   \n",
       "2    방탄소년단 / BTS / 진 / RM / 슈가 / 제이홉 / 지민 / 뷔 / 정국 ...   \n",
       "3    231206 - 231210 방탄소년단 개인 인스타그램, 스토리 & 위버스 라이브,...   \n",
       "4    탄이들이 군대를 임하는 자세 유쾌해서 좋다구~ 겸둥이들 ㅋㅋㅋ 못말려 ㅋㅋㅋ 아포방...   \n",
       "..                                                 ...   \n",
       "595  단발여신 소녀시대 수영 드파운드 머플러 is 소소한 일상을 특별하게 하늘색 목도리....   \n",
       "596  중인 소녀시대 서현님이 인스타에서 선보인 파이시스 수영복이랑 튜브탑 가격 정보를 가...   \n",
       "597  :-) 제가 입대해서 훈련소 시절에 유행하던 소녀시대의 Kissing You 라는 ...   \n",
       "598  프론투라인 클라우디 패딩재킷 소녀시대유리패딩 예뻐를 소개하려고 합니다. Ⅰ. 제품 ...   \n",
       "599  오늘의 영화 소개 티빙: 나의 소녀시대 2016년 중국영화입니다 내용 돌아가고 싶은...   \n",
       "\n",
       "                                            total_text  \n",
       "0    [방탄소년단] 남준이 태형이 입소식에 모인 멤버들 (+ 석진이...  달아주는거, ...  \n",
       "1    [방탄소년단 뷔] 타짜 두번째 이야기 / Vcut 하이라이트 어차피 우승은 뷔 정말...  \n",
       "2    [BTS 방탄소년단 RM & 뷔] 231210 오늘의 방탄 & 인스타그램...  방...  \n",
       "3    [BTS 방탄소년단] 231206-10 인스타그램, 스토리, 위버스...  2312...  \n",
       "4    방탄소년단(BTS 남준아 태형아 건강히 잘 다녀와) 탄이들이 군대를 임하는 자세 유...  \n",
       "..                                                 ...  \n",
       "595  소녀시대 수영 단발 여신 드파운드 머플러 니트 is 소소한...  단발여신 소녀시대...  \n",
       "596  소녀시대 서현 원피스 수영복 브랜드 파이시스 꺼 중인 소녀시대 서현님이 인스타에서 ...  \n",
       "597  소녀시대 - Kissing You (2007) :-) 제가 입대해서 훈련소 시절에 ...  \n",
       "598  프론투라인 클라우디 패딩재킷 소녀시대유리패딩 예뻐 프론투라인 클라우디 패딩재킷 소녀...  \n",
       "599  [티빙 영화 ]나의 소녀시대 오늘의 영화 소개 티빙: 나의 소녀시대 2016년 중국...  \n",
       "\n",
       "[600 rows x 6 columns]"
      ]
     },
     "execution_count": 182,
     "metadata": {},
     "output_type": "execute_result"
    }
   ],
   "source": [
    "df"
   ]
  },
  {
   "cell_type": "markdown",
   "id": "ad8b3b46",
   "metadata": {},
   "source": [
    "# 응용해보기\n",
    "- .txt로 저장 안하고 바로 data frame 만들기\n",
    "- 시각화해보기"
   ]
  },
  {
   "cell_type": "code",
   "execution_count": 226,
   "id": "2ae1f5a4",
   "metadata": {
    "ExecuteTime": {
     "end_time": "2023-12-11T10:07:14.864564Z",
     "start_time": "2023-12-11T10:07:14.854640Z"
    }
   },
   "outputs": [],
   "source": [
    "my_queries = ['맛집', '찐맛집']\n",
    "goal_page = 3\n",
    "\n",
    "# Headers setting\n",
    "user_agent = 'Mozilla/5.0 (Macintosh; Intel Mac OS X 10_15_7) AppleWebKit/537.36 (KHTML, like Gecko) Chrome/120.0.0.0 Safari/537.36'\n",
    "headers = {\"User-Agent\": user_agent,\n",
    "        \"X-Naver-Client-Id\": client_id,\n",
    "        \"X-Naver-Client-Secret\": client_secret}"
   ]
  },
  {
   "cell_type": "code",
   "execution_count": 227,
   "id": "e6cd8061",
   "metadata": {
    "ExecuteTime": {
     "end_time": "2023-12-11T10:07:15.991012Z",
     "start_time": "2023-12-11T10:07:15.584263Z"
    }
   },
   "outputs": [
    {
     "data": {
      "text/plain": [
       "{'title': '창원 반림동 초밥 <b>맛집</b> 미스터참치왕',\n",
       " 'link': 'https://blog.naver.com/yosu0633/223288932411',\n",
       " 'description': '반송시장 근처인 아이필프라자 초밥 <b>맛집</b> &quot;미스터참치왕&quot;에 다녀왔어요! 가게 입구쪽엔 메뉴도 간단하게 나와있더라구요 지하 주차장에 주차 지원도 해주시니 참고해주세요 : ) 가게 입구부터 <b>맛집</b> 느낌이... ',\n",
       " 'bloggername': 'withulog',\n",
       " 'bloggerlink': 'blog.naver.com/yosu0633',\n",
       " 'postdate': '20231211'}"
      ]
     },
     "execution_count": 227,
     "metadata": {},
     "output_type": "execute_result"
    }
   ],
   "source": [
    "url = \"https://openapi.naver.com/v1/search/blog.json?display=100&query=\" + my_queries[0] + \"&start=\" + str(1)\n",
    "response = requests.get(url, headers=headers)\n",
    "elements = json.loads(response.text)['items']\n",
    "elements[0]"
   ]
  },
  {
   "cell_type": "code",
   "execution_count": 228,
   "id": "9ae345e7",
   "metadata": {
    "ExecuteTime": {
     "end_time": "2023-12-11T10:07:18.379878Z",
     "start_time": "2023-12-11T10:07:18.369653Z"
    }
   },
   "outputs": [],
   "source": [
    "def get_data_list(query, page, data_list):\n",
    "    print('='*5, query, page, '='*5)\n",
    "    url = \"https://openapi.naver.com/v1/search/blog.json?display=100&query=\" + query + \"&start=\" + str(page+1)\n",
    "    response = requests.get(url, headers=headers)\n",
    "    elements = json.loads(response.text)['items']\n",
    "    \n",
    "    for i, elm in enumerate(elements):\n",
    "        index = (page*100) + (i+1)\n",
    "        \n",
    "        title = elm['title'].replace(\"<b>\", \"\").replace(\"</b>\", \"\")\n",
    "        title = unescape(title) # escape된 문자를 unescape문자로 변경\n",
    "        link = elm['link']\n",
    "        description = elm['description'].replace(\"<b>\", \"\").replace(\"</b>\", \"\")\n",
    "        description = unescape(description)\n",
    "        \n",
    "        data = [query, index, title, link, description, title+\" \"+description]\n",
    "        data_list.append(data)\n",
    "        print(data)\n",
    "    \n",
    "    return data_list"
   ]
  },
  {
   "cell_type": "code",
   "execution_count": null,
   "id": "b1d8458c",
   "metadata": {
    "ExecuteTime": {
     "end_time": "2023-12-11T10:07:24.191386Z",
     "start_time": "2023-12-11T10:07:19.047852Z"
    },
    "scrolled": false
   },
   "outputs": [],
   "source": [
    "data_list = []\n",
    "\n",
    "for query in my_queries:\n",
    "    for page in range(goal_page):\n",
    "        data_list = get_data_list(query, page, data_list)\n",
    "        time.sleep(0.5) #웹페이지 크롤링 매너 최소 6초"
   ]
  },
  {
   "cell_type": "code",
   "execution_count": 230,
   "id": "bd623b0d",
   "metadata": {
    "ExecuteTime": {
     "end_time": "2023-12-11T10:07:24.230708Z",
     "start_time": "2023-12-11T10:07:24.195978Z"
    }
   },
   "outputs": [
    {
     "data": {
      "text/html": [
       "<div>\n",
       "<style scoped>\n",
       "    .dataframe tbody tr th:only-of-type {\n",
       "        vertical-align: middle;\n",
       "    }\n",
       "\n",
       "    .dataframe tbody tr th {\n",
       "        vertical-align: top;\n",
       "    }\n",
       "\n",
       "    .dataframe thead th {\n",
       "        text-align: right;\n",
       "    }\n",
       "</style>\n",
       "<table border=\"1\" class=\"dataframe\">\n",
       "  <thead>\n",
       "    <tr style=\"text-align: right;\">\n",
       "      <th></th>\n",
       "      <th>query</th>\n",
       "      <th>index</th>\n",
       "      <th>title</th>\n",
       "      <th>link</th>\n",
       "      <th>description</th>\n",
       "      <th>total_text</th>\n",
       "    </tr>\n",
       "  </thead>\n",
       "  <tbody>\n",
       "    <tr>\n",
       "      <th>0</th>\n",
       "      <td>맛집</td>\n",
       "      <td>1</td>\n",
       "      <td>창원 반림동 초밥 맛집 미스터참치왕</td>\n",
       "      <td>https://blog.naver.com/yosu0633/223288932411</td>\n",
       "      <td>반송시장 근처인 아이필프라자 초밥 맛집 \"미스터참치왕\"에 다녀왔어요! 가게 입구쪽엔...</td>\n",
       "      <td>창원 반림동 초밥 맛집 미스터참치왕 반송시장 근처인 아이필프라자 초밥 맛집 \"미스터...</td>\n",
       "    </tr>\n",
       "    <tr>\n",
       "      <th>1</th>\n",
       "      <td>맛집</td>\n",
       "      <td>2</td>\n",
       "      <td>인정했던 제주 표선면 맛집 검은여식당</td>\n",
       "      <td>https://blog.naver.com/manpwup/223266362249</td>\n",
       "      <td>지난 주말에 친구들과 제주로도 놀러 가서 예전부터 먹고 싶었던 제주 표선면 맛집을 ...</td>\n",
       "      <td>인정했던 제주 표선면 맛집 검은여식당 지난 주말에 친구들과 제주로도 놀러 가서 예전...</td>\n",
       "    </tr>\n",
       "    <tr>\n",
       "      <th>2</th>\n",
       "      <td>맛집</td>\n",
       "      <td>3</td>\n",
       "      <td>최고였던 제주도 갈치조림 맛집</td>\n",
       "      <td>https://blog.naver.com/armso4224/223285287354</td>\n",
       "      <td>로컬 맛집을 찾아서 방문해 봤는데요. 여행 전부터 지인이 꼭 가야 한다고 추천했던 ...</td>\n",
       "      <td>최고였던 제주도 갈치조림 맛집 로컬 맛집을 찾아서 방문해 봤는데요. 여행 전부터 지...</td>\n",
       "    </tr>\n",
       "    <tr>\n",
       "      <th>3</th>\n",
       "      <td>맛집</td>\n",
       "      <td>4</td>\n",
       "      <td>반해버린 섭지코지 흑돼지 맛집 금돗</td>\n",
       "      <td>https://blog.naver.com/hyo761/223285678915</td>\n",
       "      <td>오랜만에 가족들과 성산일출봉에서 일몰을 보러 다녀왔다가 저녁식사를 위해 섭지코지 흑...</td>\n",
       "      <td>반해버린 섭지코지 흑돼지 맛집 금돗 오랜만에 가족들과 성산일출봉에서 일몰을 보러 다...</td>\n",
       "    </tr>\n",
       "    <tr>\n",
       "      <th>4</th>\n",
       "      <td>맛집</td>\n",
       "      <td>5</td>\n",
       "      <td>최고의 영덕 대게 맛집 대명대게</td>\n",
       "      <td>https://blog.naver.com/boree808/223286719359</td>\n",
       "      <td>가격도 합리적이고 코스 구성도 훌륭했던 영덕 대게 맛집이라 소개해드립니다. 이날 방...</td>\n",
       "      <td>최고의 영덕 대게 맛집 대명대게 가격도 합리적이고 코스 구성도 훌륭했던 영덕 대게 ...</td>\n",
       "    </tr>\n",
       "    <tr>\n",
       "      <th>...</th>\n",
       "      <td>...</td>\n",
       "      <td>...</td>\n",
       "      <td>...</td>\n",
       "      <td>...</td>\n",
       "      <td>...</td>\n",
       "      <td>...</td>\n",
       "    </tr>\n",
       "    <tr>\n",
       "      <th>595</th>\n",
       "      <td>찐맛집</td>\n",
       "      <td>296</td>\n",
       "      <td>해운대 달맞이 횟집 부산 미포 찐맛집 하얀오징어집 추천</td>\n",
       "      <td>https://blog.naver.com/nicenomo/223273213889</td>\n",
       "      <td>달맞이길 찐맛집이다. 해운대 달맞이 횟집 부산 미포 찐맛집 하얀오징어집 추천 하얀오...</td>\n",
       "      <td>해운대 달맞이 횟집 부산 미포 찐맛집 하얀오징어집 추천 달맞이길 찐맛집이다. 해운대...</td>\n",
       "    </tr>\n",
       "    <tr>\n",
       "      <th>596</th>\n",
       "      <td>찐맛집</td>\n",
       "      <td>297</td>\n",
       "      <td>(광주 봉선동 맛집) 돼지갈비가 존맛인 찐맛집 상도촌</td>\n",
       "      <td>https://blog.naver.com/dakoong__/223284387742</td>\n",
       "      <td>맛있으면 햅쀠한 다쿵이에오❤️ 광주 봉선동 맛집 상도촌에서 존맛 돼지갈비 먹고왔는데...</td>\n",
       "      <td>(광주 봉선동 맛집) 돼지갈비가 존맛인 찐맛집 상도촌 맛있으면 햅쀠한 다쿵이에오❤️...</td>\n",
       "    </tr>\n",
       "    <tr>\n",
       "      <th>597</th>\n",
       "      <td>찐맛집</td>\n",
       "      <td>298</td>\n",
       "      <td>인천 개항장 맛집 추천 - 중구청 앞 탕수육 찐맛집 '일조용'</td>\n",
       "      <td>https://blog.naver.com/stepartnet/223284261862</td>\n",
       "      <td>개항장/차이나타운 맛집 추천 - 중구청 앞 탕수육 찐맛집 '일조용' 방문하고자 하시...</td>\n",
       "      <td>인천 개항장 맛집 추천 - 중구청 앞 탕수육 찐맛집 '일조용' 개항장/차이나타운 맛...</td>\n",
       "    </tr>\n",
       "    <tr>\n",
       "      <th>598</th>\n",
       "      <td>찐맛집</td>\n",
       "      <td>299</td>\n",
       "      <td>[이수역/사당역] 순대국 찐맛집 청와옥 후기</td>\n",
       "      <td>https://blog.naver.com/hmeeleee/223262033947</td>\n",
       "      <td>오늘은 이수/사당의 찐맛집~~ 잘못 걸리면 저녁 웨이팅이 30팀이 있을 수도 있는 ...</td>\n",
       "      <td>[이수역/사당역] 순대국 찐맛집 청와옥 후기 오늘은 이수/사당의 찐맛집~~ 잘못 걸...</td>\n",
       "    </tr>\n",
       "    <tr>\n",
       "      <th>599</th>\n",
       "      <td>찐맛집</td>\n",
       "      <td>300</td>\n",
       "      <td>목동맛집 초밥나라 찐맛집  인정</td>\n",
       "      <td>https://blog.naver.com/kjy62520/223246546635</td>\n",
       "      <td>목동맛집 초밥나라 찐맛집 인정! 초밥 매니아인 울언니와 함께 점심을 먹기위해 목동맛...</td>\n",
       "      <td>목동맛집 초밥나라 찐맛집  인정 목동맛집 초밥나라 찐맛집 인정! 초밥 매니아인 울언...</td>\n",
       "    </tr>\n",
       "  </tbody>\n",
       "</table>\n",
       "<p>600 rows × 6 columns</p>\n",
       "</div>"
      ],
      "text/plain": [
       "    query  index                               title  \\\n",
       "0      맛집      1                 창원 반림동 초밥 맛집 미스터참치왕   \n",
       "1      맛집      2                인정했던 제주 표선면 맛집 검은여식당   \n",
       "2      맛집      3                    최고였던 제주도 갈치조림 맛집   \n",
       "3      맛집      4                 반해버린 섭지코지 흑돼지 맛집 금돗   \n",
       "4      맛집      5                   최고의 영덕 대게 맛집 대명대게   \n",
       "..    ...    ...                                 ...   \n",
       "595   찐맛집    296      해운대 달맞이 횟집 부산 미포 찐맛집 하얀오징어집 추천   \n",
       "596   찐맛집    297       (광주 봉선동 맛집) 돼지갈비가 존맛인 찐맛집 상도촌   \n",
       "597   찐맛집    298  인천 개항장 맛집 추천 - 중구청 앞 탕수육 찐맛집 '일조용'   \n",
       "598   찐맛집    299            [이수역/사당역] 순대국 찐맛집 청와옥 후기   \n",
       "599   찐맛집    300                   목동맛집 초밥나라 찐맛집  인정   \n",
       "\n",
       "                                               link  \\\n",
       "0      https://blog.naver.com/yosu0633/223288932411   \n",
       "1       https://blog.naver.com/manpwup/223266362249   \n",
       "2     https://blog.naver.com/armso4224/223285287354   \n",
       "3        https://blog.naver.com/hyo761/223285678915   \n",
       "4      https://blog.naver.com/boree808/223286719359   \n",
       "..                                              ...   \n",
       "595    https://blog.naver.com/nicenomo/223273213889   \n",
       "596   https://blog.naver.com/dakoong__/223284387742   \n",
       "597  https://blog.naver.com/stepartnet/223284261862   \n",
       "598    https://blog.naver.com/hmeeleee/223262033947   \n",
       "599    https://blog.naver.com/kjy62520/223246546635   \n",
       "\n",
       "                                           description  \\\n",
       "0    반송시장 근처인 아이필프라자 초밥 맛집 \"미스터참치왕\"에 다녀왔어요! 가게 입구쪽엔...   \n",
       "1    지난 주말에 친구들과 제주로도 놀러 가서 예전부터 먹고 싶었던 제주 표선면 맛집을 ...   \n",
       "2    로컬 맛집을 찾아서 방문해 봤는데요. 여행 전부터 지인이 꼭 가야 한다고 추천했던 ...   \n",
       "3    오랜만에 가족들과 성산일출봉에서 일몰을 보러 다녀왔다가 저녁식사를 위해 섭지코지 흑...   \n",
       "4    가격도 합리적이고 코스 구성도 훌륭했던 영덕 대게 맛집이라 소개해드립니다. 이날 방...   \n",
       "..                                                 ...   \n",
       "595  달맞이길 찐맛집이다. 해운대 달맞이 횟집 부산 미포 찐맛집 하얀오징어집 추천 하얀오...   \n",
       "596  맛있으면 햅쀠한 다쿵이에오❤️ 광주 봉선동 맛집 상도촌에서 존맛 돼지갈비 먹고왔는데...   \n",
       "597  개항장/차이나타운 맛집 추천 - 중구청 앞 탕수육 찐맛집 '일조용' 방문하고자 하시...   \n",
       "598  오늘은 이수/사당의 찐맛집~~ 잘못 걸리면 저녁 웨이팅이 30팀이 있을 수도 있는 ...   \n",
       "599  목동맛집 초밥나라 찐맛집 인정! 초밥 매니아인 울언니와 함께 점심을 먹기위해 목동맛...   \n",
       "\n",
       "                                            total_text  \n",
       "0    창원 반림동 초밥 맛집 미스터참치왕 반송시장 근처인 아이필프라자 초밥 맛집 \"미스터...  \n",
       "1    인정했던 제주 표선면 맛집 검은여식당 지난 주말에 친구들과 제주로도 놀러 가서 예전...  \n",
       "2    최고였던 제주도 갈치조림 맛집 로컬 맛집을 찾아서 방문해 봤는데요. 여행 전부터 지...  \n",
       "3    반해버린 섭지코지 흑돼지 맛집 금돗 오랜만에 가족들과 성산일출봉에서 일몰을 보러 다...  \n",
       "4    최고의 영덕 대게 맛집 대명대게 가격도 합리적이고 코스 구성도 훌륭했던 영덕 대게 ...  \n",
       "..                                                 ...  \n",
       "595  해운대 달맞이 횟집 부산 미포 찐맛집 하얀오징어집 추천 달맞이길 찐맛집이다. 해운대...  \n",
       "596  (광주 봉선동 맛집) 돼지갈비가 존맛인 찐맛집 상도촌 맛있으면 햅쀠한 다쿵이에오❤️...  \n",
       "597  인천 개항장 맛집 추천 - 중구청 앞 탕수육 찐맛집 '일조용' 개항장/차이나타운 맛...  \n",
       "598  [이수역/사당역] 순대국 찐맛집 청와옥 후기 오늘은 이수/사당의 찐맛집~~ 잘못 걸...  \n",
       "599  목동맛집 초밥나라 찐맛집  인정 목동맛집 초밥나라 찐맛집 인정! 초밥 매니아인 울언...  \n",
       "\n",
       "[600 rows x 6 columns]"
      ]
     },
     "execution_count": 230,
     "metadata": {},
     "output_type": "execute_result"
    }
   ],
   "source": [
    "cols = ['query', 'index', 'title', 'link', 'description', 'total_text']\n",
    "df = pd.DataFrame(data_list, columns=cols)\n",
    "df"
   ]
  },
  {
   "cell_type": "code",
   "execution_count": 231,
   "id": "d791f18f",
   "metadata": {
    "ExecuteTime": {
     "end_time": "2023-12-11T10:07:24.235374Z",
     "start_time": "2023-12-11T10:07:24.231459Z"
    }
   },
   "outputs": [
    {
     "data": {
      "text/plain": [
       "<pandas.core.groupby.generic.DataFrameGroupBy object at 0x176944f90>"
      ]
     },
     "execution_count": 231,
     "metadata": {},
     "output_type": "execute_result"
    }
   ],
   "source": [
    "title_word_list = []\n",
    "for t in list(df['title']):\n",
    "    temp = t.split()\n",
    "    title_word_list += temp\n",
    "    \n",
    "title_df = pd.DataFrame(title_word_list, columns=['title word'])\n",
    "title_df.groupby('title word')"
   ]
  },
  {
   "cell_type": "code",
   "execution_count": 254,
   "id": "91efea02",
   "metadata": {
    "ExecuteTime": {
     "end_time": "2023-12-11T10:19:30.727733Z",
     "start_time": "2023-12-11T10:19:30.715662Z"
    }
   },
   "outputs": [
    {
     "data": {
      "text/plain": [
       "{'제주': 47, '근처': 33, '현지인': 33, '흑돼지': 27, '여수': 24}"
      ]
     },
     "execution_count": 254,
     "metadata": {},
     "output_type": "execute_result"
    }
   ],
   "source": [
    "dict_word = {}\n",
    "\n",
    "for t in list(df['title']):\n",
    "    temp = t.split()\n",
    "    for t in temp:\n",
    "        if t == '맛집' or t == '찐맛집': # 검색 키워드 삭제\n",
    "            continue\n",
    "            \n",
    "        if t in dict_word:\n",
    "            cnt = dict_word[f'{t}']\n",
    "            cnt += 1\n",
    "            dict_word[f'{t}'] = cnt\n",
    "        else:\n",
    "            dict_word[f'{t}'] = 1\n",
    "\n",
    "sorted_word = sorted(dict_word.items(), key=lambda item: item[1], reverse=True)\n",
    "top_5_keyword = sorted_word[:5]\n",
    "top_5_keyword = dict(top_5_keyword)\n",
    "top_5_keyword"
   ]
  },
  {
   "cell_type": "code",
   "execution_count": 255,
   "id": "78841cc0",
   "metadata": {
    "ExecuteTime": {
     "end_time": "2023-12-11T10:19:39.801352Z",
     "start_time": "2023-12-11T10:19:39.746455Z"
    }
   },
   "outputs": [
    {
     "data": {
      "image/png": "[encoded data removed]",
      "text/plain": [
       "<Figure size 640x480 with 1 Axes>"
      ]
     },
     "metadata": {},
     "output_type": "display_data"
    }
   ],
   "source": [
    "import matplotlib.pyplot as plt\n",
    "from matplotlib import rc\n",
    "keys, values = top_5_keyword.keys(), top_5_keyword.values()\n",
    "\n",
    "rc('font', family='AppleGothic')\n",
    "plt.plot(keys, values)\n",
    "plt.rcParams['axes.unicode_minus'] = False\n",
    "plt.show()"
   ]
  },
  {
   "cell_type": "markdown",
   "id": "1f0ef9d7",
   "metadata": {},
   "source": [
    "# ChatGPT API 연동"
   ]
  },
  {
   "cell_type": "code",
   "execution_count": 1,
   "id": "795335bd",
   "metadata": {
    "ExecuteTime": {
     "end_time": "2023-12-12T04:09:20.063553Z",
     "start_time": "2023-12-12T04:09:05.107414Z"
    }
   },
   "outputs": [
    {
     "name": "stdout",
     "output_type": "stream",
     "text": [
      "Collecting openai\n",
      "  Obtaining dependency information for openai from https://files.pythonhosted.org/packages/b6/a4/dcecd835eeba1275c8a2db87f261a70c53f17a69072d153ac322123edb59/openai-1.3.8-py3-none-any.whl.metadata\n",
      "  Downloading openai-1.3.8-py3-none-any.whl.metadata (17 kB)\n",
      "Requirement already satisfied: anyio<5,>=3.5.0 in c:\\users\\yeonsook\\anaconda3\\lib\\site-packages (from openai) (3.5.0)\n",
      "Collecting distro<2,>=1.7.0 (from openai)\n",
      "  Downloading distro-1.8.0-py3-none-any.whl (20 kB)\n",
      "Collecting httpx<1,>=0.23.0 (from openai)\n",
      "  Obtaining dependency information for httpx<1,>=0.23.0 from https://files.pythonhosted.org/packages/a2/65/6940eeb21dcb2953778a6895281c179efd9100463ff08cb6232bb6480da7/httpx-0.25.2-py3-none-any.whl.metadata\n",
      "  Downloading httpx-0.25.2-py3-none-any.whl.metadata (6.9 kB)\n",
      "Requirement already satisfied: pydantic<3,>=1.9.0 in c:\\users\\yeonsook\\anaconda3\\lib\\site-packages (from openai) (1.10.8)\n",
      "Requirement already satisfied: sniffio in c:\\users\\yeonsook\\anaconda3\\lib\\site-packages (from openai) (1.3.0)\n",
      "Requirement already satisfied: tqdm>4 in c:\\users\\yeonsook\\anaconda3\\lib\\site-packages (from openai) (4.65.0)\n",
      "Requirement already satisfied: typing-extensions<5,>=4.5 in c:\\users\\yeonsook\\anaconda3\\lib\\site-packages (from openai) (4.7.1)\n",
      "Requirement already satisfied: idna>=2.8 in c:\\users\\yeonsook\\anaconda3\\lib\\site-packages (from anyio<5,>=3.5.0->openai) (3.4)\n",
      "Requirement already satisfied: certifi in c:\\users\\yeonsook\\anaconda3\\lib\\site-packages (from httpx<1,>=0.23.0->openai) (2023.7.22)\n",
      "Collecting httpcore==1.* (from httpx<1,>=0.23.0->openai)\n",
      "  Obtaining dependency information for httpcore==1.* from https://files.pythonhosted.org/packages/56/ba/78b0a99c4da0ff8b0f59defa2f13ca4668189b134bd9840b6202a93d9a0f/httpcore-1.0.2-py3-none-any.whl.metadata\n",
      "  Downloading httpcore-1.0.2-py3-none-any.whl.metadata (20 kB)\n",
      "Requirement already satisfied: h11<0.15,>=0.13 in c:\\users\\yeonsook\\anaconda3\\lib\\site-packages (from httpcore==1.*->httpx<1,>=0.23.0->openai) (0.14.0)\n",
      "Requirement already satisfied: colorama in c:\\users\\yeonsook\\anaconda3\\lib\\site-packages (from tqdm>4->openai) (0.4.6)\n",
      "Downloading openai-1.3.8-py3-none-any.whl (221 kB)\n",
      "   ---------------------------------------- 0.0/221.5 kB ? eta -:--:--\n",
      "   --------------------------------------- 221.5/221.5 kB 13.2 MB/s eta 0:00:00\n",
      "Downloading httpx-0.25.2-py3-none-any.whl (74 kB)\n",
      "   ---------------------------------------- 0.0/75.0 kB ? eta -:--:--\n",
      "   ---------------------------------------- 75.0/75.0 kB ? eta 0:00:00\n",
      "Downloading httpcore-1.0.2-py3-none-any.whl (76 kB)\n",
      "   ---------------------------------------- 0.0/76.9 kB ? eta -:--:--\n",
      "   ---------------------------------------- 76.9/76.9 kB 4.2 MB/s eta 0:00:00\n",
      "Installing collected packages: httpcore, distro, httpx, openai\n",
      "Successfully installed distro-1.8.0 httpcore-1.0.2 httpx-0.25.2 openai-1.3.8\n"
     ]
    }
   ],
   "source": [
    "!pip install openai"
   ]
  },
  {
   "cell_type": "code",
   "execution_count": 2,
   "id": "0328949f",
   "metadata": {
    "ExecuteTime": {
     "end_time": "2023-12-12T04:10:15.246471Z",
     "start_time": "2023-12-12T04:10:04.076550Z"
    }
   },
   "outputs": [
    {
     "name": "stdout",
     "output_type": "stream",
     "text": [
      "Requirement already satisfied: openai in c:\\users\\yeonsook\\anaconda3\\lib\\site-packages (1.3.8)\n",
      "Requirement already satisfied: anyio<5,>=3.5.0 in c:\\users\\yeonsook\\anaconda3\\lib\\site-packages (from openai) (3.5.0)\n",
      "Requirement already satisfied: distro<2,>=1.7.0 in c:\\users\\yeonsook\\anaconda3\\lib\\site-packages (from openai) (1.8.0)\n",
      "Requirement already satisfied: httpx<1,>=0.23.0 in c:\\users\\yeonsook\\anaconda3\\lib\\site-packages (from openai) (0.25.2)\n",
      "Requirement already satisfied: pydantic<3,>=1.9.0 in c:\\users\\yeonsook\\anaconda3\\lib\\site-packages (from openai) (1.10.8)\n",
      "Requirement already satisfied: sniffio in c:\\users\\yeonsook\\anaconda3\\lib\\site-packages (from openai) (1.3.0)\n",
      "Requirement already satisfied: tqdm>4 in c:\\users\\yeonsook\\anaconda3\\lib\\site-packages (from openai) (4.65.0)\n",
      "Requirement already satisfied: typing-extensions<5,>=4.5 in c:\\users\\yeonsook\\anaconda3\\lib\\site-packages (from openai) (4.7.1)\n",
      "Requirement already satisfied: idna>=2.8 in c:\\users\\yeonsook\\anaconda3\\lib\\site-packages (from anyio<5,>=3.5.0->openai) (3.4)\n",
      "Requirement already satisfied: certifi in c:\\users\\yeonsook\\anaconda3\\lib\\site-packages (from httpx<1,>=0.23.0->openai) (2023.7.22)\n",
      "Requirement already satisfied: httpcore==1.* in c:\\users\\yeonsook\\anaconda3\\lib\\site-packages (from httpx<1,>=0.23.0->openai) (1.0.2)\n",
      "Requirement already satisfied: h11<0.15,>=0.13 in c:\\users\\yeonsook\\anaconda3\\lib\\site-packages (from httpcore==1.*->httpx<1,>=0.23.0->openai) (0.14.0)\n",
      "Requirement already satisfied: colorama in c:\\users\\yeonsook\\anaconda3\\lib\\site-packages (from tqdm>4->openai) (0.4.6)\n",
      "Note: you may need to restart the kernel to use updated packages.\n"
     ]
    }
   ],
   "source": [
    "pip install --upgrade openai"
   ]
  },
  {
   "cell_type": "code",
   "execution_count": 3,
   "id": "f57c4056",
   "metadata": {
    "ExecuteTime": {
     "end_time": "2023-12-12T04:10:16.571836Z",
     "start_time": "2023-12-12T04:10:15.251725Z"
    }
   },
   "outputs": [],
   "source": [
    "import os\n",
    "from openai import OpenAI"
   ]
  },
  {
   "cell_type": "code",
   "execution_count": 5,
   "id": "969e58f0",
   "metadata": {
    "ExecuteTime": {
     "end_time": "2023-12-12T04:11:41.075262Z",
     "start_time": "2023-12-12T04:11:40.544574Z"
    }
   },
   "outputs": [],
   "source": [
    "client = OpenAI(\n",
    "  api_key= \"\",  # this is also the default, it can be omitted\n",
    ")\n",
    "\n",
    "\n",
    "# openai.api_key = \"\"\n",
    "# openai.Model.list()"
   ]
  },
  {
   "cell_type": "code",
   "execution_count": 6,
   "id": "d11467e2",
   "metadata": {
    "ExecuteTime": {
     "end_time": "2023-12-12T04:12:15.401109Z",
     "start_time": "2023-12-12T04:12:15.013121Z"
    }
   },
   "outputs": [
    {
     "name": "stdout",
     "output_type": "stream",
     "text": [
      "Model(id='text-search-babbage-doc-001', created=1651172509, object='model', owned_by='openai-dev')\n",
      "Model(id='curie-search-query', created=1651172509, object='model', owned_by='openai-dev')\n",
      "Model(id='text-davinci-003', created=1669599635, object='model', owned_by='openai-internal')\n",
      "Model(id='text-search-babbage-query-001', created=1651172509, object='model', owned_by='openai-dev')\n",
      "Model(id='babbage', created=1649358449, object='model', owned_by='openai')\n",
      "Model(id='babbage-search-query', created=1651172509, object='model', owned_by='openai-dev')\n",
      "Model(id='text-babbage-001', created=1649364043, object='model', owned_by='openai')\n",
      "Model(id='text-similarity-davinci-001', created=1651172505, object='model', owned_by='openai-dev')\n",
      "Model(id='davinci-similarity', created=1651172509, object='model', owned_by='openai-dev')\n",
      "Model(id='code-davinci-edit-001', created=1649880484, object='model', owned_by='openai')\n",
      "Model(id='curie-similarity', created=1651172510, object='model', owned_by='openai-dev')\n",
      "Model(id='babbage-search-document', created=1651172510, object='model', owned_by='openai-dev')\n",
      "Model(id='curie-instruct-beta', created=1649364042, object='model', owned_by='openai')\n",
      "Model(id='text-search-ada-doc-001', created=1651172507, object='model', owned_by='openai-dev')\n",
      "Model(id='davinci-instruct-beta', created=1649364042, object='model', owned_by='openai')\n",
      "Model(id='whisper-1', created=1677532384, object='model', owned_by='openai-internal')\n",
      "Model(id='text-similarity-babbage-001', created=1651172505, object='model', owned_by='openai-dev')\n",
      "Model(id='text-search-davinci-doc-001', created=1651172505, object='model', owned_by='openai-dev')\n",
      "Model(id='babbage-similarity', created=1651172505, object='model', owned_by='openai-dev')\n",
      "Model(id='text-embedding-ada-002', created=1671217299, object='model', owned_by='openai-internal')\n",
      "Model(id='davinci-search-query', created=1651172505, object='model', owned_by='openai-dev')\n",
      "Model(id='text-similarity-curie-001', created=1651172507, object='model', owned_by='openai-dev')\n",
      "Model(id='text-davinci-001', created=1649364042, object='model', owned_by='openai')\n",
      "Model(id='text-search-davinci-query-001', created=1651172505, object='model', owned_by='openai-dev')\n",
      "Model(id='ada-search-document', created=1651172507, object='model', owned_by='openai-dev')\n",
      "Model(id='ada-code-search-code', created=1651172505, object='model', owned_by='openai-dev')\n",
      "Model(id='babbage-002', created=1692634615, object='model', owned_by='system')\n",
      "Model(id='davinci-002', created=1692634301, object='model', owned_by='system')\n",
      "Model(id='davinci-search-document', created=1651172509, object='model', owned_by='openai-dev')\n",
      "Model(id='curie-search-document', created=1651172508, object='model', owned_by='openai-dev')\n",
      "Model(id='babbage-code-search-code', created=1651172509, object='model', owned_by='openai-dev')\n",
      "Model(id='text-search-ada-query-001', created=1651172505, object='model', owned_by='openai-dev')\n",
      "Model(id='code-search-ada-text-001', created=1651172507, object='model', owned_by='openai-dev')\n",
      "Model(id='babbage-code-search-text', created=1651172509, object='model', owned_by='openai-dev')\n",
      "Model(id='code-search-babbage-code-001', created=1651172507, object='model', owned_by='openai-dev')\n",
      "Model(id='ada-search-query', created=1651172505, object='model', owned_by='openai-dev')\n",
      "Model(id='gpt-3.5-turbo', created=1677610602, object='model', owned_by='openai')\n",
      "Model(id='ada-code-search-text', created=1651172510, object='model', owned_by='openai-dev')\n",
      "Model(id='tts-1-hd', created=1699046015, object='model', owned_by='system')\n",
      "Model(id='text-search-curie-query-001', created=1651172509, object='model', owned_by='openai-dev')\n",
      "Model(id='gpt-3.5-turbo-16k', created=1683758102, object='model', owned_by='openai-internal')\n",
      "Model(id='text-davinci-002', created=1649880484, object='model', owned_by='openai')\n",
      "Model(id='text-davinci-edit-001', created=1649809179, object='model', owned_by='openai')\n",
      "Model(id='code-search-babbage-text-001', created=1651172507, object='model', owned_by='openai-dev')\n",
      "Model(id='ada', created=1649357491, object='model', owned_by='openai')\n",
      "Model(id='text-ada-001', created=1649364042, object='model', owned_by='openai')\n",
      "Model(id='ada-similarity', created=1651172507, object='model', owned_by='openai-dev')\n",
      "Model(id='code-search-ada-code-001', created=1651172507, object='model', owned_by='openai-dev')\n",
      "Model(id='text-similarity-ada-001', created=1651172505, object='model', owned_by='openai-dev')\n",
      "Model(id='gpt-3.5-turbo-0301', created=1677649963, object='model', owned_by='openai')\n",
      "Model(id='gpt-3.5-turbo-16k-0613', created=1685474247, object='model', owned_by='openai')\n",
      "Model(id='text-search-curie-doc-001', created=1651172509, object='model', owned_by='openai-dev')\n",
      "Model(id='text-curie-001', created=1649364043, object='model', owned_by='openai')\n",
      "Model(id='curie', created=1649359874, object='model', owned_by='openai')\n",
      "Model(id='tts-1', created=1681940951, object='model', owned_by='openai-internal')\n",
      "Model(id='davinci', created=1649359874, object='model', owned_by='openai')\n",
      "Model(id='gpt-3.5-turbo-1106', created=1698959748, object='model', owned_by='system')\n",
      "Model(id='gpt-3.5-turbo-instruct-0914', created=1694122472, object='model', owned_by='system')\n",
      "Model(id='dall-e-2', created=1698798177, object='model', owned_by='system')\n",
      "Model(id='gpt-3.5-turbo-instruct', created=1692901427, object='model', owned_by='system')\n",
      "Model(id='gpt-3.5-turbo-0613', created=1686587434, object='model', owned_by='openai')\n",
      "Model(id='tts-1-1106', created=1699053241, object='model', owned_by='system')\n",
      "Model(id='tts-1-hd-1106', created=1699053533, object='model', owned_by='system')\n",
      "Model(id='dall-e-3', created=1698785189, object='model', owned_by='system')\n"
     ]
    }
   ],
   "source": [
    "for m in client.models.list():\n",
    "    print(m)"
   ]
  },
  {
   "cell_type": "code",
   "execution_count": 12,
   "id": "eecb9eaa",
   "metadata": {
    "ExecuteTime": {
     "end_time": "2023-12-12T04:16:15.836946Z",
     "start_time": "2023-12-12T04:16:15.832623Z"
    }
   },
   "outputs": [],
   "source": [
    "input_text = \"인공지능이 뭐야\""
   ]
  },
  {
   "cell_type": "code",
   "execution_count": null,
   "id": "278b9124",
   "metadata": {
    "ExecuteTime": {
     "end_time": "2023-12-12T04:16:19.766890Z",
     "start_time": "2023-12-12T04:16:16.159885Z"
    }
   },
   "outputs": [],
   "source": [
    "response = client.chat.completions.create(\n",
    "    model=\"gpt-3.5-turbo\",\n",
    "    messages=[\n",
    "        {\"role\": \"user\",\n",
    "         \"content\": input_text}\n",
    "        ]\n",
    ")"
   ]
  },
  {
   "cell_type": "code",
   "execution_count": null,
   "id": "440f9eff",
   "metadata": {
    "ExecuteTime": {
     "end_time": "2023-12-12T04:19:01.502734Z",
     "start_time": "2023-12-12T04:19:01.473113Z"
    }
   },
   "outputs": [],
   "source": [
    "type(response)"
   ]
  },
  {
   "cell_type": "code",
   "execution_count": null,
   "id": "cd0e1a69",
   "metadata": {},
   "outputs": [],
   "source": [
    "response"
   ]
  },
  {
   "cell_type": "code",
   "execution_count": null,
   "id": "31d48319",
   "metadata": {},
   "outputs": [],
   "source": [
    "response.choices"
   ]
  },
  {
   "cell_type": "code",
   "execution_count": null,
   "id": "088a88dd",
   "metadata": {},
   "outputs": [],
   "source": [
    "response.choices[0].message.content"
   ]
  },
  {
   "cell_type": "code",
   "execution_count": null,
   "id": "e163a12f",
   "metadata": {},
   "outputs": [],
   "source": [
    "def chatgpt(input_text):\n",
    "    response = client.chat.completions.create(\n",
    "        model=\"gpt-3.5-turbo\",\n",
    "        messages=[{\"role\": \"user\", \"content\": input_text}]\n",
    "    )\n",
    "    output = response.choices[0].message.content\n",
    "    return output"
   ]
  },
  {
   "cell_type": "code",
   "execution_count": null,
   "id": "42cd121c",
   "metadata": {},
   "outputs": [],
   "source": [
    "chatgpt('what is ai')"
   ]
  }
 ],
 "metadata": {
  "kernelspec": {
   "display_name": "Python 3 (ipykernel)",
   "language": "python",
   "name": "python3"
  },
  "language_info": {
   "codemirror_mode": {
    "name": "ipython",
    "version": 3
   },
   "file_extension": ".py",
   "mimetype": "text/x-python",
   "name": "python",
   "nbconvert_exporter": "python",
   "pygments_lexer": "ipython3",
   "version": "3.11.5"
  },
  "toc": {
   "base_numbering": 1,
   "nav_menu": {},
   "number_sections": true,
   "sideBar": true,
   "skip_h1_title": false,
   "title_cell": "Table of Contents",
   "title_sidebar": "Contents",
   "toc_cell": false,
   "toc_position": {
    "height": "calc(100% - 180px)",
    "left": "10px",
    "top": "150px",
    "width": "175px"
   },
   "toc_section_display": true,
   "toc_window_display": true
  }
 },
 "nbformat": 4,
 "nbformat_minor": 5
}
