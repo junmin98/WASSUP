{
 "cells": [
  {
   "cell_type": "markdown",
   "id": "b391a246",
   "metadata": {},
   "source": [
    "# 웹 스크래핑 프로그램 만들어보자\n",
    "https://korean.visitkorea.or.kr/search/search_list.do?keyword=인천\n",
    "\n",
    "1. 여행기사를 추출한다.\n",
    "2. 검색어와 스크래핑 건수를 입력받는다.\n",
    "3. 페이지를 이동한다.\n",
    "4. 상세 페이지별로 여행기사 정보를 수집한다.\n",
    "4. 이미지와 텍스트를 추출해서 파일로 저장"
   ]
  },
  {
   "cell_type": "markdown",
   "id": "744dd753",
   "metadata": {},
   "source": [
    "## my version"
   ]
  },
  {
   "cell_type": "code",
   "execution_count": 1,
   "id": "8fa0dab2",
   "metadata": {
    "ExecuteTime": {
     "end_time": "2023-12-13T04:41:43.439147Z",
     "start_time": "2023-12-13T04:41:28.321064Z"
    }
   },
   "outputs": [
    {
     "name": "stdout",
     "output_type": "stream",
     "text": [
      "검색어를 입력하세요: 인천\n"
     ]
    }
   ],
   "source": [
    "from selenium import webdriver\n",
    "from selenium.webdriver.common.by import By\n",
    "from selenium.webdriver.chrome.options import Options\n",
    "import math\n",
    "import time\n",
    "import os\n",
    "from bs4 import BeautifulSoup\n",
    "from selenium.webdriver.common.keys import Keys\n",
    "import time, urllib.request\n",
    "\n",
    "\n",
    "options = Options()\n",
    "options.add_argument('--window-size=974,1047')\n",
    "options.add_argument('--window-position=953,0')\n",
    "options.add_experimental_option(\"detach\", True)\n",
    "\n",
    "search = input(\"검색어를 입력하세요: \")\n",
    "URL = 'https://korean.visitkorea.or.kr/search/search_list.do?keyword='+search\n",
    "\n",
    "driver = webdriver.Chrome(options=options)\n",
    "driver.get(URL)\n",
    "time.sleep(3)"
   ]
  },
  {
   "cell_type": "code",
   "execution_count": 2,
   "id": "df35aa5f",
   "metadata": {
    "ExecuteTime": {
     "end_time": "2023-12-13T04:41:46.209135Z",
     "start_time": "2023-12-13T04:41:45.876787Z"
    }
   },
   "outputs": [],
   "source": [
    "# 여행기사 더보기 클릭\n",
    "driver.find_element(By.CSS_SELECTOR, '#s_recommend>.more_view>a').click()"
   ]
  },
  {
   "cell_type": "code",
   "execution_count": 3,
   "id": "1116eaa0",
   "metadata": {
    "ExecuteTime": {
     "end_time": "2023-12-13T04:46:05.585263Z",
     "start_time": "2023-12-13T04:41:53.408145Z"
    }
   },
   "outputs": [
    {
     "name": "stdout",
     "output_type": "stream",
     "text": [
      "크롤링 할 건수는 몇 건? 12\n",
      "===== 1 페이지 =====\n",
      "1 서울 근교 여행, 아이와 나들이 떠나는 인천 여행 코스\n",
      "2 옛 감성 물씬, 인천 구도심(동인천) 테마여행\n",
      "3 인천테마여행_긴 물길을 따라 이어지는 다채로운 여행 경인아라뱃길\n",
      "4 인천 여행, 선선한 저녁에 즐기는 인천 야경 명소 4\n",
      "5 짜장면이 태어난 차이나타운의 먹자골목, 인천 북성동원조자장면거리와 짜장면박물관\n",
      "6 인천 근현대사 중심지, 시민의 공간이 되다! 인천시민애집\n",
      "7 낭만과 그리움을 찾아서, 인천 경인아라뱃길 정서진 드라이브\n",
      "8 견공의, 견공에 의한, 견공을 위한 놀이 공간 인천대공원 반려견놀이터\n",
      "9 [인천] 도심 속 공원으로 떠나는 비대면 힐링여행\n",
      "인천 송도 센트럴파크 & 소래습지생태공원\n",
      "10 우리나라 최초의 등대, 인천 팔미도등대\n",
      "===== 2 페이지 =====\n",
      "11 인천의 핫한 거리 평리단길 카페\n",
      "12 과거부터 현재까지,\n",
      "인천으로 떠나는 시간 여행\n",
      "========= 작업 완료 =========\n"
     ]
    }
   ],
   "source": [
    "# 수집할 데이터 개수 입력 받기\n",
    "data_num = int(input('크롤링 할 건수는 몇 건? '))\n",
    "num = 0\n",
    "\n",
    "start_page = 1\n",
    "goal_page = math.ceil(data_num / 10)\n",
    "# 제목 추출 xpath\n",
    "tit_path = '//*[@id=\"search_result\"]/ul/li[*]/div[1]/div[1]/a'\n",
    "\n",
    "\n",
    "data_list = []\n",
    "\n",
    "for p in range(start_page, goal_page+1):\n",
    "    print(f'===== {p} 페이지 =====')\n",
    "    titles = driver.find_elements(By.XPATH, tit_path) # driver.find_element(By.CSS_SELECTOR, '#search_result .tit>a')\n",
    "    time.sleep(1)\n",
    "    \n",
    "    for t in titles:\n",
    "        num += 1\n",
    "        if num > data_num:\n",
    "            break\n",
    "        title = t.text\n",
    "        print(num, title)\n",
    "        \n",
    "        data_dic = {}\n",
    "        data_dic['Title'] = title\n",
    "        \n",
    "        # 제목 클릭\n",
    "        driver.execute_script('arguments[0].click()', t)\n",
    "        \n",
    "        \n",
    "        # 상세정보 수집\n",
    "        time.sleep(2)\n",
    "        texts = driver.find_elements(By.CSS_SELECTOR, '.txt_p p')\n",
    "        text_list = [ t.text for t in texts ]\n",
    "        text_merge = ' '.join(text_list)\n",
    "        data_dic['Text'] = text_merge\n",
    "        data_list.append(data_dic)\n",
    "        \n",
    "        \n",
    "        # 이미지 저장\n",
    "        time.sleep(2)\n",
    "        f_dir = f'여행기사/{search}/{num}'\n",
    "        os.makedirs(os.getcwd() + '/' + f_dir, exist_ok=True)\n",
    "        \n",
    "        html_src = driver.page_source\n",
    "        html_dom = BeautifulSoup(html_src, 'lxml')\n",
    "        \n",
    "        img_list = html_dom.select('.img_typeBox img')\n",
    "        cdn_list = []\n",
    "        for img in img_list:\n",
    "            cdn_list.append(img[\"src\"])\n",
    "        no = 0\n",
    "        for src in cdn_list:\n",
    "            # 다운로드\n",
    "            urllib.request.urlretrieve(src, f'{f_dir}/{no}.jpg')\n",
    "            no+=1\n",
    "        \n",
    "        # back\n",
    "        time.sleep(2)\n",
    "        \n",
    "        \n",
    "        driver.back()\n",
    "        \n",
    "    if num < data_num:\n",
    "        time.sleep(2)\n",
    "        next_button = driver.find_element(By.CSS_SELECTOR, f\"a[id='{p+1}']\")\n",
    "        driver.execute_script(\"arguments[0].click();\", next_button)\n",
    "        time.sleep(2)\n",
    "\n",
    "print('========= 작업 완료 =========')"
   ]
  },
  {
   "cell_type": "code",
   "execution_count": 11,
   "id": "dc010410",
   "metadata": {
    "ExecuteTime": {
     "end_time": "2023-12-13T05:22:43.212789Z",
     "start_time": "2023-12-13T05:22:43.206714Z"
    }
   },
   "outputs": [],
   "source": [
    "# import pandas as pd\n",
    "# df = pd.DataFrame(data_list)\n",
    "# df.to_csv(f'여행기사/{search}.csv', index=False, encoding='cp949') # 특정 문자에서 인코딩 문제 있음\n",
    "# driver.close()"
   ]
  },
  {
   "cell_type": "markdown",
   "id": "0463f114",
   "metadata": {},
   "source": [
    "# pyinstaller로 실행 파일 만들기"
   ]
  },
  {
   "cell_type": "code",
   "execution_count": 1,
   "id": "e76fb816",
   "metadata": {},
   "outputs": [
    {
     "name": "stdin",
     "output_type": "stream",
     "text": [
      "검색어를 입력하세요:  부산\n",
      "크롤링 할 건수는 몇 건?  2\n"
     ]
    },
    {
     "name": "stdout",
     "output_type": "stream",
     "text": [
      "===== 1 페이지 =====\n",
      "1 부산 도심에서 가장 빨리 기장의 바다를 만나는 동해선\n",
      "2 붉게 물든 노을이 아름다운, 부산 일몰 명소\n",
      "========= 작업 완료 =========\n"
     ]
    },
    {
     "data": {
      "text/html": [
       "<div>\n",
       "<style scoped>\n",
       "    .dataframe tbody tr th:only-of-type {\n",
       "        vertical-align: middle;\n",
       "    }\n",
       "\n",
       "    .dataframe tbody tr th {\n",
       "        vertical-align: top;\n",
       "    }\n",
       "\n",
       "    .dataframe thead th {\n",
       "        text-align: right;\n",
       "    }\n",
       "</style>\n",
       "<table border=\"1\" class=\"dataframe\">\n",
       "  <thead>\n",
       "    <tr style=\"text-align: right;\">\n",
       "      <th></th>\n",
       "      <th>Title</th>\n",
       "      <th>Text</th>\n",
       "    </tr>\n",
       "  </thead>\n",
       "  <tbody>\n",
       "    <tr>\n",
       "      <th>0</th>\n",
       "      <td>부산 도심에서 가장 빨리 기장의 바다를 만나는 동해선</td>\n",
       "      <td>2016년 12월 동해선이 개통했다. 부전에서 일광까지 16개 역이 있으며, 총 2...</td>\n",
       "    </tr>\n",
       "    <tr>\n",
       "      <th>1</th>\n",
       "      <td>붉게 물든 노을이 아름다운, 부산 일몰 명소</td>\n",
       "      <td>출처 : 대한민국구석구석 SNS\\n글, 사진 : 다님 3기 손창현\\nhttps://...</td>\n",
       "    </tr>\n",
       "  </tbody>\n",
       "</table>\n",
       "</div>"
      ],
      "text/plain": [
       "                           Title  \\\n",
       "0  부산 도심에서 가장 빨리 기장의 바다를 만나는 동해선   \n",
       "1       붉게 물든 노을이 아름다운, 부산 일몰 명소   \n",
       "\n",
       "                                                Text  \n",
       "0  2016년 12월 동해선이 개통했다. 부전에서 일광까지 16개 역이 있으며, 총 2...  \n",
       "1  출처 : 대한민국구석구석 SNS\\n글, 사진 : 다님 3기 손창현\\nhttps://...  "
      ]
     },
     "execution_count": 1,
     "metadata": {},
     "output_type": "execute_result"
    }
   ],
   "source": [
    "from selenium import webdriver\n",
    "from selenium.webdriver.common.by import By\n",
    "from selenium.webdriver.chrome.options import Options\n",
    "import math\n",
    "import time\n",
    "import os\n",
    "from bs4 import BeautifulSoup\n",
    "from selenium.webdriver.common.keys import Keys\n",
    "import time, urllib.request\n",
    "import pandas as pd\n",
    "\n",
    "options = Options()\n",
    "options.add_argument('--window-size=974,1047')\n",
    "options.add_argument('--window-position=953,0')\n",
    "options.add_experimental_option(\"detach\", True)\n",
    "\n",
    "search = input(\"검색어를 입력하세요: \")\n",
    "data_num = int(input('크롤링 할 건수는 몇 건? '))\n",
    "\n",
    "URL = 'https://korean.visitkorea.or.kr/search/search_list.do?keyword='+search\n",
    "\n",
    "driver = webdriver.Chrome(options=options)\n",
    "driver.get(URL)\n",
    "time.sleep(3)\n",
    "\n",
    "# 여행기사 더보기 클릭\n",
    "driver.find_element(By.CSS_SELECTOR, '#s_recommend>.more_view>a').click()\n",
    "\n",
    "# 수집할 데이터 개수 입력 받기\n",
    "num = 0\n",
    "\n",
    "start_page = 1\n",
    "goal_page = math.ceil(data_num / 10)\n",
    "# 제목 추출 xpath\n",
    "tit_path = '//*[@id=\"search_result\"]/ul/li[*]/div[1]/div[1]/a'\n",
    "\n",
    "\n",
    "data_list = []\n",
    "\n",
    "for p in range(start_page, goal_page+1):\n",
    "    print(f'===== {p} 페이지 =====')\n",
    "    titles = driver.find_elements(By.XPATH, tit_path) # driver.find_element(By.CSS_SELECTOR, '#search_result')\n",
    "    time.sleep(1)\n",
    "    \n",
    "    for t in titles:\n",
    "        num += 1\n",
    "        if num > data_num:\n",
    "            break\n",
    "        title = t.text\n",
    "        print(num, title)\n",
    "        \n",
    "        data_dic = {}\n",
    "        data_dic['Title'] = title\n",
    "        \n",
    "        # 제목 클릭\n",
    "        driver.execute_script('arguments[0].click()', t)\n",
    "        \n",
    "        # 상세정보 수집\n",
    "        time.sleep(2)\n",
    "        texts = driver.find_elements(By.CSS_SELECTOR, '.txt_p p')\n",
    "        text_list = [ t.text for t in texts ]\n",
    "        text_merge = ' '.join(text_list)\n",
    "        data_dic['Text'] = text_merge\n",
    "        data_list.append(data_dic)\n",
    "        \n",
    "        # 이미지 저장\n",
    "        time.sleep(2)\n",
    "        f_dir = f'여행기사/{search}/{num}'\n",
    "        os.makedirs(os.getcwd() + '/' + f_dir, exist_ok=True)\n",
    "        \n",
    "        html_src = driver.page_source\n",
    "        html_dom = BeautifulSoup(html_src, 'lxml')\n",
    "        \n",
    "        img_list = html_dom.select('.img_typeBox img')\n",
    "        cdn_list = []\n",
    "        for img in img_list:\n",
    "            cdn_list.append(img[\"src\"])\n",
    "        no = 0\n",
    "        for src in cdn_list:\n",
    "            # 다운로드\n",
    "            urllib.request.urlretrieve(src, f'{f_dir}/{no}.jpg')\n",
    "            no+=1\n",
    "        \n",
    "        # back\n",
    "        time.sleep(2)\n",
    "        driver.back()\n",
    "        \n",
    "    if num < data_num:\n",
    "        time.sleep(2)\n",
    "        next_button = driver.find_element(By.CSS_SELECTOR, f\"a[id='{p+1}']\")\n",
    "        driver.execute_script(\"arguments[0].click();\", next_button)\n",
    "        time.sleep(2)\n",
    "\n",
    "df = pd.DataFrame(data_list)\n",
    "df.to_csv(f'여행기사/{search}.csv', index=False, encoding='cp949') # 특정 문자에서 인코딩 문제 있음\n",
    "driver.close()\n",
    "print('========= 작업 완료 =========')"
   ]
  },
  {
   "cell_type": "code",
   "execution_count": null,
   "id": "b72d6a00-180b-431b-ae18-2ac6633d5124",
   "metadata": {},
   "outputs": [],
   "source": []
  }
 ],
 "metadata": {
  "kernelspec": {
   "display_name": "Python 3 (ipykernel)",
   "language": "python",
   "name": "python3"
  },
  "language_info": {
   "codemirror_mode": {
    "name": "ipython",
    "version": 3
   },
   "file_extension": ".py",
   "mimetype": "text/x-python",
   "name": "python",
   "nbconvert_exporter": "python",
   "pygments_lexer": "ipython3",
   "version": "3.11.5"
  },
  "toc": {
   "base_numbering": 1,
   "nav_menu": {},
   "number_sections": true,
   "sideBar": true,
   "skip_h1_title": false,
   "title_cell": "Table of Contents",
   "title_sidebar": "Contents",
   "toc_cell": false,
   "toc_position": {},
   "toc_section_display": true,
   "toc_window_display": false
  }
 },
 "nbformat": 4,
 "nbformat_minor": 5
}
