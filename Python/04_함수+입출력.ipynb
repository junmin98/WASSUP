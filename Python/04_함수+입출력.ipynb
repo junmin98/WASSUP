{
 "cells": [
  {
   "cell_type": "markdown",
   "id": "e6b792ab",
   "metadata": {},
   "source": [
    "# 파이썬 함수와 입출력"
   ]
  },
  {
   "cell_type": "markdown",
   "id": "d9d0eac8",
   "metadata": {},
   "source": [
    "## 함수"
   ]
  },
  {
   "cell_type": "code",
   "execution_count": 1,
   "id": "ced47d24",
   "metadata": {
    "ExecuteTime": {
     "end_time": "2023-11-30T01:26:23.225809Z",
     "start_time": "2023-11-30T01:26:23.216029Z"
    }
   },
   "outputs": [
    {
     "name": "stdout",
     "output_type": "stream",
     "text": [
      "7\n"
     ]
    }
   ],
   "source": [
    "def add(a, b):\n",
    "    return a + b\n",
    "\n",
    "a = 3\n",
    "b = 4\n",
    "c = add(a, b)\n",
    "print(c)"
   ]
  },
  {
   "cell_type": "code",
   "execution_count": 2,
   "id": "142259b2",
   "metadata": {
    "ExecuteTime": {
     "end_time": "2023-11-30T01:26:49.940613Z",
     "start_time": "2023-11-30T01:26:49.935041Z"
    }
   },
   "outputs": [
    {
     "name": "stdout",
     "output_type": "stream",
     "text": [
      "Hi\n"
     ]
    }
   ],
   "source": [
    "# 입력값이 없는 함수\n",
    "def say():\n",
    "    return 'Hi'\n",
    "\n",
    "a = say()\n",
    "print(a)"
   ]
  },
  {
   "cell_type": "code",
   "execution_count": 3,
   "id": "d42db919",
   "metadata": {
    "ExecuteTime": {
     "end_time": "2023-11-30T01:28:29.631083Z",
     "start_time": "2023-11-30T01:28:29.623641Z"
    }
   },
   "outputs": [
    {
     "name": "stdout",
     "output_type": "stream",
     "text": [
      "3, 4의 합은 7입니다\n"
     ]
    }
   ],
   "source": [
    "# 리턴값이 없는 함수 \n",
    "def add(a, b):\n",
    "    print(\"%d, %d의 합은 %d입니다\"%(a, b, a+b))\n",
    "\n",
    "add(3, 4)"
   ]
  },
  {
   "cell_type": "code",
   "execution_count": 5,
   "id": "463b721a",
   "metadata": {
    "ExecuteTime": {
     "end_time": "2023-11-30T01:29:52.675297Z",
     "start_time": "2023-11-30T01:29:52.671440Z"
    }
   },
   "outputs": [
    {
     "name": "stdout",
     "output_type": "stream",
     "text": [
      "Hi\n"
     ]
    }
   ],
   "source": [
    "# 입력값도, 리턴값도 없는 함수\n",
    "def say():\n",
    "    print('Hi')\n",
    "say()"
   ]
  },
  {
   "cell_type": "code",
   "execution_count": 6,
   "id": "b039b2e9",
   "metadata": {
    "ExecuteTime": {
     "end_time": "2023-11-30T01:31:13.431354Z",
     "start_time": "2023-11-30T01:31:13.423985Z"
    }
   },
   "outputs": [
    {
     "name": "stdout",
     "output_type": "stream",
     "text": [
      "4\n",
      "-2\n"
     ]
    }
   ],
   "source": [
    "# 매개변수를 지정하여 호출하기\n",
    "def sub(a, b):\n",
    "    return a-b\n",
    "\n",
    "res = sub(a=7, b=3)\n",
    "print(res)\n",
    "\n",
    "res = sub(b=5, a=3)\n",
    "print(res)"
   ]
  },
  {
   "cell_type": "markdown",
   "id": "3e6e99d3",
   "metadata": {},
   "source": [
    "### 입력 값이 여러 개인 함수 만들기 (*args)\n",
    "- *args -> 입력값을 전부 모아 튜플로 만들어 줌 "
   ]
  },
  {
   "cell_type": "code",
   "execution_count": 8,
   "id": "7877732e",
   "metadata": {
    "ExecuteTime": {
     "end_time": "2023-11-30T01:41:07.649046Z",
     "start_time": "2023-11-30T01:41:07.644423Z"
    }
   },
   "outputs": [
    {
     "name": "stdout",
     "output_type": "stream",
     "text": [
      "6\n",
      "55\n"
     ]
    }
   ],
   "source": [
    "# 입력값이 몇 개가 될지 모를 때는 어떻게 해야할까? \n",
    "def add_many(*args):\n",
    "    res = 0\n",
    "    for i in args:\n",
    "        res += i\n",
    "    return res\n",
    "\n",
    "result = add_many(1, 2, 3)\n",
    "print(result)\n",
    "\n",
    "result = add_many(1, 2, 3, 4, 5, 6, 7, 8, 9, 10)\n",
    "print(result)"
   ]
  },
  {
   "cell_type": "code",
   "execution_count": 10,
   "id": "698b1bd1",
   "metadata": {
    "ExecuteTime": {
     "end_time": "2023-11-30T01:45:37.852504Z",
     "start_time": "2023-11-30T01:45:37.844693Z"
    }
   },
   "outputs": [
    {
     "name": "stdout",
     "output_type": "stream",
     "text": [
      "(1, 2, 33, 4)\n"
     ]
    }
   ],
   "source": [
    "def fn(*args):\n",
    "    print(args)\n",
    "\n",
    "fn(1, 2, 33, 4)"
   ]
  },
  {
   "cell_type": "code",
   "execution_count": 12,
   "id": "bc84faa1",
   "metadata": {
    "ExecuteTime": {
     "end_time": "2023-11-30T01:47:14.998795Z",
     "start_time": "2023-11-30T01:47:14.993561Z"
    }
   },
   "outputs": [
    {
     "name": "stdout",
     "output_type": "stream",
     "text": [
      "15\n",
      "120\n"
     ]
    }
   ],
   "source": [
    "# 고정인수가 반드시 먼저 나와야 함! (가변인수는 몇 개가 될 지 모르기 때문에)\n",
    "\n",
    "def add_mul(choice, *args):\n",
    "    if choice == 'add':\n",
    "        res = 0\n",
    "        for i in args:\n",
    "            res += i\n",
    "    elif choice == 'mul':\n",
    "        res = 1\n",
    "        for i in args:\n",
    "            res *= i\n",
    "    return res\n",
    "\n",
    "result = add_mul('add', 1, 2, 3, 4, 5)\n",
    "print(result)\n",
    "\n",
    "result = add_mul('mul', 1, 2, 3, 4, 5)\n",
    "print(result)"
   ]
  },
  {
   "cell_type": "markdown",
   "id": "8eccf0f9",
   "metadata": {},
   "source": [
    "### 키워드 매개변수 (**kwargs)\n",
    "- **kwargs -> 매개변수는 모든 key=value 형태의 딕셔너리로 저장된다."
   ]
  },
  {
   "cell_type": "code",
   "execution_count": 13,
   "id": "c4758ad1",
   "metadata": {
    "ExecuteTime": {
     "end_time": "2023-11-30T02:02:44.596772Z",
     "start_time": "2023-11-30T02:02:44.591258Z"
    }
   },
   "outputs": [
    {
     "name": "stdout",
     "output_type": "stream",
     "text": [
      "{'a': 1}\n",
      "{'name': 'foo', 'age': 3}\n"
     ]
    }
   ],
   "source": [
    "def print_kwargs(**kwargs):\n",
    "    print(kwargs)\n",
    "\n",
    "print_kwargs(a=1)\n",
    "print_kwargs(name='foo', age=3)"
   ]
  },
  {
   "cell_type": "markdown",
   "id": "eeb08936",
   "metadata": {},
   "source": [
    "### 함수의 리턴값은 언제나 하나이다"
   ]
  },
  {
   "cell_type": "code",
   "execution_count": 20,
   "id": "5cbf2577",
   "metadata": {
    "ExecuteTime": {
     "end_time": "2023-11-30T02:07:51.680574Z",
     "start_time": "2023-11-30T02:07:51.675384Z"
    }
   },
   "outputs": [
    {
     "name": "stdout",
     "output_type": "stream",
     "text": [
      "(7, 12)\n",
      "7 12\n",
      "7\n",
      "12\n"
     ]
    }
   ],
   "source": [
    "def add_and_mul(a, b):\n",
    "    return a+b, a*b\n",
    "\n",
    "result = add_and_mul(3, 4)\n",
    "print(result) # 튜플로 return\n",
    "\n",
    "# 분리해서 리턴 값을 받고 싶을 때\n",
    "a, b = add_and_mul(3, 4)\n",
    "print(a, b)\n",
    "\n",
    "# 맨 앞에 것만 사용할 때 (보편적으로~)\n",
    "result1, _ = add_and_mul(3, 4) # 오로지 가독성 목적\n",
    "print(result1)\n",
    "print(_)"
   ]
  },
  {
   "cell_type": "code",
   "execution_count": 21,
   "id": "12013c62",
   "metadata": {
    "ExecuteTime": {
     "end_time": "2023-11-30T02:10:15.711718Z",
     "start_time": "2023-11-30T02:10:15.704476Z"
    }
   },
   "outputs": [
    {
     "name": "stdout",
     "output_type": "stream",
     "text": [
      "나의 별명은 야호 입니다.\n"
     ]
    }
   ],
   "source": [
    "# return의 또 다른 쓰임새: 특별한 상황일 때 함수를 빠져나가고 싶다면 return을 단독으로 써서 함수를 즉시 빠져나갈 수 있음\n",
    "def say_nick(nick):\n",
    "    if nick == '바보':\n",
    "        return\n",
    "    print(\"나의 별명은 %s 입니다.\"%nick)\n",
    "\n",
    "say_nick('야호')\n",
    "say_nick('바보')"
   ]
  },
  {
   "cell_type": "markdown",
   "id": "680522ca",
   "metadata": {},
   "source": [
    "### 매개변수에 초깃값 미리 설정하기\n",
    "- 초기화하고 싶은 매개변수는 항상 뒤쪽에 놓아야 한다"
   ]
  },
  {
   "cell_type": "code",
   "execution_count": 23,
   "id": "52aa4192",
   "metadata": {
    "ExecuteTime": {
     "end_time": "2023-11-30T02:13:42.299128Z",
     "start_time": "2023-11-30T02:13:42.294363Z"
    }
   },
   "outputs": [
    {
     "name": "stdout",
     "output_type": "stream",
     "text": [
      "나의 이름은 박응용입니다.\n",
      "나이는 27살 입니다.\n",
      "남자입니다\n",
      "나의 이름은 이준민입니다.\n",
      "나이는 26살 입니다.\n",
      "여자입니다\n"
     ]
    }
   ],
   "source": [
    "def say_myself(name, age, man=True):\n",
    "    print(f\"나의 이름은 {name}입니다.\")\n",
    "    print(f\"나이는 {age}살 입니다.\")\n",
    "    if man:\n",
    "        print(\"남자입니다\")\n",
    "    else:\n",
    "        print(\"여자입니다\")\n",
    "        \n",
    "say_myself(\"박응용\", 27)\n",
    "say_myself(\"이준민\", 26, False)"
   ]
  },
  {
   "cell_type": "markdown",
   "id": "0042915f",
   "metadata": {},
   "source": [
    "### 함수 안에서 선언한 변수의 효력 범위 (지역 vs 전역)"
   ]
  },
  {
   "cell_type": "code",
   "execution_count": 24,
   "id": "6b8058af",
   "metadata": {
    "ExecuteTime": {
     "end_time": "2023-11-30T02:17:16.396741Z",
     "start_time": "2023-11-30T02:17:16.391506Z"
    }
   },
   "outputs": [
    {
     "name": "stdout",
     "output_type": "stream",
     "text": [
      "1\n"
     ]
    }
   ],
   "source": [
    "a = 1\n",
    "def vartest(a):\n",
    "    a += 1\n",
    "vartest(a)\n",
    "print(a)"
   ]
  },
  {
   "cell_type": "code",
   "execution_count": 25,
   "id": "d0a780f4",
   "metadata": {
    "ExecuteTime": {
     "end_time": "2023-11-30T02:21:30.595415Z",
     "start_time": "2023-11-30T02:21:30.564748Z"
    }
   },
   "outputs": [
    {
     "ename": "NameError",
     "evalue": "name 'aa' is not defined",
     "output_type": "error",
     "traceback": [
      "\u001b[0;31m---------------------------------------------------------------------------\u001b[0m",
      "\u001b[0;31mNameError\u001b[0m                                 Traceback (most recent call last)",
      "Cell \u001b[0;32mIn[25], line 5\u001b[0m\n\u001b[1;32m      2\u001b[0m     aa \u001b[38;5;241m=\u001b[39m aa \u001b[38;5;241m+\u001b[39m \u001b[38;5;241m1\u001b[39m \u001b[38;5;66;03m# 여기서 aa는 매개변수, 함수 안에서만 유효한 변수의 이름임\u001b[39;00m\n\u001b[1;32m      4\u001b[0m vartest(\u001b[38;5;241m3\u001b[39m)\n\u001b[0;32m----> 5\u001b[0m \u001b[38;5;28mprint\u001b[39m(aa)\n",
      "\u001b[0;31mNameError\u001b[0m: name 'aa' is not defined"
     ]
    }
   ],
   "source": [
    "def vartest(aa):\n",
    "    aa = aa + 1 # 여기서 aa는 매개변수, 함수 안에서만 유효한 변수의 이름임\n",
    "    \n",
    "vartest(3)\n",
    "print(aa) # aa라는 변수 이름으로 할당된 전역변수가 없기 때문에 오류가 난다."
   ]
  },
  {
   "cell_type": "markdown",
   "id": "fd623ec2",
   "metadata": {},
   "source": [
    "### 함수 안에서 함수 밖의 변수를 변경하는 방법"
   ]
  },
  {
   "cell_type": "code",
   "execution_count": 26,
   "id": "580fe37d",
   "metadata": {
    "ExecuteTime": {
     "end_time": "2023-11-30T02:22:32.151777Z",
     "start_time": "2023-11-30T02:22:32.145570Z"
    }
   },
   "outputs": [
    {
     "name": "stdout",
     "output_type": "stream",
     "text": [
      "2\n"
     ]
    }
   ],
   "source": [
    "# 1. return 사용하기\n",
    "# 2. global 명령어 사용하기\n",
    "a = 1 \n",
    "def vartest():\n",
    "    global a\n",
    "    a += 1\n",
    "vartest()\n",
    "print(a)"
   ]
  },
  {
   "cell_type": "markdown",
   "id": "e542f508",
   "metadata": {},
   "source": [
    "### lambda 예약어\n",
    "- 일회성 함수라고 생각하면 됨   \n",
    "- 다른 함수의 인수로 넣을 때 주로 사용"
   ]
  },
  {
   "cell_type": "code",
   "execution_count": 27,
   "id": "5ece7af1",
   "metadata": {
    "ExecuteTime": {
     "end_time": "2023-11-30T02:29:57.597900Z",
     "start_time": "2023-11-30T02:29:57.587420Z"
    }
   },
   "outputs": [
    {
     "name": "stdout",
     "output_type": "stream",
     "text": [
      "7\n"
     ]
    }
   ],
   "source": [
    "add = lambda a, b: a+b\n",
    "result = add(3, 4)\n",
    "print(result)"
   ]
  },
  {
   "cell_type": "markdown",
   "id": "299a2ad2",
   "metadata": {},
   "source": [
    "# 사용자 입출력"
   ]
  },
  {
   "cell_type": "markdown",
   "id": "eabb994c",
   "metadata": {},
   "source": [
    "## 사용자 입력 활용"
   ]
  },
  {
   "cell_type": "code",
   "execution_count": 28,
   "id": "7917f5f6",
   "metadata": {
    "ExecuteTime": {
     "end_time": "2023-11-30T02:38:10.495459Z",
     "start_time": "2023-11-30T02:38:07.700662Z"
    }
   },
   "outputs": [
    {
     "name": "stdout",
     "output_type": "stream",
     "text": [
      "hell!\n"
     ]
    },
    {
     "data": {
      "text/plain": [
       "'hell!'"
      ]
     },
     "execution_count": 28,
     "metadata": {},
     "output_type": "execute_result"
    }
   ],
   "source": [
    "a = input()\n",
    "a"
   ]
  },
  {
   "cell_type": "markdown",
   "id": "617b7052",
   "metadata": {},
   "source": [
    "## print"
   ]
  },
  {
   "cell_type": "code",
   "execution_count": 29,
   "id": "f85bf64d",
   "metadata": {
    "ExecuteTime": {
     "end_time": "2023-11-30T02:39:03.271189Z",
     "start_time": "2023-11-30T02:39:03.264087Z"
    }
   },
   "outputs": [
    {
     "name": "stdout",
     "output_type": "stream",
     "text": [
      "lifeistoo short\n",
      "lifeistoo short\n"
     ]
    }
   ],
   "source": [
    "print(\"life\" \"is\" \"too short\")\n",
    "print(\"life\"+\"is\"+\"too short\")"
   ]
  },
  {
   "cell_type": "markdown",
   "id": "e0f27695",
   "metadata": {},
   "source": [
    "# 파일 읽고 쓰기"
   ]
  },
  {
   "cell_type": "code",
   "execution_count": null,
   "id": "d9eeb54c",
   "metadata": {},
   "outputs": [],
   "source": []
  }
 ],
 "metadata": {
  "kernelspec": {
   "display_name": "Python 3 (ipykernel)",
   "language": "python",
   "name": "python3"
  },
  "language_info": {
   "codemirror_mode": {
    "name": "ipython",
    "version": 3
   },
   "file_extension": ".py",
   "mimetype": "text/x-python",
   "name": "python",
   "nbconvert_exporter": "python",
   "pygments_lexer": "ipython3",
   "version": "3.11.5"
  },
  "toc": {
   "base_numbering": 1,
   "nav_menu": {},
   "number_sections": true,
   "sideBar": true,
   "skip_h1_title": false,
   "title_cell": "Table of Contents",
   "title_sidebar": "Contents",
   "toc_cell": false,
   "toc_position": {},
   "toc_section_display": true,
   "toc_window_display": false
  }
 },
 "nbformat": 4,
 "nbformat_minor": 5
}
